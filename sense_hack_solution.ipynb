{
  "nbformat": 4,
  "nbformat_minor": 0,
  "metadata": {
    "colab": {
      "provenance": [],
      "gpuType": "T4",
      "collapsed_sections": [
        "1id5g_JuLKia",
        "CoWcUgz7R9hZ",
        "ENrPDOrRVlyA",
        "y_nL_AWhWmpt"
      ]
    },
    "kernelspec": {
      "name": "python3",
      "display_name": "Python 3"
    },
    "language_info": {
      "name": "python"
    },
    "accelerator": "GPU"
  },
  "cells": [
    {
      "cell_type": "code",
      "source": [
        "!pip install sentence-transformers"
      ],
      "metadata": {
        "id": "OyK4cqsVGrte"
      },
      "execution_count": null,
      "outputs": []
    },
    {
      "cell_type": "code",
      "execution_count": 80,
      "metadata": {
        "id": "ePGRt-u1_NAs"
      },
      "outputs": [],
      "source": [
        "import pandas as pd\n",
        "import numpy as np\n",
        "import json\n",
        "from tqdm import tqdm, trange\n",
        "from datetime import datetime\n",
        "from sklearn.metrics import accuracy_score\n",
        "from sklearn.model_selection import train_test_split\n",
        "\n",
        "import torch\n",
        "import torch.nn as nn\n",
        "import torch.nn.functional as F\n",
        "from torch.utils.data import Dataset, DataLoader\n",
        "import random\n",
        "\n",
        "device = 'cuda' if torch.cuda.is_available() else 'cpu'"
      ]
    },
    {
      "cell_type": "code",
      "source": [
        "SEED = 42\n",
        "\n",
        "# Set the seed for Python's 'random'\n",
        "random.seed(SEED)\n",
        "\n",
        "# Set the seed for NumPy\n",
        "np.random.seed(SEED)\n",
        "\n",
        "# Set the seed for torch\n",
        "torch.manual_seed(SEED)\n",
        "\n",
        "# If CUDA for torch is used:\n",
        "if torch.cuda.is_available():\n",
        "    torch.cuda.manual_seed(SEED)\n",
        "    torch.cuda.manual_seed_all(SEED)  # if you are using multi-GPU.\n",
        "    torch.backends.cudnn.deterministic = True\n",
        "    torch.backends.cudnn.benchmark = False"
      ],
      "metadata": {
        "id": "qajpoQjoXFnl"
      },
      "execution_count": 81,
      "outputs": []
    },
    {
      "cell_type": "markdown",
      "source": [
        "## utils"
      ],
      "metadata": {
        "id": "Qk4XPn5iIeRX"
      }
    },
    {
      "cell_type": "code",
      "source": [
        "def concatenate_text_columns(row, columns):\n",
        "    return ' '.join(str(row[column]) for column in columns)"
      ],
      "metadata": {
        "id": "G2baZM9HIgI2"
      },
      "execution_count": 82,
      "outputs": []
    },
    {
      "cell_type": "code",
      "source": [
        "def concatenate_text_columns_for_dict(row, token_column_mapping):\n",
        "    pieces = []\n",
        "    for token, column in token_column_mapping.items():\n",
        "        value = str(row[column]) if row[column] is not None else \"\"\n",
        "        if value:\n",
        "            pieces.append(f\"{token}: {value}\")\n",
        "    return ' '.join(pieces)"
      ],
      "metadata": {
        "id": "_G-vc_R-IgO8"
      },
      "execution_count": 83,
      "outputs": []
    },
    {
      "cell_type": "markdown",
      "source": [
        "\n",
        "## Data_work"
      ],
      "metadata": {
        "id": "Z8Y9evh0IgjT"
      }
    },
    {
      "cell_type": "code",
      "source": [
        "with open('/content/case_2_data_for_members.json', encoding='utf-8') as f:\n",
        "   data = json.load(f)"
      ],
      "metadata": {
        "id": "EfOIH_Ts_xjb"
      },
      "execution_count": 84,
      "outputs": []
    },
    {
      "cell_type": "code",
      "source": [
        "df = pd.DataFrame(data)"
      ],
      "metadata": {
        "id": "dqkLka7FJcbu"
      },
      "execution_count": 85,
      "outputs": []
    },
    {
      "cell_type": "code",
      "source": [
        "df.sample(3)"
      ],
      "metadata": {
        "colab": {
          "base_uri": "https://localhost:8080/",
          "height": 178
        },
        "id": "eB3giJnQJggW",
        "outputId": "d5a16b7e-6168-408c-9088-485686515da9"
      },
      "execution_count": 86,
      "outputs": [
        {
          "output_type": "execute_result",
          "data": {
            "text/plain": [
              "                                              vacancy  \\\n",
              "27  {'uuid': 'a5d0e1fd-7baa-3a6f-98f4-b908ac7fce43...   \n",
              "16  {'uuid': 'b1148bfd-c881-3e51-92fd-29912e58b38d...   \n",
              "12  {'uuid': '61a5a940-c9f2-3f9f-bbda-9cf735697878...   \n",
              "\n",
              "                                       failed_resumes  \\\n",
              "27  [{'uuid': '74bce970-26fd-3cb3-84c0-8a2b636553a...   \n",
              "16  [{'uuid': '3ef4544a-bab0-3fb4-b048-10ebb51e922...   \n",
              "12  [{'uuid': 'fa198827-f11b-3fd0-8666-175378229ec...   \n",
              "\n",
              "                                    confirmed_resumes  \n",
              "27  [{'uuid': '36c2de54-96dd-3168-a4c9-32f889434a2...  \n",
              "16  [{'uuid': '205d6642-b0e1-3956-a51d-ea233c54336...  \n",
              "12  [{'uuid': '97116752-fe12-3633-9ace-4b5795440be...  "
            ],
            "text/html": [
              "\n",
              "  <div id=\"df-fe37de20-af5f-463f-b0ee-18e0e126446a\" class=\"colab-df-container\">\n",
              "    <div>\n",
              "<style scoped>\n",
              "    .dataframe tbody tr th:only-of-type {\n",
              "        vertical-align: middle;\n",
              "    }\n",
              "\n",
              "    .dataframe tbody tr th {\n",
              "        vertical-align: top;\n",
              "    }\n",
              "\n",
              "    .dataframe thead th {\n",
              "        text-align: right;\n",
              "    }\n",
              "</style>\n",
              "<table border=\"1\" class=\"dataframe\">\n",
              "  <thead>\n",
              "    <tr style=\"text-align: right;\">\n",
              "      <th></th>\n",
              "      <th>vacancy</th>\n",
              "      <th>failed_resumes</th>\n",
              "      <th>confirmed_resumes</th>\n",
              "    </tr>\n",
              "  </thead>\n",
              "  <tbody>\n",
              "    <tr>\n",
              "      <th>27</th>\n",
              "      <td>{'uuid': 'a5d0e1fd-7baa-3a6f-98f4-b908ac7fce43...</td>\n",
              "      <td>[{'uuid': '74bce970-26fd-3cb3-84c0-8a2b636553a...</td>\n",
              "      <td>[{'uuid': '36c2de54-96dd-3168-a4c9-32f889434a2...</td>\n",
              "    </tr>\n",
              "    <tr>\n",
              "      <th>16</th>\n",
              "      <td>{'uuid': 'b1148bfd-c881-3e51-92fd-29912e58b38d...</td>\n",
              "      <td>[{'uuid': '3ef4544a-bab0-3fb4-b048-10ebb51e922...</td>\n",
              "      <td>[{'uuid': '205d6642-b0e1-3956-a51d-ea233c54336...</td>\n",
              "    </tr>\n",
              "    <tr>\n",
              "      <th>12</th>\n",
              "      <td>{'uuid': '61a5a940-c9f2-3f9f-bbda-9cf735697878...</td>\n",
              "      <td>[{'uuid': 'fa198827-f11b-3fd0-8666-175378229ec...</td>\n",
              "      <td>[{'uuid': '97116752-fe12-3633-9ace-4b5795440be...</td>\n",
              "    </tr>\n",
              "  </tbody>\n",
              "</table>\n",
              "</div>\n",
              "    <div class=\"colab-df-buttons\">\n",
              "\n",
              "  <div class=\"colab-df-container\">\n",
              "    <button class=\"colab-df-convert\" onclick=\"convertToInteractive('df-fe37de20-af5f-463f-b0ee-18e0e126446a')\"\n",
              "            title=\"Convert this dataframe to an interactive table.\"\n",
              "            style=\"display:none;\">\n",
              "\n",
              "  <svg xmlns=\"http://www.w3.org/2000/svg\" height=\"24px\" viewBox=\"0 -960 960 960\">\n",
              "    <path d=\"M120-120v-720h720v720H120Zm60-500h600v-160H180v160Zm220 220h160v-160H400v160Zm0 220h160v-160H400v160ZM180-400h160v-160H180v160Zm440 0h160v-160H620v160ZM180-180h160v-160H180v160Zm440 0h160v-160H620v160Z\"/>\n",
              "  </svg>\n",
              "    </button>\n",
              "\n",
              "  <style>\n",
              "    .colab-df-container {\n",
              "      display:flex;\n",
              "      gap: 12px;\n",
              "    }\n",
              "\n",
              "    .colab-df-convert {\n",
              "      background-color: #E8F0FE;\n",
              "      border: none;\n",
              "      border-radius: 50%;\n",
              "      cursor: pointer;\n",
              "      display: none;\n",
              "      fill: #1967D2;\n",
              "      height: 32px;\n",
              "      padding: 0 0 0 0;\n",
              "      width: 32px;\n",
              "    }\n",
              "\n",
              "    .colab-df-convert:hover {\n",
              "      background-color: #E2EBFA;\n",
              "      box-shadow: 0px 1px 2px rgba(60, 64, 67, 0.3), 0px 1px 3px 1px rgba(60, 64, 67, 0.15);\n",
              "      fill: #174EA6;\n",
              "    }\n",
              "\n",
              "    .colab-df-buttons div {\n",
              "      margin-bottom: 4px;\n",
              "    }\n",
              "\n",
              "    [theme=dark] .colab-df-convert {\n",
              "      background-color: #3B4455;\n",
              "      fill: #D2E3FC;\n",
              "    }\n",
              "\n",
              "    [theme=dark] .colab-df-convert:hover {\n",
              "      background-color: #434B5C;\n",
              "      box-shadow: 0px 1px 3px 1px rgba(0, 0, 0, 0.15);\n",
              "      filter: drop-shadow(0px 1px 2px rgba(0, 0, 0, 0.3));\n",
              "      fill: #FFFFFF;\n",
              "    }\n",
              "  </style>\n",
              "\n",
              "    <script>\n",
              "      const buttonEl =\n",
              "        document.querySelector('#df-fe37de20-af5f-463f-b0ee-18e0e126446a button.colab-df-convert');\n",
              "      buttonEl.style.display =\n",
              "        google.colab.kernel.accessAllowed ? 'block' : 'none';\n",
              "\n",
              "      async function convertToInteractive(key) {\n",
              "        const element = document.querySelector('#df-fe37de20-af5f-463f-b0ee-18e0e126446a');\n",
              "        const dataTable =\n",
              "          await google.colab.kernel.invokeFunction('convertToInteractive',\n",
              "                                                    [key], {});\n",
              "        if (!dataTable) return;\n",
              "\n",
              "        const docLinkHtml = 'Like what you see? Visit the ' +\n",
              "          '<a target=\"_blank\" href=https://colab.research.google.com/notebooks/data_table.ipynb>data table notebook</a>'\n",
              "          + ' to learn more about interactive tables.';\n",
              "        element.innerHTML = '';\n",
              "        dataTable['output_type'] = 'display_data';\n",
              "        await google.colab.output.renderOutput(dataTable, element);\n",
              "        const docLink = document.createElement('div');\n",
              "        docLink.innerHTML = docLinkHtml;\n",
              "        element.appendChild(docLink);\n",
              "      }\n",
              "    </script>\n",
              "  </div>\n",
              "\n",
              "\n",
              "<div id=\"df-4ad484ba-1a4f-4ca5-b080-7c715cf014c0\">\n",
              "  <button class=\"colab-df-quickchart\" onclick=\"quickchart('df-4ad484ba-1a4f-4ca5-b080-7c715cf014c0')\"\n",
              "            title=\"Suggest charts\"\n",
              "            style=\"display:none;\">\n",
              "\n",
              "<svg xmlns=\"http://www.w3.org/2000/svg\" height=\"24px\"viewBox=\"0 0 24 24\"\n",
              "     width=\"24px\">\n",
              "    <g>\n",
              "        <path d=\"M19 3H5c-1.1 0-2 .9-2 2v14c0 1.1.9 2 2 2h14c1.1 0 2-.9 2-2V5c0-1.1-.9-2-2-2zM9 17H7v-7h2v7zm4 0h-2V7h2v10zm4 0h-2v-4h2v4z\"/>\n",
              "    </g>\n",
              "</svg>\n",
              "  </button>\n",
              "\n",
              "<style>\n",
              "  .colab-df-quickchart {\n",
              "      --bg-color: #E8F0FE;\n",
              "      --fill-color: #1967D2;\n",
              "      --hover-bg-color: #E2EBFA;\n",
              "      --hover-fill-color: #174EA6;\n",
              "      --disabled-fill-color: #AAA;\n",
              "      --disabled-bg-color: #DDD;\n",
              "  }\n",
              "\n",
              "  [theme=dark] .colab-df-quickchart {\n",
              "      --bg-color: #3B4455;\n",
              "      --fill-color: #D2E3FC;\n",
              "      --hover-bg-color: #434B5C;\n",
              "      --hover-fill-color: #FFFFFF;\n",
              "      --disabled-bg-color: #3B4455;\n",
              "      --disabled-fill-color: #666;\n",
              "  }\n",
              "\n",
              "  .colab-df-quickchart {\n",
              "    background-color: var(--bg-color);\n",
              "    border: none;\n",
              "    border-radius: 50%;\n",
              "    cursor: pointer;\n",
              "    display: none;\n",
              "    fill: var(--fill-color);\n",
              "    height: 32px;\n",
              "    padding: 0;\n",
              "    width: 32px;\n",
              "  }\n",
              "\n",
              "  .colab-df-quickchart:hover {\n",
              "    background-color: var(--hover-bg-color);\n",
              "    box-shadow: 0 1px 2px rgba(60, 64, 67, 0.3), 0 1px 3px 1px rgba(60, 64, 67, 0.15);\n",
              "    fill: var(--button-hover-fill-color);\n",
              "  }\n",
              "\n",
              "  .colab-df-quickchart-complete:disabled,\n",
              "  .colab-df-quickchart-complete:disabled:hover {\n",
              "    background-color: var(--disabled-bg-color);\n",
              "    fill: var(--disabled-fill-color);\n",
              "    box-shadow: none;\n",
              "  }\n",
              "\n",
              "  .colab-df-spinner {\n",
              "    border: 2px solid var(--fill-color);\n",
              "    border-color: transparent;\n",
              "    border-bottom-color: var(--fill-color);\n",
              "    animation:\n",
              "      spin 1s steps(1) infinite;\n",
              "  }\n",
              "\n",
              "  @keyframes spin {\n",
              "    0% {\n",
              "      border-color: transparent;\n",
              "      border-bottom-color: var(--fill-color);\n",
              "      border-left-color: var(--fill-color);\n",
              "    }\n",
              "    20% {\n",
              "      border-color: transparent;\n",
              "      border-left-color: var(--fill-color);\n",
              "      border-top-color: var(--fill-color);\n",
              "    }\n",
              "    30% {\n",
              "      border-color: transparent;\n",
              "      border-left-color: var(--fill-color);\n",
              "      border-top-color: var(--fill-color);\n",
              "      border-right-color: var(--fill-color);\n",
              "    }\n",
              "    40% {\n",
              "      border-color: transparent;\n",
              "      border-right-color: var(--fill-color);\n",
              "      border-top-color: var(--fill-color);\n",
              "    }\n",
              "    60% {\n",
              "      border-color: transparent;\n",
              "      border-right-color: var(--fill-color);\n",
              "    }\n",
              "    80% {\n",
              "      border-color: transparent;\n",
              "      border-right-color: var(--fill-color);\n",
              "      border-bottom-color: var(--fill-color);\n",
              "    }\n",
              "    90% {\n",
              "      border-color: transparent;\n",
              "      border-bottom-color: var(--fill-color);\n",
              "    }\n",
              "  }\n",
              "</style>\n",
              "\n",
              "  <script>\n",
              "    async function quickchart(key) {\n",
              "      const quickchartButtonEl =\n",
              "        document.querySelector('#' + key + ' button');\n",
              "      quickchartButtonEl.disabled = true;  // To prevent multiple clicks.\n",
              "      quickchartButtonEl.classList.add('colab-df-spinner');\n",
              "      try {\n",
              "        const charts = await google.colab.kernel.invokeFunction(\n",
              "            'suggestCharts', [key], {});\n",
              "      } catch (error) {\n",
              "        console.error('Error during call to suggestCharts:', error);\n",
              "      }\n",
              "      quickchartButtonEl.classList.remove('colab-df-spinner');\n",
              "      quickchartButtonEl.classList.add('colab-df-quickchart-complete');\n",
              "    }\n",
              "    (() => {\n",
              "      let quickchartButtonEl =\n",
              "        document.querySelector('#df-4ad484ba-1a4f-4ca5-b080-7c715cf014c0 button');\n",
              "      quickchartButtonEl.style.display =\n",
              "        google.colab.kernel.accessAllowed ? 'block' : 'none';\n",
              "    })();\n",
              "  </script>\n",
              "</div>\n",
              "    </div>\n",
              "  </div>\n"
            ],
            "application/vnd.google.colaboratory.intrinsic+json": {
              "type": "dataframe",
              "summary": "{\n  \"name\": \"df\",\n  \"rows\": 3,\n  \"fields\": [\n    {\n      \"column\": \"vacancy\",\n      \"properties\": {\n        \"dtype\": \"object\",\n        \"semantic_type\": \"\",\n        \"description\": \"\"\n      }\n    },\n    {\n      \"column\": \"failed_resumes\",\n      \"properties\": {\n        \"dtype\": \"object\",\n        \"semantic_type\": \"\",\n        \"description\": \"\"\n      }\n    },\n    {\n      \"column\": \"confirmed_resumes\",\n      \"properties\": {\n        \"dtype\": \"object\",\n        \"semantic_type\": \"\",\n        \"description\": \"\"\n      }\n    }\n  ]\n}"
            }
          },
          "metadata": {},
          "execution_count": 86
        }
      ]
    },
    {
      "cell_type": "code",
      "source": [
        "# NB\n",
        "triplets = []\n",
        "for vac_ix, vacancy in df.iterrows():\n",
        "  for failed_resume in df['failed_resumes'][vac_ix]:\n",
        "    triplets.append([vacancy[0], failed_resume, 0])\n",
        "  for confirmed_resume in df['confirmed_resumes'][vac_ix]:\n",
        "    triplets.append([vacancy[0], confirmed_resume, 1])"
      ],
      "metadata": {
        "id": "PgMguyvEkIK7"
      },
      "execution_count": 87,
      "outputs": []
    },
    {
      "cell_type": "code",
      "source": [
        "#triplets[0][2]"
      ],
      "metadata": {
        "id": "9OnuR1zU2XSG"
      },
      "execution_count": 14,
      "outputs": []
    },
    {
      "cell_type": "code",
      "source": [
        "# Создадим пустой DataFrame, в который будем добавлять сформированные DataFrame\n",
        "full_df = pd.DataFrame()\n",
        "\n",
        "for ind, sublist in enumerate(triplets):\n",
        "    df1 = pd.DataFrame([{'vacancy': sublist[0]}])\n",
        "    df2 = pd.DataFrame([{'resume': sublist[1], 'target': sublist[2]}])\n",
        "    combined_df = pd.concat([df1, df2], axis=1)\n",
        "    full_df = pd.concat([full_df, combined_df], ignore_index=True)"
      ],
      "metadata": {
        "id": "QQrxZDHu1xTT"
      },
      "execution_count": 88,
      "outputs": []
    },
    {
      "cell_type": "code",
      "source": [
        "#full_df.sample(3)"
      ],
      "metadata": {
        "id": "jDFFTxcTkZfs"
      },
      "execution_count": 16,
      "outputs": []
    },
    {
      "cell_type": "code",
      "source": [
        "from sentence_transformers import SentenceTransformer\n",
        "\n",
        "model_for_emb_firstly = SentenceTransformer('all-distilroberta-v1')"
      ],
      "metadata": {
        "id": "PJnhLb1sGCFM"
      },
      "execution_count": 89,
      "outputs": []
    },
    {
      "cell_type": "code",
      "source": [
        "token_column_mapping_for_work = {\n",
        "    'Работодатель': 'employer',\n",
        "    'Город': 'city',\n",
        "    'Профессия': 'position',\n",
        "    'Описание': 'description'\n",
        "}\n",
        "\n",
        "token_column_mapping_for_education = {\n",
        "    'Год окончания обучения': 'year',\n",
        "    'Учебное учереждение': 'organization',\n",
        "    'Факультет': 'faculty',\n",
        "    'Специальность': 'specialty',\n",
        "    'Результат обучения': 'result',\n",
        "    'Тип образования': 'education_type',\n",
        "    'Уровень образования': 'education_level'\n",
        "}\n",
        "\n",
        "\n",
        "vac_uuid = []\n",
        "vac_name = []\n",
        "vac_keywords = []\n",
        "vac_description = []\n",
        "vac_comment = []\n",
        "for vacancy in full_df['vacancy']:\n",
        "  vac_uuid.append(vacancy['uuid'])\n",
        "  vac_name.append(vacancy['name'])\n",
        "  vac_keywords.append(vacancy['keywords'])\n",
        "  vac_description.append(vacancy['description'])\n",
        "  vac_comment.append(vacancy['comment'])\n",
        "\n",
        "full_df['vacancy_uuid'] = vac_uuid\n",
        "full_df['vacancy_name'] = vac_name\n",
        "full_df['vacancy_keywords'] = vac_keywords\n",
        "full_df['vacancy_description'] = vac_description\n",
        "full_df['vacancy_comment'] = vac_comment\n",
        "\n",
        "\n",
        "res_uuid = []\n",
        "res_name = []\n",
        "res_surname = []\n",
        "res_birth = []\n",
        "res_country = []\n",
        "res_city = []\n",
        "res_about = []\n",
        "res_key_skills = []\n",
        "for resume in full_df['resume']:\n",
        "  res_uuid.append(resume['uuid'])\n",
        "  res_name.append(resume['first_name'])\n",
        "  res_surname.append(resume['last_name'])\n",
        "  res_birth.append(resume['birth_date'])\n",
        "  res_country.append(resume['country'])\n",
        "  res_city.append(resume['city'])\n",
        "  res_about.append(resume['about'])\n",
        "  res_key_skills.append(resume['key_skills'])\n",
        "\n",
        "# добавим взвешенные эмбеддинги опыта работы (было бы, но время инференса...'(((sad')\n",
        "work_exp = []\n",
        "for ids in range(full_df['resume'].shape[0]):\n",
        "  if 'experienceItem' in full_df['resume'][ids]:\n",
        "    exp_text = []\n",
        "    for i in full_df['resume'][ids]['experienceItem']:\n",
        "      exp_text.append(concatenate_text_columns_for_dict(i, token_column_mapping_for_work))\n",
        "    work_exp.append('; Следующая работа: '.join(exp_text))\n",
        "  else:\n",
        "    work_exp.append('Нет опыта работы')\n",
        "full_df['resume_work_exp'] = work_exp\n",
        "\n",
        "\n",
        "education = []\n",
        "for ids in range(full_df['resume'].shape[0]):\n",
        "  if 'educationItem' in full_df['resume'][ids]:\n",
        "    education_text = []\n",
        "    for i in full_df['resume'][ids]['educationItem']:\n",
        "      education_text.append(concatenate_text_columns_for_dict(i, token_column_mapping_for_education))\n",
        "    education.append('; Следующее образование: '.join(education_text))\n",
        "  else:\n",
        "    education.append('Нет образования')\n",
        "\n",
        "full_df['resume_educationItem'] = education\n",
        "\n",
        "full_df['resume_uuid'] = res_uuid\n",
        "full_df['resume_name'] = res_name\n",
        "full_df['resume_surname'] = res_surname\n",
        "full_df['resume_birth'] = res_birth\n",
        "full_df['resume_country'] = res_country\n",
        "full_df['resume_city'] = res_city\n",
        "full_df['resume_about'] = res_about\n",
        "full_df['resume_key_skills'] = res_key_skills"
      ],
      "metadata": {
        "id": "j8QpLvrw5oZq"
      },
      "execution_count": 90,
      "outputs": []
    },
    {
      "cell_type": "code",
      "source": [
        "def keywords(dataframe):\n",
        "  about = []\n",
        "\n",
        "  for i in range(len(dataframe['vacancy'])):\n",
        "    about.append(dataframe['vacancy'][i]['description'])\n",
        "\n",
        "  test = pd.DataFrame(about)\n",
        "  test.columns = ['description']\n",
        "  test['description'] = test['description'].apply(lambda x: \" \".join(x.lower()for x in x.split()))\n",
        "  ## remove tabulation and punctuation\n",
        "  test['description'] = test['description'].str.replace('[^\\w\\s]',' ')\n",
        "  ## digits\n",
        "  test['description'] = test['description'].str.replace('\\d+', '')\n",
        "  stop = ['и', 'мы', 'а']\n",
        "  test['description'] = test['description'].apply(lambda x: \" \".join(x for x in x.split() if x not in stop))\n",
        "\n",
        "  data = full_df['resume_key_skills']\n",
        "  stack_set = set()\n",
        "\n",
        "  for i in range(data.shape[0]):\n",
        "      for word in str(data[i]).split():\n",
        "        word = word.replace('[^\\w\\s]',' ').replace('\\d+', '').lower()\n",
        "        stack_set.add(word)\n",
        "\n",
        "  other_stop_words = ['в', 'c', 'из', 'для', 'на', 'умение', 'коде', 'данных', 'умение', 'проектировани', 'или', 'опыт', 'коммерческий', 'коммерческой', 'разработки', 'английский']\n",
        "  test['description'] = test['description'].apply(lambda x: \" \".join(x for x in x.split() if x not in stop))\n",
        "\n",
        "\n",
        "  stack_for_train = [[] for _ in range(test.shape[0])]\n",
        "  count = 0\n",
        "  for text in test['description']:\n",
        "    contain = set(text.split())\n",
        "    for word in contain:\n",
        "      if word in stack_set:\n",
        "        stack_for_train[count].append(word)\n",
        "    count += 1\n",
        "\n",
        "  return stack_for_train"
      ],
      "metadata": {
        "id": "kMNg1Pxl7APt"
      },
      "execution_count": 91,
      "outputs": []
    },
    {
      "cell_type": "code",
      "source": [
        "key_words_wow = keywords(full_df)"
      ],
      "metadata": {
        "colab": {
          "base_uri": "https://localhost:8080/"
        },
        "id": "WQBrFrlj7Bc9",
        "outputId": "9159ec14-8713-4aba-f4e2-0dda9d5a9d8a"
      },
      "execution_count": 92,
      "outputs": [
        {
          "output_type": "stream",
          "name": "stderr",
          "text": [
            "<ipython-input-91-7311e3777623>:11: FutureWarning: The default value of regex will change from True to False in a future version.\n",
            "  test['description'] = test['description'].str.replace('[^\\w\\s]',' ')\n",
            "<ipython-input-91-7311e3777623>:13: FutureWarning: The default value of regex will change from True to False in a future version.\n",
            "  test['description'] = test['description'].str.replace('\\d+', '')\n"
          ]
        }
      ]
    },
    {
      "cell_type": "code",
      "source": [
        "full_df['vacancy_keywords'] = key_words_wow"
      ],
      "metadata": {
        "id": "2Np841157Bf2"
      },
      "execution_count": 93,
      "outputs": []
    },
    {
      "cell_type": "code",
      "source": [
        "import nltk\n",
        "from nltk.corpus import stopwords"
      ],
      "metadata": {
        "id": "8jHFJEj-7M34"
      },
      "execution_count": 94,
      "outputs": []
    },
    {
      "cell_type": "code",
      "source": [
        "nltk.download('stopwords')"
      ],
      "metadata": {
        "colab": {
          "base_uri": "https://localhost:8080/"
        },
        "id": "f7uWiWWQ7M6v",
        "outputId": "6080fd67-328f-45bf-8fbc-e2ae4fb27c22"
      },
      "execution_count": 95,
      "outputs": [
        {
          "output_type": "stream",
          "name": "stderr",
          "text": [
            "[nltk_data] Downloading package stopwords to /root/nltk_data...\n",
            "[nltk_data]   Package stopwords is already up-to-date!\n"
          ]
        },
        {
          "output_type": "execute_result",
          "data": {
            "text/plain": [
              "True"
            ]
          },
          "metadata": {},
          "execution_count": 95
        }
      ]
    },
    {
      "cell_type": "code",
      "source": [
        "stop_words = set(stopwords.words('russian'))\n",
        "\n",
        "def remove_stopwords_for_keywords_column(text):\n",
        "    words = text\n",
        "    filtered_words = [word for word in words if word.lower() not in stop_words]\n",
        "    return ' '.join(filtered_words)\n",
        "\n",
        "def remove_stopwords(text):\n",
        "    words = text.split()\n",
        "    filtered_words = [word for word in words if word.lower() not in stop_words]\n",
        "    return ' '.join(filtered_words)"
      ],
      "metadata": {
        "id": "8oIIAKS47SWe"
      },
      "execution_count": 96,
      "outputs": []
    },
    {
      "cell_type": "code",
      "source": [
        "full_df['vacancy_keywords'] = full_df['vacancy_keywords'].apply(remove_stopwords_for_keywords_column)\n",
        "full_df['vacancy_description'] = full_df['vacancy_description'].apply(remove_stopwords)\n",
        "full_df['resume_work_exp'] = full_df['resume_work_exp'].apply(remove_stopwords)\n",
        "full_df['resume_educationItem'] = full_df['resume_educationItem'].apply(remove_stopwords)"
      ],
      "metadata": {
        "id": "_-dVznD67WGV"
      },
      "execution_count": 97,
      "outputs": []
    },
    {
      "cell_type": "code",
      "source": [
        "full_df['resume_birth'] = full_df['resume_birth'].apply(lambda x: f'Дата рождения: {int(x[:4])}' if x is not None else 'Дата рождения: неизвестно')"
      ],
      "metadata": {
        "id": "e04r5TGWjJwK"
      },
      "execution_count": 98,
      "outputs": []
    },
    {
      "cell_type": "code",
      "source": [
        "full_df = full_df.fillna(' ')"
      ],
      "metadata": {
        "id": "BaAndhPKi95f"
      },
      "execution_count": 99,
      "outputs": []
    },
    {
      "cell_type": "code",
      "source": [
        "resume_columns = [\n",
        "    'resume_birth',\n",
        "    'resume_country',\n",
        "    'resume_city',\n",
        "    'resume_about',\n",
        "    'resume_key_skills',\n",
        "    'resume_work_exp',\n",
        "    'resume_educationItem'\n",
        "]\n",
        "\n",
        "vacancy_columns = [\n",
        "    'vacancy_name',\n",
        "    'vacancy_keywords',\n",
        "    'vacancy_description',\n",
        "    'vacancy_comment'\n",
        "]"
      ],
      "metadata": {
        "id": "tSYpF-qJeihW"
      },
      "execution_count": 100,
      "outputs": []
    },
    {
      "cell_type": "code",
      "source": [
        "!pip install googletrans==3.1.0a0"
      ],
      "metadata": {
        "id": "J7CT4LcWjU4a",
        "colab": {
          "base_uri": "https://localhost:8080/"
        },
        "outputId": "ed06351b-e6f3-415a-ec6b-f6022685fc07"
      },
      "execution_count": 101,
      "outputs": [
        {
          "output_type": "stream",
          "name": "stdout",
          "text": [
            "Requirement already satisfied: googletrans==3.1.0a0 in /usr/local/lib/python3.10/dist-packages (3.1.0a0)\n",
            "Requirement already satisfied: httpx==0.13.3 in /usr/local/lib/python3.10/dist-packages (from googletrans==3.1.0a0) (0.13.3)\n",
            "Requirement already satisfied: certifi in /usr/local/lib/python3.10/dist-packages (from httpx==0.13.3->googletrans==3.1.0a0) (2024.2.2)\n",
            "Requirement already satisfied: hstspreload in /usr/local/lib/python3.10/dist-packages (from httpx==0.13.3->googletrans==3.1.0a0) (2024.2.1)\n",
            "Requirement already satisfied: sniffio in /usr/local/lib/python3.10/dist-packages (from httpx==0.13.3->googletrans==3.1.0a0) (1.3.0)\n",
            "Requirement already satisfied: chardet==3.* in /usr/local/lib/python3.10/dist-packages (from httpx==0.13.3->googletrans==3.1.0a0) (3.0.4)\n",
            "Requirement already satisfied: idna==2.* in /usr/local/lib/python3.10/dist-packages (from httpx==0.13.3->googletrans==3.1.0a0) (2.10)\n",
            "Requirement already satisfied: rfc3986<2,>=1.3 in /usr/local/lib/python3.10/dist-packages (from httpx==0.13.3->googletrans==3.1.0a0) (1.5.0)\n",
            "Requirement already satisfied: httpcore==0.9.* in /usr/local/lib/python3.10/dist-packages (from httpx==0.13.3->googletrans==3.1.0a0) (0.9.1)\n",
            "Requirement already satisfied: h11<0.10,>=0.8 in /usr/local/lib/python3.10/dist-packages (from httpcore==0.9.*->httpx==0.13.3->googletrans==3.1.0a0) (0.9.0)\n",
            "Requirement already satisfied: h2==3.* in /usr/local/lib/python3.10/dist-packages (from httpcore==0.9.*->httpx==0.13.3->googletrans==3.1.0a0) (3.2.0)\n",
            "Requirement already satisfied: hyperframe<6,>=5.2.0 in /usr/local/lib/python3.10/dist-packages (from h2==3.*->httpcore==0.9.*->httpx==0.13.3->googletrans==3.1.0a0) (5.2.0)\n",
            "Requirement already satisfied: hpack<4,>=3.0 in /usr/local/lib/python3.10/dist-packages (from h2==3.*->httpcore==0.9.*->httpx==0.13.3->googletrans==3.1.0a0) (3.0.0)\n"
          ]
        }
      ]
    },
    {
      "cell_type": "code",
      "source": [
        "from googletrans import Translator\n",
        "translator = Translator()"
      ],
      "metadata": {
        "id": "gsTS6DCbjSrm"
      },
      "execution_count": 102,
      "outputs": []
    },
    {
      "cell_type": "code",
      "source": [
        "full_df.head()"
      ],
      "metadata": {
        "colab": {
          "base_uri": "https://localhost:8080/",
          "height": 573
        },
        "id": "MF6WZDUjw6TZ",
        "outputId": "ab50864c-5e47-4ece-ec78-c86d390d19a6"
      },
      "execution_count": 103,
      "outputs": [
        {
          "output_type": "execute_result",
          "data": {
            "text/plain": [
              "                                             vacancy  \\\n",
              "0  {'uuid': '779f3a59-206a-3241-adc4-d7db504f960b...   \n",
              "1  {'uuid': '779f3a59-206a-3241-adc4-d7db504f960b...   \n",
              "2  {'uuid': '779f3a59-206a-3241-adc4-d7db504f960b...   \n",
              "3  {'uuid': '779f3a59-206a-3241-adc4-d7db504f960b...   \n",
              "4  {'uuid': '779f3a59-206a-3241-adc4-d7db504f960b...   \n",
              "\n",
              "                                              resume  target  \\\n",
              "0  {'uuid': '74392e00-ecfb-335b-9fc1-c2652dca06e5...       0   \n",
              "1  {'uuid': '2b5ad5e1-1f31-3f3f-8a66-43cd89233672...       0   \n",
              "2  {'uuid': 'ea1ac51a-e16b-367a-9216-52fb64809db1...       0   \n",
              "3  {'uuid': 'ecfc02a1-592c-3ed0-a801-1ad9ab3d30b8...       0   \n",
              "4  {'uuid': 'aff6b6bd-89c2-3b2c-ab2e-0b9f76ac367c...       0   \n",
              "\n",
              "                           vacancy_uuid                         vacancy_name  \\\n",
              "0  779f3a59-206a-3241-adc4-d7db504f960b  Java разработчик команда Инвестиции   \n",
              "1  779f3a59-206a-3241-adc4-d7db504f960b  Java разработчик команда Инвестиции   \n",
              "2  779f3a59-206a-3241-adc4-d7db504f960b  Java разработчик команда Инвестиции   \n",
              "3  779f3a59-206a-3241-adc4-d7db504f960b  Java разработчик команда Инвестиции   \n",
              "4  779f3a59-206a-3241-adc4-d7db504f960b  Java разработчик команда Инвестиции   \n",
              "\n",
              "                                    vacancy_keywords  \\\n",
              "0  разработки mysql kafka описание java разработч...   \n",
              "1  разработки mysql kafka описание java разработч...   \n",
              "2  разработки mysql kafka описание java разработч...   \n",
              "3  разработки mysql kafka описание java разработч...   \n",
              "4  разработки mysql kafka описание java разработч...   \n",
              "\n",
              "                                 vacancy_description vacancy_comment  \\\n",
              "0  Описание расширяем команды ищем разработчиков ...     450 на руки   \n",
              "1  Описание расширяем команды ищем разработчиков ...     450 на руки   \n",
              "2  Описание расширяем команды ищем разработчиков ...     450 на руки   \n",
              "3  Описание расширяем команды ищем разработчиков ...     450 на руки   \n",
              "4  Описание расширяем команды ищем разработчиков ...     450 на руки   \n",
              "\n",
              "                                     resume_work_exp  \\\n",
              "0  Работодатель: МФО ХмельИнфоОрион Город: Можайс...   \n",
              "1  Работодатель: МФО Вод Город: Шаховская Професс...   \n",
              "2  Работодатель: МФО Обл Город: Щёлково Профессия...   \n",
              "3  Работодатель: ПАО МонтажЖелДор Город: Луховицы...   \n",
              "4  Работодатель: МФО ЛифтГаражОрион Город: Щёлков...   \n",
              "\n",
              "                                resume_educationItem  \\\n",
              "0  Год окончания обучения: 1999 Учебное учережден...   \n",
              "1  Год окончания обучения: 2014 Учебное учережден...   \n",
              "2  Год окончания обучения: 2009 Учебное учережден...   \n",
              "3  Год окончания обучения: 2010 Учебное учережден...   \n",
              "4  Год окончания обучения: 2020 Учебное учережден...   \n",
              "\n",
              "                            resume_uuid resume_name resume_surname  \\\n",
              "0  74392e00-ecfb-335b-9fc1-c2652dca06e5      Данила       Прохоров   \n",
              "1  2b5ad5e1-1f31-3f3f-8a66-43cd89233672       Савва          Исаев   \n",
              "2  ea1ac51a-e16b-367a-9216-52fb64809db1     Николай        Новиков   \n",
              "3  ecfc02a1-592c-3ed0-a801-1ad9ab3d30b8     Гавриил       Новикова   \n",
              "4  aff6b6bd-89c2-3b2c-ab2e-0b9f76ac367c    Ярослава       Тихонова   \n",
              "\n",
              "          resume_birth resume_country      resume_city  \\\n",
              "0  Дата рождения: 1979         Россия  Санкт-Петербург   \n",
              "1  Дата рождения: 1991         Россия           Москва   \n",
              "2  Дата рождения: 1986         Россия                    \n",
              "3  Дата рождения: 1985         Россия      Новосибирск   \n",
              "4  Дата рождения: 1992         Россия           Тюмень   \n",
              "\n",
              "                                        resume_about  \\\n",
              "0                                                      \n",
              "1   (Гражданин Республики Казахстан, по России им...   \n",
              "2   С 1999 года, после появления дома первого ком...   \n",
              "3  - Oracle Certified Associate, Java SE 7 Progra...   \n",
              "4                                                      \n",
              "\n",
              "                                   resume_key_skills  \n",
              "0  Java, Spring Boot, Java EE, SQL, Hibernate, Gi...  \n",
              "1  ООП, Java, Java Spring Framework, Функциональн...  \n",
              "2  Java, Spring Framework, Hibernate ORM, SQL, Ja...  \n",
              "3  Java, Git, SQL, HTML, JavaScript, CSS, MySQL, ...  \n",
              "4  Java, Spring, Git, PostgreSQL, Hibernate ORM, ...  "
            ],
            "text/html": [
              "\n",
              "  <div id=\"df-37d80edc-f53c-4c81-aa31-2e7e031b0abd\" class=\"colab-df-container\">\n",
              "    <div>\n",
              "<style scoped>\n",
              "    .dataframe tbody tr th:only-of-type {\n",
              "        vertical-align: middle;\n",
              "    }\n",
              "\n",
              "    .dataframe tbody tr th {\n",
              "        vertical-align: top;\n",
              "    }\n",
              "\n",
              "    .dataframe thead th {\n",
              "        text-align: right;\n",
              "    }\n",
              "</style>\n",
              "<table border=\"1\" class=\"dataframe\">\n",
              "  <thead>\n",
              "    <tr style=\"text-align: right;\">\n",
              "      <th></th>\n",
              "      <th>vacancy</th>\n",
              "      <th>resume</th>\n",
              "      <th>target</th>\n",
              "      <th>vacancy_uuid</th>\n",
              "      <th>vacancy_name</th>\n",
              "      <th>vacancy_keywords</th>\n",
              "      <th>vacancy_description</th>\n",
              "      <th>vacancy_comment</th>\n",
              "      <th>resume_work_exp</th>\n",
              "      <th>resume_educationItem</th>\n",
              "      <th>resume_uuid</th>\n",
              "      <th>resume_name</th>\n",
              "      <th>resume_surname</th>\n",
              "      <th>resume_birth</th>\n",
              "      <th>resume_country</th>\n",
              "      <th>resume_city</th>\n",
              "      <th>resume_about</th>\n",
              "      <th>resume_key_skills</th>\n",
              "    </tr>\n",
              "  </thead>\n",
              "  <tbody>\n",
              "    <tr>\n",
              "      <th>0</th>\n",
              "      <td>{'uuid': '779f3a59-206a-3241-adc4-d7db504f960b...</td>\n",
              "      <td>{'uuid': '74392e00-ecfb-335b-9fc1-c2652dca06e5...</td>\n",
              "      <td>0</td>\n",
              "      <td>779f3a59-206a-3241-adc4-d7db504f960b</td>\n",
              "      <td>Java разработчик команда Инвестиции</td>\n",
              "      <td>разработки mysql kafka описание java разработч...</td>\n",
              "      <td>Описание расширяем команды ищем разработчиков ...</td>\n",
              "      <td>450 на руки</td>\n",
              "      <td>Работодатель: МФО ХмельИнфоОрион Город: Можайс...</td>\n",
              "      <td>Год окончания обучения: 1999 Учебное учережден...</td>\n",
              "      <td>74392e00-ecfb-335b-9fc1-c2652dca06e5</td>\n",
              "      <td>Данила</td>\n",
              "      <td>Прохоров</td>\n",
              "      <td>Дата рождения: 1979</td>\n",
              "      <td>Россия</td>\n",
              "      <td>Санкт-Петербург</td>\n",
              "      <td></td>\n",
              "      <td>Java, Spring Boot, Java EE, SQL, Hibernate, Gi...</td>\n",
              "    </tr>\n",
              "    <tr>\n",
              "      <th>1</th>\n",
              "      <td>{'uuid': '779f3a59-206a-3241-adc4-d7db504f960b...</td>\n",
              "      <td>{'uuid': '2b5ad5e1-1f31-3f3f-8a66-43cd89233672...</td>\n",
              "      <td>0</td>\n",
              "      <td>779f3a59-206a-3241-adc4-d7db504f960b</td>\n",
              "      <td>Java разработчик команда Инвестиции</td>\n",
              "      <td>разработки mysql kafka описание java разработч...</td>\n",
              "      <td>Описание расширяем команды ищем разработчиков ...</td>\n",
              "      <td>450 на руки</td>\n",
              "      <td>Работодатель: МФО Вод Город: Шаховская Професс...</td>\n",
              "      <td>Год окончания обучения: 2014 Учебное учережден...</td>\n",
              "      <td>2b5ad5e1-1f31-3f3f-8a66-43cd89233672</td>\n",
              "      <td>Савва</td>\n",
              "      <td>Исаев</td>\n",
              "      <td>Дата рождения: 1991</td>\n",
              "      <td>Россия</td>\n",
              "      <td>Москва</td>\n",
              "      <td>(Гражданин Республики Казахстан, по России им...</td>\n",
              "      <td>ООП, Java, Java Spring Framework, Функциональн...</td>\n",
              "    </tr>\n",
              "    <tr>\n",
              "      <th>2</th>\n",
              "      <td>{'uuid': '779f3a59-206a-3241-adc4-d7db504f960b...</td>\n",
              "      <td>{'uuid': 'ea1ac51a-e16b-367a-9216-52fb64809db1...</td>\n",
              "      <td>0</td>\n",
              "      <td>779f3a59-206a-3241-adc4-d7db504f960b</td>\n",
              "      <td>Java разработчик команда Инвестиции</td>\n",
              "      <td>разработки mysql kafka описание java разработч...</td>\n",
              "      <td>Описание расширяем команды ищем разработчиков ...</td>\n",
              "      <td>450 на руки</td>\n",
              "      <td>Работодатель: МФО Обл Город: Щёлково Профессия...</td>\n",
              "      <td>Год окончания обучения: 2009 Учебное учережден...</td>\n",
              "      <td>ea1ac51a-e16b-367a-9216-52fb64809db1</td>\n",
              "      <td>Николай</td>\n",
              "      <td>Новиков</td>\n",
              "      <td>Дата рождения: 1986</td>\n",
              "      <td>Россия</td>\n",
              "      <td></td>\n",
              "      <td>С 1999 года, после появления дома первого ком...</td>\n",
              "      <td>Java, Spring Framework, Hibernate ORM, SQL, Ja...</td>\n",
              "    </tr>\n",
              "    <tr>\n",
              "      <th>3</th>\n",
              "      <td>{'uuid': '779f3a59-206a-3241-adc4-d7db504f960b...</td>\n",
              "      <td>{'uuid': 'ecfc02a1-592c-3ed0-a801-1ad9ab3d30b8...</td>\n",
              "      <td>0</td>\n",
              "      <td>779f3a59-206a-3241-adc4-d7db504f960b</td>\n",
              "      <td>Java разработчик команда Инвестиции</td>\n",
              "      <td>разработки mysql kafka описание java разработч...</td>\n",
              "      <td>Описание расширяем команды ищем разработчиков ...</td>\n",
              "      <td>450 на руки</td>\n",
              "      <td>Работодатель: ПАО МонтажЖелДор Город: Луховицы...</td>\n",
              "      <td>Год окончания обучения: 2010 Учебное учережден...</td>\n",
              "      <td>ecfc02a1-592c-3ed0-a801-1ad9ab3d30b8</td>\n",
              "      <td>Гавриил</td>\n",
              "      <td>Новикова</td>\n",
              "      <td>Дата рождения: 1985</td>\n",
              "      <td>Россия</td>\n",
              "      <td>Новосибирск</td>\n",
              "      <td>- Oracle Certified Associate, Java SE 7 Progra...</td>\n",
              "      <td>Java, Git, SQL, HTML, JavaScript, CSS, MySQL, ...</td>\n",
              "    </tr>\n",
              "    <tr>\n",
              "      <th>4</th>\n",
              "      <td>{'uuid': '779f3a59-206a-3241-adc4-d7db504f960b...</td>\n",
              "      <td>{'uuid': 'aff6b6bd-89c2-3b2c-ab2e-0b9f76ac367c...</td>\n",
              "      <td>0</td>\n",
              "      <td>779f3a59-206a-3241-adc4-d7db504f960b</td>\n",
              "      <td>Java разработчик команда Инвестиции</td>\n",
              "      <td>разработки mysql kafka описание java разработч...</td>\n",
              "      <td>Описание расширяем команды ищем разработчиков ...</td>\n",
              "      <td>450 на руки</td>\n",
              "      <td>Работодатель: МФО ЛифтГаражОрион Город: Щёлков...</td>\n",
              "      <td>Год окончания обучения: 2020 Учебное учережден...</td>\n",
              "      <td>aff6b6bd-89c2-3b2c-ab2e-0b9f76ac367c</td>\n",
              "      <td>Ярослава</td>\n",
              "      <td>Тихонова</td>\n",
              "      <td>Дата рождения: 1992</td>\n",
              "      <td>Россия</td>\n",
              "      <td>Тюмень</td>\n",
              "      <td></td>\n",
              "      <td>Java, Spring, Git, PostgreSQL, Hibernate ORM, ...</td>\n",
              "    </tr>\n",
              "  </tbody>\n",
              "</table>\n",
              "</div>\n",
              "    <div class=\"colab-df-buttons\">\n",
              "\n",
              "  <div class=\"colab-df-container\">\n",
              "    <button class=\"colab-df-convert\" onclick=\"convertToInteractive('df-37d80edc-f53c-4c81-aa31-2e7e031b0abd')\"\n",
              "            title=\"Convert this dataframe to an interactive table.\"\n",
              "            style=\"display:none;\">\n",
              "\n",
              "  <svg xmlns=\"http://www.w3.org/2000/svg\" height=\"24px\" viewBox=\"0 -960 960 960\">\n",
              "    <path d=\"M120-120v-720h720v720H120Zm60-500h600v-160H180v160Zm220 220h160v-160H400v160Zm0 220h160v-160H400v160ZM180-400h160v-160H180v160Zm440 0h160v-160H620v160ZM180-180h160v-160H180v160Zm440 0h160v-160H620v160Z\"/>\n",
              "  </svg>\n",
              "    </button>\n",
              "\n",
              "  <style>\n",
              "    .colab-df-container {\n",
              "      display:flex;\n",
              "      gap: 12px;\n",
              "    }\n",
              "\n",
              "    .colab-df-convert {\n",
              "      background-color: #E8F0FE;\n",
              "      border: none;\n",
              "      border-radius: 50%;\n",
              "      cursor: pointer;\n",
              "      display: none;\n",
              "      fill: #1967D2;\n",
              "      height: 32px;\n",
              "      padding: 0 0 0 0;\n",
              "      width: 32px;\n",
              "    }\n",
              "\n",
              "    .colab-df-convert:hover {\n",
              "      background-color: #E2EBFA;\n",
              "      box-shadow: 0px 1px 2px rgba(60, 64, 67, 0.3), 0px 1px 3px 1px rgba(60, 64, 67, 0.15);\n",
              "      fill: #174EA6;\n",
              "    }\n",
              "\n",
              "    .colab-df-buttons div {\n",
              "      margin-bottom: 4px;\n",
              "    }\n",
              "\n",
              "    [theme=dark] .colab-df-convert {\n",
              "      background-color: #3B4455;\n",
              "      fill: #D2E3FC;\n",
              "    }\n",
              "\n",
              "    [theme=dark] .colab-df-convert:hover {\n",
              "      background-color: #434B5C;\n",
              "      box-shadow: 0px 1px 3px 1px rgba(0, 0, 0, 0.15);\n",
              "      filter: drop-shadow(0px 1px 2px rgba(0, 0, 0, 0.3));\n",
              "      fill: #FFFFFF;\n",
              "    }\n",
              "  </style>\n",
              "\n",
              "    <script>\n",
              "      const buttonEl =\n",
              "        document.querySelector('#df-37d80edc-f53c-4c81-aa31-2e7e031b0abd button.colab-df-convert');\n",
              "      buttonEl.style.display =\n",
              "        google.colab.kernel.accessAllowed ? 'block' : 'none';\n",
              "\n",
              "      async function convertToInteractive(key) {\n",
              "        const element = document.querySelector('#df-37d80edc-f53c-4c81-aa31-2e7e031b0abd');\n",
              "        const dataTable =\n",
              "          await google.colab.kernel.invokeFunction('convertToInteractive',\n",
              "                                                    [key], {});\n",
              "        if (!dataTable) return;\n",
              "\n",
              "        const docLinkHtml = 'Like what you see? Visit the ' +\n",
              "          '<a target=\"_blank\" href=https://colab.research.google.com/notebooks/data_table.ipynb>data table notebook</a>'\n",
              "          + ' to learn more about interactive tables.';\n",
              "        element.innerHTML = '';\n",
              "        dataTable['output_type'] = 'display_data';\n",
              "        await google.colab.output.renderOutput(dataTable, element);\n",
              "        const docLink = document.createElement('div');\n",
              "        docLink.innerHTML = docLinkHtml;\n",
              "        element.appendChild(docLink);\n",
              "      }\n",
              "    </script>\n",
              "  </div>\n",
              "\n",
              "\n",
              "<div id=\"df-3f27b473-e638-4b93-bc8e-3f90d0813257\">\n",
              "  <button class=\"colab-df-quickchart\" onclick=\"quickchart('df-3f27b473-e638-4b93-bc8e-3f90d0813257')\"\n",
              "            title=\"Suggest charts\"\n",
              "            style=\"display:none;\">\n",
              "\n",
              "<svg xmlns=\"http://www.w3.org/2000/svg\" height=\"24px\"viewBox=\"0 0 24 24\"\n",
              "     width=\"24px\">\n",
              "    <g>\n",
              "        <path d=\"M19 3H5c-1.1 0-2 .9-2 2v14c0 1.1.9 2 2 2h14c1.1 0 2-.9 2-2V5c0-1.1-.9-2-2-2zM9 17H7v-7h2v7zm4 0h-2V7h2v10zm4 0h-2v-4h2v4z\"/>\n",
              "    </g>\n",
              "</svg>\n",
              "  </button>\n",
              "\n",
              "<style>\n",
              "  .colab-df-quickchart {\n",
              "      --bg-color: #E8F0FE;\n",
              "      --fill-color: #1967D2;\n",
              "      --hover-bg-color: #E2EBFA;\n",
              "      --hover-fill-color: #174EA6;\n",
              "      --disabled-fill-color: #AAA;\n",
              "      --disabled-bg-color: #DDD;\n",
              "  }\n",
              "\n",
              "  [theme=dark] .colab-df-quickchart {\n",
              "      --bg-color: #3B4455;\n",
              "      --fill-color: #D2E3FC;\n",
              "      --hover-bg-color: #434B5C;\n",
              "      --hover-fill-color: #FFFFFF;\n",
              "      --disabled-bg-color: #3B4455;\n",
              "      --disabled-fill-color: #666;\n",
              "  }\n",
              "\n",
              "  .colab-df-quickchart {\n",
              "    background-color: var(--bg-color);\n",
              "    border: none;\n",
              "    border-radius: 50%;\n",
              "    cursor: pointer;\n",
              "    display: none;\n",
              "    fill: var(--fill-color);\n",
              "    height: 32px;\n",
              "    padding: 0;\n",
              "    width: 32px;\n",
              "  }\n",
              "\n",
              "  .colab-df-quickchart:hover {\n",
              "    background-color: var(--hover-bg-color);\n",
              "    box-shadow: 0 1px 2px rgba(60, 64, 67, 0.3), 0 1px 3px 1px rgba(60, 64, 67, 0.15);\n",
              "    fill: var(--button-hover-fill-color);\n",
              "  }\n",
              "\n",
              "  .colab-df-quickchart-complete:disabled,\n",
              "  .colab-df-quickchart-complete:disabled:hover {\n",
              "    background-color: var(--disabled-bg-color);\n",
              "    fill: var(--disabled-fill-color);\n",
              "    box-shadow: none;\n",
              "  }\n",
              "\n",
              "  .colab-df-spinner {\n",
              "    border: 2px solid var(--fill-color);\n",
              "    border-color: transparent;\n",
              "    border-bottom-color: var(--fill-color);\n",
              "    animation:\n",
              "      spin 1s steps(1) infinite;\n",
              "  }\n",
              "\n",
              "  @keyframes spin {\n",
              "    0% {\n",
              "      border-color: transparent;\n",
              "      border-bottom-color: var(--fill-color);\n",
              "      border-left-color: var(--fill-color);\n",
              "    }\n",
              "    20% {\n",
              "      border-color: transparent;\n",
              "      border-left-color: var(--fill-color);\n",
              "      border-top-color: var(--fill-color);\n",
              "    }\n",
              "    30% {\n",
              "      border-color: transparent;\n",
              "      border-left-color: var(--fill-color);\n",
              "      border-top-color: var(--fill-color);\n",
              "      border-right-color: var(--fill-color);\n",
              "    }\n",
              "    40% {\n",
              "      border-color: transparent;\n",
              "      border-right-color: var(--fill-color);\n",
              "      border-top-color: var(--fill-color);\n",
              "    }\n",
              "    60% {\n",
              "      border-color: transparent;\n",
              "      border-right-color: var(--fill-color);\n",
              "    }\n",
              "    80% {\n",
              "      border-color: transparent;\n",
              "      border-right-color: var(--fill-color);\n",
              "      border-bottom-color: var(--fill-color);\n",
              "    }\n",
              "    90% {\n",
              "      border-color: transparent;\n",
              "      border-bottom-color: var(--fill-color);\n",
              "    }\n",
              "  }\n",
              "</style>\n",
              "\n",
              "  <script>\n",
              "    async function quickchart(key) {\n",
              "      const quickchartButtonEl =\n",
              "        document.querySelector('#' + key + ' button');\n",
              "      quickchartButtonEl.disabled = true;  // To prevent multiple clicks.\n",
              "      quickchartButtonEl.classList.add('colab-df-spinner');\n",
              "      try {\n",
              "        const charts = await google.colab.kernel.invokeFunction(\n",
              "            'suggestCharts', [key], {});\n",
              "      } catch (error) {\n",
              "        console.error('Error during call to suggestCharts:', error);\n",
              "      }\n",
              "      quickchartButtonEl.classList.remove('colab-df-spinner');\n",
              "      quickchartButtonEl.classList.add('colab-df-quickchart-complete');\n",
              "    }\n",
              "    (() => {\n",
              "      let quickchartButtonEl =\n",
              "        document.querySelector('#df-3f27b473-e638-4b93-bc8e-3f90d0813257 button');\n",
              "      quickchartButtonEl.style.display =\n",
              "        google.colab.kernel.accessAllowed ? 'block' : 'none';\n",
              "    })();\n",
              "  </script>\n",
              "</div>\n",
              "    </div>\n",
              "  </div>\n"
            ],
            "application/vnd.google.colaboratory.intrinsic+json": {
              "type": "dataframe",
              "variable_name": "full_df",
              "summary": "{\n  \"name\": \"full_df\",\n  \"rows\": 656,\n  \"fields\": [\n    {\n      \"column\": \"vacancy\",\n      \"properties\": {\n        \"dtype\": \"object\",\n        \"semantic_type\": \"\",\n        \"description\": \"\"\n      }\n    },\n    {\n      \"column\": \"resume\",\n      \"properties\": {\n        \"dtype\": \"object\",\n        \"semantic_type\": \"\",\n        \"description\": \"\"\n      }\n    },\n    {\n      \"column\": \"target\",\n      \"properties\": {\n        \"dtype\": \"number\",\n        \"std\": 0,\n        \"min\": 0,\n        \"max\": 1,\n        \"num_unique_values\": 2,\n        \"samples\": [\n          1,\n          0\n        ],\n        \"semantic_type\": \"\",\n        \"description\": \"\"\n      }\n    },\n    {\n      \"column\": \"vacancy_uuid\",\n      \"properties\": {\n        \"dtype\": \"category\",\n        \"num_unique_values\": 29,\n        \"samples\": [\n          \"a5d0e1fd-7baa-3a6f-98f4-b908ac7fce43\",\n          \"b1148bfd-c881-3e51-92fd-29912e58b38d\"\n        ],\n        \"semantic_type\": \"\",\n        \"description\": \"\"\n      }\n    },\n    {\n      \"column\": \"vacancy_name\",\n      \"properties\": {\n        \"dtype\": \"category\",\n        \"num_unique_values\": 27,\n        \"samples\": [\n          \"\\u0421\\u0438\\u0441\\u0442\\u0435\\u043c\\u043d\\u044b\\u0439 \\u0430\\u043d\\u0430\\u043b\\u0438\\u0442\\u0438\\u043a \\u0444\\u0438\\u043d\\u0442\\u0435\\u0445\",\n          \"DevOps\"\n        ],\n        \"semantic_type\": \"\",\n        \"description\": \"\"\n      }\n    },\n    {\n      \"column\": \"vacancy_keywords\",\n      \"properties\": {\n        \"dtype\": \"category\",\n        \"num_unique_values\": 29,\n        \"samples\": [\n          \"rabbitmq \\u0440\\u0430\\u0437\\u0440\\u0430\\u0431\\u043e\\u0442\\u043a\\u0438 \\u0441\\u0438\\u0441\\u0442\\u0435\\u043c\\u044b kafka \\u043e\\u0442\\u0432\\u0435\\u0442\\u0441\\u0442\\u0432\\u0435\\u043d\\u043d\\u043e\\u0441\\u0442\\u044c \\u0438\\u043d\\u0444\\u043e\\u0440\\u043c\\u0430\\u0446\\u0438\\u0438 java \\u043e\\u043f\\u044b\\u0442 \\u0440\\u0430\\u0441\\u0447\\u0435\\u0442 \\u0444\\u043e\\u0440\\u043c\\u0438\\u0440\\u043e\\u0432\\u0430\\u043d\\u0438\\u0435 \\u043e\\u0447\\u0435\\u043d\\u044c kubernetes \\u043d\\u0430\\u0432\\u044b\\u043a\\u0438 \\u043f\\u043e\\u0434\\u0434\\u0435\\u0440\\u0436\\u043a\\u0430 \\u043f\\u0440\\u0438\\u043d\\u0438\\u043c\\u0430\\u0442\\u044c \\u0432\\u0435\\u0434\\u0435\\u043d\\u0438\\u0435 \\u0440\\u0430\\u0431\\u043e\\u0442\\u044b ci \\u0432\\u043d\\u0443\\u0442\\u0440\\u0435\\u043d\\u043d\\u0438\\u0439 \\u043f\\u0440\\u043e\\u0432\\u0435\\u0434\\u0435\\u043d\\u0438\\u0435 spring \\u0437\\u043d\\u0430\\u043d\\u0438\\u044f \\u0440\\u0435\\u0448\\u0435\\u043d\\u0438\\u044f \\u0434\\u0430\\u043d\\u043d\\u044b\\u0445 \\u0441\\u0438\\u0441\\u0442\\u0435\\u043c openshift\",\n          \"\\u0441\\u0443\\u0431\\u0434 rabbitmq \\u0440\\u0430\\u0437\\u0440\\u0430\\u0431\\u043e\\u0442\\u043a\\u0438 \\u0438\\u0441\\u043f\\u043e\\u043b\\u044c\\u0437\\u043e\\u0432\\u0430\\u043d\\u0438\\u0435\\u043c \\u043f\\u0440\\u0438\\u043d\\u0446\\u0438\\u043f\\u043e\\u0432 unix \\u0441\\u043a\\u0440\\u0438\\u043f\\u0442\\u043e\\u0432 \\u043f\\u0440\\u043e\\u0446\\u0435\\u0441\\u0441\\u043e\\u0432 \\u0432\\u044b\\u043f\\u043e\\u043b\\u043d\\u044f\\u0442\\u044c \\u0444\\u0443\\u043d\\u043a\\u0446\\u0438\\u043e\\u043d\\u0430\\u043b\\u044c\\u043d\\u044b\\u0435 \\u043f\\u043e\\u043d\\u0438\\u043c\\u0430\\u043d\\u0438\\u0435 clickhouse \\u0437\\u043d\\u0430\\u043d\\u0438\\u0435 kafka sql git airflow \\u0442\\u0435\\u0441\\u0442\\u0438\\u0440\\u043e\\u0432\\u0430\\u043d\\u0438\\u044f \\u0442\\u0435\\u0445\\u043d\\u043e\\u043b\\u043e\\u0433\\u0438\\u0438 \\u0440\\u0430\\u0437\\u0440\\u0430\\u0431\\u0430\\u0442\\u044b\\u0432\\u0430\\u0442\\u044c \\u0440\\u0435\\u0448\\u0435\\u043d\\u0438\\u044f pl \\u0434\\u0430\\u043d\\u043d\\u044b\\u0445 \\u0443\\u043f\\u0440\\u0430\\u0432\\u043b\\u0435\\u043d\\u0438\\u044f \\u043e\\u0442\\u043a\\u0440\\u044b\\u0442\\u043e\\u0441\\u0442\\u044c hadoop \\u0440\\u0430\\u0437\\u0440\\u0430\\u0431\\u043e\\u0442\\u043a\\u0430 \\u043e\\u0442\\u043d\\u043e\\u0448\\u0435\\u043d\\u0438\\u044f \\u043e\\u043f\\u044b\\u0442 \\u043e\\u0447\\u0435\\u043d\\u044c ubuntu soap spark \\u043f\\u043e\\u0434\\u0434\\u0435\\u0440\\u0436\\u043a\\u0430 \\u043f\\u0440\\u043e\\u0435\\u043a\\u0442\\u043e\\u0432 \\u0440\\u0430\\u0431\\u043e\\u0442\\u044b \\u043d\\u043e\\u0432\\u044b\\u0445 python \\u0440\\u0430\\u0431\\u043e\\u0442\\u0430 \\u0441\\u0438\\u0441\\u0442\\u0435\\u043c ip \\u0441\\u0438\\u0441\\u0442\\u0435\\u043c\\u0430\\u043c\\u0438 \\u0441\\u0438\\u0441\\u0442\\u0435\\u043c\\u044b etl \\u0443\\u043c\\u0435\\u043d\\u0438\\u0435 \\u0434\\u0430\\u043d\\u043d\\u044b\\u043c\\u0438 \\u043d\\u0430\\u043f\\u0438\\u0441\\u0430\\u043d\\u0438\\u044f apache \\u043f\\u0440\\u043e\\u0442\\u043e\\u043a\\u043e\\u043b\\u043e\\u0432 \\u0432\\u0435\\u0440\\u0441\\u0438\\u0439 rest \\u0442\\u0440\\u0435\\u0431\\u043e\\u0432\\u0430\\u043d\\u0438\\u044f \\u043a\\u043e\\u043d\\u0442\\u0440\\u043e\\u043b\\u044f \\u0441\\u0442\\u0440\\u0443\\u043a\\u0442\\u0443\\u0440 \\u0440\\u0430\\u0431\\u043e\\u0442\\u0430\\u0442\\u044c \\u0440\\u0435\\u0448\\u0435\\u043d\\u0438\\u0439 \\u0441\\u043e\\u043e\\u0431\\u0449\\u0435\\u043d\\u0438\\u0439 \\u0444\\u0438\\u043d\\u0430\\u043d\\u0441\\u043e\\u0432\\u0430\\u044f api \\u0441\\u0435\\u0442\\u0435\\u0432\\u044b\\u0445\"\n        ],\n        \"semantic_type\": \"\",\n        \"description\": \"\"\n      }\n    },\n    {\n      \"column\": \"vacancy_description\",\n      \"properties\": {\n        \"dtype\": \"category\",\n        \"num_unique_values\": 29,\n        \"samples\": [\n          \"Senior 15 \\u0433\\u0440\\u0435\\u0439\\u0434\\u0430 \\u041f\\u0440\\u043e\\u0435\\u043a\\u0442 \\u00ab\\u0422\\u0440\\u0430\\u043d\\u0441\\u0444\\u043e\\u0440\\u043c\\u0430\\u0446\\u0438\\u044f \\u0431\\u0440\\u043e\\u043a\\u0435\\u0440\\u0441\\u043a\\u0438\\u0445 \\u0441\\u0438\\u0441\\u0442\\u0435\\u043c\\u00bb \\u0432\\u0445\\u043e\\u0434\\u0438\\u0442 \\u0441\\u043e\\u0441\\u0442\\u0430\\u0432 \\u043f\\u0440\\u043e\\u0433\\u0440\\u0430\\u043c\\u043c\\u044b \\u00ab\\u0418\\u043c\\u043f\\u043e\\u0440\\u0442\\u043e\\u0437\\u0430\\u043c\\u0435\\u0449\\u0435\\u043d\\u0438\\u0435\\u00bb \\u041e\\u0441\\u043d\\u043e\\u0432\\u043d\\u044b\\u0435 \\u043d\\u0430\\u043f\\u0440\\u0430\\u0432\\u043b\\u0435\\u043d\\u0438\\u044f: -\\u0412\\u043d\\u0443\\u0442\\u0440\\u0435\\u043d\\u043d\\u0438\\u0439 \\u0443\\u0447\\u0435\\u0442 \\u0431\\u0440\\u043e\\u043a\\u0435\\u0440\\u0441\\u043a\\u0438\\u0445 \\u043e\\u043f\\u0435\\u0440\\u0430\\u0446\\u0438\\u0439 \\u2013 \\u0437\\u0430\\u0433\\u0440\\u0443\\u0437\\u043a\\u0430 \\u0445\\u0440\\u0430\\u043d\\u0435\\u043d\\u0438\\u0435 \\u0434\\u0430\\u043d\\u043d\\u044b\\u0445 \\u0441\\u0434\\u0435\\u043b\\u043a\\u0430\\u0445 \\u043d\\u0435\\u0442\\u043e\\u0440\\u0433\\u043e\\u0432\\u044b\\u0445 \\u043e\\u043f\\u0435\\u0440\\u0430\\u0446\\u0438\\u044f\\u0445 \\u043a\\u043b\\u0438\\u0435\\u043d\\u0442\\u043e\\u0432. \\u0423\\u0440\\u0435\\u0433\\u0443\\u043b\\u0438\\u0440\\u043e\\u0432\\u0430\\u043d\\u0438\\u0435 \\u0437\\u0430\\u0434\\u043e\\u043b\\u0436\\u0435\\u043d\\u043d\\u043e\\u0441\\u0442\\u0438 \\u043a\\u043b\\u0438\\u0435\\u043d\\u0442\\u043e\\u0432 \\u0440\\u0430\\u043c\\u043a\\u0430\\u0445 \\u0437\\u0430\\u043a\\u0440\\u044b\\u0442\\u0438\\u044f \\u0434\\u043d\\u044f. \\u0412\\u044b\\u0433\\u0440\\u0443\\u0437\\u043a\\u0430 \\u0434\\u0430\\u043d\\u043d\\u044b\\u0445 \\u0438\\u0442\\u043e\\u0433\\u0430\\u0445 \\u0442\\u043e\\u0440\\u0433\\u043e\\u0432\\u043e\\u0439 \\u0441\\u0435\\u0441\\u0441\\u0438\\u0438 \\u0441\\u0438\\u0441\\u0442\\u0435\\u043c\\u044b \\u0431\\u0443\\u0445\\u0433\\u0430\\u043b\\u0442\\u0435\\u0440\\u0441\\u043a\\u043e\\u0433\\u043e \\u0434\\u0435\\u043f\\u043e\\u0437\\u0438\\u0442\\u0430\\u0440\\u043d\\u043e\\u0433\\u043e \\u0443\\u0447\\u0435\\u0442\\u0430. \\u041f\\u0440\\u043e\\u0432\\u0435\\u0434\\u0435\\u043d\\u0438\\u0435 \\u0441\\u0432\\u0435\\u0440\\u043e\\u043a \\u043e\\u0441\\u0442\\u0430\\u0442\\u043a\\u043e\\u0432 \\u0414\\u0421 \\u0426\\u0411 \\u0441\\u0447\\u0435\\u0442\\u0430\\u0445 \\u0432\\u043d\\u0443\\u0442\\u0440\\u0435\\u043d\\u043d\\u0435\\u0433\\u043e \\u0443\\u0447\\u0435\\u0442\\u0430. -\\u0420\\u0435\\u0433\\u0443\\u043b\\u044f\\u0442\\u043e\\u0440\\u043d\\u0430\\u044f \\u043e\\u0442\\u0447\\u0435\\u0442\\u043d\\u043e\\u0441\\u0442\\u044c \\u2013 \\u0432\\u0435\\u0434\\u0435\\u043d\\u0438\\u0435 \\u0440\\u0435\\u0433\\u0438\\u0441\\u0442\\u0440\\u043e\\u0432 \\u0412\\u0423, \\u0444\\u043e\\u0440\\u043c\\u0438\\u0440\\u043e\\u0432\\u0430\\u043d\\u0438\\u0435 \\u0440\\u0435\\u0433\\u0443\\u043b\\u044f\\u0440\\u043d\\u043e\\u0439 \\u043e\\u0442\\u0447\\u0435\\u0442\\u043d\\u043e\\u0441\\u0442\\u0438 \\u0426\\u0411 \\u0424\\u041d\\u0421. -\\u041d\\u0430\\u043b\\u043e\\u0433\\u043e\\u0432\\u044b\\u0439 \\u0443\\u0447\\u0435\\u0442 \\u2013 \\u0440\\u0430\\u0441\\u0447\\u0435\\u0442, \\u0443\\u0447\\u0435\\u0442 \\u0443\\u0434\\u0435\\u0440\\u0436\\u0430\\u043d\\u0438\\u0435 \\u043d\\u0430\\u043b\\u043e\\u0433\\u043e\\u0432 \\u0447\\u0430\\u0441\\u0442\\u0438 \\u0431\\u0440\\u043e\\u043a\\u0435\\u0440\\u0441\\u043a\\u043e\\u0433\\u043e \\u043e\\u0431\\u0441\\u043b\\u0443\\u0436\\u0438\\u0432\\u0430\\u043d\\u0438\\u044f. \\u0412\\u044b\\u0433\\u0440\\u0443\\u0437\\u043a\\u0430 \\u0438\\u043d\\u0444\\u043e\\u0440\\u043c\\u0430\\u0446\\u0438\\u0438 \\u043d\\u0430\\u043b\\u043e\\u0433\\u043e\\u043e\\u0431\\u043b\\u0430\\u0433\\u0430\\u0435\\u043c\\u043e\\u0439 \\u0431\\u0430\\u0437\\u0435 \\u043a\\u043b\\u0438\\u0435\\u043d\\u0442\\u043e\\u0432 \\u0441\\u0438\\u0441\\u0442\\u0435\\u043c\\u044b \\u0411\\u0430\\u043d\\u043a\\u0430. \\u041a\\u0430\\u043a\\u0438\\u0435 \\u0437\\u043d\\u0430\\u043d\\u0438\\u044f \\u043d\\u0430\\u0432\\u044b\\u043a\\u0438 \\u0432\\u0430\\u0436\\u043d\\u044b: \\u041e\\u043f\\u044b\\u0442 BE \\u0440\\u0430\\u0437\\u0440\\u0430\\u0431\\u043e\\u0442\\u043a\\u0438 4-\\u0445 \\u043b\\u0435\\u0442; \\u0413\\u043e\\u0442\\u043e\\u0432\\u043d\\u043e\\u0441\\u0442\\u044c \\u043f\\u0440\\u0438\\u043d\\u0438\\u043c\\u0430\\u0442\\u044c \\u0440\\u0435\\u0448\\u0435\\u043d\\u0438\\u044f \\u0431\\u0440\\u0430\\u0442\\u044c \\u043e\\u0442\\u0432\\u0435\\u0442\\u0441\\u0442\\u0432\\u0435\\u043d\\u043d\\u043e\\u0441\\u0442\\u044c; \\u0421\\u0442\\u0435\\u043a Java, spring; \\u041e\\u043f\\u044b\\u0442 \\u043f\\u0440\\u043e\\u0435\\u043a\\u0442\\u0438\\u0440\\u043e\\u0432\\u0430\\u043d\\u0438\\u044f \\u043f\\u043e\\u0441\\u0442\\u0440\\u043e\\u0435\\u043d\\u0438\\u044f \\u043c\\u0438\\u043a\\u0440\\u043e\\u0441\\u0435\\u0440\\u0432\\u0438\\u0441\\u043d\\u044b\\u0445 \\u0430\\u0440\\u0445\\u0438\\u0442\\u0435\\u043a\\u0442\\u0443\\u0440; \\u041e\\u043f\\u044b\\u0442 \\u043f\\u043e\\u0441\\u0442\\u0440\\u043e\\u0435\\u043d\\u0438\\u044f CI/CD; \\u041e\\u043f\\u044b\\u0442 \\u0440\\u0430\\u0431\\u043e\\u0442\\u044b \\u043f\\u043b\\u0430\\u0442\\u0444\\u043e\\u0440\\u043c\\u043e\\u0439 Kubernetes/OpenShift; \\u041e\\u043f\\u044b\\u0442 \\u0440\\u0430\\u0431\\u043e\\u0442\\u044b Message/Streaming-oriented middleware (Kafka/RabbitMQ). \\u0441\\u043e\\u0437\\u0434\\u0430\\u0434\\u0438\\u043c \\u043a\\u043e\\u043c\\u0444\\u043e\\u0440\\u0442\\u043d\\u044b\\u0435 \\u0443\\u0441\\u043b\\u043e\\u0432\\u0438\\u044f \\u0440\\u0430\\u0431\\u043e\\u0442\\u044b: \\u0433\\u0438\\u0431\\u043a\\u0438\\u0439 \\u0433\\u0440\\u0430\\u0444\\u0438\\u043a \\u0440\\u0430\\u0431\\u043e\\u0442\\u044b \\u2014 \\u043e\\u0444\\u0438\\u0441\\u0435, \\u0443\\u0434\\u0430\\u043b\\u0435\\u043d\\u043d\\u043e \\u0433\\u0438\\u0431\\u0440\\u0438\\u0434\\u043d\\u043e\\u043c \\u0444\\u043e\\u0440\\u043c\\u0430\\u0442\\u0435 \\u043f\\u043e\\u0434\\u0434\\u0435\\u0440\\u0436\\u043a\\u0430 \\u043d\\u043e\\u0432\\u0438\\u0447\\u043a\\u043e\\u0432 \\u043f\\u0440\\u043e\\u0433\\u0440\\u0430\\u043c\\u043c\\u0435 \\u043d\\u0430\\u0441\\u0442\\u0430\\u0432\\u043d\\u0438\\u0447\\u0435\\u0441\\u0442\\u0432\\u0430 Buddy \\u0414\\u041c\\u0421 \\u0432\\u043e\\u0437\\u043c\\u043e\\u0436\\u043d\\u043e\\u0441\\u0442\\u044c\\u044e \\u043f\\u043e\\u0434\\u043a\\u043b\\u044e\\u0447\\u0435\\u043d\\u0438\\u044f \\u0431\\u043b\\u0438\\u0437\\u043a\\u0438\\u0445 \\u0440\\u043e\\u0434\\u0441\\u0442\\u0432\\u0435\\u043d\\u043d\\u0438\\u043a\\u043e\\u0432 \\u0441\\u0435\\u0440\\u0432\\u0438\\u0441 \\u043f\\u0441\\u0438\\u0445\\u043e\\u043b\\u043e\\u0433\\u0438\\u0447\\u0435\\u0441\\u043a\\u043e\\u0439 \\u043f\\u043e\\u0434\\u0434\\u0435\\u0440\\u0436\\u043a\\u0438, \\u043d\\u0430\\u043c \\u043e\\u0447\\u0435\\u043d\\u044c \\u0432\\u0430\\u0436\\u043d\\u043e, \\u0447\\u0443\\u0432\\u0441\\u0442\\u0432\\u0443\\u0435\\u0448\\u044c \\u043a\\u043e\\u0440\\u043f\\u043e\\u0440\\u0430\\u0442\\u0438\\u0432\\u043d\\u044b\\u0439 \\u043a\\u0430\\u0444\\u0435\\u0442\\u0435\\u0440\\u0438\\u0439 \\u043b\\u044c\\u0433\\u043e\\u0442 \\u0432\\u043e\\u0437\\u043c\\u043e\\u0436\\u043d\\u043e\\u0441\\u0442\\u044c\\u044e \\u043a\\u043e\\u043c\\u043f\\u0435\\u043d\\u0441\\u0430\\u0446\\u0438\\u0438 \\u0431\\u0438\\u043b\\u0435\\u0442\\u043e\\u0432 \\u043e\\u0442\\u0435\\u043b\\u0435\\u0439 \\u043e\\u0442\\u043f\\u0443\\u0441\\u043a\\u0435, \\u0430\\u0431\\u043e\\u043d\\u0435\\u043c\\u0435\\u043d\\u0442\\u043e\\u0432 \\u0441\\u043f\\u043e\\u0440\\u0442\\u0437\\u0430\\u043b, \\u0441\\u043f\\u043e\\u0440\\u0442\\u0438\\u043d\\u0432\\u0435\\u043d\\u0442\\u0430\\u0440\\u044f, \\u0431\\u0438\\u043b\\u0435\\u0442\\u043e\\u0432 \\u0442\\u0435\\u0430\\u0442\\u0440 \\u043c\\u043d\\u043e\\u0433\\u043e\\u0433\\u043e \\u0434\\u0440\\u0443\\u0433\\u043e\\u0433\\u043e \\u043d\\u0430\\u0441\\u044b\\u0449\\u0435\\u043d\\u043d\\u0430\\u044f \\u0438\\u043d\\u043d\\u043e\\u0436\\u0438\\u0437\\u043d\\u044c: \\u043b\\u0435\\u043a\\u0446\\u0438\\u0438 \\u043c\\u0430\\u0441\\u0442\\u0435\\u0440-\\u043a\\u043b\\u0430\\u0441\\u0441\\u044b \\u0438\\u0437\\u0432\\u0435\\u0441\\u0442\\u043d\\u044b\\u0445 \\u0441\\u043f\\u0438\\u043a\\u0435\\u0440\\u043e\\u0432, \\u0442\\u0438\\u043c\\u0431\\u0438\\u043b\\u0434\\u0438\\u043d\\u0433\\u0438, \\u043a\\u043e\\u0440\\u043f\\u043e\\u0440\\u0430\\u0442\\u0438\\u0432\\u043d\\u0430\\u044f \\u0431\\u0438\\u0431\\u043b\\u0438\\u043e\\u0442\\u0435\\u043a\\u0430 \\u043c\\u043d\\u043e\\u0433\\u043e\\u0435 \\u0434\\u0440\\u0443\\u0433\\u043e\\u0435 \\u0441\\u043a\\u0438\\u0434\\u043a\\u0438 \\u043a\\u0443\\u043f\\u043e\\u043d\\u044b \\u0441\\u043e\\u0442\\u0435\\u043d \\u043a\\u043e\\u043c\\u043f\\u0430\\u043d\\u0438\\u0439-\\u043f\\u0430\\u0440\\u0442\\u043d\\u0451\\u0440\\u043e\\u0432 \\u0435\\u0434\\u0438\\u043d\\u043e\\u0439 \\u043f\\u043b\\u0430\\u0442\\u0444\\u043e\\u0440\\u043c\\u0435 \\u043c\\u0430\\u0440\\u043a\\u0435\\u0442\\u043f\\u043b\\u0435\\u0439\\u0441 \\u043c\\u0435\\u0440\\u0447\\u0430 \\u0441\\u043e\\u0431\\u0441\\u0442\\u0432\\u0435\\u043d\\u043d\\u043e\\u0439 \\u043a\\u043e\\u0440\\u043f\\u043e\\u0440\\u0430\\u0442\\u0438\\u0432\\u043d\\u043e\\u0439 \\u0432\\u0430\\u043b\\u044e\\u0442\\u043e\\u0439, \\u043a\\u043e\\u0442\\u043e\\u0440\\u0430\\u044f \\u043d\\u0430\\u0447\\u0438\\u0441\\u043b\\u044f\\u0435\\u0442\\u0441\\u044f \\u0443\\u0447\\u0430\\u0441\\u0442\\u0438\\u0435 \\u0430\\u043a\\u0442\\u0438\\u0432\\u043d\\u043e\\u0441\\u0442\\u044f\\u0445 \\u0434\\u043e\\u043f\\u043e\\u043b\\u043d\\u0438\\u0442\\u0435\\u043b\\u044c\\u043d\\u044b\\u0435 \\u0432\\u044b\\u0445\\u043e\\u0434\\u043d\\u044b\\u0435 \\u0434\\u043d\\u0438 \\u0440\\u0430\\u0434\\u043e\\u0441\\u0442\\u043d\\u044b\\u0445 (\\u0438 \\u0442\\u043e\\u043b\\u044c\\u043a\\u043e) \\u0441\\u043e\\u0431\\u044b\\u0442\\u0438\\u0439 \\u0434\\u043e\\u043f\\u043e\\u043b\\u043d\\u0438\\u0442\\u0435\\u043b\\u044c\\u043d\\u044b\\u0439 \\u043e\\u043f\\u043b\\u0430\\u0447\\u0438\\u0432\\u0430\\u0435\\u043c\\u044b\\u0439 \\u043e\\u0442\\u043f\\u0443\\u0441\\u043a (3 \\u043a\\u0430\\u043b\\u0435\\u043d\\u0434\\u0430\\u0440\\u043d\\u044b\\u0445 \\u0434\\u043d\\u044f) \\u0448\\u0438\\u0440\\u043e\\u043a\\u0438\\u0435 \\u0432\\u043e\\u0437\\u043c\\u043e\\u0436\\u043d\\u043e\\u0441\\u0442\\u0438 \\u0432\\u043d\\u0443\\u0442\\u0440\\u0435\\u043d\\u043d\\u0435\\u0433\\u043e \\u0432\\u043d\\u0435\\u0448\\u043d\\u0435\\u0433\\u043e \\u043e\\u0431\\u0443\\u0447\\u0435\\u043d\\u0438\\u044f \\u043d\\u0435\\u043e\\u0431\\u0445\\u043e\\u0434\\u0438\\u043c\\u0430\\u044f \\u0442\\u0435\\u0445\\u043d\\u0438\\u043a\\u0430 \\u0441\\u043e\\u0444\\u0442 \\u0440\\u0430\\u0431\\u043e\\u0442\\u044b \\u043a\\u043e\\u043d\\u043a\\u0443\\u0440\\u0435\\u043d\\u0442\\u043d\\u0430\\u044f \\u0437\\u0430\\u0440\\u043f\\u043b\\u0430\\u0442\\u0430 \\u0438\\u0442\\u043e\\u0433\\u0430\\u043c \\u0438\\u043d\\u0442\\u0435\\u0440\\u0432\\u044c\\u044e, \\u043d\\u0430\\u043b\\u0438\\u0447\\u0438\\u0435 \\u043f\\u0440\\u0435\\u043c\\u0438\\u0430\\u043b\\u044c\\u043d\\u043e\\u0439 \\u0441\\u043e\\u0441\\u0442\\u0430\\u0432\\u043b\\u044f\\u044e\\u0449\\u0435\\u0439 \\u044d\\u043a\\u0441\\u043a\\u043b\\u044e\\u0437\\u0438\\u0432\\u043d\\u044b\\u0439 \\u0437\\u0430\\u0440\\u043f\\u043b\\u0430\\u0442\\u043d\\u044b\\u0439 \\u043f\\u0440\\u043e\\u0435\\u043a\\u0442 \\u0441\\u043e\\u0442\\u0440\\u0443\\u0434\\u043d\\u0438\\u043a\\u043e\\u0432 \\u0431\\u0430\\u043d\\u043a\\u0435\",\n          \"\\u041f\\u0440\\u043e\\u0435\\u043a\\u0442\\u044b \\u0440\\u0430\\u0437\\u043d\\u044b\\u0435 \\u2014 \\u0441\\u043e\\u0432\\u0440\\u0435\\u043c\\u0435\\u043d\\u043d\\u0430\\u044f \\u0431\\u044b\\u0441\\u0442\\u0440\\u043e\\u0440\\u0430\\u0437\\u0432\\u0438\\u0432\\u0430\\u044e\\u0449\\u0430\\u044f\\u0441\\u044f \\u0430\\u043a\\u043a\\u0440\\u0435\\u0434\\u0438\\u0442\\u043e\\u0432\\u0430\\u043d\\u043d\\u0430\\u044f IT-\\u043a\\u043e\\u043c\\u043f\\u0430\\u043d\\u0438\\u044f \\u0444\\u043e\\u043a\\u0443\\u0441\\u043e\\u043c \\u0432\\u044b\\u0441\\u043e\\u043a\\u0438\\u0435 \\u0442\\u0435\\u0445\\u043d\\u043e\\u043b\\u043e\\u0433\\u0438\\u0438. \\u0432\\u044b\\u0440\\u043e\\u0441\\u043b\\u0438 10 000+ \\u0447\\u0435\\u043b\\u043e\\u0432\\u0435\\u043a \\u043c\\u0435\\u043d\\u0435\\u0435 \\u0433\\u043e\\u0434\\u0430. \\u0412\\u043c\\u0435\\u0441\\u0442\\u0435 \\u0441\\u043e\\u0437\\u0434\\u0430\\u0435\\u043c \\u0444\\u0438\\u043d\\u0442\\u0435\\u0445, \\u043a\\u043e\\u0442\\u043e\\u0440\\u044b\\u0439 \\u0434\\u043e\\u0441\\u0442\\u0443\\u043f\\u0435\\u043d \\u043a\\u0430\\u0436\\u0434\\u043e\\u043c\\u0443: \\u0440\\u0430\\u0437\\u0432\\u0438\\u0432\\u0430\\u0435\\u043c \\u00ab\\u0426\\u0438\\u0444\\u0440\\u043e\\u0432\\u0443\\u044e \\u0431\\u0430\\u043d\\u043a\\u043e\\u0432\\u0441\\u043a\\u0443\\u044e \\u043f\\u043b\\u0430\\u0442\\u0444\\u043e\\u0440\\u043c\\u0443\\u00bb, \\u0432\\u044b\\u0441\\u0442\\u0440\\u0430\\u0438\\u0432\\u0430\\u0435\\u043c \\u043f\\u0430\\u0440\\u0442\\u043d\\u0435\\u0440\\u0441\\u043a\\u0438\\u0435 \\u043e\\u0442\\u043d\\u043e\\u0448\\u0435\\u043d\\u0438\\u044f \\u0442\\u043e\\u043f\\u043e\\u0432\\u044b\\u043c\\u0438 \\u0444\\u0438\\u043d\\u0430\\u043d\\u0441\\u043e\\u0432\\u044b\\u043c\\u0438 \\u043a\\u043e\\u043c\\u043f\\u0430\\u043d\\u0438\\u044f\\u043c\\u0438, \\u0441\\u043e\\u0437\\u0434\\u0430\\u0435\\u043c \\u043a\\u043e\\u043c\\u043f\\u043b\\u0435\\u043a\\u0441\\u043d\\u044b\\u0435 \\u0440\\u0435\\u0448\\u0435\\u043d\\u0438\\u044f \\u0444\\u0440\\u043e\\u043d\\u0442- \\u0431\\u044d\\u043a-\\u043e\\u0444\\u0438\\u0441\\u043e\\u0432, \\u0441\\u0442\\u0440\\u043e\\u0438\\u043c \\u0441\\u0438\\u0441\\u0442\\u0435\\u043c\\u044b \\u0440\\u0430\\u0431\\u043e\\u0442\\u044b \\u0431\\u043e\\u043b\\u044c\\u0448\\u0438\\u043c\\u0438 \\u0434\\u0430\\u043d\\u043d\\u044b\\u043c\\u0438. \\u0441\\u0442\\u0430\\u0431\\u0438\\u043b\\u044c\\u043d\\u043e\\u0441\\u0442\\u044c \\u0440\\u0430\\u0431\\u043e\\u0442\\u044b \\u2014 \\u0444\\u0438\\u043d\\u0430\\u043d\\u0441\\u043e\\u0432\\u0430\\u044f \\u043d\\u0430\\u0434\\u0435\\u0436\\u043d\\u043e\\u0441\\u0442\\u044c, \\u0441\\u043e\\u0446\\u0438\\u0430\\u043b\\u044c\\u043d\\u044b\\u0435 \\u0433\\u0430\\u0440\\u0430\\u043d\\u0442\\u0438\\u0438, \\u0431\\u043e\\u043d\\u0443\\u0441\\u044b \\u0431\\u0435\\u043d\\u0435\\u0444\\u0438\\u0442\\u044b, \\u2014 \\u0441\\u043e\\u0447\\u0435\\u0442\\u0430\\u0435\\u0442\\u0441\\u044f \\u043f\\u0440\\u0435\\u0438\\u043c\\u0443\\u0449\\u0435\\u0441\\u0442\\u0432\\u0430\\u043c\\u0438 IT-\\u043a\\u043e\\u043c\\u043f\\u0430\\u043d\\u0438\\u0438 \\u2014 \\u043e\\u0442\\u043a\\u0440\\u044b\\u0442\\u043e\\u0441\\u0442\\u044c, \\u0438\\u043d\\u043d\\u043e\\u0432\\u0430\\u0446\\u0438\\u0438, \\u0433\\u0438\\u0431\\u0440\\u0438\\u0434\\u043d\\u044b\\u0439 \\u0444\\u043e\\u0440\\u043c\\u0430\\u0442 \\u0440\\u0430\\u0431\\u043e\\u0442\\u044b. \\u0441\\u0442\\u0440\\u0435\\u043c\\u0438\\u0442\\u0435\\u043b\\u044c\\u043d\\u043e \\u0440\\u0430\\u0441\\u0442\\u0435\\u043c, \\u043c\\u0430\\u0441\\u0448\\u0442\\u0430\\u0431\\u0438\\u0440\\u0443\\u0435\\u043c\\u0441\\u044f \\u0438\\u0449\\u0435\\u043c \\u043d\\u043e\\u0432\\u044b\\u0445 \\u0441\\u043f\\u0435\\u0446\\u0438\\u0430\\u043b\\u0438\\u0441\\u0442\\u043e\\u0432 \\u043a\\u043e\\u043c\\u0430\\u043d\\u0434\\u0443! \\u0417\\u0430\\u0434\\u0430\\u0447\\u0438: \\u0412\\u044b\\u043f\\u043e\\u043b\\u043d\\u044f\\u0442\\u044c \\u0444\\u0443\\u043d\\u043a\\u0446\\u0438\\u043e\\u043d\\u0430\\u043b\\u044c\\u043d\\u044b\\u0435 \\u043e\\u0431\\u044f\\u0437\\u0430\\u043d\\u043d\\u043e\\u0441\\u0442\\u0438 \\u0440\\u0430\\u043c\\u043a\\u0430\\u0445 \\u043f\\u0440\\u043e\\u0435\\u043a\\u0442\\u043e\\u0432 \\u0441\\u043e\\u0437\\u0434\\u0430\\u043d\\u0438\\u044e \\u0438\\u043d\\u0442\\u0435\\u0433\\u0440\\u0430\\u0446\\u0438\\u043e\\u043d\\u043d\\u044b\\u0445 \\u0440\\u0435\\u0448\\u0435\\u043d\\u0438\\u0439 \\u0430\\u043d\\u0430\\u043b\\u0438\\u0442\\u0438\\u0447\\u0435\\u0441\\u043a\\u0438\\u0445 \\u0441\\u0438\\u0441\\u0442\\u0435\\u043c \\u0445\\u0440\\u0430\\u043d\\u0438\\u043b\\u0438\\u0449 \\u0434\\u0430\\u043d\\u043d\\u044b\\u0445; \\u041e\\u0441\\u0443\\u0449\\u0435\\u0441\\u0442\\u0432\\u043b\\u044f\\u0442\\u044c \\u0440\\u0430\\u0437\\u0440\\u0430\\u0431\\u043e\\u0442\\u043a\\u0443 \\u0441\\u0435\\u0440\\u0432\\u0438\\u0441\\u043e\\u0432 \\u0438\\u043d\\u0442\\u0435\\u0433\\u0440\\u0430\\u0446\\u0438\\u0438 \\u0443\\u043f\\u0440\\u0430\\u0432\\u043b\\u0435\\u043d\\u0438\\u044f ETL-\\u043f\\u0440\\u043e\\u0446\\u0435\\u0441\\u0441\\u0430\\u043c\\u0438 \\u0438\\u0441\\u043f\\u043e\\u043b\\u044c\\u0437\\u043e\\u0432\\u0430\\u043d\\u0438\\u0435\\u043c Apache Spark, Airflow Kafka, \\u0421\\u0423\\u0411\\u0414 Impala Clickhouse; \\u041e\\u0441\\u0443\\u0449\\u0435\\u0441\\u0442\\u0432\\u043b\\u044f\\u0442\\u044c \\u0440\\u0430\\u0437\\u0440\\u0430\\u0431\\u043e\\u0442\\u043a\\u0443 \\u043f\\u0440\\u043e\\u0432\\u0435\\u0440\\u043a\\u0443 \\u0440\\u0430\\u0431\\u043e\\u0442\\u043e\\u0441\\u043f\\u043e\\u0441\\u043e\\u0431\\u043d\\u043e\\u0441\\u0442\\u0438 \\u043f\\u0440\\u043e\\u0446\\u0435\\u0441\\u0441\\u043e\\u0432 \\u0437\\u0430\\u0433\\u0440\\u0443\\u0437\\u043a\\u0435 \\u0434\\u0430\\u043d\\u043d\\u044b\\u0445 \\u0441\\u0438\\u0441\\u0442\\u0435\\u043c-\\u0438\\u0441\\u0442\\u043e\\u0447\\u043d\\u0438\\u043a\\u043e\\u0432 \\u0441\\u043b\\u043e\\u0438 \\u0445\\u0440\\u0430\\u043d\\u0438\\u043b\\u0438\\u0449\\u0430 \\u0438\\u0441\\u043f\\u043e\\u043b\\u044c\\u0437\\u043e\\u0432\\u0430\\u043d\\u0438\\u0435\\u043c SQL, \\u0434\\u0440\\u0443\\u0433\\u0438\\u0445 \\u044f\\u0437\\u044b\\u043a\\u043e\\u0432 (pl/pgSQL \\u0442.\\u043f.) \\u0441\\u043f\\u0435\\u0446\\u0438\\u0430\\u043b\\u0438\\u0437\\u0438\\u0440\\u043e\\u0432\\u0430\\u043d\\u043d\\u044b\\u0445 \\u0441\\u0440\\u0435\\u0434\\u0441\\u0442\\u0432 \\u0440\\u0430\\u0437\\u0440\\u0430\\u0431\\u043e\\u0442\\u043a\\u0438 (\\u0440\\u0430\\u0437\\u0440\\u0430\\u0431\\u043e\\u0442\\u043a\\u0430 DAG-\\u043e\\u0432 Airflow, \\u0441\\u043a\\u0440\\u0438\\u043f\\u0442\\u043e\\u0432 Spark \\u0437\\u0430\\u043f\\u0440\\u043e\\u0441\\u043e\\u0432 Impala \\u0434\\u0440\\u0443\\u0433\\u0438\\u0445 \\u0421\\u0423\\u0411\\u0414, \\u0440\\u0430\\u0431\\u043e\\u0442\\u0430 ETL \\u0444\\u0440\\u0435\\u0439\\u043c\\u0432\\u043e\\u0440\\u043a\\u0430\\u043c\\u0438 \\u043f\\u043e\\u0442\\u043e\\u043a\\u043e\\u0432\\u044b\\u043c\\u0438 \\u0434\\u0430\\u043d\\u043d\\u044b\\u043c\\u0438 Kafka); \\u0412\\u044b\\u043f\\u043e\\u043b\\u043d\\u044f\\u0442\\u044c \\u043e\\u043f\\u0442\\u0438\\u043c\\u0438\\u0437\\u0430\\u0446\\u0438\\u044e \\u0441\\u0443\\u0449\\u0435\\u0441\\u0442\\u0432\\u0443\\u044e\\u0449\\u0435\\u0433\\u043e \\u043a\\u043e\\u0434\\u0430 ETL-\\u043f\\u0440\\u043e\\u0446\\u0435\\u0441\\u0441\\u043e\\u0432; \\u0423\\u0447\\u0430\\u0441\\u0442\\u0432\\u043e\\u0432\\u0430\\u0442\\u044c \\u0441\\u0431\\u043e\\u0440\\u043a\\u0435 \\u043f\\u043e\\u0441\\u0442\\u0430\\u0432\\u043a\\u0438 \\u0441\\u043e\\u043f\\u0440\\u043e\\u0432\\u043e\\u0436\\u0434\\u0435\\u043d\\u0438\\u0438 \\u0443\\u0441\\u0442\\u0430\\u043d\\u043e\\u0432\\u043a\\u0438 \\u043f\\u0440\\u043e\\u0434\\u0443\\u043a\\u0442\\u0438\\u0432\\u043d\\u044b\\u0439 \\u043a\\u043e\\u043d\\u0442\\u0443\\u0440; \\u0410\\u043a\\u0442\\u0438\\u0432\\u043d\\u043e \\u0443\\u0447\\u0430\\u0441\\u0442\\u0432\\u043e\\u0432\\u0430\\u0442\\u044c \\u043e\\u0440\\u0433\\u0430\\u043d\\u0438\\u0437\\u0430\\u0446\\u0438\\u0438 \\u043f\\u0440\\u043e\\u0446\\u0435\\u0441\\u0441\\u043e\\u0432 \\u0442\\u0435\\u0441\\u0442\\u0438\\u0440\\u043e\\u0432\\u0430\\u043d\\u0438\\u044f, \\u0430\\u0432\\u0442\\u043e\\u043c\\u0430\\u0442\\u0438\\u0437\\u0430\\u0446\\u0438\\u0438 \\u0440\\u0430\\u0437\\u0440\\u0430\\u0431\\u043e\\u0442\\u043a\\u0438, \\u0434\\u043e\\u043a\\u0443\\u043c\\u0435\\u043d\\u0442\\u0438\\u0440\\u043e\\u0432\\u0430\\u043d\\u0438\\u0438 \\u043a\\u043e\\u0434\\u0430; \\u0410\\u043a\\u0442\\u0438\\u0432\\u043d\\u043e \\u0443\\u0447\\u0430\\u0441\\u0442\\u0432\\u043e\\u0432\\u0430\\u0442\\u044c \\u0440\\u0430\\u0441\\u043f\\u0440\\u043e\\u0441\\u0442\\u0440\\u0430\\u043d\\u0435\\u043d\\u0438\\u0438 \\u0437\\u043d\\u0430\\u043d\\u0438\\u0439 \\u0445\\u043e\\u0440\\u043e\\u0448\\u0438\\u0445 \\u043f\\u0440\\u0430\\u043a\\u0442\\u0438\\u043a. \\u0422\\u0440\\u0435\\u0431\\u043e\\u0432\\u0430\\u043d\\u0438\\u044f: \\u041e\\u043f\\u044b\\u0442 \\u0440\\u0430\\u0437\\u0440\\u0430\\u0431\\u043e\\u0442\\u043a\\u0438 Python; \\u041e\\u043f\\u044b\\u0442 \\u043f\\u0440\\u043e\\u0435\\u043a\\u0442\\u0438\\u0440\\u043e\\u0432\\u0430\\u043d\\u0438\\u044f \\u0440\\u0430\\u0437\\u0440\\u0430\\u0431\\u043e\\u0442\\u043a\\u0438 ETL-\\u043f\\u0440\\u043e\\u0446\\u0435\\u0441\\u0441\\u043e\\u0432; \\u041e\\u043f\\u044b\\u0442 \\u0440\\u0430\\u0431\\u043e\\u0442\\u044b \\u0438\\u043d\\u0442\\u0435\\u0440\\u0444\\u0435\\u0439\\u0441\\u0430\\u043c\\u0438 \\u0432\\u0437\\u0430\\u0438\\u043c\\u043e\\u0434\\u0435\\u0439\\u0441\\u0442\\u0432\\u0438\\u044f: REST API, SOAP; \\u0417\\u043d\\u0430\\u043d\\u0438\\u0435 \\u043e\\u0441\\u043d\\u043e\\u0432\\u043d\\u044b\\u0445 \\u0430\\u043b\\u0433\\u043e\\u0440\\u0438\\u0442\\u043c\\u043e\\u0432, \\u0441\\u0442\\u0440\\u0443\\u043a\\u0442\\u0443\\u0440 \\u0434\\u0430\\u043d\\u043d\\u044b\\u0445 \\u043e\\u0441\\u043d\\u043e\\u0432\\u043d\\u044b\\u0445 \\u043f\\u0430\\u0442\\u0442\\u0435\\u0440\\u043d\\u043e\\u0432 \\u043f\\u0440\\u043e\\u0435\\u043a\\u0442\\u0438\\u0440\\u043e\\u0432\\u0430\\u043d\\u0438\\u044f \\u043f\\u0440\\u0438\\u043b\\u043e\\u0436\\u0435\\u043d\\u0438\\u0439; \\u0423\\u043c\\u0435\\u043d\\u0438\\u0435 \\u0447\\u0438\\u0442\\u0430\\u0442\\u044c \\u043f\\u043e\\u043d\\u0438\\u043c\\u0430\\u0442\\u044c \\u0434\\u043e\\u043a\\u0443\\u043c\\u0435\\u043d\\u0442\\u0430\\u0446\\u0438\\u044e, \\u0440\\u0430\\u0437\\u0440\\u0430\\u0431\\u0430\\u0442\\u044b\\u0432\\u0430\\u0442\\u044c \\u043f\\u0440\\u0438\\u043b\\u043e\\u0436\\u0435\\u043d\\u0438\\u044f \\u043e\\u0441\\u043d\\u043e\\u0432\\u0430\\u043d\\u0438\\u0438 \\u0434\\u043e\\u043a\\u0443\\u043c\\u0435\\u043d\\u0442\\u0430\\u0446\\u0438\\u0438; \\u041e\\u043f\\u044b\\u0442 \\u0440\\u0430\\u0437\\u0440\\u0430\\u0431\\u043e\\u0442\\u043a\\u0438 Airflow, \\u0433\\u043b\\u0443\\u0431\\u043e\\u043a\\u043e\\u0435 \\u043f\\u043e\\u043d\\u0438\\u043c\\u0430\\u043d\\u0438\\u0435 \\u043f\\u0440\\u0438\\u043d\\u0446\\u0438\\u043f\\u043e\\u0432 \\u0440\\u0430\\u0437\\u0440\\u0430\\u0431\\u043e\\u0442\\u043a\\u0438 DAG-\\u043e\\u0432; \\u041e\\u043f\\u044b\\u0442 \\u0440\\u0430\\u0431\\u043e\\u0442\\u044b \\u0431\\u0440\\u043e\\u043a\\u0435\\u0440\\u0430\\u043c\\u0438 \\u0441\\u043e\\u043e\\u0431\\u0449\\u0435\\u043d\\u0438\\u0439: RabbitMQ, Kafka; \\u0417\\u043d\\u0430\\u043d\\u0438\\u0435 SQL \\u0438\\u043d\\u0444\\u0440\\u0430\\u0441\\u0442\\u0440\\u0443\\u043a\\u0442\\u0443\\u0440\\u044b Hadoop, \\u043f\\u043e\\u043d\\u0438\\u043c\\u0430\\u043d\\u0438\\u0435 \\u043e\\u0441\\u043e\\u0431\\u0435\\u043d\\u043d\\u043e\\u0441\\u0442\\u0435\\u0439 \\u0440\\u0430\\u0431\\u043e\\u0442\\u044b; \\u041e\\u043f\\u044b\\u0442 \\u0440\\u0430\\u0431\\u043e\\u0442\\u044b \\u043a\\u0430\\u043a\\u0438\\u043c-\\u043b\\u0438\\u0431\\u043e \\u0434\\u0438\\u0441\\u0442\\u0440\\u0438\\u0431\\u0443\\u0442\\u0438\\u0432\\u043e\\u043c Hadoop (Cloudera, Arenadata, Hortonworks, Apache \\u0442.\\u043f.); \\u041e\\u043f\\u044b\\u0442 \\u0440\\u0430\\u0437\\u0440\\u0430\\u0431\\u043e\\u0442\\u043a\\u0438 \\u043f\\u0440\\u0438\\u043b\\u043e\\u0436\\u0435\\u043d\\u0438\\u0439 Spark; \\u0423\\u043c\\u0435\\u043d\\u0438\\u0435 \\u0440\\u0430\\u0431\\u043e\\u0442\\u0430\\u0442\\u044c \\u0441\\u0438\\u0441\\u0442\\u0435\\u043c\\u0430\\u043c\\u0438 \\u043a\\u043e\\u043d\\u0442\\u0440\\u043e\\u043b\\u044f \\u0432\\u0435\\u0440\\u0441\\u0438\\u0439 git; \\u041e\\u043f\\u044b\\u0442 \\u0440\\u0430\\u0431\\u043e\\u0442\\u044b \\u041e\\u0421 \\u0441\\u0435\\u043c\\u0435\\u0439\\u0441\\u0442\\u0432\\u0430 UNIX: RHEL, Ubuntu; \\u041e\\u0431\\u0449\\u0435\\u0435 \\u043f\\u043e\\u043d\\u0438\\u043c\\u0430\\u043d\\u0438\\u0435 \\u0440\\u0430\\u0431\\u043e\\u0442\\u044b \\u0441\\u0435\\u0442\\u0435\\u0432\\u044b\\u0445 \\u043f\\u0440\\u043e\\u0442\\u043e\\u043a\\u043e\\u043b\\u043e\\u0432: TCP/IP, UDP, SSH, FTP, SMTP, IMAP \\u043f\\u043b\\u044e\\u0441\\u043e\\u043c: \\u041f\\u043e\\u043d\\u0438\\u043c\\u0430\\u043d\\u0438\\u0435 \\u043e\\u0441\\u043e\\u0431\\u0435\\u043d\\u043d\\u043e\\u0441\\u0442\\u0435\\u0439 \\u044d\\u043a\\u043e\\u0441\\u0438\\u0441\\u0442\\u0435\\u043c\\u044b Hadoop; \\u041f\\u043e\\u043d\\u0438\\u043c\\u0430\\u043d\\u0438\\u0435 \\u043f\\u043e\\u0434\\u0445\\u043e\\u0434\\u043e\\u0432 \\u043e\\u043f\\u0442\\u0438\\u043c\\u0438\\u0437\\u0430\\u0446\\u0438\\u0438 \\u043f\\u0440\\u043e\\u0438\\u0437\\u0432\\u043e\\u0434\\u0438\\u0442\\u0435\\u043b\\u044c\\u043d\\u043e\\u0441\\u0442\\u0438 Python Spark \\u043f\\u0440\\u0438\\u043b\\u043e\\u0436\\u0435\\u043d\\u0438\\u0439; \\u041e\\u043f\\u044b\\u0442 \\u043d\\u0430\\u043f\\u0438\\u0441\\u0430\\u043d\\u0438\\u044f \\u043c\\u043d\\u043e\\u0433\\u043e\\u043f\\u043e\\u0442\\u043e\\u0447\\u043d\\u044b\\u0445 \\u043f\\u0440\\u0438\\u043b\\u043e\\u0436\\u0435\\u043d\\u0438\\u0439 Python. \\u0441\\u043e\\u0437\\u0434\\u0430\\u0434\\u0438\\u043c \\u043a\\u043e\\u043c\\u0444\\u043e\\u0440\\u0442\\u043d\\u044b\\u0435 \\u0443\\u0441\\u043b\\u043e\\u0432\\u0438\\u044f \\u0440\\u0430\\u0431\\u043e\\u0442\\u044b: \\u0433\\u0438\\u0431\\u043a\\u0438\\u0439 \\u0433\\u0440\\u0430\\u0444\\u0438\\u043a \\u0440\\u0430\\u0431\\u043e\\u0442\\u044b \\u2014 \\u043e\\u0444\\u0438\\u0441\\u0435, \\u0443\\u0434\\u0430\\u043b\\u0435\\u043d\\u043d\\u043e \\u0433\\u0438\\u0431\\u0440\\u0438\\u0434\\u043d\\u043e\\u043c \\u0444\\u043e\\u0440\\u043c\\u0430\\u0442\\u0435 \\u043f\\u043e\\u0434\\u0434\\u0435\\u0440\\u0436\\u043a\\u0430 \\u043d\\u043e\\u0432\\u0438\\u0447\\u043a\\u043e\\u0432 \\u043f\\u0440\\u043e\\u0433\\u0440\\u0430\\u043c\\u043c\\u0435 \\u043d\\u0430\\u0441\\u0442\\u0430\\u0432\\u043d\\u0438\\u0447\\u0435\\u0441\\u0442\\u0432\\u0430 Buddy \\u0414\\u041c\\u0421 \\u0432\\u043e\\u0437\\u043c\\u043e\\u0436\\u043d\\u043e\\u0441\\u0442\\u044c\\u044e \\u043f\\u043e\\u0434\\u043a\\u043b\\u044e\\u0447\\u0435\\u043d\\u0438\\u044f \\u0431\\u043b\\u0438\\u0437\\u043a\\u0438\\u0445 \\u0440\\u043e\\u0434\\u0441\\u0442\\u0432\\u0435\\u043d\\u043d\\u0438\\u043a\\u043e\\u0432 \\u0441\\u0435\\u0440\\u0432\\u0438\\u0441 \\u043f\\u0441\\u0438\\u0445\\u043e\\u043b\\u043e\\u0433\\u0438\\u0447\\u0435\\u0441\\u043a\\u043e\\u0439 \\u043f\\u043e\\u0434\\u0434\\u0435\\u0440\\u0436\\u043a\\u0438, \\u043d\\u0430\\u043c \\u043e\\u0447\\u0435\\u043d\\u044c \\u0432\\u0430\\u0436\\u043d\\u043e, \\u0447\\u0443\\u0432\\u0441\\u0442\\u0432\\u0443\\u0435\\u0448\\u044c \\u043a\\u043e\\u0440\\u043f\\u043e\\u0440\\u0430\\u0442\\u0438\\u0432\\u043d\\u044b\\u0439 \\u043a\\u0430\\u0444\\u0435\\u0442\\u0435\\u0440\\u0438\\u0439 \\u043b\\u044c\\u0433\\u043e\\u0442 \\u0432\\u043e\\u0437\\u043c\\u043e\\u0436\\u043d\\u043e\\u0441\\u0442\\u044c\\u044e \\u043a\\u043e\\u043c\\u043f\\u0435\\u043d\\u0441\\u0430\\u0446\\u0438\\u0438 \\u0431\\u0438\\u043b\\u0435\\u0442\\u043e\\u0432 \\u043e\\u0442\\u0435\\u043b\\u0435\\u0439 \\u043e\\u0442\\u043f\\u0443\\u0441\\u043a\\u0435, \\u0430\\u0431\\u043e\\u043d\\u0435\\u043c\\u0435\\u043d\\u0442\\u043e\\u0432 \\u0441\\u043f\\u043e\\u0440\\u0442\\u0437\\u0430\\u043b, \\u0441\\u043f\\u043e\\u0440\\u0442\\u0438\\u043d\\u0432\\u0435\\u043d\\u0442\\u0430\\u0440\\u044f, \\u0431\\u0438\\u043b\\u0435\\u0442\\u043e\\u0432 \\u0442\\u0435\\u0430\\u0442\\u0440 \\u043c\\u043d\\u043e\\u0433\\u043e\\u0433\\u043e \\u0434\\u0440\\u0443\\u0433\\u043e\\u0433\\u043e \\u043d\\u0430\\u0441\\u044b\\u0449\\u0435\\u043d\\u043d\\u0430\\u044f \\u0438\\u043d\\u043d\\u043e\\u0436\\u0438\\u0437\\u043d\\u044c: \\u043b\\u0435\\u043a\\u0446\\u0438\\u0438 \\u043c\\u0430\\u0441\\u0442\\u0435\\u0440-\\u043a\\u043b\\u0430\\u0441\\u0441\\u044b \\u0438\\u0437\\u0432\\u0435\\u0441\\u0442\\u043d\\u044b\\u0445 \\u0441\\u043f\\u0438\\u043a\\u0435\\u0440\\u043e\\u0432, \\u0442\\u0438\\u043c\\u0431\\u0438\\u043b\\u0434\\u0438\\u043d\\u0433\\u0438, \\u043a\\u043e\\u0440\\u043f\\u043e\\u0440\\u0430\\u0442\\u0438\\u0432\\u043d\\u0430\\u044f \\u0431\\u0438\\u0431\\u043b\\u0438\\u043e\\u0442\\u0435\\u043a\\u0430 \\u043c\\u043d\\u043e\\u0433\\u043e\\u0435 \\u0434\\u0440\\u0443\\u0433\\u043e\\u0435 \\u0441\\u043a\\u0438\\u0434\\u043a\\u0438 \\u043a\\u0443\\u043f\\u043e\\u043d\\u044b \\u0441\\u043e\\u0442\\u0435\\u043d \\u043a\\u043e\\u043c\\u043f\\u0430\\u043d\\u0438\\u0439-\\u043f\\u0430\\u0440\\u0442\\u043d\\u0451\\u0440\\u043e\\u0432 \\u0435\\u0434\\u0438\\u043d\\u043e\\u0439 \\u043f\\u043b\\u0430\\u0442\\u0444\\u043e\\u0440\\u043c\\u0435 \\u043c\\u0430\\u0440\\u043a\\u0435\\u0442\\u043f\\u043b\\u0435\\u0439\\u0441 \\u043c\\u0435\\u0440\\u0447\\u0430 \\u0441\\u043e\\u0431\\u0441\\u0442\\u0432\\u0435\\u043d\\u043d\\u043e\\u0439 \\u043a\\u043e\\u0440\\u043f\\u043e\\u0440\\u0430\\u0442\\u0438\\u0432\\u043d\\u043e\\u0439 \\u0432\\u0430\\u043b\\u044e\\u0442\\u043e\\u0439, \\u043a\\u043e\\u0442\\u043e\\u0440\\u0430\\u044f \\u043d\\u0430\\u0447\\u0438\\u0441\\u043b\\u044f\\u0435\\u0442\\u0441\\u044f \\u0443\\u0447\\u0430\\u0441\\u0442\\u0438\\u0435 \\u0430\\u043a\\u0442\\u0438\\u0432\\u043d\\u043e\\u0441\\u0442\\u044f\\u0445 \\u0434\\u043e\\u043f\\u043e\\u043b\\u043d\\u0438\\u0442\\u0435\\u043b\\u044c\\u043d\\u044b\\u0435 \\u0432\\u044b\\u0445\\u043e\\u0434\\u043d\\u044b\\u0435 \\u0434\\u043d\\u0438 \\u0440\\u0430\\u0434\\u043e\\u0441\\u0442\\u043d\\u044b\\u0445 (\\u0438 \\u0442\\u043e\\u043b\\u044c\\u043a\\u043e) \\u0441\\u043e\\u0431\\u044b\\u0442\\u0438\\u0439 \\u0434\\u043e\\u043f\\u043e\\u043b\\u043d\\u0438\\u0442\\u0435\\u043b\\u044c\\u043d\\u044b\\u0439 \\u043e\\u043f\\u043b\\u0430\\u0447\\u0438\\u0432\\u0430\\u0435\\u043c\\u044b\\u0439 \\u043e\\u0442\\u043f\\u0443\\u0441\\u043a (3 \\u043a\\u0430\\u043b\\u0435\\u043d\\u0434\\u0430\\u0440\\u043d\\u044b\\u0445 \\u0434\\u043d\\u044f) \\u0448\\u0438\\u0440\\u043e\\u043a\\u0438\\u0435 \\u0432\\u043e\\u0437\\u043c\\u043e\\u0436\\u043d\\u043e\\u0441\\u0442\\u0438 \\u0432\\u043d\\u0443\\u0442\\u0440\\u0435\\u043d\\u043d\\u0435\\u0433\\u043e \\u0432\\u043d\\u0435\\u0448\\u043d\\u0435\\u0433\\u043e \\u043e\\u0431\\u0443\\u0447\\u0435\\u043d\\u0438\\u044f \\u043d\\u0435\\u043e\\u0431\\u0445\\u043e\\u0434\\u0438\\u043c\\u0430\\u044f \\u0442\\u0435\\u0445\\u043d\\u0438\\u043a\\u0430 \\u0441\\u043e\\u0444\\u0442 \\u0440\\u0430\\u0431\\u043e\\u0442\\u044b \\u043a\\u043e\\u043d\\u043a\\u0443\\u0440\\u0435\\u043d\\u0442\\u043d\\u0430\\u044f \\u0437\\u0430\\u0440\\u043f\\u043b\\u0430\\u0442\\u0430 \\u0438\\u0442\\u043e\\u0433\\u0430\\u043c \\u0438\\u043d\\u0442\\u0435\\u0440\\u0432\\u044c\\u044e, \\u043d\\u0430\\u043b\\u0438\\u0447\\u0438\\u0435 \\u043f\\u0440\\u0435\\u043c\\u0438\\u0430\\u043b\\u044c\\u043d\\u043e\\u0439 \\u0441\\u043e\\u0441\\u0442\\u0430\\u0432\\u043b\\u044f\\u044e\\u0449\\u0435\\u0439 \\u044d\\u043a\\u0441\\u043a\\u043b\\u044e\\u0437\\u0438\\u0432\\u043d\\u044b\\u0439 \\u0437\\u0430\\u0440\\u043f\\u043b\\u0430\\u0442\\u043d\\u044b\\u0439 \\u043f\\u0440\\u043e\\u0435\\u043a\\u0442 \\u0441\\u043e\\u0442\\u0440\\u0443\\u0434\\u043d\\u0438\\u043a\\u043e\\u0432 \\u0431\\u0430\\u043d\\u043a\\u0435 \\u0412\\u043c\\u0435\\u0441\\u0442\\u0435 \\u043d\\u0430\\u043c\\u0438 \\u0441\\u043c\\u043e\\u0436\\u0435\\u0448\\u044c \\u0440\\u0435\\u0448\\u0430\\u0442\\u044c \\u0438\\u043d\\u0442\\u0435\\u0440\\u0435\\u0441\\u043d\\u044b\\u0435 \\u0437\\u0430\\u0434\\u0430\\u0447\\u0438, \\u043f\\u0440\\u043e\\u0444\\u0435\\u0441\\u0441\\u0438\\u043e\\u043d\\u0430\\u043b\\u044c\\u043d\\u043e \\u0440\\u0430\\u0441\\u0442\\u0438 \\u0440\\u0430\\u0437\\u0432\\u0438\\u0432\\u0430\\u0442\\u044c\\u0441\\u044f, \\u0442\\u0430\\u043a\\u0436\\u0435 \\u0443\\u0447\\u0430\\u0441\\u0442\\u0432\\u043e\\u0432\\u0430\\u0442\\u044c \\u043a\\u0440\\u043e\\u0441\\u0441-\\u043a\\u043e\\u043c\\u0430\\u043d\\u0434\\u043d\\u044b\\u0445 \\u043f\\u0440\\u043e\\u0435\\u043a\\u0442\\u0430\\u0445 \\u043e\\u043f\\u0440\\u0435\\u0434\\u0435\\u043b\\u044f\\u0442\\u044c \\u0441\\u043e\\u0431\\u0441\\u0442\\u0432\\u0435\\u043d\\u043d\\u0443\\u044e \\u0442\\u0440\\u0430\\u0435\\u043a\\u0442\\u043e\\u0440\\u0438\\u044e \\u0440\\u0430\\u0437\\u0432\\u0438\\u0442\\u0438\\u044f.\"\n        ],\n        \"semantic_type\": \"\",\n        \"description\": \"\"\n      }\n    },\n    {\n      \"column\": \"vacancy_comment\",\n      \"properties\": {\n        \"dtype\": \"category\",\n        \"num_unique_values\": 5,\n        \"samples\": [\n          \"350 000 - 400 000 \\u0433\\u0440\\u043e\\u0441\\u0441\",\n          \"\\u0441\\u043c\\u043e\\u0442\\u0440\\u0438\\u043c \\u0434\\u043e 500 net \\u043e\\u043a\\u043b\\u0430\\u0434\\u043e\\u043c + perf review \\u043a\\u0430\\u0436\\u0434\\u044b\\u0435 6 \\u043c\\u0435\\u0441. (1,5-2 \\u043e\\u043a\\u043b\\u0430\\u0434\\u0430 \\u043f\\u043e\\u0441\\u043b\\u0435 \\u0440\\u0435\\u0432\\u044c\\u044e \\u043f\\u0440\\u0435\\u043c\\u0438\\u044e/ 1,5 \\u0434\\u043b\\u044f senior, 2 \\u0434\\u043b\\u044f lead)\"\n        ],\n        \"semantic_type\": \"\",\n        \"description\": \"\"\n      }\n    },\n    {\n      \"column\": \"resume_work_exp\",\n      \"properties\": {\n        \"dtype\": \"string\",\n        \"num_unique_values\": 656,\n        \"samples\": [\n          \"\\u0420\\u0430\\u0431\\u043e\\u0442\\u043e\\u0434\\u0430\\u0442\\u0435\\u043b\\u044c: \\u041e\\u0410\\u041e \\u041b\\u0435\\u043d\\u0413\\u043b\\u0430\\u0432\\u0422\\u044f\\u0436 \\u0413\\u043e\\u0440\\u043e\\u0434: \\u041e\\u0440\\u0435\\u0445\\u043e\\u0432\\u043e-\\u0417\\u0443\\u0435\\u0432\\u043e \\u041f\\u0440\\u043e\\u0444\\u0435\\u0441\\u0441\\u0438\\u044f: \\u0412\\u0435\\u0434\\u0443\\u0449\\u0438\\u0439 \\u0441\\u0438\\u0441\\u0442\\u0435\\u043c\\u043d\\u044b\\u0439 \\u0430\\u043d\\u0430\\u043b\\u0438\\u0442\\u0438\\u043a \\u041e\\u043f\\u0438\\u0441\\u0430\\u043d\\u0438\\u0435: \\u0410\\u043d\\u0430\\u043b\\u0438\\u0437 \\u0442\\u0440\\u0435\\u0431\\u043e\\u0432\\u0430\\u043d\\u0438\\u0439, \\u043d\\u0430\\u043f\\u0438\\u0441\\u0430\\u043d\\u0438\\u0435 \\u0422\\u0417, \\u0434\\u043e\\u043a\\u0443\\u043c\\u0435\\u043d\\u0442\\u0438\\u0440\\u043e\\u0432\\u0430\\u043d\\u0438\\u0435 \\u0442\\u0440\\u0435\\u0431\\u043e\\u0432\\u0430\\u043d\\u0438\\u0439, \\u0443\\u0447\\u0430\\u0441\\u0442\\u0438\\u0435 \\u0440\\u0430\\u0437\\u0440\\u0430\\u0431\\u043e\\u0442\\u043a\\u0435 \\u0430\\u0440\\u0445\\u0438\\u0442\\u0435\\u043a\\u0442\\u0443\\u0440\\u044b \\u043f\\u0440\\u0438\\u043b\\u043e\\u0436\\u0435\\u043d\\u0438\\u0439 \\u043f\\u0440\\u043e\\u0434\\u0443\\u043a\\u0442\\u043e\\u0432; \\u0421\\u043b\\u0435\\u0434\\u0443\\u044e\\u0449\\u0430\\u044f \\u0440\\u0430\\u0431\\u043e\\u0442\\u0430: \\u0420\\u0430\\u0431\\u043e\\u0442\\u043e\\u0434\\u0430\\u0442\\u0435\\u043b\\u044c: \\u041e\\u041e\\u041e \\u041a\\u043e\\u043c\\u043f\\u0430\\u043d\\u0438\\u044f \\u041b\\u0435\\u043d \\u0413\\u043e\\u0440\\u043e\\u0434: \\u041a\\u0440\\u0430\\u0441\\u043d\\u043e\\u0433\\u043e\\u0440\\u0441\\u043a \\u041f\\u0440\\u043e\\u0444\\u0435\\u0441\\u0441\\u0438\\u044f: \\u0421\\u0438\\u0441\\u0442\\u0435\\u043c\\u043d\\u044b\\u0439 \\u0430\\u043d\\u0430\\u043b\\u0438\\u0442\\u0438\\u043a \\u041e\\u043f\\u0438\\u0441\\u0430\\u043d\\u0438\\u0435: \\u041f\\u043e\\u043b\\u0442\\u043e\\u0440\\u0430 \\u0433\\u043e\\u0434\\u0430 \\u0440\\u0430\\u0431\\u043e\\u0442\\u0430\\u043b \\u0441\\u0438\\u0441\\u0442\\u0435\\u043c\\u043d\\u044b\\u0439 \\u0430\\u043d\\u0430\\u043b\\u0438\\u0442\\u0438\\u043a \\u043f\\u0440\\u043e\\u0435\\u043a\\u0442\\u0435 \\u0440\\u0430\\u0437\\u0440\\u0430\\u0431\\u043e\\u0442\\u043a\\u0438 \\u043d\\u043e\\u0432\\u043e\\u0433\\u043e \\u0441\\u0430\\u0439\\u0442\\u0430 sportmaster.ru v.3 (\\u0442\\u0435\\u043a\\u0443\\u0449\\u0438\\u0439 \\u0441\\u0430\\u0439\\u0442). \\u0417\\u0430\\u043d\\u0438\\u043c\\u0430\\u043b\\u0441\\u044f \\u043f\\u0440\\u043e\\u0435\\u043a\\u0442\\u0438\\u0440\\u043e\\u0432\\u0430\\u043d\\u0438\\u0435\\u043c \\u0438\\u043d\\u0442\\u0435\\u0433\\u0440\\u0430\\u0446\\u0438\\u0439 \\u0432\\u043d\\u0435\\u0448\\u043d\\u0438\\u043c\\u0438 \\u0441\\u0438\\u0441\\u0442\\u0435\\u043c\\u0430\\u043c\\u0438. \\u0423\\u0447\\u0430\\u0441\\u0442\\u0432\\u043e\\u0432\\u0430\\u043b \\u043f\\u0440\\u043e\\u0440\\u0430\\u0431\\u043e\\u0442\\u043a\\u0435 \\u043f\\u0435\\u0440\\u0432\\u0438\\u0447\\u043d\\u043e\\u0439 \\u0440\\u0435\\u0430\\u043b\\u0438\\u0437\\u0430\\u0446\\u0438\\u0438 \\u0444\\u0443\\u043d\\u043a\\u0446\\u0438\\u043e\\u043d\\u0430\\u043b\\u0430 \\u041b\\u041a, \\u0441\\u0438\\u0441\\u0442\\u0435\\u043c\\u044b \\u043e\\u043f\\u043b\\u0430\\u0442\\u044b \\u0437\\u0430\\u043a\\u0430\\u0437\\u043e\\u0432, \\u0441\\u0431\\u043e\\u0440\\u0435 \\u043f\\u043e\\u043b\\u044c\\u0437\\u043e\\u0432\\u0430\\u0442\\u0435\\u043b\\u044c\\u0441\\u043a\\u0438\\u0445 \\u0441\\u043e\\u0431\\u044b\\u0442\\u0438\\u0439 \\u0434\\u0440\\u0443\\u0433\\u0438\\u0445 \\u043a\\u043e\\u043d\\u0442\\u0435\\u043a\\u0441\\u0442\\u043e\\u0432 \\u043d\\u043e\\u0432\\u043e\\u0433\\u043e \\u0441\\u0430\\u0439\\u0442\\u0430.; \\u0421\\u043b\\u0435\\u0434\\u0443\\u044e\\u0449\\u0430\\u044f \\u0440\\u0430\\u0431\\u043e\\u0442\\u0430: \\u0420\\u0430\\u0431\\u043e\\u0442\\u043e\\u0434\\u0430\\u0442\\u0435\\u043b\\u044c: \\u041e\\u041e\\u041e \\u041a\\u043e\\u043c\\u043f\\u0430\\u043d\\u0438\\u044f \\u041c\\u0438\\u043a\\u0440\\u043e\\u041e\\u0440\\u0438\\u043e\\u043d\\u0421\\u0430\\u043d\\u0442\\u0435\\u0445\\u0411\\u0430\\u043d\\u043a \\u0413\\u043e\\u0440\\u043e\\u0434: \\u041d\\u043e\\u0433\\u0438\\u043d\\u0441\\u043a \\u041f\\u0440\\u043e\\u0444\\u0435\\u0441\\u0441\\u0438\\u044f: \\u0413\\u043b\\u0430\\u0432\\u043d\\u044b\\u0439 \\u0438\\u043d\\u0436\\u0435\\u043d\\u0435\\u0440, \\u0433\\u043b\\u0430\\u0432\\u043d\\u044b\\u0439 \\u0441\\u043f\\u0435\\u0446\\u0438\\u0430\\u043b\\u0438\\u0441\\u0442 \\u041f\\u0440\\u043e\\u0446\\u0435\\u0441\\u0441\\u0438\\u043d\\u0433\\u043e\\u0432\\u043e\\u0433\\u043e \\u0446\\u0435\\u043d\\u0442\\u0440\\u0430 \\u041e\\u043f\\u0438\\u0441\\u0430\\u043d\\u0438\\u0435: * \\u0412\\u043d\\u0435\\u0434\\u0440\\u0435\\u043d\\u0438\\u0435 \\u043f\\u043e\\u0434\\u0434\\u0435\\u0440\\u0436\\u043a\\u0430 \\u043d\\u043e\\u0432\\u044b\\u0445 IT-\\u043f\\u0440\\u043e\\u0435\\u043a\\u0442\\u043e\\u0432 \\u0411\\u0430\\u043d\\u043a\\u0430 (\\u043c\\u043e\\u0431\\u0438\\u043b\\u044c\\u043d\\u043e\\u0435 \\u043f\\u0440\\u0438\\u043b\\u043e\\u0436\\u0435\\u043d\\u0438\\u0435, \\u0431\\u0435\\u0437\\u043e\\u043f\\u0430\\u0441\\u043d\\u043e\\u0441\\u0442\\u044c \\u043f\\u043b\\u0430\\u0442\\u0435\\u0436\\u0435\\u0439 3-D Secure, \\u0442\\u043e\\u043a\\u0435\\u043d\\u0438\\u0437\\u0430\\u0446\\u0438\\u044f \\u043f\\u043b\\u0430\\u0442\\u0435\\u0436\\u043d\\u044b\\u0445 \\u043a\\u0430\\u0440\\u0442); * \\u0410\\u0434\\u043c\\u0438\\u043d\\u0438\\u0441\\u0442\\u0440\\u0438\\u0440\\u043e\\u0432\\u0430\\u043d\\u0438\\u0435 \\u0444\\u0440\\u043e\\u043d\\u0442\\u0430\\u043b\\u044c\\u043d\\u043e\\u0439 \\u0430\\u0432\\u0442\\u043e\\u0440\\u0438\\u0437\\u0430\\u0446\\u0438\\u043e\\u043d\\u043d\\u043e\\u0439 \\u043f\\u0440\\u043e\\u0446\\u0435\\u0441\\u0441\\u0438\\u043d\\u0433\\u043e\\u0432\\u043e\\u0439 \\u0441\\u0438\\u0441\\u0442\\u0435\\u043c\\u044b \\u0411\\u0430\\u043d\\u043a\\u0430 (\\u043e\\u0431\\u043d\\u043e\\u0432\\u043b\\u0435\\u043d\\u0438\\u0435 \\u043f\\u0440\\u0438\\u043a\\u043b\\u0430\\u0434\\u043d\\u043e\\u0433\\u043e \\u041f\\u041e, \\u043d\\u0430\\u0441\\u0442\\u0440\\u043e\\u0439\\u043a\\u0430 \\u043f\\u0440\\u0430\\u0432\\u0438\\u043b \\u043c\\u0430\\u0440\\u0448\\u0440\\u0443\\u0442\\u0438\\u0437\\u0430\\u0446\\u0438\\u0438 \\u0430\\u0432\\u0442\\u043e\\u0440\\u0438\\u0437\\u0430\\u0446\\u0438\\u0438 \\u0431\\u0430\\u043d\\u043a\\u043e\\u0432\\u0441\\u043a\\u0438\\u0445 \\u0442\\u0440\\u0430\\u043d\\u0437\\u0430\\u043a\\u0446\\u0438\\u0439, \\u0443\\u043f\\u0440\\u0430\\u0432\\u043b\\u0435\\u043d\\u0438\\u0435 \\u043b\\u043e\\u0433\\u0438\\u043a\\u043e\\u0439 \\u043f\\u0440\\u043e\\u0446\\u0435\\u0441\\u0441\\u0438\\u043d\\u0433\\u0430 \\u043f\\u043e\\u043c\\u043e\\u0449\\u0438 \\u0432\\u0441\\u0442\\u0440\\u043e\\u0435\\u043d\\u043d\\u043e\\u0433\\u043e API (\\u043d\\u0430 \\u0431\\u0430\\u0437\\u0435 SQL), \\u0440\\u0430\\u0431\\u043e\\u0442\\u0430 \\u0433\\u0435\\u043d\\u0435\\u0440\\u0430\\u0446\\u0438\\u0435\\u0439 \\u043a\\u0440\\u0438\\u043f\\u0442\\u043e\\u043a\\u043b\\u044e\\u0447\\u0435\\u0439, \\u0440\\u0435\\u0448\\u0435\\u043d\\u0438\\u0435 \\u043f\\u0440\\u043e\\u0431\\u043b\\u0435\\u043c, \\u0432\\u043e\\u0437\\u043d\\u0438\\u043a\\u0430\\u044e\\u0449\\u0438\\u0445 \\u043a\\u043b\\u0438\\u0435\\u043d\\u0442\\u043e\\u0432, \\u0440\\u0430\\u0431\\u043e\\u0442\\u0430 \\u0411\\u0414 Oracle, \\u043d\\u0430\\u043f\\u0438\\u0441\\u0430\\u043d\\u0438\\u0435 \\u043f\\u0440\\u043e\\u0441\\u0442\\u044b\\u0445 \\u0437\\u0430\\u043f\\u0440\\u043e\\u0441\\u043e\\u0432 PL/SQL Developer); * \\u0420\\u0430\\u0437\\u0440\\u0430\\u0431\\u043e\\u0442\\u043a\\u0430 \\u0432\\u043d\\u0443\\u0442\\u0440\\u0435\\u043d\\u043d\\u0435\\u0439 \\u043d\\u043e\\u0440\\u043c\\u0430\\u0442\\u0438\\u0432\\u043d\\u043e\\u0439 \\u0434\\u043e\\u043a\\u0443\\u043c\\u0435\\u043d\\u0442\\u0430\\u0446\\u0438\\u0438 (\\u0441\\u0445\\u0435\\u043c\\u044b \\u0430\\u043b\\u0433\\u043e\\u0440\\u0438\\u0442\\u043c\\u044b \\u0431\\u0438\\u0437\\u043d\\u0435\\u0441-\\u043f\\u0440\\u043e\\u0446\\u0435\\u0441\\u0441\\u043e\\u0432, \\u043f\\u043e\\u043b\\u043e\\u0436\\u0435\\u043d\\u0438\\u044f, \\u043f\\u0440\\u0438\\u043a\\u0430\\u0437\\u044b, \\u0438\\u043d\\u0441\\u0442\\u0440\\u0443\\u043a\\u0446\\u0438\\u0438); * \\u041e\\u0431\\u0441\\u043b\\u0443\\u0436\\u0438\\u0432\\u0430\\u043d\\u0438\\u0435 \\u044d\\u043c\\u0438\\u0441\\u0441\\u0438\\u0438 \\u043f\\u043b\\u0430\\u0441\\u0442\\u0438\\u043a\\u043e\\u0432\\u044b\\u0445 \\u043a\\u0430\\u0440\\u0442. \\u041d\\u0430\\u0441\\u0442\\u0440\\u043e\\u0439\\u043a\\u0430 \\u0432\\u044b\\u043f\\u0443\\u0441\\u043a\\u0430 \\u043d\\u043e\\u0432\\u044b\\u0445 \\u043f\\u0440\\u043e\\u0434\\u0443\\u043a\\u0442\\u043e\\u0432 \\u0441\\u043e\\u0433\\u043b\\u0430\\u0441\\u043d\\u043e \\u0442\\u0440\\u0435\\u0431\\u043e\\u0432\\u0430\\u043d\\u0438\\u044f\\u043c \\u041c\\u041f\\u0421 Visa, Mastercard \\u041c\\u0418\\u0420, \\u0442\\u0430\\u043a\\u0436\\u0435 \\u0441\\u0442\\u0430\\u043d\\u0434\\u0430\\u0440\\u0442\\u0443 \\u0432\\u044b\\u043f\\u0443\\u0441\\u043a\\u0430 smart-\\u043a\\u0430\\u0440\\u0442 EMV; * \\u041f\\u043e\\u043b\\u043d\\u043e\\u0435 \\u0430\\u0434\\u043c\\u0438\\u043d\\u0438\\u0441\\u0442\\u0440\\u0438\\u0440\\u043e\\u0432\\u0430\\u043d\\u0438\\u0435 \\u043a\\u043e\\u043c\\u043f\\u043b\\u0435\\u043a\\u0441\\u043e\\u0432 \\u043f\\u0435\\u0440\\u0441\\u043e\\u043d\\u0430\\u043b\\u0438\\u0437\\u0430\\u0446\\u0438\\u0438 \\u043a\\u0430\\u0440\\u0442 (\\u043f\\u0440\\u0430\\u0432\\u0430 \\u0434\\u043e\\u0441\\u0442\\u0443\\u043f\\u0430 \\u043f\\u043e\\u043b\\u044c\\u0437\\u043e\\u0432\\u0430\\u0442\\u0435\\u043b\\u0435\\u0439, \\u043d\\u0430\\u0441\\u0442\\u0440\\u043e\\u0439\\u043a\\u0438 \\u0432\\u044b\\u043f\\u0443\\u0441\\u043a\\u0430 \\u043a\\u0430\\u0440\\u0442, \\u0440\\u0435\\u0448\\u0435\\u043d\\u0438\\u0435 \\u0432\\u043e\\u0437\\u043d\\u0438\\u043a\\u0430\\u044e\\u0449\\u0438\\u0445 \\u043f\\u0440\\u043e\\u0431\\u043b\\u0435\\u043c \\u043f\\u043e\\u043b\\u043e\\u043c\\u043e\\u043a \\u043e\\u0431\\u043e\\u0440\\u0443\\u0434\\u043e\\u0432\\u0430\\u043d\\u0438\\u044f); * \\u041e\\u0444\\u0438\\u0446\\u0435\\u0440 \\u0431\\u0435\\u0437\\u043e\\u043f\\u0430\\u0441\\u043d\\u043e\\u0441\\u0442\\u0438 \\u0411\\u0430\\u043d\\u043a\\u0430 \\u043c\\u0435\\u0436\\u0434\\u0443\\u043d\\u0430\\u0440\\u043e\\u0434\\u043d\\u044b\\u0445 \\u043f\\u043b\\u0430\\u0442\\u0435\\u0436\\u043d\\u044b\\u0445 \\u0441\\u0438\\u0441\\u0442\\u0435\\u043c. \\u0420\\u0430\\u0431\\u043e\\u0442\\u0430 \\u0433\\u0435\\u043d\\u0435\\u0440\\u0430\\u0446\\u0438\\u0435\\u0439 \\u043a\\u0440\\u0438\\u043f\\u0442\\u043e\\u043a\\u043b\\u044e\\u0447\\u0435\\u0439 \\u043d\\u0443\\u0436\\u0434 \\u043f\\u0440\\u043e\\u0446\\u0435\\u0441\\u0441\\u0438\\u043d\\u0433\\u043e\\u0432\\u043e\\u0433\\u043e \\u0446\\u0435\\u043d\\u0442\\u0440\\u0430. \\u041d\\u0430\\u0441\\u0442\\u0440\\u043e\\u0439\\u043a\\u0430 \\u0430\\u0434\\u043c\\u0438\\u043d\\u0438\\u0441\\u0442\\u0440\\u0438\\u0440\\u043e\\u0432\\u0430\\u043d\\u0438\\u0435 \\u0430\\u043f\\u043f\\u0430\\u0440\\u0430\\u0442\\u043d\\u044b\\u0445 \\u043c\\u043e\\u0434\\u0443\\u043b\\u0435\\u0439 \\u0431\\u0435\\u0437\\u043e\\u043f\\u0430\\u0441\\u043d\\u043e\\u0441\\u0442\\u0438 (HSM); * \\u0420\\u0430\\u0431\\u043e\\u0442\\u0430 \\u0442\\u0435\\u0440\\u043c\\u0438\\u043d\\u0430\\u043b\\u044c\\u043d\\u044b\\u043c\\u0438 \\u0443\\u0441\\u0442\\u0440\\u043e\\u0439\\u0441\\u0442\\u0432\\u0430\\u043c\\u0438 \\u0431\\u0430\\u043d\\u043a\\u043e\\u043c\\u0430\\u0442\\u0430\\u043c\\u0438. \\u0438\\u0440\\u043e\\u0432\\u0430\\u043d\\u0438\\u0435 \\u0440\\u0430\\u0431\\u043e\\u0442\\u044b \\u043d\\u043e\\u0432\\u044b\\u0445 \\u043f\\u0440\\u043e\\u0434\\u0443\\u043a\\u0442\\u043e\\u0432;; \\u0421\\u043b\\u0435\\u0434\\u0443\\u044e\\u0449\\u0430\\u044f \\u0440\\u0430\\u0431\\u043e\\u0442\\u0430: \\u0420\\u0430\\u0431\\u043e\\u0442\\u043e\\u0434\\u0430\\u0442\\u0435\\u043b\\u044c: \\u041f\\u0410\\u041e \\u041a\\u0440\\u0435\\u043f\\u0410\\u0432\\u0442\\u043e\\u0413\\u0430\\u0440\\u0430\\u0436\\u041c\\u0430\\u0448 \\u0413\\u043e\\u0440\\u043e\\u0434: \\u0417\\u0430\\u0440\\u0430\\u0439\\u0441\\u043a \\u041f\\u0440\\u043e\\u0444\\u0435\\u0441\\u0441\\u0438\\u044f: \\u0421\\u043f\\u0435\\u0446\\u0438\\u0430\\u043b\\u0438\\u0441\\u0442 3D-\\u043c\\u043e\\u0434\\u0435\\u043b\\u0438\\u0440\\u043e\\u0432\\u0430\\u043d\\u0438\\u044e \\u041e\\u043f\\u0438\\u0441\\u0430\\u043d\\u0438\\u0435: * \\u0420\\u0430\\u0437\\u0440\\u0430\\u0431\\u043e\\u0442\\u043a\\u0430 \\u0441\\u043e\\u0437\\u0434\\u0430\\u043d\\u0438\\u0435 3D \\u043c\\u043e\\u0434\\u0435\\u043b\\u0435\\u0439 \\u043f\\u043e\\u0442\\u0435\\u043d\\u0446\\u0438\\u0430\\u043b\\u044c\\u043d\\u043e-\\u043e\\u043f\\u0430\\u0441\\u043d\\u044b\\u0445 \\u0441\\u043e\\u0446\\u0438\\u0430\\u043b\\u044c\\u043d\\u043e-\\u0437\\u043d\\u0430\\u0447\\u0438\\u043c\\u044b\\u0445 \\u043e\\u0431\\u044a\\u0435\\u043a\\u0442\\u043e\\u0432 \\u0433.\\u041b\\u0438\\u043f\\u0435\\u0446\\u043a\\u0430 \\u041b\\u0438\\u043f\\u0435\\u0446\\u043a\\u043e\\u0439 \\u043e\\u0431\\u043b\\u0430\\u0441\\u0442\\u0438; * \\u041c\\u043e\\u0434\\u0435\\u043b\\u0438\\u0440\\u043e\\u0432\\u0430\\u043d\\u0438\\u0435 \\u0432\\u043e\\u0437\\u043c\\u043e\\u0436\\u043d\\u044b\\u0445 \\u0427\\u0421, \\u0430\\u0432\\u0430\\u0440\\u0438\\u0439 \\u043f\\u0440\\u043e\\u0438\\u0448\\u0435\\u0441\\u0442\\u0432\\u0438\\u0439; * \\u0410\\u043d\\u0438\\u043c\\u0430\\u0446\\u0438\\u044f \\u043b\\u0438\\u043a\\u0432\\u0438\\u0434\\u0430\\u0446\\u0438\\u0438 \\u043f\\u043e\\u0441\\u043b\\u0435\\u0434\\u0441\\u0442\\u0432\\u0438\\u0439 \\u0427\\u0421;\",\n          \"\\u0420\\u0430\\u0431\\u043e\\u0442\\u043e\\u0434\\u0430\\u0442\\u0435\\u043b\\u044c: \\u041e\\u041e\\u041e \\u041a\\u043e\\u043c\\u043f\\u0430\\u043d\\u0438\\u044f \\u041c\\u043e\\u043d\\u0442\\u0430\\u0436\\u0410\\u0441\\u0431\\u043e\\u0446\\u0435\\u043c\\u0435\\u043d\\u0442\\u0422\\u0435\\u0445\\u041f\\u0440\\u043e\\u043c \\u0413\\u043e\\u0440\\u043e\\u0434: \\u041c\\u043e\\u0436\\u0430\\u0439\\u0441\\u043a \\u041f\\u0440\\u043e\\u0444\\u0435\\u0441\\u0441\\u0438\\u044f: \\u0418\\u043d\\u0436\\u0435\\u043d\\u0435\\u0440 \\u041e\\u043f\\u0438\\u0441\\u0430\\u043d\\u0438\\u0435: UI-\\u0442\\u0435\\u0441\\u0442\\u0438\\u0440\\u043e\\u0432\\u0430\\u043d\\u0438\\u0435. 80% \\u0424\\u0443\\u043d\\u043a\\u0446\\u0438\\u043e\\u043d\\u0430\\u043b\\u044c\\u043d\\u043e\\u0435, 20% \\u0418\\u0441\\u0441\\u043b\\u0435\\u0434\\u043e\\u0432\\u0430\\u0442\\u0435\\u043b\\u044c\\u0441\\u043a\\u043e\\u0435. \\u043a\\u043e\\u043d\\u0446\\u0435 \\u043a\\u0430\\u0436\\u0434\\u043e\\u0439 \\u0438\\u0442\\u0435\\u0440\\u0430\\u0446\\u0438\\u0438 \\u2013 \\u0440\\u0435\\u0433\\u0440\\u0435\\u0441\\u0441. \\u0410\\u0432\\u0442\\u043e\\u043c\\u0430\\u0442\\u0438\\u0437\\u0438\\u0440\\u043e\\u0432\\u0430\\u043d\\u043d\\u043e\\u0435 \\u0442\\u0435\\u0441\\u0442\\u0438\\u0440\\u043e\\u0432\\u0430\\u043d\\u0438\\u0435\\u0432\\u0435\\u0431-\\u043f\\u0440\\u0438\\u043b\\u043e\\u0436\\u0435\\u043d\\u0438\\u0439. \\u041f\\u043e\\u0434\\u0434\\u0435\\u0440\\u0436\\u043a\\u0430 \\u043c\\u0435\\u0441\\u0442\\u043d\\u043e\\u0433\\u043e \\u0444\\u0440\\u0435\\u0439\\u043c\\u0432\\u043e\\u0440\\u043a\\u0430 Java/Selenide/JUnit. \\u043e\\u0432\\u0430\\u044f \\u0434\\u043e\\u043a\\u0443\\u043c\\u0435\\u043d\\u0442\\u0430\\u0446\\u0438\\u044f. \\u0427\\u0435\\u043a-\\u043b\\u0438\\u0441\\u0442\\u044b, \\u0442\\u0435\\u0441\\u0442-\\u043a\\u0435\\u0439\\u0441\\u044b, \\u0431\\u0430\\u0433-\\u0440\\u0435\\u043f\\u043e\\u0440\\u0442\\u044b. \\u0420\\u0430\\u0431\\u043e\\u0442\\u0430 \\u0431\\u0430\\u0433-\\u0442\\u0440\\u0435\\u043a\\u0435\\u0440\\u0435 - YouTrack, \\u043e\\u0444\\u043e\\u0440\\u043c\\u043b\\u0435\\u043d\\u0438\\u0435 \\u0434\\u0435\\u0444\\u0435\\u043a\\u0442\\u043e\\u0432, \\u043a\\u043e\\u043d\\u0442\\u0440\\u043e\\u043b\\u044c \\u0438\\u0441\\u043f\\u043e\\u043b\\u043d\\u0435\\u043d\\u0438\\u044f. \\u041f\\u043e\\u043b\\u044c\\u0437\\u043e\\u0432\\u0430\\u0442\\u0435\\u043b\\u044c\\u0441\\u043a\\u0430\\u044f \\u0434\\u043e\\u043a\\u0443\\u043c\\u0435\\u043d\\u0442\\u0430\\u0446\\u0438\\u044f. \\u0418\\u043d\\u0441\\u0442\\u0440\\u0443\\u043a\\u0446\\u0438\\u0438, \\u0441\\u0445\\u0435\\u043c\\u044b, \\u0441\\u043f\\u0438\\u0441\\u043a\\u0438 \\u0438\\u0437\\u043c\\u0435\\u043d\\u0435\\u043d\\u0438\\u0439. 2020 \\u0433\\u043e\\u0434\\u0430 \\u0440\\u0443\\u043a\\u043e\\u0432\\u043e\\u0436\\u0443 \\u043a\\u043e\\u043c\\u0430\\u043d\\u0434\\u043e\\u0439 \\u0441\\u043e\\u043f\\u0440\\u043e\\u0432\\u043e\\u0436\\u0434\\u0435\\u043d\\u0438\\u044f \\u0442\\u0435\\u0441\\u0442\\u0438\\u0440\\u043e\\u0432\\u0430\\u043d\\u0438\\u044f \\u041f\\u041e: - \\u0414\\u0435\\u043b\\u0435\\u0433\\u0438\\u0440\\u043e\\u0432\\u0430\\u043d\\u0438\\u0435, \\u0438\\u043d\\u0442\\u0435\\u0440\\u0432\\u044c\\u044e\\u0438\\u0440\\u043e\\u0432\\u0430\\u043d\\u0438\\u0435 \\u043d\\u043e\\u0432\\u0438\\u0447\\u043a\\u043e\\u0432, \\u043c\\u0435\\u043d\\u0442\\u043e\\u0440\\u0441\\u0442\\u0432\\u043e.\"\n        ],\n        \"semantic_type\": \"\",\n        \"description\": \"\"\n      }\n    },\n    {\n      \"column\": \"resume_educationItem\",\n      \"properties\": {\n        \"dtype\": \"string\",\n        \"num_unique_values\": 511,\n        \"samples\": [\n          \"\\u0413\\u043e\\u0434 \\u043e\\u043a\\u043e\\u043d\\u0447\\u0430\\u043d\\u0438\\u044f \\u043e\\u0431\\u0443\\u0447\\u0435\\u043d\\u0438\\u044f: 2017 \\u0424\\u0430\\u043a\\u0443\\u043b\\u044c\\u0442\\u0435\\u0442: Bachelor's degree, Operation of transport and technological machines and complexes \\u0422\\u0438\\u043f \\u043e\\u0431\\u0440\\u0430\\u0437\\u043e\\u0432\\u0430\\u043d\\u0438\\u044f: \\u041e\\u0441\\u043d\\u043e\\u0432\\u043d\\u043e\\u0435 \\u0423\\u0440\\u043e\\u0432\\u0435\\u043d\\u044c \\u043e\\u0431\\u0440\\u0430\\u0437\\u043e\\u0432\\u0430\\u043d\\u0438\\u044f: \\u0412\\u044b\\u0441\\u0448\\u0435\\u0435\",\n          \"\\u0413\\u043e\\u0434 \\u043e\\u043a\\u043e\\u043d\\u0447\\u0430\\u043d\\u0438\\u044f \\u043e\\u0431\\u0443\\u0447\\u0435\\u043d\\u0438\\u044f: 2016 \\u0423\\u0447\\u0435\\u0431\\u043d\\u043e\\u0435 \\u0443\\u0447\\u0435\\u0440\\u0435\\u0436\\u0434\\u0435\\u043d\\u0438\\u0435: \\u041d\\u0418\\u0422\\u0423 \\u041c\\u0418\\u0421\\u0418\\u0421 \\u0424\\u0430\\u043a\\u0443\\u043b\\u044c\\u0442\\u0435\\u0442: \\u0418\\u043d\\u0436\\u0435\\u043d\\u0435\\u0440\\u043d\\u043e\\u0439 \\u043a\\u0438\\u0431\\u0435\\u0440\\u043d\\u0435\\u0442\\u0438\\u043a\\u0438 \\u0421\\u043f\\u0435\\u0446\\u0438\\u0430\\u043b\\u044c\\u043d\\u043e\\u0441\\u0442\\u044c: \\u041c\\u0430\\u0442\\u0435\\u043c\\u0430\\u0442\\u0438\\u043a\\u0430. \\u041f\\u0440\\u0438\\u043a\\u043b\\u0430\\u0434\\u043d\\u0430\\u044f \\u043c\\u0430\\u0442\\u0435\\u043c\\u0430\\u0442\\u0438\\u043a\\u0430 \\u0422\\u0438\\u043f \\u043e\\u0431\\u0440\\u0430\\u0437\\u043e\\u0432\\u0430\\u043d\\u0438\\u044f: \\u041e\\u0441\\u043d\\u043e\\u0432\\u043d\\u043e\\u0435 \\u0423\\u0440\\u043e\\u0432\\u0435\\u043d\\u044c \\u043e\\u0431\\u0440\\u0430\\u0437\\u043e\\u0432\\u0430\\u043d\\u0438\\u044f: \\u0412\\u044b\\u0441\\u0448\\u0435\\u0435\"\n        ],\n        \"semantic_type\": \"\",\n        \"description\": \"\"\n      }\n    },\n    {\n      \"column\": \"resume_uuid\",\n      \"properties\": {\n        \"dtype\": \"string\",\n        \"num_unique_values\": 656,\n        \"samples\": [\n          \"5cab5214-8cb5-31d6-8f0b-4c4b0dbe6f74\",\n          \"00e4742f-0e93-3f99-96b1-e65a905f26ed\"\n        ],\n        \"semantic_type\": \"\",\n        \"description\": \"\"\n      }\n    },\n    {\n      \"column\": \"resume_name\",\n      \"properties\": {\n        \"dtype\": \"category\",\n        \"num_unique_values\": 208,\n        \"samples\": [\n          \"\\u0414\\u0430\\u0432\\u0438\\u0434\",\n          \"\\u0424\\u0430\\u0438\\u043d\\u0430\"\n        ],\n        \"semantic_type\": \"\",\n        \"description\": \"\"\n      }\n    },\n    {\n      \"column\": \"resume_surname\",\n      \"properties\": {\n        \"dtype\": \"string\",\n        \"num_unique_values\": 360,\n        \"samples\": [\n          \"\\u0412\\u043b\\u0430\\u0441\\u043e\\u0432\",\n          \"\\u041f\\u0435\\u0442\\u0443\\u0445\\u043e\\u0432\\u0430\"\n        ],\n        \"semantic_type\": \"\",\n        \"description\": \"\"\n      }\n    },\n    {\n      \"column\": \"resume_birth\",\n      \"properties\": {\n        \"dtype\": \"category\",\n        \"num_unique_values\": 36,\n        \"samples\": [\n          \"\\u0414\\u0430\\u0442\\u0430 \\u0440\\u043e\\u0436\\u0434\\u0435\\u043d\\u0438\\u044f: 2003\",\n          \"\\u0414\\u0430\\u0442\\u0430 \\u0440\\u043e\\u0436\\u0434\\u0435\\u043d\\u0438\\u044f: 1997\"\n        ],\n        \"semantic_type\": \"\",\n        \"description\": \"\"\n      }\n    },\n    {\n      \"column\": \"resume_country\",\n      \"properties\": {\n        \"dtype\": \"category\",\n        \"num_unique_values\": 7,\n        \"samples\": [\n          \"\\u0420\\u043e\\u0441\\u0441\\u0438\\u044f\",\n          \"\"\n        ],\n        \"semantic_type\": \"\",\n        \"description\": \"\"\n      }\n    },\n    {\n      \"column\": \"resume_city\",\n      \"properties\": {\n        \"dtype\": \"category\",\n        \"num_unique_values\": 96,\n        \"samples\": [\n          \"\\u041c\\u0438\\u043d\\u0435\\u0440\\u0430\\u043b\\u044c\\u043d\\u044b\\u0435 \\u0412\\u043e\\u0434\\u044b\",\n          \"\\u041f\\u0440\\u043e\\u0445\\u043b\\u0430\\u0434\\u043d\\u044b\\u0439\"\n        ],\n        \"semantic_type\": \"\",\n        \"description\": \"\"\n      }\n    },\n    {\n      \"column\": \"resume_about\",\n      \"properties\": {\n        \"dtype\": \"category\",\n        \"num_unique_values\": 239,\n        \"samples\": [\n          \" \\u0417\\u043d\\u0430\\u043d\\u0438\\u0435 Python, SQL \\u0438 \\u0441\\u043e\\u043e\\u0442\\u0432\\u0435\\u0442\\u0441\\u0442\\u0432\\u0443\\u044e\\u0449\\u0438\\u0445 \\u0444\\u0440\\u0435\\u0439\\u043c\\u0432\\u043e\\u0440\\u043a\\u043e\\u0432 \\u0434\\u043b\\u044f \\u0440\\u0430\\u0431\\u043e\\u0442\\u044b \\u0441 \\u0434\\u0430\\u043d\\u043d\\u044b\\u043c\\u0438. \\u0420\\u0435\\u0430\\u043b\\u0438\\u0437\\u0430\\u0446\\u0438\\u044f ML \\u043f\\u0440\\u043e\\u0435\\u043a\\u0442\\u043e\\u0432 (NLP). \\u0420\\u0430\\u0431\\u043e\\u0442\\u0430 \\u0441 \\u0431\\u0430\\u0437\\u0430\\u043c\\u0438 \\u0434\\u0430\\u043d\\u043d\\u044b\\u0445. \\u041f\\u043e\\u0441\\u0442\\u0440\\u043e\\u0435\\u043d\\u0438\\u0435 \\u043e\\u0442\\u0447\\u0435\\u0442\\u043e\\u0432 \\u0438 \\u043f\\u0440\\u0435\\u0437\\u0435\\u043d\\u0442\\u0430\\u0446\\u0438\\u0439 \\u0432 plotly, Tableau. \\u0425\\u043e\\u0447\\u0443 \\u0441\\u0442\\u0430\\u0442\\u044c \\u043a\\u043b\\u0430\\u0441\\u0441\\u043d\\u044b\\u043c \\u0441\\u043f\\u0435\\u0446\\u0438\\u0430\\u043b\\u0438\\u0441\\u0442\\u043e\\u043c \\u0432 \\u0430\\u043d\\u0430\\u043b\\u0438\\u0442\\u0438\\u043a\\u0435 \\u0434\\u0430\\u043d\\u043d\\u044b\\u0445 \\u2728 \\u041f\\u0440\\u043e\\u0435\\u043a\\u0442\\u044b \\u0432 \\u043e\\u0442\\u043a\\u0440\\u044b\\u0442\\u043e\\u043c \\u0434\\u043e\\u0441\\u0442\\u0443\\u043f\\u0435:    \",\n          \" \\u0423\\u0441\\u0438\\u0434\\u0447\\u0438\\u0432\\u044b\\u0439 \\u0438 \\u0442\\u0435\\u0440\\u043f\\u0435\\u043b\\u0438\\u0432\\u044b\\u0439 \\u043f\\u0440\\u043e\\u0433\\u0440\\u0430\\u043c\\u043c\\u0438\\u0441\\u0442, \\u043e\\u0431\\u043b\\u0430\\u0434\\u0430\\u044e\\u0449\\u0438\\u0439 \\u0443\\u043f\\u043e\\u0440\\u0441\\u0442\\u0432\\u043e\\u043c \\u0438 \\u0430\\u043d\\u0430\\u043b\\u0438\\u0442\\u0438\\u0447\\u0435\\u0441\\u043a\\u0438\\u043c \\u0441\\u043a\\u043b\\u0430\\u0434\\u043e\\u043c \\u0443\\u043c\\u0430 \"\n        ],\n        \"semantic_type\": \"\",\n        \"description\": \"\"\n      }\n    },\n    {\n      \"column\": \"resume_key_skills\",\n      \"properties\": {\n        \"dtype\": \"string\",\n        \"num_unique_values\": 503,\n        \"samples\": [\n          \"Python, Git, Linux, Ubuntu, PostgreSQL, SQL, Redis, Clickhouse, Apache Airflow, Pandas, Django, Flask, Docker, DRF, HTML, CSS, Airflow\",\n          \"MS Excel, MS PowerPoint, WFM, SQL, Workforce management, Python, pandas, numpy, CLI, VBA, seaborn, mathplotlib, SAP, PostgreSQL, MS SQL, Git, Tableau, Datalens, Scikit-learn, Business English, \\u041f\\u0440\\u043e\\u0433\\u043d\\u043e\\u0437\\u0438\\u0440\\u043e\\u0432\\u0430\\u043d\\u0438\\u0435, \\u041a\\u0430\\u0434\\u0440\\u043e\\u0432\\u043e\\u0435 \\u043f\\u043b\\u0430\\u043d\\u0438\\u0440\\u043e\\u0432\\u0430\\u043d\\u0438\\u0435, \\u041a\\u0440\\u0430\\u0442\\u043a\\u043e\\u0441\\u0440\\u043e\\u0447\\u043d\\u043e\\u0435 \\u0431\\u044e\\u0434\\u0436\\u0435\\u0442\\u0438\\u0440\\u043e\\u0432\\u0430\\u043d\\u0438\\u0435 \\u0438 \\u043f\\u043b\\u0430\\u043d\\u0438\\u0440\\u043e\\u0432\\u0430\\u043d\\u0438\\u0435, \\u0421\\u0431\\u043e\\u0440 \\u0438 \\u0430\\u043d\\u0430\\u043b\\u0438\\u0437 \\u0438\\u043d\\u0444\\u043e\\u0440\\u043c\\u0430\\u0446\\u0438\\u0438\"\n        ],\n        \"semantic_type\": \"\",\n        \"description\": \"\"\n      }\n    }\n  ]\n}"
            }
          },
          "metadata": {},
          "execution_count": 103
        }
      ]
    },
    {
      "cell_type": "code",
      "source": [
        "full_df['vacancy_combined_embeddings'] = full_df.apply(lambda row: model_for_emb_firstly.encode(translator.translate(concatenate_text_columns(row, vacancy_columns)).text), axis=1)\n",
        "full_df['resume_combined_embeddings'] = full_df.apply(lambda row: model_for_emb_firstly.encode(translator.translate(concatenate_text_columns(row, resume_columns)).text), axis=1)"
      ],
      "metadata": {
        "id": "Lj15vgpazdwy"
      },
      "execution_count": 104,
      "outputs": []
    },
    {
      "cell_type": "markdown",
      "source": [
        "## SiameseFFN\n"
      ],
      "metadata": {
        "id": "iTn-oids6R9h"
      }
    },
    {
      "cell_type": "code",
      "source": [
        "from sklearn.model_selection import train_test_split"
      ],
      "metadata": {
        "id": "B2zxpA0e6oC1"
      },
      "execution_count": null,
      "outputs": []
    },
    {
      "cell_type": "code",
      "source": [
        "df_train, df_test = train_test_split(full_df, test_size=0.2, random_state=SEED)"
      ],
      "metadata": {
        "id": "3A-8W95m60WM"
      },
      "execution_count": null,
      "outputs": []
    },
    {
      "cell_type": "code",
      "source": [
        "# test = full_df[full_df['vacancy_uuid'] == '779f3a59-206a-3241-adc4-d7db504f960b']\n",
        "# train = full_df[full_df['vacancy_uuid'] != '779f3a59-206a-3241-adc4-d7db504f960b']"
      ],
      "metadata": {
        "id": "DbrxL23mFJFP"
      },
      "execution_count": null,
      "outputs": []
    },
    {
      "cell_type": "code",
      "source": [
        "class VacanciesResumesDataset(Dataset):\n",
        "    def __init__(self, dataframe):\n",
        "        self.vacancies_embeddings = dataframe['vacancy_combined_embeddings']\n",
        "        self.resumes_embeddings = dataframe['resume_combined_embeddings']\n",
        "        self.targets = dataframe['target']\n",
        "\n",
        "    def __len__(self):\n",
        "        return len(self.vacancies_embeddings)\n",
        "\n",
        "    def __getitem__(self, idx):\n",
        "        vacancy_embedding = torch.tensor(self.vacancies_embeddings.iloc[idx])\n",
        "        resume_embedding = torch.tensor(self.resumes_embeddings.iloc[idx])\n",
        "        target = torch.tensor(self.targets.iloc[idx])\n",
        "        return vacancy_embedding, resume_embedding, target"
      ],
      "metadata": {
        "id": "IDEgWv8UkDml"
      },
      "execution_count": null,
      "outputs": []
    },
    {
      "cell_type": "code",
      "source": [
        "dataset = VacanciesResumesDataset(df_train)\n",
        "dataloader = DataLoader(dataset, batch_size=8, shuffle=True, num_workers=0)"
      ],
      "metadata": {
        "id": "fBp-Dzo-kVTd"
      },
      "execution_count": null,
      "outputs": []
    },
    {
      "cell_type": "code",
      "source": [
        "dataset_test = VacanciesResumesDataset(df_test)\n",
        "val_dataloader = DataLoader(dataset_test, batch_size=1)"
      ],
      "metadata": {
        "id": "wjqHsy3ahZFg"
      },
      "execution_count": null,
      "outputs": []
    },
    {
      "cell_type": "code",
      "source": [
        "cos_sim = nn.CosineSimilarity()"
      ],
      "metadata": {
        "id": "PQ3hUYkmNR28"
      },
      "execution_count": null,
      "outputs": []
    },
    {
      "cell_type": "code",
      "source": [
        "def euclidean_distance(x, y):\n",
        "    return torch.sqrt(torch.sum((x - y) ** 2))\n",
        "\n",
        "def manhattan_distance(x, y):\n",
        "    return torch.sum(torch.abs(x - y))\n",
        "\n",
        "def pearson_correlation(x, y):\n",
        "    mean_x = torch.mean(x)\n",
        "    mean_y = torch.mean(y)\n",
        "    normalized_x = x - mean_x\n",
        "    normalized_y = y - mean_y\n",
        "    correlation = torch.sum(normalized_x * normalized_y)\n",
        "    std_x = torch.sqrt(torch.sum(normalized_x ** 2))\n",
        "    std_y = torch.sqrt(torch.sum(normalized_y ** 2))\n",
        "\n",
        "    return correlation / (std_x * std_y)"
      ],
      "metadata": {
        "id": "5TYETyA0Omh9"
      },
      "execution_count": null,
      "outputs": []
    },
    {
      "cell_type": "code",
      "source": [
        "def normalixe(data):\n",
        "\n",
        "  min_val = min(i[0] for i in data)\n",
        "  max_val = max(i[0] for i in data)\n",
        "\n",
        "  normalized_data = [((x - min_val) / (max_val - min_val), y) for x, y in data]\n",
        "  return normalized_data"
      ],
      "metadata": {
        "id": "4z66GD4jTJgl"
      },
      "execution_count": null,
      "outputs": []
    },
    {
      "cell_type": "markdown",
      "source": [
        "### baseline"
      ],
      "metadata": {
        "id": "1id5g_JuLKia"
      }
    },
    {
      "cell_type": "code",
      "source": [
        "class SiameseFFN(nn.Module):\n",
        "  def __init__(self, in_size, hid_size=300, out_size=1):\n",
        "    super().__init__()\n",
        "    self.in_size = in_size # size of input embeddings\n",
        "    self.hid_size = hid_size\n",
        "    self.out_size = out_size # 2 (0 or 1)\n",
        "    self.fc11 = nn.Linear(in_size, hid_size)\n",
        "    self.fc12 = nn.Linear(hid_size, hid_size // 2)\n",
        "    self.fc13 = nn.Linear(hid_size // 2, hid_size)\n",
        "    self.fc21 = nn.Linear(in_size, hid_size)\n",
        "    self.fc22 = nn.Linear(hid_size, hid_size // 2)\n",
        "    self.fc23 = nn.Linear(hid_size // 2, hid_size)\n",
        "    self.final_fc = nn.Linear(1, out_size)\n",
        "    self.relu = nn.ReLU()\n",
        "    self.bn1 = nn.BatchNorm1d(hid_size)\n",
        "    self.bn2 = nn.BatchNorm1d(hid_size // 2)\n",
        "\n",
        "    self.classifier = nn.Linear(in_features=hid_size * 3,\n",
        "                                            out_features=1)\n",
        "\n",
        "  def forward(self, inp_emb1, inp_emb2):\n",
        "    out11 = self.bn1(self.relu(self.fc11(inp_emb1)))\n",
        "    out12 = self.bn2(self.relu(self.fc12(out11)))\n",
        "    out13 = self.fc13(out12)\n",
        "    out21 = self.bn1(self.relu(self.fc21(inp_emb2)))\n",
        "    out22 = self.bn2(self.relu(self.fc22(out21)))\n",
        "    out23 = self.fc23(out22)\n",
        "    # res = F.pairwise_distance(out13, out23, keepdim=True) # F.cosine_similarity(out13, out23) - euclidean\n",
        "    #logits = self.final_fc(res.unsqueeze(1)) # + mu = (cosine_sim(resume_keywords_emb, vacancy_keywords_emb))\n",
        "    if self.training:\n",
        "            x = torch.cat([out13, out23, abs(out13-out23)], dim=1) # (u, v, |u-v|)\n",
        "            x = self.classifier(x)\n",
        "            return x\n",
        "    else:\n",
        "            return out13, out23"
      ],
      "metadata": {
        "id": "2kf7zaD9oCxF"
      },
      "execution_count": null,
      "outputs": []
    },
    {
      "cell_type": "code",
      "source": [
        "in_size = model_for_emb_firstly.get_sentence_embedding_dimension() # encoder size 768\n",
        "\n",
        "model = SiameseFFN(in_size).to(device)\n",
        "loss = nn.BCEWithLogitsLoss()\n",
        "optimizer = torch.optim.AdamW(model.parameters())\n",
        "\n",
        "num_epoch = 15"
      ],
      "metadata": {
        "id": "BifUBf7doCzt"
      },
      "execution_count": null,
      "outputs": []
    },
    {
      "cell_type": "code",
      "source": [
        "for epoch in trange(num_epoch):\n",
        "    model.train()\n",
        "    epoch_losses = []\n",
        "    epoch_accuracies = []\n",
        "    for data in dataloader:\n",
        "        vac_emb, res_emb, target = [d.to(device) for d in data]\n",
        "        target = target.float()\n",
        "\n",
        "        optimizer.zero_grad()\n",
        "        logits = model(vac_emb, res_emb).squeeze(-1)\n",
        "        loss_t = loss(logits, target)\n",
        "        epoch_losses.append(loss_t.item())\n",
        "        loss_t.backward()\n",
        "        optimizer.step()\n",
        "\n",
        "        # accuracy\n",
        "        preds = (logits.detach() > 0).float()\n",
        "        accuracy = accuracy_score(target.cpu().numpy(), preds.cpu().numpy())\n",
        "        epoch_accuracies.append(accuracy)\n",
        "\n",
        "    print('Epoch: {}, Loss: {:.4f}, Accuracy: {:.4f}'.format(epoch+1, np.mean(epoch_losses), np.mean(epoch_accuracies)))"
      ],
      "metadata": {
        "id": "V0jX-hJVkZj-",
        "colab": {
          "base_uri": "https://localhost:8080/"
        },
        "outputId": "56486831-f39e-4d56-8b69-7b6613e894a1"
      },
      "execution_count": null,
      "outputs": [
        {
          "output_type": "stream",
          "name": "stderr",
          "text": [
            "  7%|▋         | 1/15 [00:00<00:04,  2.98it/s]"
          ]
        },
        {
          "output_type": "stream",
          "name": "stdout",
          "text": [
            "Epoch: 1, Loss: 0.6805, Accuracy: 0.6496\n"
          ]
        },
        {
          "output_type": "stream",
          "name": "stderr",
          "text": [
            "\r 13%|█▎        | 2/15 [00:00<00:04,  2.95it/s]"
          ]
        },
        {
          "output_type": "stream",
          "name": "stdout",
          "text": [
            "Epoch: 2, Loss: 0.6076, Accuracy: 0.6667\n"
          ]
        },
        {
          "output_type": "stream",
          "name": "stderr",
          "text": [
            "\r 20%|██        | 3/15 [00:01<00:04,  2.82it/s]"
          ]
        },
        {
          "output_type": "stream",
          "name": "stdout",
          "text": [
            "Epoch: 3, Loss: 0.6090, Accuracy: 0.6875\n"
          ]
        },
        {
          "output_type": "stream",
          "name": "stderr",
          "text": [
            "\r 27%|██▋       | 4/15 [00:01<00:04,  2.75it/s]"
          ]
        },
        {
          "output_type": "stream",
          "name": "stdout",
          "text": [
            "Epoch: 4, Loss: 0.5455, Accuracy: 0.7235\n"
          ]
        },
        {
          "output_type": "stream",
          "name": "stderr",
          "text": [
            "\r 33%|███▎      | 5/15 [00:01<00:03,  2.74it/s]"
          ]
        },
        {
          "output_type": "stream",
          "name": "stdout",
          "text": [
            "Epoch: 5, Loss: 0.5545, Accuracy: 0.7178\n"
          ]
        },
        {
          "output_type": "stream",
          "name": "stderr",
          "text": [
            "\r 40%|████      | 6/15 [00:02<00:03,  2.78it/s]"
          ]
        },
        {
          "output_type": "stream",
          "name": "stdout",
          "text": [
            "Epoch: 6, Loss: 0.4876, Accuracy: 0.7670\n"
          ]
        },
        {
          "output_type": "stream",
          "name": "stderr",
          "text": [
            "\r 47%|████▋     | 7/15 [00:02<00:02,  2.82it/s]"
          ]
        },
        {
          "output_type": "stream",
          "name": "stdout",
          "text": [
            "Epoch: 7, Loss: 0.5231, Accuracy: 0.7500\n"
          ]
        },
        {
          "output_type": "stream",
          "name": "stderr",
          "text": [
            "\r 53%|█████▎    | 8/15 [00:02<00:02,  2.74it/s]"
          ]
        },
        {
          "output_type": "stream",
          "name": "stdout",
          "text": [
            "Epoch: 8, Loss: 0.4294, Accuracy: 0.7992\n"
          ]
        },
        {
          "output_type": "stream",
          "name": "stderr",
          "text": [
            "\r 60%|██████    | 9/15 [00:03<00:02,  2.77it/s]"
          ]
        },
        {
          "output_type": "stream",
          "name": "stdout",
          "text": [
            "Epoch: 9, Loss: 0.4608, Accuracy: 0.7917\n"
          ]
        },
        {
          "output_type": "stream",
          "name": "stderr",
          "text": [
            "\r 67%|██████▋   | 10/15 [00:03<00:01,  2.80it/s]"
          ]
        },
        {
          "output_type": "stream",
          "name": "stdout",
          "text": [
            "Epoch: 10, Loss: 0.4016, Accuracy: 0.8087\n"
          ]
        },
        {
          "output_type": "stream",
          "name": "stderr",
          "text": [
            "\r 73%|███████▎  | 11/15 [00:03<00:01,  2.75it/s]"
          ]
        },
        {
          "output_type": "stream",
          "name": "stdout",
          "text": [
            "Epoch: 11, Loss: 0.4171, Accuracy: 0.8163\n"
          ]
        },
        {
          "output_type": "stream",
          "name": "stderr",
          "text": [
            "\r 80%|████████  | 12/15 [00:04<00:01,  2.71it/s]"
          ]
        },
        {
          "output_type": "stream",
          "name": "stdout",
          "text": [
            "Epoch: 12, Loss: 0.3322, Accuracy: 0.8523\n"
          ]
        },
        {
          "output_type": "stream",
          "name": "stderr",
          "text": [
            "\r 87%|████████▋ | 13/15 [00:04<00:00,  2.75it/s]"
          ]
        },
        {
          "output_type": "stream",
          "name": "stdout",
          "text": [
            "Epoch: 13, Loss: 0.3246, Accuracy: 0.8845\n"
          ]
        },
        {
          "output_type": "stream",
          "name": "stderr",
          "text": [
            "\r 93%|█████████▎| 14/15 [00:05<00:00,  2.77it/s]"
          ]
        },
        {
          "output_type": "stream",
          "name": "stdout",
          "text": [
            "Epoch: 14, Loss: 0.3556, Accuracy: 0.8352\n"
          ]
        },
        {
          "output_type": "stream",
          "name": "stderr",
          "text": [
            "100%|██████████| 15/15 [00:05<00:00,  2.77it/s]"
          ]
        },
        {
          "output_type": "stream",
          "name": "stdout",
          "text": [
            "Epoch: 15, Loss: 0.2726, Accuracy: 0.8826\n"
          ]
        },
        {
          "output_type": "stream",
          "name": "stderr",
          "text": [
            "\n"
          ]
        }
      ]
    },
    {
      "cell_type": "markdown",
      "source": [
        "test"
      ],
      "metadata": {
        "id": "82kK1HzZLvsC"
      }
    },
    {
      "cell_type": "code",
      "source": [
        "model.eval()\n",
        "res = []\n",
        "with torch.no_grad():\n",
        "  for data in val_dataloader:\n",
        "          vac_emb, res_emb, target = [d.to(device) for d in data]\n",
        "          vac_emb, res_emb = model(vac_emb, res_emb)\n",
        "          p1, p2 = torch.sigmoid(cos_sim(vac_emb, res_emb)).to('cpu').item(), target[0].to('cpu').item()\n",
        "          res.append([p1, p2])\n",
        "\n",
        "all_loss = 0\n",
        "for i in sorted(res, key=lambda x: x[0], reverse=True):\n",
        "  all_loss += abs(i[0] - i[1])\n",
        "  # print(i[0], i[1])\n",
        "print('Loss: ', all_loss)"
      ],
      "metadata": {
        "id": "aWHCDkvPkZrI",
        "colab": {
          "base_uri": "https://localhost:8080/"
        },
        "outputId": "c65aa813-c945-40ca-8c1c-3653af52b2fc"
      },
      "execution_count": null,
      "outputs": [
        {
          "output_type": "stream",
          "name": "stdout",
          "text": [
            "Loss:  66.40892073512077\n"
          ]
        }
      ]
    },
    {
      "cell_type": "markdown",
      "source": [
        "### next_without_cos"
      ],
      "metadata": {
        "id": "CoWcUgz7R9hZ"
      }
    },
    {
      "cell_type": "code",
      "source": [
        "class SiameseFFN(nn.Module):\n",
        "  def __init__(self, in_size, hid_size=300, out_size=1):\n",
        "    super().__init__()\n",
        "    self.in_size = in_size # size of input embeddings\n",
        "    self.hid_size = hid_size\n",
        "    self.out_size = out_size # 2 (0 or 1)\n",
        "    self.fc11 = nn.Linear(in_size, hid_size)\n",
        "    self.fc12 = nn.Linear(hid_size, hid_size // 2)\n",
        "    self.fc13 = nn.Linear(hid_size // 2, hid_size)\n",
        "    self.fc21 = nn.Linear(in_size, hid_size)\n",
        "    self.fc22 = nn.Linear(hid_size, hid_size // 2)\n",
        "    self.fc23 = nn.Linear(hid_size // 2, hid_size)\n",
        "    self.final_fc = nn.Linear(1, out_size)\n",
        "    self.relu = nn.ReLU()\n",
        "    self.bn1 = nn.BatchNorm1d(hid_size)\n",
        "    self.bn2 = nn.BatchNorm1d(hid_size // 2)\n",
        "\n",
        "    self.classifier = nn.Linear(in_features=hid_size * 3,\n",
        "                                            out_features=1)\n",
        "\n",
        "  def forward(self, inp_emb1, inp_emb2):\n",
        "    out11 = self.bn1(self.relu(self.fc11(inp_emb1)))\n",
        "    out12 = self.bn2(self.relu(self.fc12(out11)))\n",
        "    out13 = self.fc13(out12)\n",
        "    out21 = self.bn1(self.relu(self.fc21(inp_emb2)))\n",
        "    out22 = self.bn2(self.relu(self.fc22(out21)))\n",
        "    out23 = self.fc23(out22)\n",
        "    # res = F.pairwise_distance(out13, out23, keepdim=True) # F.cosine_similarity(out13, out23) - euclidean\n",
        "    #logits = self.final_fc(res.unsqueeze(1)) # + mu = (cosine_sim(resume_keywords_emb, vacancy_keywords_emb))\n",
        "    x = torch.cat([out13, out23, abs(out13-out23)], dim=1) # (u, v, |u-v|)\n",
        "    x = self.classifier(x)\n",
        "    return x"
      ],
      "metadata": {
        "id": "ddO_m4DdSF4x"
      },
      "execution_count": null,
      "outputs": []
    },
    {
      "cell_type": "code",
      "source": [
        "in_size = model_for_emb_firstly.get_sentence_embedding_dimension() # encoder size 768\n",
        "\n",
        "model = SiameseFFN(in_size).to(device)\n",
        "loss = nn.BCEWithLogitsLoss()\n",
        "optimizer = torch.optim.AdamW(model.parameters())\n",
        "\n",
        "num_epoch = 10"
      ],
      "metadata": {
        "id": "4VrlzjYDSF4y"
      },
      "execution_count": null,
      "outputs": []
    },
    {
      "cell_type": "code",
      "source": [
        "for epoch in trange(num_epoch):\n",
        "    model.train()\n",
        "    epoch_losses = []\n",
        "    epoch_accuracies = []\n",
        "    for data in dataloader:\n",
        "        vac_emb, res_emb, target = [d.to(device) for d in data]\n",
        "        target = target.float()\n",
        "\n",
        "        optimizer.zero_grad()\n",
        "        logits = model(vac_emb, res_emb).squeeze(-1)\n",
        "        loss_t = loss(logits, target)\n",
        "        epoch_losses.append(loss_t.item())\n",
        "        loss_t.backward()\n",
        "        optimizer.step()\n",
        "\n",
        "        # accuracy\n",
        "        preds = (logits.detach() > 0).float()\n",
        "        accuracy = accuracy_score(target.cpu().numpy(), preds.cpu().numpy())\n",
        "        epoch_accuracies.append(accuracy)\n",
        "\n",
        "    print('Epoch: {}, Loss: {:.4f}, Accuracy: {:.4f}'.format(epoch+1, np.mean(epoch_losses), np.mean(epoch_accuracies)))"
      ],
      "metadata": {
        "colab": {
          "base_uri": "https://localhost:8080/"
        },
        "outputId": "0fed7ed2-0f7d-4bec-bbd4-79dc67f72157",
        "id": "oIB6rwCFSF4y"
      },
      "execution_count": null,
      "outputs": [
        {
          "output_type": "stream",
          "name": "stderr",
          "text": [
            " 10%|█         | 1/10 [00:00<00:03,  2.91it/s]"
          ]
        },
        {
          "output_type": "stream",
          "name": "stdout",
          "text": [
            "Epoch: 1, Loss: 0.6991, Accuracy: 0.6402\n"
          ]
        },
        {
          "output_type": "stream",
          "name": "stderr",
          "text": [
            "\r 20%|██        | 2/10 [00:00<00:02,  2.98it/s]"
          ]
        },
        {
          "output_type": "stream",
          "name": "stdout",
          "text": [
            "Epoch: 2, Loss: 0.5778, Accuracy: 0.6951\n"
          ]
        },
        {
          "output_type": "stream",
          "name": "stderr",
          "text": [
            "\r 30%|███       | 3/10 [00:00<00:02,  3.05it/s]"
          ]
        },
        {
          "output_type": "stream",
          "name": "stdout",
          "text": [
            "Epoch: 3, Loss: 0.5876, Accuracy: 0.7121\n"
          ]
        },
        {
          "output_type": "stream",
          "name": "stderr",
          "text": [
            "\r 40%|████      | 4/10 [00:01<00:02,  2.93it/s]"
          ]
        },
        {
          "output_type": "stream",
          "name": "stdout",
          "text": [
            "Epoch: 4, Loss: 0.5463, Accuracy: 0.7330\n"
          ]
        },
        {
          "output_type": "stream",
          "name": "stderr",
          "text": [
            "\r 50%|█████     | 5/10 [00:01<00:01,  2.90it/s]"
          ]
        },
        {
          "output_type": "stream",
          "name": "stdout",
          "text": [
            "Epoch: 5, Loss: 0.5289, Accuracy: 0.7216\n"
          ]
        },
        {
          "output_type": "stream",
          "name": "stderr",
          "text": [
            "\r 60%|██████    | 6/10 [00:02<00:01,  2.94it/s]"
          ]
        },
        {
          "output_type": "stream",
          "name": "stdout",
          "text": [
            "Epoch: 6, Loss: 0.4751, Accuracy: 0.7614\n"
          ]
        },
        {
          "output_type": "stream",
          "name": "stderr",
          "text": [
            "\r 70%|███████   | 7/10 [00:02<00:01,  2.96it/s]"
          ]
        },
        {
          "output_type": "stream",
          "name": "stdout",
          "text": [
            "Epoch: 7, Loss: 0.4736, Accuracy: 0.7746\n"
          ]
        },
        {
          "output_type": "stream",
          "name": "stderr",
          "text": [
            "\r 80%|████████  | 8/10 [00:02<00:00,  2.99it/s]"
          ]
        },
        {
          "output_type": "stream",
          "name": "stdout",
          "text": [
            "Epoch: 8, Loss: 0.4215, Accuracy: 0.7992\n"
          ]
        },
        {
          "output_type": "stream",
          "name": "stderr",
          "text": [
            "\r 90%|█████████ | 9/10 [00:03<00:00,  3.02it/s]"
          ]
        },
        {
          "output_type": "stream",
          "name": "stdout",
          "text": [
            "Epoch: 9, Loss: 0.4039, Accuracy: 0.8201\n"
          ]
        },
        {
          "output_type": "stream",
          "name": "stderr",
          "text": [
            "100%|██████████| 10/10 [00:03<00:00,  2.99it/s]"
          ]
        },
        {
          "output_type": "stream",
          "name": "stdout",
          "text": [
            "Epoch: 10, Loss: 0.3729, Accuracy: 0.8333\n"
          ]
        },
        {
          "output_type": "stream",
          "name": "stderr",
          "text": [
            "\n"
          ]
        }
      ]
    },
    {
      "cell_type": "markdown",
      "source": [
        "test"
      ],
      "metadata": {
        "id": "cgoKzQwqSF4y"
      }
    },
    {
      "cell_type": "code",
      "source": [
        "model.eval()\n",
        "res = []\n",
        "with torch.no_grad():\n",
        "  for data in val_dataloader:\n",
        "          vac_emb, res_emb, target = [d.to(device) for d in data]\n",
        "          result = torch.sigmoid(model(vac_emb, res_emb))\n",
        "          p1, p2 = result.to('cpu').item(), target[0].to('cpu').item()\n",
        "          res.append([p1, p2])\n",
        "\n",
        "all_loss = 0\n",
        "for i in sorted(res, key=lambda x: x[0], reverse=True):\n",
        "  all_loss += abs(i[0] - i[1])\n",
        "  # print(i[0], i[1])\n",
        "print('Loss: ', all_loss)"
      ],
      "metadata": {
        "colab": {
          "base_uri": "https://localhost:8080/"
        },
        "outputId": "0b5e9cad-dc32-43e2-89a4-fcb70dfc6d37",
        "id": "eegltEQYSF4y"
      },
      "execution_count": null,
      "outputs": [
        {
          "output_type": "stream",
          "name": "stdout",
          "text": [
            "Loss:  52.20703258817957\n"
          ]
        }
      ]
    },
    {
      "cell_type": "markdown",
      "source": [
        "### less_embeddings"
      ],
      "metadata": {
        "id": "ENrPDOrRVlyA"
      }
    },
    {
      "cell_type": "code",
      "source": [
        "class SiameseFFN(nn.Module):\n",
        "  def __init__(self, in_size, hid_size=100, out_size=1):\n",
        "    super().__init__()\n",
        "    self.in_size = in_size # size of input embeddings\n",
        "    self.hid_size = hid_size\n",
        "    self.out_size = out_size # 2 (0 or 1)\n",
        "    self.fc11 = nn.Linear(in_size, hid_size)\n",
        "    self.fc12 = nn.Linear(hid_size, hid_size // 2)\n",
        "    self.fc13 = nn.Linear(hid_size // 2, 10)\n",
        "    self.fc21 = nn.Linear(in_size, hid_size)\n",
        "    self.fc22 = nn.Linear(hid_size, hid_size // 2)\n",
        "    self.fc23 = nn.Linear(hid_size // 2, 10)\n",
        "    self.final_fc = nn.Linear(1, out_size)\n",
        "    self.relu = nn.ReLU()\n",
        "    self.bn1 = nn.BatchNorm1d(hid_size)\n",
        "    self.bn2 = nn.BatchNorm1d(hid_size // 2)\n",
        "\n",
        "    self.classifier = nn.Linear(in_features=10 * 3,\n",
        "                                            out_features=1)\n",
        "\n",
        "  def forward(self, inp_emb1, inp_emb2):\n",
        "    out11 = self.bn1(self.relu(self.fc11(inp_emb1)))\n",
        "    out12 = self.bn2(self.relu(self.fc12(out11)))\n",
        "    out13 = self.fc13(out12)\n",
        "    out21 = self.bn1(self.relu(self.fc21(inp_emb2)))\n",
        "    out22 = self.bn2(self.relu(self.fc22(out21)))\n",
        "    out23 = self.fc23(out22)\n",
        "    # res = F.pairwise_distance(out13, out23, keepdim=True) # F.cosine_similarity(out13, out23) - euclidean\n",
        "    #logits = self.final_fc(res.unsqueeze(1)) # + mu = (cosine_sim(resume_keywords_emb, vacancy_keywords_emb))\n",
        "    x = torch.cat([out13, out23, abs(out13-out23)], dim=1) # (u, v, |u-v|)\n",
        "    x = self.classifier(x)\n",
        "    return x"
      ],
      "metadata": {
        "id": "uHk0dTkHVmQZ"
      },
      "execution_count": null,
      "outputs": []
    },
    {
      "cell_type": "code",
      "source": [
        "in_size = model_for_emb_firstly.get_sentence_embedding_dimension() # encoder size 768\n",
        "\n",
        "model = SiameseFFN(in_size).to(device)\n",
        "loss = nn.BCEWithLogitsLoss()\n",
        "optimizer = torch.optim.AdamW(model.parameters())\n",
        "\n",
        "num_epoch = 10"
      ],
      "metadata": {
        "id": "As4b7yIOVmQZ"
      },
      "execution_count": null,
      "outputs": []
    },
    {
      "cell_type": "code",
      "source": [
        "for epoch in trange(num_epoch):\n",
        "    model.train()\n",
        "    epoch_losses = []\n",
        "    epoch_accuracies = []\n",
        "    for data in dataloader:\n",
        "        vac_emb, res_emb, target = [d.to(device) for d in data]\n",
        "        target = target.float()\n",
        "\n",
        "        optimizer.zero_grad()\n",
        "        logits = model(vac_emb, res_emb).squeeze(-1)\n",
        "        loss_t = loss(logits, target)\n",
        "        epoch_losses.append(loss_t.item())\n",
        "        loss_t.backward()\n",
        "        optimizer.step()\n",
        "\n",
        "        # accuracy\n",
        "        preds = (logits.detach() > 0).float()\n",
        "        accuracy = accuracy_score(target.cpu().numpy(), preds.cpu().numpy())\n",
        "        epoch_accuracies.append(accuracy)\n",
        "\n",
        "    print('Epoch: {}, Loss: {:.4f}, Accuracy: {:.4f}'.format(epoch+1, np.mean(epoch_losses), np.mean(epoch_accuracies)))"
      ],
      "metadata": {
        "colab": {
          "base_uri": "https://localhost:8080/"
        },
        "outputId": "933f355c-250a-49b3-dc56-de2334289204",
        "id": "B2BNagnRVmQZ"
      },
      "execution_count": null,
      "outputs": [
        {
          "output_type": "stream",
          "name": "stderr",
          "text": [
            " 10%|█         | 1/10 [00:00<00:03,  2.92it/s]"
          ]
        },
        {
          "output_type": "stream",
          "name": "stdout",
          "text": [
            "Epoch: 1, Loss: 0.6707, Accuracy: 0.5852\n"
          ]
        },
        {
          "output_type": "stream",
          "name": "stderr",
          "text": [
            "\r 20%|██        | 2/10 [00:00<00:02,  3.01it/s]"
          ]
        },
        {
          "output_type": "stream",
          "name": "stdout",
          "text": [
            "Epoch: 2, Loss: 0.5853, Accuracy: 0.6818\n"
          ]
        },
        {
          "output_type": "stream",
          "name": "stderr",
          "text": [
            "\r 30%|███       | 3/10 [00:01<00:02,  2.99it/s]"
          ]
        },
        {
          "output_type": "stream",
          "name": "stdout",
          "text": [
            "Epoch: 3, Loss: 0.5610, Accuracy: 0.7102\n"
          ]
        },
        {
          "output_type": "stream",
          "name": "stderr",
          "text": [
            "\r 40%|████      | 4/10 [00:01<00:01,  3.01it/s]"
          ]
        },
        {
          "output_type": "stream",
          "name": "stdout",
          "text": [
            "Epoch: 4, Loss: 0.5452, Accuracy: 0.7140\n"
          ]
        },
        {
          "output_type": "stream",
          "name": "stderr",
          "text": [
            "\r 50%|█████     | 5/10 [00:01<00:01,  3.04it/s]"
          ]
        },
        {
          "output_type": "stream",
          "name": "stdout",
          "text": [
            "Epoch: 5, Loss: 0.5225, Accuracy: 0.7386\n"
          ]
        },
        {
          "output_type": "stream",
          "name": "stderr",
          "text": [
            "\r 60%|██████    | 6/10 [00:01<00:01,  3.02it/s]"
          ]
        },
        {
          "output_type": "stream",
          "name": "stdout",
          "text": [
            "Epoch: 6, Loss: 0.4950, Accuracy: 0.7595\n"
          ]
        },
        {
          "output_type": "stream",
          "name": "stderr",
          "text": [
            "\r 70%|███████   | 7/10 [00:02<00:00,  3.04it/s]"
          ]
        },
        {
          "output_type": "stream",
          "name": "stdout",
          "text": [
            "Epoch: 7, Loss: 0.4739, Accuracy: 0.7595\n"
          ]
        },
        {
          "output_type": "stream",
          "name": "stderr",
          "text": [
            "\r 80%|████████  | 8/10 [00:02<00:00,  3.02it/s]"
          ]
        },
        {
          "output_type": "stream",
          "name": "stdout",
          "text": [
            "Epoch: 8, Loss: 0.4347, Accuracy: 0.7784\n"
          ]
        },
        {
          "output_type": "stream",
          "name": "stderr",
          "text": [
            "\r 90%|█████████ | 9/10 [00:02<00:00,  3.00it/s]"
          ]
        },
        {
          "output_type": "stream",
          "name": "stdout",
          "text": [
            "Epoch: 9, Loss: 0.4344, Accuracy: 0.7898\n"
          ]
        },
        {
          "output_type": "stream",
          "name": "stderr",
          "text": [
            "100%|██████████| 10/10 [00:03<00:00,  3.00it/s]"
          ]
        },
        {
          "output_type": "stream",
          "name": "stdout",
          "text": [
            "Epoch: 10, Loss: 0.4054, Accuracy: 0.8144\n"
          ]
        },
        {
          "output_type": "stream",
          "name": "stderr",
          "text": [
            "\n"
          ]
        }
      ]
    },
    {
      "cell_type": "markdown",
      "source": [
        "test"
      ],
      "metadata": {
        "id": "9eH0H43YVmQa"
      }
    },
    {
      "cell_type": "code",
      "source": [
        "model.eval()\n",
        "res = []\n",
        "with torch.no_grad():\n",
        "  for data in val_dataloader:\n",
        "          vac_emb, res_emb, target = [d.to(device) for d in data]\n",
        "          result = torch.sigmoid(model(vac_emb, res_emb))\n",
        "          p1, p2 = result.to('cpu').item(), target[0].to('cpu').item()\n",
        "          res.append([p1, p2])\n",
        "\n",
        "all_loss = 0\n",
        "for i in sorted(res, key=lambda x: x[0], reverse=True):\n",
        "  all_loss += abs(i[0] - i[1])\n",
        "  # print(i[0], i[1])\n",
        "print('Loss: ', all_loss)"
      ],
      "metadata": {
        "colab": {
          "base_uri": "https://localhost:8080/"
        },
        "outputId": "8fd1ef2b-655f-4460-f316-fba2dbacee28",
        "id": "UF43KVzNVmQa"
      },
      "execution_count": null,
      "outputs": [
        {
          "output_type": "stream",
          "name": "stdout",
          "text": [
            "Loss:  54.19973876012955\n"
          ]
        }
      ]
    },
    {
      "cell_type": "markdown",
      "source": [
        "### less_liners"
      ],
      "metadata": {
        "id": "y_nL_AWhWmpt"
      }
    },
    {
      "cell_type": "code",
      "source": [
        "class SiameseFFN(nn.Module):\n",
        "  def __init__(self, in_size, hid_size=100, out_size=1):\n",
        "    super().__init__()\n",
        "    self.in_size = in_size # size of input embeddings\n",
        "    self.hid_size = hid_size\n",
        "    self.out_size = out_size # 2 (0 or 1)\n",
        "    self.fc11 = nn.Linear(in_size, hid_size)\n",
        "    self.fc13 = nn.Linear(hid_size , hid_size)\n",
        "    self.fc21 = nn.Linear(in_size, hid_size)\n",
        "    self.fc23 = nn.Linear(hid_size, hid_size)\n",
        "    self.final_fc = nn.Linear(1, out_size)\n",
        "    self.relu = nn.ReLU()\n",
        "    self.bn1 = nn.BatchNorm1d(hid_size)\n",
        "    self.bn2 = nn.BatchNorm1d(hid_size // 2)\n",
        "\n",
        "    self.classifier = nn.Linear(in_features=hid_size * 3,\n",
        "                                            out_features=1)\n",
        "\n",
        "  def forward(self, inp_emb1, inp_emb2):\n",
        "    out11 = self.bn1(self.relu(self.fc11(inp_emb1)))\n",
        "    out13 = self.fc13(out11)\n",
        "    out21 = self.bn1(self.relu(self.fc21(inp_emb2)))\n",
        "    out23 = self.fc23(out21)\n",
        "    # res = F.pairwise_distance(out13, out23, keepdim=True) # F.cosine_similarity(out13, out23) - euclidean\n",
        "    #logits = self.final_fc(res.unsqueeze(1)) # + mu = (cosine_sim(resume_keywords_emb, vacancy_keywords_emb))\n",
        "    x = torch.cat([out13, out23, abs(out13-out23)], dim=1) # (u, v, |u-v|)\n",
        "    x = self.classifier(x)\n",
        "    return x"
      ],
      "metadata": {
        "id": "5gdFViLOWmpt"
      },
      "execution_count": null,
      "outputs": []
    },
    {
      "cell_type": "code",
      "source": [
        "in_size = model_for_emb_firstly.get_sentence_embedding_dimension() # encoder size 768\n",
        "\n",
        "model = SiameseFFN(in_size).to(device)\n",
        "loss = nn.BCEWithLogitsLoss()\n",
        "optimizer = torch.optim.AdamW(model.parameters())\n",
        "\n",
        "num_epoch = 10"
      ],
      "metadata": {
        "id": "bmNyVUBZWmpu"
      },
      "execution_count": null,
      "outputs": []
    },
    {
      "cell_type": "code",
      "source": [
        "for epoch in trange(num_epoch):\n",
        "    model.train()\n",
        "    epoch_losses = []\n",
        "    epoch_accuracies = []\n",
        "    for data in dataloader:\n",
        "        vac_emb, res_emb, target = [d.to(device) for d in data]\n",
        "        target = target.float()\n",
        "\n",
        "        optimizer.zero_grad()\n",
        "        logits = model(vac_emb, res_emb).squeeze(-1)\n",
        "        loss_t = loss(logits, target)\n",
        "        epoch_losses.append(loss_t.item())\n",
        "        loss_t.backward()\n",
        "        optimizer.step()\n",
        "\n",
        "        # accuracy\n",
        "        preds = (logits.detach() > 0).float()\n",
        "        accuracy = accuracy_score(target.cpu().numpy(), preds.cpu().numpy())\n",
        "        epoch_accuracies.append(accuracy)\n",
        "\n",
        "    print('Epoch: {}, Loss: {:.4f}, Accuracy: {:.4f}'.format(epoch+1, np.mean(epoch_losses), np.mean(epoch_accuracies)))"
      ],
      "metadata": {
        "colab": {
          "base_uri": "https://localhost:8080/"
        },
        "outputId": "b5f7f688-c4be-4b06-caca-1f0ad034f247",
        "id": "cnICfmNWWmpu"
      },
      "execution_count": null,
      "outputs": [
        {
          "output_type": "stream",
          "name": "stderr",
          "text": [
            " 10%|█         | 1/10 [00:00<00:02,  3.79it/s]"
          ]
        },
        {
          "output_type": "stream",
          "name": "stdout",
          "text": [
            "Epoch: 1, Loss: 0.6167, Accuracy: 0.6553\n"
          ]
        },
        {
          "output_type": "stream",
          "name": "stderr",
          "text": [
            "\r 20%|██        | 2/10 [00:00<00:02,  3.77it/s]"
          ]
        },
        {
          "output_type": "stream",
          "name": "stdout",
          "text": [
            "Epoch: 2, Loss: 0.5642, Accuracy: 0.6780\n"
          ]
        },
        {
          "output_type": "stream",
          "name": "stderr",
          "text": [
            "\r 30%|███       | 3/10 [00:00<00:01,  3.70it/s]"
          ]
        },
        {
          "output_type": "stream",
          "name": "stdout",
          "text": [
            "Epoch: 3, Loss: 0.5365, Accuracy: 0.7159\n"
          ]
        },
        {
          "output_type": "stream",
          "name": "stderr",
          "text": [
            "\r 40%|████      | 4/10 [00:01<00:01,  3.72it/s]"
          ]
        },
        {
          "output_type": "stream",
          "name": "stdout",
          "text": [
            "Epoch: 4, Loss: 0.4984, Accuracy: 0.7386\n"
          ]
        },
        {
          "output_type": "stream",
          "name": "stderr",
          "text": [
            "\r 50%|█████     | 5/10 [00:01<00:01,  3.64it/s]"
          ]
        },
        {
          "output_type": "stream",
          "name": "stdout",
          "text": [
            "Epoch: 5, Loss: 0.4515, Accuracy: 0.7727\n"
          ]
        },
        {
          "output_type": "stream",
          "name": "stderr",
          "text": [
            "\r 60%|██████    | 6/10 [00:01<00:01,  3.54it/s]"
          ]
        },
        {
          "output_type": "stream",
          "name": "stdout",
          "text": [
            "Epoch: 6, Loss: 0.4405, Accuracy: 0.7898\n"
          ]
        },
        {
          "output_type": "stream",
          "name": "stderr",
          "text": [
            "\r 70%|███████   | 7/10 [00:01<00:00,  3.56it/s]"
          ]
        },
        {
          "output_type": "stream",
          "name": "stdout",
          "text": [
            "Epoch: 7, Loss: 0.4019, Accuracy: 0.8106\n"
          ]
        },
        {
          "output_type": "stream",
          "name": "stderr",
          "text": [
            "\r 80%|████████  | 8/10 [00:02<00:00,  3.57it/s]"
          ]
        },
        {
          "output_type": "stream",
          "name": "stdout",
          "text": [
            "Epoch: 8, Loss: 0.3927, Accuracy: 0.8220\n"
          ]
        },
        {
          "output_type": "stream",
          "name": "stderr",
          "text": [
            "\r 90%|█████████ | 9/10 [00:02<00:00,  3.54it/s]"
          ]
        },
        {
          "output_type": "stream",
          "name": "stdout",
          "text": [
            "Epoch: 9, Loss: 0.3243, Accuracy: 0.8504\n"
          ]
        },
        {
          "output_type": "stream",
          "name": "stderr",
          "text": [
            "100%|██████████| 10/10 [00:02<00:00,  3.58it/s]"
          ]
        },
        {
          "output_type": "stream",
          "name": "stdout",
          "text": [
            "Epoch: 10, Loss: 0.3288, Accuracy: 0.8655\n"
          ]
        },
        {
          "output_type": "stream",
          "name": "stderr",
          "text": [
            "\n"
          ]
        }
      ]
    },
    {
      "cell_type": "markdown",
      "source": [
        "test"
      ],
      "metadata": {
        "id": "esTUZHa6Wmpu"
      }
    },
    {
      "cell_type": "code",
      "source": [
        "model.eval()\n",
        "res = []\n",
        "with torch.no_grad():\n",
        "  for data in val_dataloader:\n",
        "          vac_emb, res_emb, target = [d.to(device) for d in data]\n",
        "          result = torch.sigmoid(model(vac_emb, res_emb))\n",
        "          p1, p2 = result.to('cpu').item(), target[0].to('cpu').item()\n",
        "          res.append([p1, p2])\n",
        "\n",
        "all_loss = 0\n",
        "for i in sorted(res, key=lambda x: x[0], reverse=True):\n",
        "  all_loss += abs(i[0] - i[1])\n",
        "  print(i[0], i[1])\n",
        "print('Loss: ', all_loss)"
      ],
      "metadata": {
        "colab": {
          "base_uri": "https://localhost:8080/"
        },
        "outputId": "4181c29d-c2bf-4d32-94ae-551f108d512e",
        "id": "mDcv0HqvWmpu"
      },
      "execution_count": null,
      "outputs": [
        {
          "output_type": "stream",
          "name": "stdout",
          "text": [
            "0.924342691898346 0\n",
            "0.9123198986053467 0\n",
            "0.9063718318939209 1\n",
            "0.9050840139389038 0\n",
            "0.8951565623283386 1\n",
            "0.8582624197006226 0\n",
            "0.8575043082237244 0\n",
            "0.8389641046524048 0\n",
            "0.8310466408729553 1\n",
            "0.7730444073677063 0\n",
            "0.7317244410514832 1\n",
            "0.7250936031341553 1\n",
            "0.7118397951126099 1\n",
            "0.6692583560943604 1\n",
            "0.649689257144928 0\n",
            "0.6059625148773193 0\n",
            "0.5816083550453186 0\n",
            "0.5808882117271423 1\n",
            "0.5344545841217041 0\n",
            "0.515202522277832 0\n",
            "0.5106178522109985 0\n",
            "0.5066564679145813 0\n",
            "0.48825427889823914 1\n",
            "0.47655072808265686 0\n",
            "0.46997666358947754 0\n",
            "0.46514660120010376 0\n",
            "0.4584098756313324 0\n",
            "0.4578615725040436 0\n",
            "0.4538925588130951 0\n",
            "0.431294322013855 1\n",
            "0.4103231430053711 0\n",
            "0.40835896134376526 0\n",
            "0.3384239375591278 0\n",
            "0.3238503634929657 1\n",
            "0.30047205090522766 1\n",
            "0.29102185368537903 0\n",
            "0.27735990285873413 0\n",
            "0.26233193278312683 1\n",
            "0.2537592053413391 1\n",
            "0.24772433936595917 0\n",
            "0.24593627452850342 0\n",
            "0.24499255418777466 1\n",
            "0.24103078246116638 0\n",
            "0.24064888060092926 0\n",
            "0.23016764223575592 1\n",
            "0.22606298327445984 1\n",
            "0.20904268324375153 0\n",
            "0.2051849216222763 0\n",
            "0.17159882187843323 0\n",
            "0.1676507592201233 0\n",
            "0.1498022824525833 0\n",
            "0.11984868347644806 0\n",
            "0.1159752681851387 0\n",
            "0.10868417471647263 0\n",
            "0.10537350922822952 0\n",
            "0.10484310239553452 0\n",
            "0.10349632054567337 0\n",
            "0.09757405519485474 0\n",
            "0.09709708392620087 0\n",
            "0.09339122474193573 1\n",
            "0.08727919310331345 1\n",
            "0.08465522527694702 0\n",
            "0.07828803360462189 0\n",
            "0.0669952780008316 1\n",
            "0.06047823652625084 0\n",
            "0.05375269055366516 0\n",
            "0.04768627882003784 0\n",
            "0.04677640646696091 0\n",
            "0.04634488373994827 0\n",
            "0.04363209754228592 0\n",
            "0.04232712462544441 1\n",
            "0.0390600860118866 0\n",
            "0.03799678385257721 1\n",
            "0.036270201206207275 0\n",
            "0.03062889352440834 0\n",
            "0.02622728794813156 1\n",
            "0.02571181394159794 0\n",
            "0.024694709107279778 0\n",
            "0.021755389869213104 0\n",
            "0.019073955714702606 0\n",
            "0.018028201535344124 1\n",
            "0.01737876795232296 0\n",
            "0.014880017377436161 0\n",
            "0.012799270451068878 0\n",
            "0.012591675855219364 0\n",
            "0.010859936475753784 1\n",
            "0.010854924097657204 1\n",
            "0.010712474584579468 0\n",
            "0.009692507795989513 0\n",
            "0.009640838019549847 0\n",
            "0.00862455740571022 0\n",
            "0.007422439754009247 0\n",
            "0.007124878466129303 1\n",
            "0.0066035171039402485 0\n",
            "0.006312769837677479 0\n",
            "0.005757890176028013 0\n",
            "0.0056440276093780994 0\n",
            "0.005537207238376141 0\n",
            "0.005528313107788563 1\n",
            "0.005298066418617964 0\n",
            "0.004985790699720383 0\n",
            "0.004725692793726921 0\n",
            "0.004661222919821739 0\n",
            "0.004645476117730141 0\n",
            "0.004633905831724405 0\n",
            "0.002626114059239626 0\n",
            "0.002591164316982031 0\n",
            "0.0024497711565345526 0\n",
            "0.002336634788662195 0\n",
            "0.002279269741848111 0\n",
            "0.002013277495279908 1\n",
            "0.0019850837998092175 0\n",
            "0.0018619842594489455 0\n",
            "0.00171334994956851 0\n",
            "0.0016140892403200269 0\n",
            "0.0016070189885795116 0\n",
            "0.0014720745384693146 0\n",
            "0.0014328149845823646 0\n",
            "0.0014135823585093021 0\n",
            "0.0012072088429704309 1\n",
            "0.0009659533388912678 0\n",
            "0.0008982225554063916 1\n",
            "0.0008756608585827053 1\n",
            "0.0008182890596799552 0\n",
            "0.0006682716775685549 0\n",
            "0.0006405198946595192 0\n",
            "0.0005748124676756561 1\n",
            "0.000462614611024037 0\n",
            "0.000367723434465006 1\n",
            "0.00035552404006011784 0\n",
            "0.000309042603475973 0\n",
            "0.0002793943858705461 0\n",
            "Loss:  42.83867589198053\n"
          ]
        }
      ]
    },
    {
      "cell_type": "code",
      "source": [
        "# model.eval()\n",
        "# res = 0\n",
        "# k = 0\n",
        "# with torch.no_grad():\n",
        "#   for data in val_dataloader:\n",
        "#           vac_emb, res_emb, target = [d.to(device) for d in data]\n",
        "#           k += 1\n",
        "\n",
        "#           res += abs(cos_sim(vac_emb, res_emb) - target)\n",
        "# print(res, '/', k)"
      ],
      "metadata": {
        "id": "eJfckgGw4lo0"
      },
      "execution_count": null,
      "outputs": []
    },
    {
      "cell_type": "markdown",
      "source": [
        "### Some enother type"
      ],
      "metadata": {
        "id": "MVztRGl8Zcsg"
      }
    },
    {
      "cell_type": "code",
      "source": [
        "class SiameseFFN(nn.Module):\n",
        "  def __init__(self, in_size, hid_size=100, out_size=2):\n",
        "    super().__init__()\n",
        "    self.in_size = in_size # size of input embeddings\n",
        "    self.hid_size = hid_size\n",
        "    self.out_size = out_size # 2 (0 or 1)\n",
        "    self.fc11 = nn.Linear(in_size, hid_size)\n",
        "    self.fc12 = nn.Linear(hid_size, hid_size // 2)\n",
        "    self.fc13 = nn.Linear(hid_size // 2, hid_size)\n",
        "    self.fc21 = nn.Linear(in_size, hid_size)\n",
        "    self.fc22 = nn.Linear(hid_size, hid_size // 2)\n",
        "    self.fc23 = nn.Linear(hid_size // 2, hid_size)\n",
        "    self.relu = nn.ReLU()\n",
        "    self.bn1 = nn.BatchNorm1d(hid_size)\n",
        "    self.bn2 = nn.BatchNorm1d(hid_size // 2)\n",
        "\n",
        "    self.classifier = nn.Linear(in_features=hid_size * 3,\n",
        "                                            out_features=out_size)\n",
        "\n",
        "  def forward(self, inp_emb1, inp_emb2):\n",
        "    out11 = self.bn1(self.relu(self.fc11(inp_emb1)))\n",
        "    out12 = self.bn2(self.relu(self.fc12(out11)))\n",
        "    out13 = self.fc13(out12)\n",
        "    out21 = self.bn1(self.relu(self.fc21(inp_emb2)))\n",
        "    out22 = self.bn2(self.relu(self.fc22(out21)))\n",
        "    out23 = self.fc23(out22)\n",
        "    # res = F.pairwise_distance(out13, out23, keepdim=True) # F.cosine_similarity(out13, out23) - euclidean\n",
        "    #logits = self.final_fc(res.unsqueeze(1)) # + mu = (cosine_sim(resume_keywords_emb, vacancy_keywords_emb))\n",
        "    x = torch.cat([out13, out23, abs(out13-out23)], dim=1) # (u, v, |u-v|)\n",
        "    x = self.classifier(x)\n",
        "    return x"
      ],
      "metadata": {
        "id": "qB739jJ8aLGc"
      },
      "execution_count": 27,
      "outputs": []
    },
    {
      "cell_type": "code",
      "source": [
        "model = SiameseFFN(in_size).to(device)\n",
        "loss_fn = nn.CrossEntropyLoss()\n",
        "optimizer = torch.optim.AdamW(model.parameters())\n",
        "\n",
        "num_epoch = 7\n",
        "\n",
        "for epoch in trange(num_epoch):\n",
        "    model.train()\n",
        "    epoch_losses = []\n",
        "    epoch_acc = []\n",
        "    for data in dataloader:\n",
        "        vac_emb, res_emb, target = [d.to(device) for d in data]\n",
        "        # target = target.float()  # Удалите это преобразование, так как CrossEntropyLoss ожидает тип torch.long\n",
        "\n",
        "        optimizer.zero_grad()\n",
        "        logits = model(vac_emb, res_emb)\n",
        "        loss_t = loss_fn(logits, target)\n",
        "        epoch_losses.append(loss_t.item())\n",
        "        loss_t.backward()\n",
        "        optimizer.step()\n",
        "\n",
        "        # accuracy\n",
        "        preds = torch.argmax(logits.detach(), dim=1)  # Вместо порогового значения используем argmax\n",
        "        accuracy = (preds == target).float().mean().item()\n",
        "        epoch_acc.append(accuracy)\n",
        "\n",
        "    print('Epoch: {}, Loss: {:.4f}, Accuracy: {:.4f}'.format(epoch + 1, np.mean(epoch_losses), np.mean(epoch_acc)))\n",
        "\n",
        "# Помните, что метки классов должны иметь тип данных torch.long для использования с CrossEntropyLoss."
      ],
      "metadata": {
        "id": "F0yxgz-1ajBS"
      },
      "execution_count": null,
      "outputs": []
    },
    {
      "cell_type": "code",
      "source": [
        "from sklearn.metrics import precision_score, recall_score, f1_score\n",
        "\n",
        "model.eval()\n",
        "predictions = []\n",
        "targets = []\n",
        "\n",
        "with torch.no_grad():\n",
        "    for data in val_dataloader:\n",
        "        vac_emb, res_emb, target = [d.to(device) for d in data]\n",
        "        logits = model(vac_emb, res_emb)\n",
        "        probs = torch.softmax(logits, dim=1)  # Примените softmax для получения вероятностей классов\n",
        "        preds = torch.argmax(probs, dim=1)  # Используйте argmax для получения предсказаний классов\n",
        "        predictions.extend(preds.to('cpu').numpy())\n",
        "        targets.extend(target.to('cpu').numpy())\n",
        "\n",
        "# Вы можете распечатать precision, recall и f1-score используя predictions и targets\n",
        "precision = precision_score(targets, predictions)\n",
        "recall = recall_score(targets, predictions)\n",
        "f1 = f1_score(targets, predictions)\n",
        "\n",
        "# Вместо рассчета собственной функции потерь, вы можете использовать функцию потерь CrossEntropyLoss\n",
        "# Если хотите рассчитать потери на валидационном dataset\n",
        "loss_fn = nn.CrossEntropyLoss()\n",
        "val_loss = 0\n",
        "with torch.no_grad():\n",
        "    for data in val_dataloader:\n",
        "        vac_emb, res_emb, target = [d.to(device) for d in data]\n",
        "        logits = model(vac_emb, res_emb)\n",
        "        loss_t = loss_fn(logits, target)\n",
        "        val_loss += loss_t.item()\n",
        "val_loss /= len(val_dataloader)\n",
        "\n",
        "print(f'Precision: {precision:.4f}, Recall: {recall:.4f}, F1-Score: {f1:.4f}')\n",
        "print('Validation Loss: ', val_loss)"
      ],
      "metadata": {
        "colab": {
          "base_uri": "https://localhost:8080/"
        },
        "id": "7TgF8f8Ca2Ba",
        "outputId": "f00ad6fb-4888-417a-eb34-53ebbd865ddd"
      },
      "execution_count": null,
      "outputs": [
        {
          "output_type": "stream",
          "name": "stdout",
          "text": [
            "Precision: 0.3333, Recall: 0.4667, F1-Score: 0.3889\n",
            "Validation Loss:  0.6841718050012732\n"
          ]
        }
      ]
    },
    {
      "cell_type": "code",
      "source": [
        "torch.save(model.state_dict(), 'rrr.pth')"
      ],
      "metadata": {
        "id": "EXpF_0G2crFT"
      },
      "execution_count": null,
      "outputs": []
    },
    {
      "cell_type": "code",
      "source": [
        "the_model = SiameseFFN(in_size).to(device)\n",
        "the_model.load_state_dict(torch.load('/content/rrr.pth'))"
      ],
      "metadata": {
        "colab": {
          "base_uri": "https://localhost:8080/"
        },
        "id": "A3sTfXNkfJOX",
        "outputId": "591ce8ec-e515-4059-f0ed-d6f76441f564"
      },
      "execution_count": null,
      "outputs": [
        {
          "output_type": "execute_result",
          "data": {
            "text/plain": [
              "<All keys matched successfully>"
            ]
          },
          "metadata": {},
          "execution_count": 252
        }
      ]
    },
    {
      "cell_type": "markdown",
      "source": [
        "## inference of SiameseFNN"
      ],
      "metadata": {
        "id": "L_wv_Ryp0zgg"
      }
    },
    {
      "cell_type": "code",
      "source": [
        "!pip install googletrans==3.1.0a0"
      ],
      "metadata": {
        "colab": {
          "base_uri": "https://localhost:8080/"
        },
        "id": "IWGtOoie2iOd",
        "outputId": "65bdd854-b20c-4136-d30e-c68f6c22c959"
      },
      "execution_count": 105,
      "outputs": [
        {
          "output_type": "stream",
          "name": "stdout",
          "text": [
            "Requirement already satisfied: googletrans==3.1.0a0 in /usr/local/lib/python3.10/dist-packages (3.1.0a0)\n",
            "Requirement already satisfied: httpx==0.13.3 in /usr/local/lib/python3.10/dist-packages (from googletrans==3.1.0a0) (0.13.3)\n",
            "Requirement already satisfied: certifi in /usr/local/lib/python3.10/dist-packages (from httpx==0.13.3->googletrans==3.1.0a0) (2024.2.2)\n",
            "Requirement already satisfied: hstspreload in /usr/local/lib/python3.10/dist-packages (from httpx==0.13.3->googletrans==3.1.0a0) (2024.2.1)\n",
            "Requirement already satisfied: sniffio in /usr/local/lib/python3.10/dist-packages (from httpx==0.13.3->googletrans==3.1.0a0) (1.3.0)\n",
            "Requirement already satisfied: chardet==3.* in /usr/local/lib/python3.10/dist-packages (from httpx==0.13.3->googletrans==3.1.0a0) (3.0.4)\n",
            "Requirement already satisfied: idna==2.* in /usr/local/lib/python3.10/dist-packages (from httpx==0.13.3->googletrans==3.1.0a0) (2.10)\n",
            "Requirement already satisfied: rfc3986<2,>=1.3 in /usr/local/lib/python3.10/dist-packages (from httpx==0.13.3->googletrans==3.1.0a0) (1.5.0)\n",
            "Requirement already satisfied: httpcore==0.9.* in /usr/local/lib/python3.10/dist-packages (from httpx==0.13.3->googletrans==3.1.0a0) (0.9.1)\n",
            "Requirement already satisfied: h11<0.10,>=0.8 in /usr/local/lib/python3.10/dist-packages (from httpcore==0.9.*->httpx==0.13.3->googletrans==3.1.0a0) (0.9.0)\n",
            "Requirement already satisfied: h2==3.* in /usr/local/lib/python3.10/dist-packages (from httpcore==0.9.*->httpx==0.13.3->googletrans==3.1.0a0) (3.2.0)\n",
            "Requirement already satisfied: hyperframe<6,>=5.2.0 in /usr/local/lib/python3.10/dist-packages (from h2==3.*->httpcore==0.9.*->httpx==0.13.3->googletrans==3.1.0a0) (5.2.0)\n",
            "Requirement already satisfied: hpack<4,>=3.0 in /usr/local/lib/python3.10/dist-packages (from h2==3.*->httpcore==0.9.*->httpx==0.13.3->googletrans==3.1.0a0) (3.0.0)\n"
          ]
        }
      ]
    },
    {
      "cell_type": "code",
      "source": [
        "in_size = model_for_emb_firstly.get_sentence_embedding_dimension() # encoder size 768"
      ],
      "metadata": {
        "id": "L4OFRpUb1Q0X"
      },
      "execution_count": 106,
      "outputs": []
    },
    {
      "cell_type": "code",
      "source": [
        "class SiameseFFN(nn.Module):\n",
        "  def __init__(self, in_size, hid_size=100, out_size=2):\n",
        "    super().__init__()\n",
        "    self.in_size = in_size # size of input embeddings\n",
        "    self.hid_size = hid_size\n",
        "    self.out_size = out_size # 2 (0 or 1)\n",
        "    self.fc11 = nn.Linear(in_size, hid_size)\n",
        "    self.fc12 = nn.Linear(hid_size, hid_size // 2)\n",
        "    self.fc13 = nn.Linear(hid_size // 2, hid_size)\n",
        "    self.fc21 = nn.Linear(in_size, hid_size)\n",
        "    self.fc22 = nn.Linear(hid_size, hid_size // 2)\n",
        "    self.fc23 = nn.Linear(hid_size // 2, hid_size)\n",
        "    self.relu = nn.ReLU()\n",
        "    self.bn1 = nn.BatchNorm1d(hid_size)\n",
        "    self.bn2 = nn.BatchNorm1d(hid_size // 2)\n",
        "\n",
        "    self.classifier = nn.Linear(in_features=hid_size * 3,\n",
        "                                            out_features=out_size)\n",
        "\n",
        "  def forward(self, inp_emb1, inp_emb2):\n",
        "    out11 = self.bn1(self.relu(self.fc11(inp_emb1)))\n",
        "    out12 = self.bn2(self.relu(self.fc12(out11)))\n",
        "    out13 = self.fc13(out12)\n",
        "    out21 = self.bn1(self.relu(self.fc21(inp_emb2)))\n",
        "    out22 = self.bn2(self.relu(self.fc22(out21)))\n",
        "    out23 = self.fc23(out22)\n",
        "    # res = F.pairwise_distance(out13, out23, keepdim=True) # F.cosine_similarity(out13, out23) - euclidean\n",
        "    #logits = self.final_fc(res.unsqueeze(1)) # + mu = (cosine_sim(resume_keywords_emb, vacancy_keywords_emb))\n",
        "    x = torch.cat([out13, out23, abs(out13-out23)], dim=1) # (u, v, |u-v|)\n",
        "    x = self.classifier(x)\n",
        "    return x"
      ],
      "metadata": {
        "id": "vvCoQk0k1Q8z"
      },
      "execution_count": 107,
      "outputs": []
    },
    {
      "cell_type": "code",
      "source": [
        "the_model = SiameseFFN(in_size).to(device)\n",
        "the_model.load_state_dict(torch.load('/content/rrr.pth'))"
      ],
      "metadata": {
        "colab": {
          "base_uri": "https://localhost:8080/"
        },
        "id": "AV344j221bcG",
        "outputId": "f52fa9cc-2345-4937-c09c-a7c243ee52e3"
      },
      "execution_count": 108,
      "outputs": [
        {
          "output_type": "execute_result",
          "data": {
            "text/plain": [
              "<All keys matched successfully>"
            ]
          },
          "metadata": {},
          "execution_count": 108
        }
      ]
    },
    {
      "cell_type": "code",
      "source": [
        "from sentence_transformers import SentenceTransformer"
      ],
      "metadata": {
        "id": "e3ZqC-oxtdd-"
      },
      "execution_count": 109,
      "outputs": []
    },
    {
      "cell_type": "code",
      "source": [
        "with open('/content/case_2_reference_without_resume_sorted.json', encoding='utf-8') as f:\n",
        "   data_2 = json.load(f)"
      ],
      "metadata": {
        "id": "RTB_4g21rImT"
      },
      "execution_count": 110,
      "outputs": []
    },
    {
      "cell_type": "code",
      "source": [
        "data_2 = [data_2]\n",
        "df = pd.DataFrame(data_2)"
      ],
      "metadata": {
        "id": "_QvOMJh7rMY8"
      },
      "execution_count": 111,
      "outputs": []
    },
    {
      "cell_type": "code",
      "source": [
        "# NB\n",
        "triplets = []\n",
        "for vac_ix, vacancy in df.iterrows():\n",
        "  for resume in df['resumes'][vac_ix]:\n",
        "    triplets.append([vacancy[0], resume])"
      ],
      "metadata": {
        "id": "n1cjvYSNqT8H"
      },
      "execution_count": 112,
      "outputs": []
    },
    {
      "cell_type": "code",
      "source": [
        "# Создадим пустой DataFrame, в который будем добавлять сформированные DataFrame\n",
        "full_df_1 = pd.DataFrame()\n",
        "\n",
        "for ind, sublist in enumerate(triplets):\n",
        "    df1 = pd.DataFrame([{'vacancy': sublist[0]}])\n",
        "    df2 = pd.DataFrame([{'resume': sublist[1]}])\n",
        "    combined_df = pd.concat([df1, df2], axis=1)\n",
        "    full_df_1 = pd.concat([full_df_1, combined_df], ignore_index=True)"
      ],
      "metadata": {
        "id": "XT48oFjvqT8H"
      },
      "execution_count": 113,
      "outputs": []
    },
    {
      "cell_type": "code",
      "source": [
        "full_df_1.head()"
      ],
      "metadata": {
        "colab": {
          "base_uri": "https://localhost:8080/",
          "height": 206
        },
        "id": "PPqF4d2XtEUC",
        "outputId": "52d292bf-b29b-4911-e420-fd3144763de0"
      },
      "execution_count": 114,
      "outputs": [
        {
          "output_type": "execute_result",
          "data": {
            "text/plain": [
              "                                             vacancy  \\\n",
              "0  {'uuid': '8b9c8d16-c7f0-38a2-b80c-d94030c15a6f...   \n",
              "1  {'uuid': '8b9c8d16-c7f0-38a2-b80c-d94030c15a6f...   \n",
              "2  {'uuid': '8b9c8d16-c7f0-38a2-b80c-d94030c15a6f...   \n",
              "3  {'uuid': '8b9c8d16-c7f0-38a2-b80c-d94030c15a6f...   \n",
              "4  {'uuid': '8b9c8d16-c7f0-38a2-b80c-d94030c15a6f...   \n",
              "\n",
              "                                              resume  \n",
              "0  {'uuid': '0dfe8e63-d7a3-3fe4-b9d7-1b8122158f33...  \n",
              "1  {'uuid': 'f8b69e24-e2c0-3186-9578-380835eb2ee7...  \n",
              "2  {'uuid': 'e3976e74-e71b-34db-8e98-08dc422fa567...  \n",
              "3  {'uuid': '9a9c3ff1-49f8-30dd-a294-e56fc60cae64...  \n",
              "4  {'uuid': '6561771c-7ef3-3e50-ab3a-ba8547201480...  "
            ],
            "text/html": [
              "\n",
              "  <div id=\"df-94fbeb30-27c0-4cae-b643-939be17c9d9e\" class=\"colab-df-container\">\n",
              "    <div>\n",
              "<style scoped>\n",
              "    .dataframe tbody tr th:only-of-type {\n",
              "        vertical-align: middle;\n",
              "    }\n",
              "\n",
              "    .dataframe tbody tr th {\n",
              "        vertical-align: top;\n",
              "    }\n",
              "\n",
              "    .dataframe thead th {\n",
              "        text-align: right;\n",
              "    }\n",
              "</style>\n",
              "<table border=\"1\" class=\"dataframe\">\n",
              "  <thead>\n",
              "    <tr style=\"text-align: right;\">\n",
              "      <th></th>\n",
              "      <th>vacancy</th>\n",
              "      <th>resume</th>\n",
              "    </tr>\n",
              "  </thead>\n",
              "  <tbody>\n",
              "    <tr>\n",
              "      <th>0</th>\n",
              "      <td>{'uuid': '8b9c8d16-c7f0-38a2-b80c-d94030c15a6f...</td>\n",
              "      <td>{'uuid': '0dfe8e63-d7a3-3fe4-b9d7-1b8122158f33...</td>\n",
              "    </tr>\n",
              "    <tr>\n",
              "      <th>1</th>\n",
              "      <td>{'uuid': '8b9c8d16-c7f0-38a2-b80c-d94030c15a6f...</td>\n",
              "      <td>{'uuid': 'f8b69e24-e2c0-3186-9578-380835eb2ee7...</td>\n",
              "    </tr>\n",
              "    <tr>\n",
              "      <th>2</th>\n",
              "      <td>{'uuid': '8b9c8d16-c7f0-38a2-b80c-d94030c15a6f...</td>\n",
              "      <td>{'uuid': 'e3976e74-e71b-34db-8e98-08dc422fa567...</td>\n",
              "    </tr>\n",
              "    <tr>\n",
              "      <th>3</th>\n",
              "      <td>{'uuid': '8b9c8d16-c7f0-38a2-b80c-d94030c15a6f...</td>\n",
              "      <td>{'uuid': '9a9c3ff1-49f8-30dd-a294-e56fc60cae64...</td>\n",
              "    </tr>\n",
              "    <tr>\n",
              "      <th>4</th>\n",
              "      <td>{'uuid': '8b9c8d16-c7f0-38a2-b80c-d94030c15a6f...</td>\n",
              "      <td>{'uuid': '6561771c-7ef3-3e50-ab3a-ba8547201480...</td>\n",
              "    </tr>\n",
              "  </tbody>\n",
              "</table>\n",
              "</div>\n",
              "    <div class=\"colab-df-buttons\">\n",
              "\n",
              "  <div class=\"colab-df-container\">\n",
              "    <button class=\"colab-df-convert\" onclick=\"convertToInteractive('df-94fbeb30-27c0-4cae-b643-939be17c9d9e')\"\n",
              "            title=\"Convert this dataframe to an interactive table.\"\n",
              "            style=\"display:none;\">\n",
              "\n",
              "  <svg xmlns=\"http://www.w3.org/2000/svg\" height=\"24px\" viewBox=\"0 -960 960 960\">\n",
              "    <path d=\"M120-120v-720h720v720H120Zm60-500h600v-160H180v160Zm220 220h160v-160H400v160Zm0 220h160v-160H400v160ZM180-400h160v-160H180v160Zm440 0h160v-160H620v160ZM180-180h160v-160H180v160Zm440 0h160v-160H620v160Z\"/>\n",
              "  </svg>\n",
              "    </button>\n",
              "\n",
              "  <style>\n",
              "    .colab-df-container {\n",
              "      display:flex;\n",
              "      gap: 12px;\n",
              "    }\n",
              "\n",
              "    .colab-df-convert {\n",
              "      background-color: #E8F0FE;\n",
              "      border: none;\n",
              "      border-radius: 50%;\n",
              "      cursor: pointer;\n",
              "      display: none;\n",
              "      fill: #1967D2;\n",
              "      height: 32px;\n",
              "      padding: 0 0 0 0;\n",
              "      width: 32px;\n",
              "    }\n",
              "\n",
              "    .colab-df-convert:hover {\n",
              "      background-color: #E2EBFA;\n",
              "      box-shadow: 0px 1px 2px rgba(60, 64, 67, 0.3), 0px 1px 3px 1px rgba(60, 64, 67, 0.15);\n",
              "      fill: #174EA6;\n",
              "    }\n",
              "\n",
              "    .colab-df-buttons div {\n",
              "      margin-bottom: 4px;\n",
              "    }\n",
              "\n",
              "    [theme=dark] .colab-df-convert {\n",
              "      background-color: #3B4455;\n",
              "      fill: #D2E3FC;\n",
              "    }\n",
              "\n",
              "    [theme=dark] .colab-df-convert:hover {\n",
              "      background-color: #434B5C;\n",
              "      box-shadow: 0px 1px 3px 1px rgba(0, 0, 0, 0.15);\n",
              "      filter: drop-shadow(0px 1px 2px rgba(0, 0, 0, 0.3));\n",
              "      fill: #FFFFFF;\n",
              "    }\n",
              "  </style>\n",
              "\n",
              "    <script>\n",
              "      const buttonEl =\n",
              "        document.querySelector('#df-94fbeb30-27c0-4cae-b643-939be17c9d9e button.colab-df-convert');\n",
              "      buttonEl.style.display =\n",
              "        google.colab.kernel.accessAllowed ? 'block' : 'none';\n",
              "\n",
              "      async function convertToInteractive(key) {\n",
              "        const element = document.querySelector('#df-94fbeb30-27c0-4cae-b643-939be17c9d9e');\n",
              "        const dataTable =\n",
              "          await google.colab.kernel.invokeFunction('convertToInteractive',\n",
              "                                                    [key], {});\n",
              "        if (!dataTable) return;\n",
              "\n",
              "        const docLinkHtml = 'Like what you see? Visit the ' +\n",
              "          '<a target=\"_blank\" href=https://colab.research.google.com/notebooks/data_table.ipynb>data table notebook</a>'\n",
              "          + ' to learn more about interactive tables.';\n",
              "        element.innerHTML = '';\n",
              "        dataTable['output_type'] = 'display_data';\n",
              "        await google.colab.output.renderOutput(dataTable, element);\n",
              "        const docLink = document.createElement('div');\n",
              "        docLink.innerHTML = docLinkHtml;\n",
              "        element.appendChild(docLink);\n",
              "      }\n",
              "    </script>\n",
              "  </div>\n",
              "\n",
              "\n",
              "<div id=\"df-beceb734-a817-4d73-95fc-a2604d6a9e94\">\n",
              "  <button class=\"colab-df-quickchart\" onclick=\"quickchart('df-beceb734-a817-4d73-95fc-a2604d6a9e94')\"\n",
              "            title=\"Suggest charts\"\n",
              "            style=\"display:none;\">\n",
              "\n",
              "<svg xmlns=\"http://www.w3.org/2000/svg\" height=\"24px\"viewBox=\"0 0 24 24\"\n",
              "     width=\"24px\">\n",
              "    <g>\n",
              "        <path d=\"M19 3H5c-1.1 0-2 .9-2 2v14c0 1.1.9 2 2 2h14c1.1 0 2-.9 2-2V5c0-1.1-.9-2-2-2zM9 17H7v-7h2v7zm4 0h-2V7h2v10zm4 0h-2v-4h2v4z\"/>\n",
              "    </g>\n",
              "</svg>\n",
              "  </button>\n",
              "\n",
              "<style>\n",
              "  .colab-df-quickchart {\n",
              "      --bg-color: #E8F0FE;\n",
              "      --fill-color: #1967D2;\n",
              "      --hover-bg-color: #E2EBFA;\n",
              "      --hover-fill-color: #174EA6;\n",
              "      --disabled-fill-color: #AAA;\n",
              "      --disabled-bg-color: #DDD;\n",
              "  }\n",
              "\n",
              "  [theme=dark] .colab-df-quickchart {\n",
              "      --bg-color: #3B4455;\n",
              "      --fill-color: #D2E3FC;\n",
              "      --hover-bg-color: #434B5C;\n",
              "      --hover-fill-color: #FFFFFF;\n",
              "      --disabled-bg-color: #3B4455;\n",
              "      --disabled-fill-color: #666;\n",
              "  }\n",
              "\n",
              "  .colab-df-quickchart {\n",
              "    background-color: var(--bg-color);\n",
              "    border: none;\n",
              "    border-radius: 50%;\n",
              "    cursor: pointer;\n",
              "    display: none;\n",
              "    fill: var(--fill-color);\n",
              "    height: 32px;\n",
              "    padding: 0;\n",
              "    width: 32px;\n",
              "  }\n",
              "\n",
              "  .colab-df-quickchart:hover {\n",
              "    background-color: var(--hover-bg-color);\n",
              "    box-shadow: 0 1px 2px rgba(60, 64, 67, 0.3), 0 1px 3px 1px rgba(60, 64, 67, 0.15);\n",
              "    fill: var(--button-hover-fill-color);\n",
              "  }\n",
              "\n",
              "  .colab-df-quickchart-complete:disabled,\n",
              "  .colab-df-quickchart-complete:disabled:hover {\n",
              "    background-color: var(--disabled-bg-color);\n",
              "    fill: var(--disabled-fill-color);\n",
              "    box-shadow: none;\n",
              "  }\n",
              "\n",
              "  .colab-df-spinner {\n",
              "    border: 2px solid var(--fill-color);\n",
              "    border-color: transparent;\n",
              "    border-bottom-color: var(--fill-color);\n",
              "    animation:\n",
              "      spin 1s steps(1) infinite;\n",
              "  }\n",
              "\n",
              "  @keyframes spin {\n",
              "    0% {\n",
              "      border-color: transparent;\n",
              "      border-bottom-color: var(--fill-color);\n",
              "      border-left-color: var(--fill-color);\n",
              "    }\n",
              "    20% {\n",
              "      border-color: transparent;\n",
              "      border-left-color: var(--fill-color);\n",
              "      border-top-color: var(--fill-color);\n",
              "    }\n",
              "    30% {\n",
              "      border-color: transparent;\n",
              "      border-left-color: var(--fill-color);\n",
              "      border-top-color: var(--fill-color);\n",
              "      border-right-color: var(--fill-color);\n",
              "    }\n",
              "    40% {\n",
              "      border-color: transparent;\n",
              "      border-right-color: var(--fill-color);\n",
              "      border-top-color: var(--fill-color);\n",
              "    }\n",
              "    60% {\n",
              "      border-color: transparent;\n",
              "      border-right-color: var(--fill-color);\n",
              "    }\n",
              "    80% {\n",
              "      border-color: transparent;\n",
              "      border-right-color: var(--fill-color);\n",
              "      border-bottom-color: var(--fill-color);\n",
              "    }\n",
              "    90% {\n",
              "      border-color: transparent;\n",
              "      border-bottom-color: var(--fill-color);\n",
              "    }\n",
              "  }\n",
              "</style>\n",
              "\n",
              "  <script>\n",
              "    async function quickchart(key) {\n",
              "      const quickchartButtonEl =\n",
              "        document.querySelector('#' + key + ' button');\n",
              "      quickchartButtonEl.disabled = true;  // To prevent multiple clicks.\n",
              "      quickchartButtonEl.classList.add('colab-df-spinner');\n",
              "      try {\n",
              "        const charts = await google.colab.kernel.invokeFunction(\n",
              "            'suggestCharts', [key], {});\n",
              "      } catch (error) {\n",
              "        console.error('Error during call to suggestCharts:', error);\n",
              "      }\n",
              "      quickchartButtonEl.classList.remove('colab-df-spinner');\n",
              "      quickchartButtonEl.classList.add('colab-df-quickchart-complete');\n",
              "    }\n",
              "    (() => {\n",
              "      let quickchartButtonEl =\n",
              "        document.querySelector('#df-beceb734-a817-4d73-95fc-a2604d6a9e94 button');\n",
              "      quickchartButtonEl.style.display =\n",
              "        google.colab.kernel.accessAllowed ? 'block' : 'none';\n",
              "    })();\n",
              "  </script>\n",
              "</div>\n",
              "    </div>\n",
              "  </div>\n"
            ],
            "application/vnd.google.colaboratory.intrinsic+json": {
              "type": "dataframe",
              "variable_name": "full_df_1",
              "summary": "{\n  \"name\": \"full_df_1\",\n  \"rows\": 113,\n  \"fields\": [\n    {\n      \"column\": \"vacancy\",\n      \"properties\": {\n        \"dtype\": \"object\",\n        \"semantic_type\": \"\",\n        \"description\": \"\"\n      }\n    },\n    {\n      \"column\": \"resume\",\n      \"properties\": {\n        \"dtype\": \"object\",\n        \"semantic_type\": \"\",\n        \"description\": \"\"\n      }\n    }\n  ]\n}"
            }
          },
          "metadata": {},
          "execution_count": 114
        }
      ]
    },
    {
      "cell_type": "code",
      "source": [
        "model_for_emb_firstly = SentenceTransformer('all-distilroberta-v1')"
      ],
      "metadata": {
        "id": "Yto1oDdnqT8H"
      },
      "execution_count": 127,
      "outputs": []
    },
    {
      "cell_type": "code",
      "source": [
        "token_column_mapping_for_work = {\n",
        "    'Работодатель': 'employer',\n",
        "    'Город': 'city',\n",
        "    'Профессия': 'position',\n",
        "    'Описание': 'description'\n",
        "}\n",
        "\n",
        "token_column_mapping_for_education = {\n",
        "    'Год окончания обучения': 'year',\n",
        "    'Учебное учереждение': 'organization',\n",
        "    'Факультет': 'faculty',\n",
        "    'Специальность': 'specialty',\n",
        "    'Результат обучения': 'result',\n",
        "    'Тип образования': 'education_type',\n",
        "    'Уровень образования': 'education_level'\n",
        "}\n",
        "\n",
        "\n",
        "vac_uuid = []\n",
        "vac_name = []\n",
        "vac_keywords = []\n",
        "vac_description = []\n",
        "vac_comment = []\n",
        "for vacancy in full_df_1['vacancy']:\n",
        "  vac_uuid.append(vacancy['uuid'])\n",
        "  vac_name.append(vacancy['name'])\n",
        "  vac_keywords.append(vacancy['keywords'])\n",
        "  vac_description.append(vacancy['description'])\n",
        "  vac_comment.append(vacancy['comment'])\n",
        "\n",
        "full_df_1['vacancy_uuid'] = vac_uuid\n",
        "full_df_1['vacancy_name'] = vac_name\n",
        "full_df_1['vacancy_keywords'] = vac_keywords\n",
        "full_df_1['vacancy_description'] = vac_description\n",
        "full_df_1['vacancy_comment'] = vac_comment\n",
        "\n",
        "\n",
        "res_uuid = []\n",
        "res_name = []\n",
        "res_surname = []\n",
        "res_birth = []\n",
        "res_country = []\n",
        "res_city = []\n",
        "res_about = []\n",
        "res_key_skills = []\n",
        "for resume in full_df_1['resume']:\n",
        "  res_uuid.append(resume['uuid'])\n",
        "  res_name.append(resume['first_name'])\n",
        "  res_surname.append(resume['last_name'])\n",
        "  res_birth.append(resume['birth_date'])\n",
        "  res_country.append(resume['country'])\n",
        "  res_city.append(resume['city'])\n",
        "  res_about.append(resume['about'])\n",
        "  res_key_skills.append(resume['key_skills'])\n",
        "\n",
        "# добавим взвешенные эмбеддинги опыта работы (было бы, но время инференса...'(((sad')\n",
        "work_exp = []\n",
        "for ids in range(full_df_1['resume'].shape[0]):\n",
        "  if 'experienceItem' in full_df_1['resume'][ids]:\n",
        "    exp_text = []\n",
        "    for i in full_df_1['resume'][ids]['experienceItem']:\n",
        "      exp_text.append(concatenate_text_columns_for_dict(i, token_column_mapping_for_work))\n",
        "    work_exp.append('; Следующая работа: '.join(exp_text))\n",
        "  else:\n",
        "    work_exp.append('Нет опыта работы')\n",
        "full_df_1['resume_work_exp'] = work_exp\n",
        "\n",
        "\n",
        "education = []\n",
        "for ids in range(full_df_1['resume'].shape[0]):\n",
        "  if 'educationItem' in full_df_1['resume'][ids]:\n",
        "    education_text = []\n",
        "    for i in full_df_1['resume'][ids]['educationItem']:\n",
        "      education_text.append(concatenate_text_columns_for_dict(i, token_column_mapping_for_education))\n",
        "    education.append('; Следующее образование: '.join(education_text))\n",
        "  else:\n",
        "    education.append('Нет образования')\n",
        "\n",
        "full_df_1['resume_educationItem'] = education\n",
        "\n",
        "full_df_1['resume_uuid'] = res_uuid\n",
        "full_df_1['resume_name'] = res_name\n",
        "full_df_1['resume_surname'] = res_surname\n",
        "full_df_1['resume_birth'] = res_birth\n",
        "full_df_1['resume_country'] = res_country\n",
        "full_df_1['resume_city'] = res_city\n",
        "full_df_1['resume_about'] = res_about\n",
        "full_df_1['resume_key_skills'] = res_key_skills"
      ],
      "metadata": {
        "id": "7ZtjFI8-qT8H"
      },
      "execution_count": 128,
      "outputs": []
    },
    {
      "cell_type": "code",
      "source": [
        "full_df_1['resume_birth'] = full_df_1['resume_birth'].apply(lambda x: f'Дата рождения: {int(x[:4])}' if x is not None else 'Дата рождения: неизвестно')"
      ],
      "metadata": {
        "id": "h8DdGPG3qT8I"
      },
      "execution_count": 129,
      "outputs": []
    },
    {
      "cell_type": "code",
      "source": [
        "full_df_1 = full_df_1.fillna(' ')"
      ],
      "metadata": {
        "id": "ejOMzF7GqT8I"
      },
      "execution_count": 130,
      "outputs": []
    },
    {
      "cell_type": "code",
      "source": [
        "resume_columns = [\n",
        "    'resume_birth',\n",
        "    'resume_country',\n",
        "    'resume_city',\n",
        "    'resume_about',\n",
        "    'resume_key_skills',\n",
        "    'resume_work_exp',\n",
        "    'resume_educationItem'\n",
        "]\n",
        "\n",
        "vacancy_columns = [\n",
        "    'vacancy_name',\n",
        "    'vacancy_keywords',\n",
        "    'vacancy_description',\n",
        "    'vacancy_comment'\n",
        "]"
      ],
      "metadata": {
        "id": "QKFlUqRlqT8I"
      },
      "execution_count": 131,
      "outputs": []
    },
    {
      "cell_type": "code",
      "source": [
        "from googletrans import Translator\n",
        "translator = Translator()"
      ],
      "metadata": {
        "id": "he2qZODXqT8I"
      },
      "execution_count": 132,
      "outputs": []
    },
    {
      "cell_type": "code",
      "source": [
        "full_df_1.head()"
      ],
      "metadata": {
        "colab": {
          "base_uri": "https://localhost:8080/",
          "height": 504
        },
        "outputId": "45a9c396-d193-4aaf-a79a-bc3da8f1f4e5",
        "id": "nZ5fhOvJqT8I"
      },
      "execution_count": 133,
      "outputs": [
        {
          "output_type": "execute_result",
          "data": {
            "text/plain": [
              "                                             vacancy  \\\n",
              "0  {'uuid': '8b9c8d16-c7f0-38a2-b80c-d94030c15a6f...   \n",
              "1  {'uuid': '8b9c8d16-c7f0-38a2-b80c-d94030c15a6f...   \n",
              "2  {'uuid': '8b9c8d16-c7f0-38a2-b80c-d94030c15a6f...   \n",
              "3  {'uuid': '8b9c8d16-c7f0-38a2-b80c-d94030c15a6f...   \n",
              "4  {'uuid': '8b9c8d16-c7f0-38a2-b80c-d94030c15a6f...   \n",
              "\n",
              "                                              resume  \\\n",
              "0  {'uuid': '0dfe8e63-d7a3-3fe4-b9d7-1b8122158f33...   \n",
              "1  {'uuid': 'f8b69e24-e2c0-3186-9578-380835eb2ee7...   \n",
              "2  {'uuid': 'e3976e74-e71b-34db-8e98-08dc422fa567...   \n",
              "3  {'uuid': '9a9c3ff1-49f8-30dd-a294-e56fc60cae64...   \n",
              "4  {'uuid': '6561771c-7ef3-3e50-ab3a-ba8547201480...   \n",
              "\n",
              "                           vacancy_uuid      vacancy_name  \\\n",
              "0  8b9c8d16-c7f0-38a2-b80c-d94030c15a6f  Java разработчик   \n",
              "1  8b9c8d16-c7f0-38a2-b80c-d94030c15a6f  Java разработчик   \n",
              "2  8b9c8d16-c7f0-38a2-b80c-d94030c15a6f  Java разработчик   \n",
              "3  8b9c8d16-c7f0-38a2-b80c-d94030c15a6f  Java разработчик   \n",
              "4  8b9c8d16-c7f0-38a2-b80c-d94030c15a6f  Java разработчик   \n",
              "\n",
              "                         vacancy_keywords  \\\n",
              "0  Kafka, Java, RxJava, Hystrix, MongoDB    \n",
              "1  Kafka, Java, RxJava, Hystrix, MongoDB    \n",
              "2  Kafka, Java, RxJava, Hystrix, MongoDB    \n",
              "3  Kafka, Java, RxJava, Hystrix, MongoDB    \n",
              "4  Kafka, Java, RxJava, Hystrix, MongoDB    \n",
              "\n",
              "                                 vacancy_description vacancy_comment  \\\n",
              "0  Требования: 4+ года опыта работы с Java 8+ или...                   \n",
              "1  Требования: 4+ года опыта работы с Java 8+ или...                   \n",
              "2  Требования: 4+ года опыта работы с Java 8+ или...                   \n",
              "3  Требования: 4+ года опыта работы с Java 8+ или...                   \n",
              "4  Требования: 4+ года опыта работы с Java 8+ или...                   \n",
              "\n",
              "                                     resume_work_exp  \\\n",
              "0  Работодатель: МКК АсбоцементАлмаз Город: Кашир...   \n",
              "1  Работодатель: ПАО ХозАвто Город: Талдом Профес...   \n",
              "2  Работодатель: ООО Компания Рос Город: Мытищи П...   \n",
              "3  Работодатель: ОАО ПивТехCиб Город: Серпухов Пр...   \n",
              "4  Работодатель: ООО Компания ЮпитерХмельГлавЛизи...   \n",
              "\n",
              "                                resume_educationItem  \\\n",
              "0  Год окончания обучения: 2021 Учебное учережден...   \n",
              "1                                    Нет образования   \n",
              "2  Год окончания обучения: 2009 Учебное учережден...   \n",
              "3  Год окончания обучения: 2013 Учебное учережден...   \n",
              "4  Год окончания обучения: 2015 Учебное учережден...   \n",
              "\n",
              "                            resume_uuid resume_name resume_surname  \\\n",
              "0  0dfe8e63-d7a3-3fe4-b9d7-1b8122158f33        Клим       Тетерина   \n",
              "1  f8b69e24-e2c0-3186-9578-380835eb2ee7       Алиса      Ситникова   \n",
              "2  e3976e74-e71b-34db-8e98-08dc422fa567    Розалина        Андреев   \n",
              "3  9a9c3ff1-49f8-30dd-a294-e56fc60cae64       Антон     Кудрявцева   \n",
              "4  6561771c-7ef3-3e50-ab3a-ba8547201480  Александра         Панова   \n",
              "\n",
              "          resume_birth resume_country      resume_city  \\\n",
              "0  Дата рождения: 1991         Россия           Москва   \n",
              "1  Дата рождения: 1990         Россия  Нижний Новгород   \n",
              "2  Дата рождения: 1990         Россия  Санкт-Петербург   \n",
              "3  Дата рождения: 1990         Россия           Москва   \n",
              "4  Дата рождения: 1995         Россия           Москва   \n",
              "\n",
              "                                        resume_about  \\\n",
              "0  Личные качества: ответственность, лидерство, г...   \n",
              "1   Обязанности: в составе группы поддержки я отв...   \n",
              "2   Обучаемость Коммуникабельность Организованнос...   \n",
              "3   Общий опыт разработки на различных языках про...   \n",
              "4   О себе: Java/Kotlin-разработчик, знаю Spring ...   \n",
              "\n",
              "                                   resume_key_skills  \\\n",
              "0  Java Core, Spring Framework, Hibernate ORM, Po...   \n",
              "1  Java 8-17, Java SE, Java EE, Spring Framework ...   \n",
              "2  Java 8 и 11, osgi, postgresql, testng, mockito...   \n",
              "3  Java EE, Spring Framework, Intellij IDEA, Рабо...   \n",
              "4                                                      \n",
              "\n",
              "                         vacancy_combined_embeddings  \\\n",
              "0  [0.0046033477, -0.07264344, -0.044480376, -0.0...   \n",
              "1  [0.0046033477, -0.07264344, -0.044480376, -0.0...   \n",
              "2  [0.0046033477, -0.07264344, -0.044480376, -0.0...   \n",
              "3  [0.0046033477, -0.07264344, -0.044480376, -0.0...   \n",
              "4  [0.0046033477, -0.07264344, -0.044480376, -0.0...   \n",
              "\n",
              "                          resume_combined_embeddings  \n",
              "0  [0.01333458, -0.031135717, -0.018367697, -0.01...  \n",
              "1  [0.048155703, -0.03476631, -0.031778317, 0.063...  \n",
              "2  [0.029880596, -0.036468796, -0.025189156, -0.0...  \n",
              "3  [0.028740466, -0.029280052, -0.0049284394, 0.0...  \n",
              "4  [0.013411299, -0.057327613, -0.04154252, 0.072...  "
            ],
            "text/html": [
              "\n",
              "  <div id=\"df-095e0880-4121-4c5e-b00c-19d71bc9dfff\" class=\"colab-df-container\">\n",
              "    <div>\n",
              "<style scoped>\n",
              "    .dataframe tbody tr th:only-of-type {\n",
              "        vertical-align: middle;\n",
              "    }\n",
              "\n",
              "    .dataframe tbody tr th {\n",
              "        vertical-align: top;\n",
              "    }\n",
              "\n",
              "    .dataframe thead th {\n",
              "        text-align: right;\n",
              "    }\n",
              "</style>\n",
              "<table border=\"1\" class=\"dataframe\">\n",
              "  <thead>\n",
              "    <tr style=\"text-align: right;\">\n",
              "      <th></th>\n",
              "      <th>vacancy</th>\n",
              "      <th>resume</th>\n",
              "      <th>vacancy_uuid</th>\n",
              "      <th>vacancy_name</th>\n",
              "      <th>vacancy_keywords</th>\n",
              "      <th>vacancy_description</th>\n",
              "      <th>vacancy_comment</th>\n",
              "      <th>resume_work_exp</th>\n",
              "      <th>resume_educationItem</th>\n",
              "      <th>resume_uuid</th>\n",
              "      <th>resume_name</th>\n",
              "      <th>resume_surname</th>\n",
              "      <th>resume_birth</th>\n",
              "      <th>resume_country</th>\n",
              "      <th>resume_city</th>\n",
              "      <th>resume_about</th>\n",
              "      <th>resume_key_skills</th>\n",
              "      <th>vacancy_combined_embeddings</th>\n",
              "      <th>resume_combined_embeddings</th>\n",
              "    </tr>\n",
              "  </thead>\n",
              "  <tbody>\n",
              "    <tr>\n",
              "      <th>0</th>\n",
              "      <td>{'uuid': '8b9c8d16-c7f0-38a2-b80c-d94030c15a6f...</td>\n",
              "      <td>{'uuid': '0dfe8e63-d7a3-3fe4-b9d7-1b8122158f33...</td>\n",
              "      <td>8b9c8d16-c7f0-38a2-b80c-d94030c15a6f</td>\n",
              "      <td>Java разработчик</td>\n",
              "      <td>Kafka, Java, RxJava, Hystrix, MongoDB</td>\n",
              "      <td>Требования: 4+ года опыта работы с Java 8+ или...</td>\n",
              "      <td></td>\n",
              "      <td>Работодатель: МКК АсбоцементАлмаз Город: Кашир...</td>\n",
              "      <td>Год окончания обучения: 2021 Учебное учережден...</td>\n",
              "      <td>0dfe8e63-d7a3-3fe4-b9d7-1b8122158f33</td>\n",
              "      <td>Клим</td>\n",
              "      <td>Тетерина</td>\n",
              "      <td>Дата рождения: 1991</td>\n",
              "      <td>Россия</td>\n",
              "      <td>Москва</td>\n",
              "      <td>Личные качества: ответственность, лидерство, г...</td>\n",
              "      <td>Java Core, Spring Framework, Hibernate ORM, Po...</td>\n",
              "      <td>[0.0046033477, -0.07264344, -0.044480376, -0.0...</td>\n",
              "      <td>[0.01333458, -0.031135717, -0.018367697, -0.01...</td>\n",
              "    </tr>\n",
              "    <tr>\n",
              "      <th>1</th>\n",
              "      <td>{'uuid': '8b9c8d16-c7f0-38a2-b80c-d94030c15a6f...</td>\n",
              "      <td>{'uuid': 'f8b69e24-e2c0-3186-9578-380835eb2ee7...</td>\n",
              "      <td>8b9c8d16-c7f0-38a2-b80c-d94030c15a6f</td>\n",
              "      <td>Java разработчик</td>\n",
              "      <td>Kafka, Java, RxJava, Hystrix, MongoDB</td>\n",
              "      <td>Требования: 4+ года опыта работы с Java 8+ или...</td>\n",
              "      <td></td>\n",
              "      <td>Работодатель: ПАО ХозАвто Город: Талдом Профес...</td>\n",
              "      <td>Нет образования</td>\n",
              "      <td>f8b69e24-e2c0-3186-9578-380835eb2ee7</td>\n",
              "      <td>Алиса</td>\n",
              "      <td>Ситникова</td>\n",
              "      <td>Дата рождения: 1990</td>\n",
              "      <td>Россия</td>\n",
              "      <td>Нижний Новгород</td>\n",
              "      <td>Обязанности: в составе группы поддержки я отв...</td>\n",
              "      <td>Java 8-17, Java SE, Java EE, Spring Framework ...</td>\n",
              "      <td>[0.0046033477, -0.07264344, -0.044480376, -0.0...</td>\n",
              "      <td>[0.048155703, -0.03476631, -0.031778317, 0.063...</td>\n",
              "    </tr>\n",
              "    <tr>\n",
              "      <th>2</th>\n",
              "      <td>{'uuid': '8b9c8d16-c7f0-38a2-b80c-d94030c15a6f...</td>\n",
              "      <td>{'uuid': 'e3976e74-e71b-34db-8e98-08dc422fa567...</td>\n",
              "      <td>8b9c8d16-c7f0-38a2-b80c-d94030c15a6f</td>\n",
              "      <td>Java разработчик</td>\n",
              "      <td>Kafka, Java, RxJava, Hystrix, MongoDB</td>\n",
              "      <td>Требования: 4+ года опыта работы с Java 8+ или...</td>\n",
              "      <td></td>\n",
              "      <td>Работодатель: ООО Компания Рос Город: Мытищи П...</td>\n",
              "      <td>Год окончания обучения: 2009 Учебное учережден...</td>\n",
              "      <td>e3976e74-e71b-34db-8e98-08dc422fa567</td>\n",
              "      <td>Розалина</td>\n",
              "      <td>Андреев</td>\n",
              "      <td>Дата рождения: 1990</td>\n",
              "      <td>Россия</td>\n",
              "      <td>Санкт-Петербург</td>\n",
              "      <td>Обучаемость Коммуникабельность Организованнос...</td>\n",
              "      <td>Java 8 и 11, osgi, postgresql, testng, mockito...</td>\n",
              "      <td>[0.0046033477, -0.07264344, -0.044480376, -0.0...</td>\n",
              "      <td>[0.029880596, -0.036468796, -0.025189156, -0.0...</td>\n",
              "    </tr>\n",
              "    <tr>\n",
              "      <th>3</th>\n",
              "      <td>{'uuid': '8b9c8d16-c7f0-38a2-b80c-d94030c15a6f...</td>\n",
              "      <td>{'uuid': '9a9c3ff1-49f8-30dd-a294-e56fc60cae64...</td>\n",
              "      <td>8b9c8d16-c7f0-38a2-b80c-d94030c15a6f</td>\n",
              "      <td>Java разработчик</td>\n",
              "      <td>Kafka, Java, RxJava, Hystrix, MongoDB</td>\n",
              "      <td>Требования: 4+ года опыта работы с Java 8+ или...</td>\n",
              "      <td></td>\n",
              "      <td>Работодатель: ОАО ПивТехCиб Город: Серпухов Пр...</td>\n",
              "      <td>Год окончания обучения: 2013 Учебное учережден...</td>\n",
              "      <td>9a9c3ff1-49f8-30dd-a294-e56fc60cae64</td>\n",
              "      <td>Антон</td>\n",
              "      <td>Кудрявцева</td>\n",
              "      <td>Дата рождения: 1990</td>\n",
              "      <td>Россия</td>\n",
              "      <td>Москва</td>\n",
              "      <td>Общий опыт разработки на различных языках про...</td>\n",
              "      <td>Java EE, Spring Framework, Intellij IDEA, Рабо...</td>\n",
              "      <td>[0.0046033477, -0.07264344, -0.044480376, -0.0...</td>\n",
              "      <td>[0.028740466, -0.029280052, -0.0049284394, 0.0...</td>\n",
              "    </tr>\n",
              "    <tr>\n",
              "      <th>4</th>\n",
              "      <td>{'uuid': '8b9c8d16-c7f0-38a2-b80c-d94030c15a6f...</td>\n",
              "      <td>{'uuid': '6561771c-7ef3-3e50-ab3a-ba8547201480...</td>\n",
              "      <td>8b9c8d16-c7f0-38a2-b80c-d94030c15a6f</td>\n",
              "      <td>Java разработчик</td>\n",
              "      <td>Kafka, Java, RxJava, Hystrix, MongoDB</td>\n",
              "      <td>Требования: 4+ года опыта работы с Java 8+ или...</td>\n",
              "      <td></td>\n",
              "      <td>Работодатель: ООО Компания ЮпитерХмельГлавЛизи...</td>\n",
              "      <td>Год окончания обучения: 2015 Учебное учережден...</td>\n",
              "      <td>6561771c-7ef3-3e50-ab3a-ba8547201480</td>\n",
              "      <td>Александра</td>\n",
              "      <td>Панова</td>\n",
              "      <td>Дата рождения: 1995</td>\n",
              "      <td>Россия</td>\n",
              "      <td>Москва</td>\n",
              "      <td>О себе: Java/Kotlin-разработчик, знаю Spring ...</td>\n",
              "      <td></td>\n",
              "      <td>[0.0046033477, -0.07264344, -0.044480376, -0.0...</td>\n",
              "      <td>[0.013411299, -0.057327613, -0.04154252, 0.072...</td>\n",
              "    </tr>\n",
              "  </tbody>\n",
              "</table>\n",
              "</div>\n",
              "    <div class=\"colab-df-buttons\">\n",
              "\n",
              "  <div class=\"colab-df-container\">\n",
              "    <button class=\"colab-df-convert\" onclick=\"convertToInteractive('df-095e0880-4121-4c5e-b00c-19d71bc9dfff')\"\n",
              "            title=\"Convert this dataframe to an interactive table.\"\n",
              "            style=\"display:none;\">\n",
              "\n",
              "  <svg xmlns=\"http://www.w3.org/2000/svg\" height=\"24px\" viewBox=\"0 -960 960 960\">\n",
              "    <path d=\"M120-120v-720h720v720H120Zm60-500h600v-160H180v160Zm220 220h160v-160H400v160Zm0 220h160v-160H400v160ZM180-400h160v-160H180v160Zm440 0h160v-160H620v160ZM180-180h160v-160H180v160Zm440 0h160v-160H620v160Z\"/>\n",
              "  </svg>\n",
              "    </button>\n",
              "\n",
              "  <style>\n",
              "    .colab-df-container {\n",
              "      display:flex;\n",
              "      gap: 12px;\n",
              "    }\n",
              "\n",
              "    .colab-df-convert {\n",
              "      background-color: #E8F0FE;\n",
              "      border: none;\n",
              "      border-radius: 50%;\n",
              "      cursor: pointer;\n",
              "      display: none;\n",
              "      fill: #1967D2;\n",
              "      height: 32px;\n",
              "      padding: 0 0 0 0;\n",
              "      width: 32px;\n",
              "    }\n",
              "\n",
              "    .colab-df-convert:hover {\n",
              "      background-color: #E2EBFA;\n",
              "      box-shadow: 0px 1px 2px rgba(60, 64, 67, 0.3), 0px 1px 3px 1px rgba(60, 64, 67, 0.15);\n",
              "      fill: #174EA6;\n",
              "    }\n",
              "\n",
              "    .colab-df-buttons div {\n",
              "      margin-bottom: 4px;\n",
              "    }\n",
              "\n",
              "    [theme=dark] .colab-df-convert {\n",
              "      background-color: #3B4455;\n",
              "      fill: #D2E3FC;\n",
              "    }\n",
              "\n",
              "    [theme=dark] .colab-df-convert:hover {\n",
              "      background-color: #434B5C;\n",
              "      box-shadow: 0px 1px 3px 1px rgba(0, 0, 0, 0.15);\n",
              "      filter: drop-shadow(0px 1px 2px rgba(0, 0, 0, 0.3));\n",
              "      fill: #FFFFFF;\n",
              "    }\n",
              "  </style>\n",
              "\n",
              "    <script>\n",
              "      const buttonEl =\n",
              "        document.querySelector('#df-095e0880-4121-4c5e-b00c-19d71bc9dfff button.colab-df-convert');\n",
              "      buttonEl.style.display =\n",
              "        google.colab.kernel.accessAllowed ? 'block' : 'none';\n",
              "\n",
              "      async function convertToInteractive(key) {\n",
              "        const element = document.querySelector('#df-095e0880-4121-4c5e-b00c-19d71bc9dfff');\n",
              "        const dataTable =\n",
              "          await google.colab.kernel.invokeFunction('convertToInteractive',\n",
              "                                                    [key], {});\n",
              "        if (!dataTable) return;\n",
              "\n",
              "        const docLinkHtml = 'Like what you see? Visit the ' +\n",
              "          '<a target=\"_blank\" href=https://colab.research.google.com/notebooks/data_table.ipynb>data table notebook</a>'\n",
              "          + ' to learn more about interactive tables.';\n",
              "        element.innerHTML = '';\n",
              "        dataTable['output_type'] = 'display_data';\n",
              "        await google.colab.output.renderOutput(dataTable, element);\n",
              "        const docLink = document.createElement('div');\n",
              "        docLink.innerHTML = docLinkHtml;\n",
              "        element.appendChild(docLink);\n",
              "      }\n",
              "    </script>\n",
              "  </div>\n",
              "\n",
              "\n",
              "<div id=\"df-c6b744e2-550b-49a9-beff-79ff0e090dc3\">\n",
              "  <button class=\"colab-df-quickchart\" onclick=\"quickchart('df-c6b744e2-550b-49a9-beff-79ff0e090dc3')\"\n",
              "            title=\"Suggest charts\"\n",
              "            style=\"display:none;\">\n",
              "\n",
              "<svg xmlns=\"http://www.w3.org/2000/svg\" height=\"24px\"viewBox=\"0 0 24 24\"\n",
              "     width=\"24px\">\n",
              "    <g>\n",
              "        <path d=\"M19 3H5c-1.1 0-2 .9-2 2v14c0 1.1.9 2 2 2h14c1.1 0 2-.9 2-2V5c0-1.1-.9-2-2-2zM9 17H7v-7h2v7zm4 0h-2V7h2v10zm4 0h-2v-4h2v4z\"/>\n",
              "    </g>\n",
              "</svg>\n",
              "  </button>\n",
              "\n",
              "<style>\n",
              "  .colab-df-quickchart {\n",
              "      --bg-color: #E8F0FE;\n",
              "      --fill-color: #1967D2;\n",
              "      --hover-bg-color: #E2EBFA;\n",
              "      --hover-fill-color: #174EA6;\n",
              "      --disabled-fill-color: #AAA;\n",
              "      --disabled-bg-color: #DDD;\n",
              "  }\n",
              "\n",
              "  [theme=dark] .colab-df-quickchart {\n",
              "      --bg-color: #3B4455;\n",
              "      --fill-color: #D2E3FC;\n",
              "      --hover-bg-color: #434B5C;\n",
              "      --hover-fill-color: #FFFFFF;\n",
              "      --disabled-bg-color: #3B4455;\n",
              "      --disabled-fill-color: #666;\n",
              "  }\n",
              "\n",
              "  .colab-df-quickchart {\n",
              "    background-color: var(--bg-color);\n",
              "    border: none;\n",
              "    border-radius: 50%;\n",
              "    cursor: pointer;\n",
              "    display: none;\n",
              "    fill: var(--fill-color);\n",
              "    height: 32px;\n",
              "    padding: 0;\n",
              "    width: 32px;\n",
              "  }\n",
              "\n",
              "  .colab-df-quickchart:hover {\n",
              "    background-color: var(--hover-bg-color);\n",
              "    box-shadow: 0 1px 2px rgba(60, 64, 67, 0.3), 0 1px 3px 1px rgba(60, 64, 67, 0.15);\n",
              "    fill: var(--button-hover-fill-color);\n",
              "  }\n",
              "\n",
              "  .colab-df-quickchart-complete:disabled,\n",
              "  .colab-df-quickchart-complete:disabled:hover {\n",
              "    background-color: var(--disabled-bg-color);\n",
              "    fill: var(--disabled-fill-color);\n",
              "    box-shadow: none;\n",
              "  }\n",
              "\n",
              "  .colab-df-spinner {\n",
              "    border: 2px solid var(--fill-color);\n",
              "    border-color: transparent;\n",
              "    border-bottom-color: var(--fill-color);\n",
              "    animation:\n",
              "      spin 1s steps(1) infinite;\n",
              "  }\n",
              "\n",
              "  @keyframes spin {\n",
              "    0% {\n",
              "      border-color: transparent;\n",
              "      border-bottom-color: var(--fill-color);\n",
              "      border-left-color: var(--fill-color);\n",
              "    }\n",
              "    20% {\n",
              "      border-color: transparent;\n",
              "      border-left-color: var(--fill-color);\n",
              "      border-top-color: var(--fill-color);\n",
              "    }\n",
              "    30% {\n",
              "      border-color: transparent;\n",
              "      border-left-color: var(--fill-color);\n",
              "      border-top-color: var(--fill-color);\n",
              "      border-right-color: var(--fill-color);\n",
              "    }\n",
              "    40% {\n",
              "      border-color: transparent;\n",
              "      border-right-color: var(--fill-color);\n",
              "      border-top-color: var(--fill-color);\n",
              "    }\n",
              "    60% {\n",
              "      border-color: transparent;\n",
              "      border-right-color: var(--fill-color);\n",
              "    }\n",
              "    80% {\n",
              "      border-color: transparent;\n",
              "      border-right-color: var(--fill-color);\n",
              "      border-bottom-color: var(--fill-color);\n",
              "    }\n",
              "    90% {\n",
              "      border-color: transparent;\n",
              "      border-bottom-color: var(--fill-color);\n",
              "    }\n",
              "  }\n",
              "</style>\n",
              "\n",
              "  <script>\n",
              "    async function quickchart(key) {\n",
              "      const quickchartButtonEl =\n",
              "        document.querySelector('#' + key + ' button');\n",
              "      quickchartButtonEl.disabled = true;  // To prevent multiple clicks.\n",
              "      quickchartButtonEl.classList.add('colab-df-spinner');\n",
              "      try {\n",
              "        const charts = await google.colab.kernel.invokeFunction(\n",
              "            'suggestCharts', [key], {});\n",
              "      } catch (error) {\n",
              "        console.error('Error during call to suggestCharts:', error);\n",
              "      }\n",
              "      quickchartButtonEl.classList.remove('colab-df-spinner');\n",
              "      quickchartButtonEl.classList.add('colab-df-quickchart-complete');\n",
              "    }\n",
              "    (() => {\n",
              "      let quickchartButtonEl =\n",
              "        document.querySelector('#df-c6b744e2-550b-49a9-beff-79ff0e090dc3 button');\n",
              "      quickchartButtonEl.style.display =\n",
              "        google.colab.kernel.accessAllowed ? 'block' : 'none';\n",
              "    })();\n",
              "  </script>\n",
              "</div>\n",
              "    </div>\n",
              "  </div>\n"
            ],
            "application/vnd.google.colaboratory.intrinsic+json": {
              "type": "dataframe",
              "variable_name": "full_df_1",
              "summary": "{\n  \"name\": \"full_df_1\",\n  \"rows\": 113,\n  \"fields\": [\n    {\n      \"column\": \"vacancy\",\n      \"properties\": {\n        \"dtype\": \"object\",\n        \"semantic_type\": \"\",\n        \"description\": \"\"\n      }\n    },\n    {\n      \"column\": \"resume\",\n      \"properties\": {\n        \"dtype\": \"object\",\n        \"semantic_type\": \"\",\n        \"description\": \"\"\n      }\n    },\n    {\n      \"column\": \"vacancy_uuid\",\n      \"properties\": {\n        \"dtype\": \"category\",\n        \"num_unique_values\": 1,\n        \"samples\": [\n          \"8b9c8d16-c7f0-38a2-b80c-d94030c15a6f\"\n        ],\n        \"semantic_type\": \"\",\n        \"description\": \"\"\n      }\n    },\n    {\n      \"column\": \"vacancy_name\",\n      \"properties\": {\n        \"dtype\": \"category\",\n        \"num_unique_values\": 1,\n        \"samples\": [\n          \"Java \\u0440\\u0430\\u0437\\u0440\\u0430\\u0431\\u043e\\u0442\\u0447\\u0438\\u043a\"\n        ],\n        \"semantic_type\": \"\",\n        \"description\": \"\"\n      }\n    },\n    {\n      \"column\": \"vacancy_keywords\",\n      \"properties\": {\n        \"dtype\": \"category\",\n        \"num_unique_values\": 1,\n        \"samples\": [\n          \"Kafka, Java, RxJava, Hystrix, MongoDB \"\n        ],\n        \"semantic_type\": \"\",\n        \"description\": \"\"\n      }\n    },\n    {\n      \"column\": \"vacancy_description\",\n      \"properties\": {\n        \"dtype\": \"category\",\n        \"num_unique_values\": 1,\n        \"samples\": [\n          \"\\u0422\\u0440\\u0435\\u0431\\u043e\\u0432\\u0430\\u043d\\u0438\\u044f: 4+ \\u0433\\u043e\\u0434\\u0430 \\u043e\\u043f\\u044b\\u0442\\u0430 \\u0440\\u0430\\u0431\\u043e\\u0442\\u044b \\u0441 Java 8+ \\u0438\\u043b\\u0438 Kotlin 4+ \\u0433\\u043e\\u0434\\u0430 \\u043e\\u043f\\u044b\\u0442\\u0430 \\u0440\\u0430\\u0431\\u043e\\u0442\\u044b \\u0441 Spring \\u0438 2+ \\u0433\\u043e\\u0434 \\u0440\\u0430\\u0431\\u043e\\u0442\\u044b \\u0441 Spring Boot. \\u041e\\u043f\\u044b\\u0442 \\u0440\\u0430\\u0431\\u043e\\u0442\\u044b \\u0441 \\u0441\\u0438\\u0441\\u0442\\u0435\\u043c\\u0430\\u043c\\u0438 \\u043d\\u0430 \\u043c\\u0438\\u043a\\u0440\\u043e\\u0441\\u0435\\u0440\\u0432\\u0438\\u0441\\u043d\\u043e\\u0439 \\u0430\\u0440\\u0445\\u0438\\u0442\\u0435\\u043a\\u0442\\u0443\\u0440\\u0435 (Spring Cloud, Kubernetes, Openshift \\u0438\\u043b\\u0438 \\u0430\\u043d\\u0430\\u043b\\u043e\\u0433\\u0438). \\u041e\\u043f\\u044b\\u0442 \\u0440\\u0430\\u0431\\u043e\\u0442\\u044b \\u0441 Docker. \\u041e\\u043f\\u044b\\u0442 \\u0440\\u0430\\u0431\\u043e\\u0442\\u044b \\u0441 3-\\u043c\\u044f \\u043b\\u044e\\u0431\\u044b\\u043c\\u0438 \\u0438\\u0437 \\u0441\\u043b\\u0435\\u0434\\u0443\\u044e\\u0449\\u0438\\u0445 \\u0442\\u0435\\u0445\\u043d\\u043e\\u043b\\u043e\\u0433\\u0438\\u0439 NoSQL (MongoDB, Elasticsearch, \\u0430\\u043d\\u0430\\u043b\\u043e\\u0433\\u0438) SQL (PostgreSQL, Oracle, \\u0430\\u043d\\u0430\\u043b\\u043e\\u0433\\u0438) \\u0411\\u0440\\u043e\\u043a\\u0435\\u0440\\u044b \\u0441\\u043e\\u043e\\u0431\\u0449\\u0435\\u043d\\u0438\\u0439 (Kafka, RabbitMQ, \\u0430\\u043d\\u0430\\u043b\\u043e\\u0433\\u0438) Reactive programming (RxJava, Project Reactor) Cache (Redis, Hazelcast). \\u041d\\u0430\\u0441\\u0442\\u0440\\u043e\\u0439\\u043a\\u0430 CI/CD (GitlabCI, Jenkins, \\u0430\\u043d\\u0430\\u043b\\u043e\\u0433\\u0438). \\u041d\\u0430\\u0441\\u0442\\u0440\\u043e\\u0439\\u043a\\u0430 \\u0441\\u0440\\u0435\\u0434\\u0441\\u0442\\u0432 \\u043c\\u043e\\u043d\\u0438\\u0442\\u043e\\u0440\\u0438\\u043d\\u0433\\u0430 (Zabbix, Prometheus). \\u041d\\u0430\\u0441\\u0442\\u0440\\u043e\\u0439\\u043a\\u0430 \\u0441\\u0440\\u0435\\u0434\\u0441\\u0442\\u0432 \\u043b\\u043e\\u0433\\u0438\\u0440\\u043e\\u0432\\u0430\\u043d\\u0438\\u044f (Graylog, ELK). \\u0411\\u0443\\u0434\\u0435\\u0442 \\u0445\\u043e\\u0440\\u043e\\u0448\\u043e, \\u0435\\u0441\\u043b\\u0438 \\u043a\\u0430\\u043d\\u0434\\u0438\\u0434\\u0430\\u0442: \\u0417\\u043d\\u0430\\u0435\\u0442 \\u0432\\u0441\\u0435 \\u0442\\u0435\\u0445\\u043d\\u043e\\u043b\\u043e\\u0433\\u0438\\u0438 \\u0438\\u0437 \\u043f\\u0435\\u0440\\u0432\\u043e\\u0433\\u043e \\u043f\\u0443\\u043d\\u043a\\u0442\\u0430; \\u0423\\u0447\\u0430\\u0441\\u0442\\u0432\\u043e\\u0432\\u0430\\u043b \\u0432 \\u043f\\u0440\\u043e\\u0440\\u0430\\u0431\\u043e\\u0442\\u043a\\u0435 \\u0430\\u0440\\u0445\\u0438\\u0442\\u0435\\u043a\\u0442\\u0443\\u0440\\u044b \\u0438 \\u043c\\u043e\\u0436\\u0435\\u0442 \\u043e\\u0431\\u044a\\u044f\\u0441\\u043d\\u0438\\u0442\\u044c \\u0432\\u0441\\u0435 \\u0440\\u0435\\u0448\\u0435\\u043d\\u0438\\u044f \\u043d\\u0430 \\u0441\\u0432\\u043e\\u0435\\u043c \\u043f\\u0440\\u043e\\u0435\\u043a\\u0442\\u0435; \\u0413\\u043e\\u0442\\u043e\\u0432 \\u0434\\u0440\\u0430\\u0439\\u0432\\u0438\\u0442\\u044c \\u0442\\u0435\\u0445\\u043d\\u0438\\u0447\\u0435\\u0441\\u043a\\u043e\\u0435 \\u0440\\u0430\\u0437\\u0432\\u0438\\u0442\\u0438\\u0435 \\u0441\\u0438\\u0441\\u0442\\u0435\\u043c, \\u0430 \\u043d\\u0435 \\u043f\\u0440\\u043e\\u0441\\u0442\\u043e \\u0441\\u043b\\u0435\\u0434\\u043e\\u0432\\u0430\\u0442\\u044c \\u0442\\u0435\\u043a\\u0443\\u0449\\u0438\\u043c \\u0441\\u0442\\u0430\\u043d\\u0434\\u0430\\u0440\\u0442\\u0430\\u043c; \\u0418\\u043c\\u0435\\u0435\\u0442 \\u0434\\u0440\\u0443\\u0436\\u0435\\u0441\\u043a\\u0438\\u0435 \\u043e\\u0442\\u043d\\u043e\\u0448\\u0435\\u043d\\u0438\\u044f \\u0441 DevOps, \\u043f\\u0430\\u0439\\u043f\\u043b\\u0430\\u0439\\u043d\\u044b, \\u043a\\u043e\\u043d\\u0442\\u0435\\u0439\\u043d\\u0435\\u0440\\u0438\\u0437\\u0430\\u0446\\u0438\\u044f \\u0438 \\u043e\\u0440\\u043a\\u0435\\u0441\\u0442\\u0440\\u0430\\u0446\\u0438\\u044f, Linux; \\u041f\\u043e\\u043d\\u0438\\u043c\\u0430\\u0435\\u0442 \\u043c\\u0438\\u043a\\u0440\\u043e\\u0441\\u0435\\u0440\\u0432\\u0438\\u0441\\u043d\\u0443\\u044e \\u0430\\u0440\\u0445\\u0438\\u0442\\u0435\\u043a\\u0442\\u0443\\u0440\\u044b \\u0438 \\u0443\\u0441\\u0442\\u0440\\u043e\\u0439\\u0441\\u0442\\u0432\\u043e \\u0440\\u0430\\u0441\\u043f\\u0440\\u0435\\u0434\\u0435\\u043b\\u0435\\u043d\\u043d\\u044b\\u0445 \\u0441\\u0438\\u0441\\u0442\\u0435\\u043c; \\u0423\\u0447\\u0430\\u0441\\u0442\\u0432\\u043e\\u0432\\u0430\\u043b \\u0432 \\u043f\\u043e\\u0434\\u0431\\u043e\\u0440\\u0435 \\u0438 \\u043e\\u043d\\u0431\\u043e\\u0440\\u0434\\u0438\\u043d\\u0433\\u0435 \\u043d\\u043e\\u0432\\u044b\\u0445 \\u0441\\u043e\\u0442\\u0440\\u0443\\u0434\\u043d\\u0438\\u043a\\u043e\\u0432; \\u0423\\u043c\\u0435\\u0435\\u0442 \\u0438 \\u0445\\u043e\\u0447\\u0435\\u0442 \\u043f\\u0438\\u0441\\u0430\\u0442\\u044c \\u0442\\u0435\\u0445\\u043d\\u0438\\u0447\\u0435\\u0441\\u043a\\u0438\\u0435 \\u0441\\u0442\\u0430\\u0442\\u044c\\u0438. \\u0420\\u0430\\u0437\\u0432\\u0438\\u0432\\u0430\\u0442\\u044c\\u0441\\u044f \\u0438 \\u0440\\u0430\\u0437\\u0432\\u0438\\u0432\\u0430\\u0442\\u044c \\u043a\\u043e\\u043b\\u043b\\u0435\\u0433/\\u043a\\u043e\\u043c\\u044c\\u044e\\u043d\\u0438\\u0442\\u0438. \\u041f\\u0440\\u043e\\u0432\\u043e\\u0434\\u0438\\u0442\\u044c \\u043a\\u0430\\u043a \\u0440\\u0430\\u0437\\u043e\\u0432\\u044b\\u0435 \\u0442\\u0440\\u0435\\u043d\\u0438\\u043d\\u0433\\u0438, \\u0442\\u0430\\u043a \\u0438 \\u043f\\u043b\\u0430\\u043d\\u0438\\u0440\\u043e\\u0432\\u0430\\u0442\\u044c \\u0434\\u043e\\u043b\\u0433\\u0438\\u0435 \\u043e\\u0431\\u0443\\u0447\\u0435\\u043d\\u0438\\u044f. \\u0427\\u0442\\u043e \\u043f\\u0440\\u0435\\u0434\\u0441\\u0442\\u043e\\u0438\\u0442 \\u0434\\u0435\\u043b\\u0430\\u0442\\u044c: \\u0418\\u0441\\u043f\\u043e\\u043b\\u044c\\u0437\\u043e\\u0432\\u0430\\u0442\\u044c \\u0441\\u0430\\u043c\\u044b\\u0439 \\u0441\\u043e\\u0432\\u0440\\u0435\\u043c\\u0435\\u043d\\u043d\\u044b\\u0439 \\u0442\\u0435\\u0445\\u043d\\u043e\\u043b\\u043e\\u0433\\u0438\\u0447\\u0435\\u0441\\u043a\\u0438\\u0439 \\u0441\\u0442\\u044d\\u043a \\u0434\\u043b\\u044f \\u0441\\u043e\\u0437\\u0434\\u0430\\u043d\\u0438\\u044f FinTech \\u0440\\u0435\\u0448\\u0435\\u043d\\u0438\\u0439; \\u0420\\u0430\\u0437\\u0440\\u0430\\u0431\\u0430\\u0442\\u044b\\u0432\\u0430\\u0442\\u044c \\u043f\\u0440\\u0438\\u043b\\u043e\\u0436\\u0435\\u043d\\u0438\\u044f, \\u043a\\u043e\\u0442\\u043e\\u0440\\u044b\\u0435 \\u043c\\u0430\\u0441\\u0448\\u0442\\u0430\\u0431\\u0438\\u0440\\u0443\\u044e\\u0442\\u0441\\u044f \\u043d\\u0430 \\u0432\\u0441\\u0435 \\u0434\\u0438\\u0441\\u0442\\u0430\\u043d\\u0446\\u0438\\u043e\\u043d\\u043d\\u044b\\u0435 \\u043a\\u0430\\u043d\\u0430\\u043b\\u044b \\u0431\\u0430\\u043d\\u043a\\u0430 (\\u0438\\u043d\\u0442\\u0435\\u0440\\u043d\\u0435\\u0442-\\u0431\\u0430\\u043d\\u043a, \\u043c\\u043e\\u0431\\u0438\\u043b\\u044c\\u043d\\u044b\\u0435 \\u043f\\u0440\\u0438\\u043b\\u043e\\u0436\\u0435\\u043d\\u0438\\u044f, \\u043f\\u043b\\u0430\\u0442\\u0451\\u0436\\u043d\\u044b\\u0435 \\u0441\\u0435\\u0440\\u0432\\u0438\\u0441\\u044b \\u0438 \\u043c\\u043d\\u043e\\u0433\\u043e\\u0435 \\u0434\\u0440\\u0443\\u0433\\u043e\\u0435); \\u0412\\u0437\\u0430\\u0438\\u043c\\u043e\\u0434\\u0435\\u0439\\u0441\\u0442\\u0432\\u043e\\u0432\\u0430\\u0442\\u044c \\u0441 \\u0440\\u0430\\u0437\\u043b\\u0438\\u0447\\u043d\\u044b\\u043c\\u0438 \\u043a\\u043e\\u043c\\u0430\\u043d\\u0434\\u0430\\u043c\\u0438 \\u0440\\u0430\\u0437\\u0440\\u0430\\u0431\\u043e\\u0442\\u043a\\u0438, Data Science, \\u043f\\u043e\\u0434\\u0434\\u0435\\u0440\\u0436\\u043a\\u0438 \\u0438 \\u0434\\u0440\\u0443\\u0433\\u0438\\u043c\\u0438 (\\u043f\\u043e\\u044d\\u0442\\u043e\\u043c\\u0443 \\u043d\\u0435\\u043e\\u0431\\u0445\\u043e\\u0434\\u0438\\u043c\\u044b \\u0445\\u043e\\u0440\\u043e\\u0448\\u0438\\u0435 \\u043d\\u0430\\u0432\\u044b\\u043a\\u0438 \\u043a\\u043e\\u043c\\u043c\\u0443\\u043d\\u0438\\u043a\\u0430\\u0446\\u0438\\u0438 \\u0438\\u043b\\u0438 \\u0436\\u0435\\u043b\\u0430\\u043d\\u0438\\u0435 \\u0438\\u0445 \\u0440\\u0430\\u0437\\u0432\\u0438\\u0432\\u0430\\u0442\\u044c); \\u0412\\u043d\\u043e\\u0441\\u0438\\u0442\\u044c \\u0441\\u0432\\u043e\\u0439 \\u0432\\u043a\\u043b\\u0430\\u0434 \\u0432 \\u0440\\u0430\\u0437\\u0432\\u0438\\u0442\\u0438\\u0435 \\u0430\\u0440\\u0445\\u0438\\u0442\\u0435\\u043a\\u0442\\u0443\\u0440\\u044b, \\u0434\\u0435\\u043b\\u0430\\u0442\\u044c \\u043d\\u043e\\u0432\\u043e\\u0435 \\u0438 \\u043e\\u0446\\u0435\\u043d\\u0438\\u0432\\u0430\\u0442\\u044c \\u0441\\u0442\\u0430\\u0440\\u043e\\u0435. \"\n        ],\n        \"semantic_type\": \"\",\n        \"description\": \"\"\n      }\n    },\n    {\n      \"column\": \"vacancy_comment\",\n      \"properties\": {\n        \"dtype\": \"category\",\n        \"num_unique_values\": 1,\n        \"samples\": [\n          \" \"\n        ],\n        \"semantic_type\": \"\",\n        \"description\": \"\"\n      }\n    },\n    {\n      \"column\": \"resume_work_exp\",\n      \"properties\": {\n        \"dtype\": \"string\",\n        \"num_unique_values\": 113,\n        \"samples\": [\n          \"\\u0420\\u0430\\u0431\\u043e\\u0442\\u043e\\u0434\\u0430\\u0442\\u0435\\u043b\\u044c: \\u041e\\u0410\\u041e \\u0414\\u0438\\u0437\\u0430\\u0439\\u043d\\u041a\\u0440\\u0435\\u043f\\u0413\\u043e\\u0440 \\u0413\\u043e\\u0440\\u043e\\u0434: \\u0421\\u0442\\u0443\\u043f\\u0438\\u043d\\u043e \\u041f\\u0440\\u043e\\u0444\\u0435\\u0441\\u0441\\u0438\\u044f: Java/Kotlin \\u0440\\u0430\\u0437\\u0440\\u0430\\u0431\\u043e\\u0442\\u0447\\u0438\\u043a / Fullstack \\u0440\\u0430\\u0437\\u0440\\u0430\\u0431\\u043e\\u0442\\u0447\\u0438\\u043a \\u041e\\u043f\\u0438\\u0441\\u0430\\u043d\\u0438\\u0435:  \\u0440\\u0430\\u0437\\u0440\\u0430\\u0431\\u043e\\u0442\\u043a\\u0430 backend \\u0447\\u0430\\u0441\\u0442\\u0438 \\u043d\\u0430 Kotlin \\u0438 Java \\u0441 \\u0438\\u0441\\u043f\\u043e\\u043b\\u044c\\u0437\\u043e\\u0432\\u0430\\u043d\\u0438\\u0435\\u043c Spring, Jpa, Exposed, Redis, gRPC, rest4j, Servlets, \\u043f\\u0440\\u0430\\u0432\\u043a\\u0430 \\u0448\\u0430\\u0431\\u043b\\u043e\\u043d\\u043e\\u0432 Freemarker \\u0434\\u043b\\u044f \\u043f\\u0438\\u0441\\u0435\\u043c \\u0438 \\u0438\\u043d\\u0432\\u043e\\u0439\\u0441\\u043e\\u0432. \\u041c\\u0438\\u043a\\u0440\\u043e\\u0441\\u0435\\u0440\\u0432\\u0438\\u0441\\u044b. \\u0440\\u0430\\u0437\\u0440\\u0430\\u0431\\u043e\\u0442\\u043a\\u0430 frontend \\u0447\\u0430\\u0441\\u0442\\u0438 \\u043d\\u0430 GWT, Elm, \\u043d\\u0435\\u0431\\u043e\\u043b\\u044c\\u0448\\u0438\\u0435 \\u043f\\u0440\\u0430\\u0432\\u043a\\u0438 \\u043d\\u0430 VueJS \\u0441 TypeScript. \\u0432\\u043a\\u043b\\u044e\\u0447\\u0435\\u043d\\u0438\\u0435 \\u0444\\u0438\\u0447 \\u043d\\u0430 \\u043f\\u0440\\u043e\\u0434\\u0430\\u043a\\u0448\\u0435\\u043d\\u0435 \\u0441 \\u043f\\u043e\\u043c\\u043e\\u0449\\u044c\\u044e SQL \\u0441\\u043a\\u0440\\u0438\\u043f\\u0442\\u043e\\u0432 \\u043d\\u0430 \\u0431\\u0430\\u0437\\u0435 PostgreSQL \\u043f\\u043e\\u0438\\u0441\\u043a \\u043f\\u0440\\u0438\\u0447\\u0438\\u043d \\u0431\\u0430\\u0433\\u043e\\u0432 \\u043f\\u0440\\u0438\\u0448\\u0435\\u0434\\u0448\\u0438\\u0445 \\u0438\\u0437 \\u0441\\u0430\\u043f\\u043f\\u043e\\u0440\\u0442\\u0430, \\u043f\\u043e\\u0438\\u0441\\u043a \\u0438 \\u0430\\u043d\\u0430\\u043b\\u0438\\u0437 \\u043b\\u043e\\u0433\\u043e\\u0432 \\u043f\\u043e \\u044d\\u0442\\u0438\\u043c \\u0431\\u0430\\u0433\\u0430\\u043c, \\u0441\\u043e\\u0431\\u0440\\u0430\\u043d\\u043d\\u044b\\u0445 \\u0438\\u0437 Clickhouse \\u043d\\u0430\\u0441\\u0442\\u0440\\u043e\\u0439\\u043a\\u0430 \\u043c\\u043e\\u043d\\u0438\\u0442\\u043e\\u0440\\u0438\\u043d\\u0433\\u0430 \\u0432 Grafana \\u0441 VictoriaMetrics \\u043d\\u0430\\u043f\\u0438\\u0441\\u0430\\u043d\\u0438\\u0435 Gradle \\u0442\\u0430\\u0441\\u043a\\u0430 \\u0434\\u043b\\u044f \\u0442\\u0435\\u0441\\u0442\\u0430 \\u0432\\u043e \\u0432\\u0440\\u0435\\u043c\\u044f CI \\u043d\\u0435\\u043c\\u043d\\u043e\\u0433\\u043e \\u0430\\u043d\\u0430\\u043b\\u0438\\u0442\\u0438\\u043a\\u0438, \\u043d\\u0430\\u043f\\u0438\\u0441\\u0430\\u043d\\u0438\\u044f \\u0442\\u0435\\u0441\\u0442 \\u043a\\u0435\\u0439\\u0441\\u043e\\u0432 ; \\u0421\\u043b\\u0435\\u0434\\u0443\\u044e\\u0449\\u0430\\u044f \\u0440\\u0430\\u0431\\u043e\\u0442\\u0430: \\u0420\\u0430\\u0431\\u043e\\u0442\\u043e\\u0434\\u0430\\u0442\\u0435\\u043b\\u044c: \\u041c\\u0424\\u041e \\u0414\\u0438\\u0437\\u0430\\u0439\\u043d \\u0413\\u043e\\u0440\\u043e\\u0434: \\u0417\\u0430\\u0440\\u0430\\u0439\\u0441\\u043a \\u041f\\u0440\\u043e\\u0444\\u0435\\u0441\\u0441\\u0438\\u044f: Java \\u0440\\u0430\\u0437\\u0440\\u0430\\u0431\\u043e\\u0442\\u0447\\u0438\\u043a \\u041e\\u043f\\u0438\\u0441\\u0430\\u043d\\u0438\\u0435:  \\u0440\\u0430\\u0437\\u0440\\u0430\\u0431\\u043e\\u0442\\u043a\\u0430 backend \\u0447\\u0430\\u0441\\u0442\\u0438 \\u043d\\u0430 Java \\u0441 \\u0438\\u0441\\u043f\\u043e\\u043b\\u044c\\u0437\\u043e\\u0432\\u0430\\u043d\\u0438\\u0435\\u043c Java EE7, EJB, JPA, JNDI, JAX-RS. \\u041c\\u043e\\u043d\\u043e\\u043b\\u0438\\u0442 \\u0440\\u0430\\u0437\\u0440\\u0430\\u0431\\u043e\\u0442\\u043a\\u0430 \\u0441\\u043a\\u0440\\u0438\\u043f\\u0442\\u043e\\u0432 \\u0430\\u0433\\u0440\\u0435\\u0433\\u0438\\u0440\\u043e\\u0432\\u0430\\u043d\\u043d\\u044b\\u0445 \\u043e\\u0442\\u0447\\u0435\\u0442\\u043e\\u0432 SQL \\u043d\\u0430 \\u0431\\u043e\\u043b\\u044c\\u0448\\u043e\\u0439 \\u0431\\u0430\\u0437\\u0435 Oracle ; \\u0421\\u043b\\u0435\\u0434\\u0443\\u044e\\u0449\\u0430\\u044f \\u0440\\u0430\\u0431\\u043e\\u0442\\u0430: \\u0420\\u0430\\u0431\\u043e\\u0442\\u043e\\u0434\\u0430\\u0442\\u0435\\u043b\\u044c: \\u041c\\u0424\\u041e \\u0422\\u0440\\u0430\\u043d\\u0441 \\u0413\\u043e\\u0440\\u043e\\u0434: \\u0417\\u0430\\u0440\\u0430\\u0439\\u0441\\u043a \\u041f\\u0440\\u043e\\u0444\\u0435\\u0441\\u0441\\u0438\\u044f: Java \\u0440\\u0430\\u0437\\u0440\\u0430\\u0431\\u043e\\u0442\\u0447\\u0438\\u043a \\u041e\\u043f\\u0438\\u0441\\u0430\\u043d\\u0438\\u0435:  \\u0440\\u0430\\u0437\\u0440\\u0430\\u0431\\u043e\\u0442\\u043a\\u0430 backend \\u0447\\u0430\\u0441\\u0442\\u0438 \\u043d\\u0430 Java \\u0441 \\u0438\\u0441\\u043f\\u043e\\u043b\\u044c\\u0437\\u043e\\u0432\\u0430\\u043d\\u0438\\u0435\\u043c Spring Boot 2, Spring MVC, Spring Data REST, Spring Data JPA, MapStruct. \\u041c\\u043e\\u043d\\u043e\\u043b\\u0438\\u0442 \\u0440\\u0430\\u0431\\u043e\\u0442\\u0430 \\u0441 DevOps \\u0447\\u0430\\u0441\\u0442\\u044c\\u044e, \\u043d\\u0430\\u0441\\u0442\\u0440\\u043e\\u0439\\u043a\\u0430 \\u0434\\u0436\\u043e\\u0431 Jenkins \\u043f\\u043e \\u0442\\u0440\\u0438\\u0433\\u0433\\u0435\\u0440\\u0430\\u043c\\u0438 BitBucket, \\u0434\\u0436\\u043e\\u0431 \\u043f\\u043e \\u043f\\u0443\\u0448\\u0443 \\u0432 docker registry, \\u0432\\u0437\\u0430\\u0438\\u043c\\u043e\\u0434\\u0435\\u0439\\u0441\\u0442\\u0432\\u0438\\u0435 \\u0441\\u043e \\u0441\\u043f\\u0435\\u0446\\u0438\\u0430\\u043b\\u0438\\u0441\\u0442\\u043e\\u043c DevOps \\u0434\\u043b\\u044f \\u043d\\u0430\\u0441\\u0442\\u0440\\u043e\\u0439\\u043a\\u0438 CD \\u0438 Red Shift. \\u0440\\u0430\\u0437\\u0440\\u0430\\u0431\\u043e\\u0442\\u043a\\u0430 \\u0441\\u0445\\u0435\\u043c \\u0431\\u0430\\u0437\\u044b \\u0434\\u0430\\u043d\\u043d\\u044b\\u0445 \\u0434\\u043b\\u044f \\u043f\\u0440\\u0438\\u043b\\u043e\\u0436\\u0435\\u043d\\u0438\\u044f, \\u0440\\u0430\\u0437\\u0440\\u0430\\u0431\\u043e\\u0442\\u043a\\u0430 \\u0432\\u0441\\u043f\\u043e\\u043c\\u043e\\u0433\\u0430\\u0442\\u0435\\u043b\\u044c\\u043d\\u043e\\u0439 \\u0443\\u0442\\u0438\\u043b\\u0438\\u0442\\u044b \\u0434\\u043b\\u044f \\u043f\\u0430\\u0440\\u0441\\u0438\\u043d\\u0433\\u0430 Excel \\u0441 \\u043f\\u043e\\u043c\\u043e\\u0449\\u044c\\u044e Apache POI \\u0438 Lombok \\u0434\\u043b\\u044f \\u0444\\u043e\\u0440\\u043c\\u0438\\u0440\\u043e\\u0432\\u0430\\u043d\\u0438\\u044f \\u0441\\u043a\\u0440\\u0438\\u043f\\u0442\\u043e\\u0432 SQL, \\u0437\\u0430\\u043f\\u043e\\u043b\\u043d\\u044f\\u044e\\u0449\\u0438\\u0445 \\u0431\\u0430\\u0437\\u0443 \\u0434\\u0430\\u043d\\u043d\\u044b\\u0445 PostgreSQL \\u043f\\u0440\\u0430\\u0432\\u043a\\u0430 \\u043c\\u0435\\u043b\\u043a\\u0438\\u0445 \\u0431\\u0430\\u0433\\u043e\\u0432 frontend \\u0447\\u0430\\u0441\\u0442\\u0438 \\u043d\\u0430 ReactJS \"\n        ],\n        \"semantic_type\": \"\",\n        \"description\": \"\"\n      }\n    },\n    {\n      \"column\": \"resume_educationItem\",\n      \"properties\": {\n        \"dtype\": \"string\",\n        \"num_unique_values\": 101,\n        \"samples\": [\n          \"\\u0413\\u043e\\u0434 \\u043e\\u043a\\u043e\\u043d\\u0447\\u0430\\u043d\\u0438\\u044f \\u043e\\u0431\\u0443\\u0447\\u0435\\u043d\\u0438\\u044f: 2020 \\u0423\\u0447\\u0435\\u0431\\u043d\\u043e\\u0435 \\u0443\\u0447\\u0435\\u0440\\u0435\\u0436\\u0434\\u0435\\u043d\\u0438\\u0435: \\u0420\\u0413\\u0420\\u0422\\u0423 \\u0424\\u0430\\u043a\\u0443\\u043b\\u044c\\u0442\\u0435\\u0442: \\u0412\\u044b\\u0447\\u0438\\u0441\\u043b\\u0438\\u0442\\u0435\\u043b\\u044c\\u043d\\u043e\\u0439 \\u0442\\u0435\\u0445\\u043d\\u0438\\u043a\\u0438 \\u0420\\u0435\\u0437\\u0443\\u043b\\u044c\\u0442\\u0430\\u0442 \\u043e\\u0431\\u0443\\u0447\\u0435\\u043d\\u0438\\u044f: \\u0421\\u043f\\u0435\\u0446\\u0438\\u0430\\u043b\\u0438\\u0441\\u0442,  \\u043d\\u0430\\u043f\\u0440\\u0430\\u0432\\u043b\\u0435\\u043d\\u0438\\u0435: \\u0418\\u043d\\u0444\\u043e\\u0440\\u043c\\u0430\\u0446\\u0438\\u043e\\u043d\\u043d\\u0430\\u044f \\u0431\\u0435\\u0437\\u043e\\u043f\\u0430\\u0441\\u043d\\u043e\\u0441\\u0442\\u044c \\u0430\\u0432\\u0442\\u043e\\u043c\\u0430\\u0442\\u0438\\u0437\\u0438\\u0440\\u043e\\u0432\\u0430\\u043d\\u043d\\u044b\\u0445 \\u0441\\u0438\\u0441\\u0442\\u0435\\u043c \\u0422\\u0438\\u043f \\u043e\\u0431\\u0440\\u0430\\u0437\\u043e\\u0432\\u0430\\u043d\\u0438\\u044f: \\u041e\\u0441\\u043d\\u043e\\u0432\\u043d\\u043e\\u0435 \\u0423\\u0440\\u043e\\u0432\\u0435\\u043d\\u044c \\u043e\\u0431\\u0440\\u0430\\u0437\\u043e\\u0432\\u0430\\u043d\\u0438\\u044f: \\u0412\\u044b\\u0441\\u0448\\u0435\\u0435; \\u0421\\u043b\\u0435\\u0434\\u0443\\u044e\\u0449\\u0435\\u0435 \\u043e\\u0431\\u0440\\u0430\\u0437\\u043e\\u0432\\u0430\\u043d\\u0438\\u0435: \\u0413\\u043e\\u0434 \\u043e\\u043a\\u043e\\u043d\\u0447\\u0430\\u043d\\u0438\\u044f \\u043e\\u0431\\u0443\\u0447\\u0435\\u043d\\u0438\\u044f: 2018 \\u0423\\u0447\\u0435\\u0431\\u043d\\u043e\\u0435 \\u0443\\u0447\\u0435\\u0440\\u0435\\u0436\\u0434\\u0435\\u043d\\u0438\\u0435: \\u041d\\u0418\\u042f\\u0423 \\u041c\\u0418\\u0424\\u0418 \\u0424\\u0430\\u043a\\u0443\\u043b\\u044c\\u0442\\u0435\\u0442: \\u041a\\u0438\\u0431\\u0435\\u0440\\u043d\\u0435\\u0442\\u0438\\u043a\\u0438 \\u0438 \\u0438\\u043d\\u0444\\u043e\\u0440\\u043c\\u0430\\u0446\\u0438\\u043e\\u043d\\u043d\\u043e\\u0439 \\u0431\\u0435\\u0437\\u043e\\u043f\\u0430\\u0441\\u043d\\u043e\\u0441\\u0442\\u0438 \\u0420\\u0435\\u0437\\u0443\\u043b\\u044c\\u0442\\u0430\\u0442 \\u043e\\u0431\\u0443\\u0447\\u0435\\u043d\\u0438\\u044f: \\u0421\\u043f\\u0435\\u0446\\u0438\\u0430\\u043b\\u0438\\u0441\\u0442,  \\u043d\\u0430\\u043f\\u0440\\u0430\\u0432\\u043b\\u0435\\u043d\\u0438\\u0435: \\u0418\\u043d\\u0444\\u043e\\u0440\\u043c\\u0430\\u0446\\u0438\\u043e\\u043d\\u043d\\u0430\\u044f \\u0431\\u0435\\u0437\\u043e\\u043f\\u0430\\u0441\\u043d\\u043e\\u0441\\u0442\\u044c \\u0430\\u0432\\u0442\\u043e\\u043c\\u0430\\u0442\\u0438\\u0437\\u0438\\u0440\\u043e\\u0432\\u0430\\u043d\\u043d\\u044b\\u0445 \\u0441\\u0438\\u0441\\u0442\\u0435\\u043c \\u0422\\u0438\\u043f \\u043e\\u0431\\u0440\\u0430\\u0437\\u043e\\u0432\\u0430\\u043d\\u0438\\u044f: \\u041e\\u0441\\u043d\\u043e\\u0432\\u043d\\u043e\\u0435 \\u0423\\u0440\\u043e\\u0432\\u0435\\u043d\\u044c \\u043e\\u0431\\u0440\\u0430\\u0437\\u043e\\u0432\\u0430\\u043d\\u0438\\u044f: \\u0412\\u044b\\u0441\\u0448\\u0435\\u0435; \\u0421\\u043b\\u0435\\u0434\\u0443\\u044e\\u0449\\u0435\\u0435 \\u043e\\u0431\\u0440\\u0430\\u0437\\u043e\\u0432\\u0430\\u043d\\u0438\\u0435: \\u0413\\u043e\\u0434 \\u043e\\u043a\\u043e\\u043d\\u0447\\u0430\\u043d\\u0438\\u044f \\u043e\\u0431\\u0443\\u0447\\u0435\\u043d\\u0438\\u044f: 2019 \\u0423\\u0447\\u0435\\u0431\\u043d\\u043e\\u0435 \\u0443\\u0447\\u0435\\u0440\\u0435\\u0436\\u0434\\u0435\\u043d\\u0438\\u0435: EPAM University Program \\u0424\\u0430\\u043a\\u0443\\u043b\\u044c\\u0442\\u0435\\u0442: External Java Courses \\u0420\\u0435\\u0437\\u0443\\u043b\\u044c\\u0442\\u0430\\u0442 \\u043e\\u0431\\u0443\\u0447\\u0435\\u043d\\u0438\\u044f: Java, JDBC, \\u041e\\u041e\\u041f, Git, Apache Maven, Java SE, Java Servlet \\u0422\\u0438\\u043f \\u043e\\u0431\\u0440\\u0430\\u0437\\u043e\\u0432\\u0430\\u043d\\u0438\\u044f: \\u041f\\u043e\\u0432\\u044b\\u0448\\u0435\\u043d\\u0438\\u0435 \\u043a\\u0432\\u0430\\u043b\\u0438\\u0444\\u0438\\u043a\\u0430\\u0446\\u0438\\u0438\"\n        ],\n        \"semantic_type\": \"\",\n        \"description\": \"\"\n      }\n    },\n    {\n      \"column\": \"resume_uuid\",\n      \"properties\": {\n        \"dtype\": \"string\",\n        \"num_unique_values\": 113,\n        \"samples\": [\n          \"0825069f-c8ee-3ca9-b4f2-753b7a85688a\"\n        ],\n        \"semantic_type\": \"\",\n        \"description\": \"\"\n      }\n    },\n    {\n      \"column\": \"resume_name\",\n      \"properties\": {\n        \"dtype\": \"string\",\n        \"num_unique_values\": 86,\n        \"samples\": [\n          \"\\u041d\\u0438\\u043a\\u043e\\u043b\\u0430\\u0439\"\n        ],\n        \"semantic_type\": \"\",\n        \"description\": \"\"\n      }\n    },\n    {\n      \"column\": \"resume_surname\",\n      \"properties\": {\n        \"dtype\": \"string\",\n        \"num_unique_values\": 103,\n        \"samples\": [\n          \"\\u0410\\u043b\\u0435\\u043a\\u0441\\u0435\\u0435\\u0432\"\n        ],\n        \"semantic_type\": \"\",\n        \"description\": \"\"\n      }\n    },\n    {\n      \"column\": \"resume_birth\",\n      \"properties\": {\n        \"dtype\": \"category\",\n        \"num_unique_values\": 23,\n        \"samples\": [\n          \"\\u0414\\u0430\\u0442\\u0430 \\u0440\\u043e\\u0436\\u0434\\u0435\\u043d\\u0438\\u044f: 2002\"\n        ],\n        \"semantic_type\": \"\",\n        \"description\": \"\"\n      }\n    },\n    {\n      \"column\": \"resume_country\",\n      \"properties\": {\n        \"dtype\": \"category\",\n        \"num_unique_values\": 13,\n        \"samples\": [\n          \"\\u0422\\u0443\\u0440\\u0446\\u0438\\u044f \"\n        ],\n        \"semantic_type\": \"\",\n        \"description\": \"\"\n      }\n    },\n    {\n      \"column\": \"resume_city\",\n      \"properties\": {\n        \"dtype\": \"category\",\n        \"num_unique_values\": 40,\n        \"samples\": [\n          \"\\u041c\\u043e\\u0441\\u043a\\u0432\\u0430 \"\n        ],\n        \"semantic_type\": \"\",\n        \"description\": \"\"\n      }\n    },\n    {\n      \"column\": \"resume_about\",\n      \"properties\": {\n        \"dtype\": \"category\",\n        \"num_unique_values\": 55,\n        \"samples\": [\n          \" \\u2022 \\u0413\\u043b\\u0443\\u0431\\u043e\\u043a\\u043e\\u0435 \\u0437\\u043d\\u0430\\u043d\\u0438\\u0435 Java 8-17, \\u043f\\u0440\\u0438\\u043d\\u0446\\u0438\\u043f\\u043e\\u0432 \\u041e\\u041e\\u041f, \\u0448\\u0430\\u0431\\u043b\\u043e\\u043d\\u043e\\u0432 \\u043f\\u0440\\u043e\\u0435\\u043a\\u0442\\u0438\\u0440\\u043e\\u0432\\u0430\\u043d\\u0438\\u044f, \\u0441\\u0442\\u0440\\u0443\\u043a\\u0442\\u0443\\u0440 \\u0434\\u0430\\u043d\\u043d\\u044b\\u0445 \\u2022 \\u0417\\u043d\\u0430\\u043a\\u043e\\u043c \\u0441 Spring Boot Framework, PostgreSQL, MongoDB, ClickHouse \\u2022 \\u041a\\u043e\\u043c\\u043f\\u0435\\u0442\\u0435\\u043d\\u0442\\u0435\\u043d \\u0432 \\u0441\\u0438\\u0441\\u0442\\u0435\\u043c\\u0430\\u0445 \\u0441\\u0431\\u043e\\u0440\\u043a\\u0438 (Gradle, Maven), \\u0441\\u0438\\u0441\\u0442\\u0435\\u043c\\u0435 \\u043a\\u043e\\u043d\\u0442\\u0440\\u043e\\u043b\\u044f \\u0432\\u0435\\u0440\\u0441\\u0438\\u0439 (Git), \\u043f\\u043b\\u0430\\u0442\\u0444\\u043e\\u0440\\u043c\\u0430\\u0445 \\u0440\\u0430\\u0437\\u0440\\u0430\\u0431\\u043e\\u0442\\u043a\\u0438 (GitHub, GitLab, Bitbucket), \\u0441\\u0435\\u0440\\u0432\\u0435\\u0440\\u0435 \\u043d\\u0435\\u043f\\u0440\\u0435\\u0440\\u044b\\u0432\\u043d\\u043e\\u0439 \\u0434\\u043e\\u0441\\u0442\\u0430\\u0432\\u043a\\u0438 (TeamCity, Jenkins), \\u043f\\u043b\\u0430\\u0442\\u0444\\u043e\\u0440\\u043c\\u0435 \\u043e\\u0440\\u043a\\u0435\\u0441\\u0442\\u0440\\u043e\\u0432\\u043a\\u0438 (nomad, kubernetes). \\u2022 \\u0423\\u0447\\u0430\\u0441\\u0442\\u0438\\u0435 \\u0432 \\u043f\\u0440\\u043e\\u0433\\u0440\\u0430\\u043c\\u043c\\u0435 \\u043d\\u0430\\u0441\\u0442\\u0430\\u0432\\u043d\\u0438\\u0447\\u0435\\u0441\\u0442\\u0432\\u0430, \\u0442\\u0440\\u0435\\u043d\\u0438\\u043d\\u0433\\u043e\\u0432\\u043e\\u0439 \\u043f\\u0440\\u043e\\u0433\\u0440\\u0430\\u043c\\u043c\\u0435, \\u043f\\u0440\\u043e\\u0432\\u0435\\u0434\\u0435\\u043d\\u0438\\u0438 \\u0441\\u043e\\u0431\\u0435\\u0441\\u0435\\u0434\\u043e\\u0432\\u0430\\u043d\\u0438\\u0439 \\u2022 \\u041e\\u043f\\u044b\\u0442 \\u0440\\u0430\\u0431\\u043e\\u0442\\u044b \\u0432 \\u0440\\u0430\\u0441\\u043f\\u0440\\u0435\\u0434\\u0435\\u043b\\u0435\\u043d\\u043d\\u044b\\u0445 \\u043a\\u043e\\u043c\\u0430\\u043d\\u0434\\u0430\\u0445 \\u043f\\u043e \\u043c\\u0435\\u0442\\u043e\\u0434\\u043e\\u043b\\u043e\\u0433\\u0438\\u0438 Scrum. \"\n        ],\n        \"semantic_type\": \"\",\n        \"description\": \"\"\n      }\n    },\n    {\n      \"column\": \"resume_key_skills\",\n      \"properties\": {\n        \"dtype\": \"string\",\n        \"num_unique_values\": 103,\n        \"samples\": [\n          \"Git, Intellij IDEA, Apache ActiveMQ, Microservices, Spring Framework, Apache Karaf, Java Servlets, MyBatis, Camunda BPM, Java EE, Java SE, PostgreSQL, Apache Camel, Oracle Database, BPMN, JMS, Apache Maven\"\n        ],\n        \"semantic_type\": \"\",\n        \"description\": \"\"\n      }\n    },\n    {\n      \"column\": \"vacancy_combined_embeddings\",\n      \"properties\": {\n        \"dtype\": \"object\",\n        \"semantic_type\": \"\",\n        \"description\": \"\"\n      }\n    },\n    {\n      \"column\": \"resume_combined_embeddings\",\n      \"properties\": {\n        \"dtype\": \"object\",\n        \"semantic_type\": \"\",\n        \"description\": \"\"\n      }\n    }\n  ]\n}"
            }
          },
          "metadata": {},
          "execution_count": 133
        }
      ]
    },
    {
      "cell_type": "code",
      "source": [
        "full_df_1['vacancy_combined_embeddings'] = full_df_1.apply(lambda row: model_for_emb_firstly.encode(translator.translate(concatenate_text_columns(row, vacancy_columns)).text), axis=1)\n",
        "full_df_1['resume_combined_embeddings'] = full_df_1.apply(lambda row: model_for_emb_firstly.encode(translator.translate(concatenate_text_columns(row, resume_columns)).text), axis=1)"
      ],
      "metadata": {
        "id": "H01cnJ05qT8I"
      },
      "execution_count": 122,
      "outputs": []
    },
    {
      "cell_type": "code",
      "source": [
        "device = torch.device(\"cuda\" if torch.cuda.is_available() else \"cpu\")"
      ],
      "metadata": {
        "id": "Q6QpI7RxwSKm"
      },
      "execution_count": 134,
      "outputs": []
    },
    {
      "cell_type": "code",
      "source": [
        "the_model = SiameseFFN(in_size).to(device)\n",
        "the_model.load_state_dict(torch.load('/content/rrr.pth'))"
      ],
      "metadata": {
        "colab": {
          "base_uri": "https://localhost:8080/"
        },
        "id": "eFLEAL313F7k",
        "outputId": "15ba2d27-a6a2-4222-a22a-044711ba3957"
      },
      "execution_count": 135,
      "outputs": [
        {
          "output_type": "execute_result",
          "data": {
            "text/plain": [
              "<All keys matched successfully>"
            ]
          },
          "metadata": {},
          "execution_count": 135
        }
      ]
    },
    {
      "cell_type": "code",
      "source": [
        "the_model.eval()\n",
        "probability = []\n",
        "predictions = []\n",
        "index_vac = []\n",
        "index_res = []\n",
        "\n",
        "with torch.no_grad():\n",
        "  for ind, row in full_df_1.iterrows():\n",
        "    vacancies_embeddings = row['vacancy_combined_embeddings']\n",
        "    resumes_embeddings = row['resume_combined_embeddings']\n",
        "    vac_emb = torch.unsqueeze(torch.tensor(vacancies_embeddings).to(device), 0)\n",
        "    res_emb = torch.unsqueeze(torch.tensor(resumes_embeddings).to(device), 0)\n",
        "\n",
        "    logits = the_model(vac_emb, res_emb)\n",
        "    probs = torch.softmax(logits, dim=1)  # Примените softmax для получения вероятностей классов\n",
        "    preds = torch.argmax(probs, dim=1)  # Используйте argmax для получения предсказаний классов\n",
        "    probability.append(probs[0, 1].to('cpu').item())  # .item()\n",
        "    if probs[0, 1].to('cpu').item() > 0.25:\n",
        "      predictions.append(1)\n",
        "    else:\n",
        "      predictions.append(0)\n",
        "    # predictions.append(preds.to('cpu').numpy().item())\n",
        "    index_vac.append(row['vacancy_uuid'])\n",
        "    index_res.append(row['resume_uuid'])\n",
        "\n",
        "data = {\n",
        "    'Probability': probability,\n",
        "    'Predictions': predictions,\n",
        "    'Index_vac': index_vac,\n",
        "    'Index_res': index_res\n",
        "}\n",
        "df_win = pd.DataFrame(data)\n",
        "df_win\n"
      ],
      "metadata": {
        "colab": {
          "base_uri": "https://localhost:8080/",
          "height": 423
        },
        "id": "EPrlUaG1va7G",
        "outputId": "315b0477-43b4-4c03-a8ce-749c127f70a7"
      },
      "execution_count": 144,
      "outputs": [
        {
          "output_type": "execute_result",
          "data": {
            "text/plain": [
              "     Probability  Predictions                             Index_vac  \\\n",
              "0       0.138056            0  8b9c8d16-c7f0-38a2-b80c-d94030c15a6f   \n",
              "1       0.232937            0  8b9c8d16-c7f0-38a2-b80c-d94030c15a6f   \n",
              "2       0.042568            0  8b9c8d16-c7f0-38a2-b80c-d94030c15a6f   \n",
              "3       0.173835            0  8b9c8d16-c7f0-38a2-b80c-d94030c15a6f   \n",
              "4       0.195359            0  8b9c8d16-c7f0-38a2-b80c-d94030c15a6f   \n",
              "..           ...          ...                                   ...   \n",
              "108     0.085184            0  8b9c8d16-c7f0-38a2-b80c-d94030c15a6f   \n",
              "109     0.171772            0  8b9c8d16-c7f0-38a2-b80c-d94030c15a6f   \n",
              "110     0.154896            0  8b9c8d16-c7f0-38a2-b80c-d94030c15a6f   \n",
              "111     0.140475            0  8b9c8d16-c7f0-38a2-b80c-d94030c15a6f   \n",
              "112     0.464495            1  8b9c8d16-c7f0-38a2-b80c-d94030c15a6f   \n",
              "\n",
              "                                Index_res  \n",
              "0    0dfe8e63-d7a3-3fe4-b9d7-1b8122158f33  \n",
              "1    f8b69e24-e2c0-3186-9578-380835eb2ee7  \n",
              "2    e3976e74-e71b-34db-8e98-08dc422fa567  \n",
              "3    9a9c3ff1-49f8-30dd-a294-e56fc60cae64  \n",
              "4    6561771c-7ef3-3e50-ab3a-ba8547201480  \n",
              "..                                    ...  \n",
              "108  82df355a-235e-3046-9e6e-782ddf1600eb  \n",
              "109  915597ce-24e5-31fa-8dca-29437f49f839  \n",
              "110  f288a532-0b58-30cb-ac3c-f87e53984719  \n",
              "111  3e3a379f-226e-305e-b7d8-cf341e00cbd7  \n",
              "112  cc88bf96-f0b9-313a-abce-dbe60b6f1c98  \n",
              "\n",
              "[113 rows x 4 columns]"
            ],
            "text/html": [
              "\n",
              "  <div id=\"df-b5faba16-0519-43bc-968a-0b8e6911638a\" class=\"colab-df-container\">\n",
              "    <div>\n",
              "<style scoped>\n",
              "    .dataframe tbody tr th:only-of-type {\n",
              "        vertical-align: middle;\n",
              "    }\n",
              "\n",
              "    .dataframe tbody tr th {\n",
              "        vertical-align: top;\n",
              "    }\n",
              "\n",
              "    .dataframe thead th {\n",
              "        text-align: right;\n",
              "    }\n",
              "</style>\n",
              "<table border=\"1\" class=\"dataframe\">\n",
              "  <thead>\n",
              "    <tr style=\"text-align: right;\">\n",
              "      <th></th>\n",
              "      <th>Probability</th>\n",
              "      <th>Predictions</th>\n",
              "      <th>Index_vac</th>\n",
              "      <th>Index_res</th>\n",
              "    </tr>\n",
              "  </thead>\n",
              "  <tbody>\n",
              "    <tr>\n",
              "      <th>0</th>\n",
              "      <td>0.138056</td>\n",
              "      <td>0</td>\n",
              "      <td>8b9c8d16-c7f0-38a2-b80c-d94030c15a6f</td>\n",
              "      <td>0dfe8e63-d7a3-3fe4-b9d7-1b8122158f33</td>\n",
              "    </tr>\n",
              "    <tr>\n",
              "      <th>1</th>\n",
              "      <td>0.232937</td>\n",
              "      <td>0</td>\n",
              "      <td>8b9c8d16-c7f0-38a2-b80c-d94030c15a6f</td>\n",
              "      <td>f8b69e24-e2c0-3186-9578-380835eb2ee7</td>\n",
              "    </tr>\n",
              "    <tr>\n",
              "      <th>2</th>\n",
              "      <td>0.042568</td>\n",
              "      <td>0</td>\n",
              "      <td>8b9c8d16-c7f0-38a2-b80c-d94030c15a6f</td>\n",
              "      <td>e3976e74-e71b-34db-8e98-08dc422fa567</td>\n",
              "    </tr>\n",
              "    <tr>\n",
              "      <th>3</th>\n",
              "      <td>0.173835</td>\n",
              "      <td>0</td>\n",
              "      <td>8b9c8d16-c7f0-38a2-b80c-d94030c15a6f</td>\n",
              "      <td>9a9c3ff1-49f8-30dd-a294-e56fc60cae64</td>\n",
              "    </tr>\n",
              "    <tr>\n",
              "      <th>4</th>\n",
              "      <td>0.195359</td>\n",
              "      <td>0</td>\n",
              "      <td>8b9c8d16-c7f0-38a2-b80c-d94030c15a6f</td>\n",
              "      <td>6561771c-7ef3-3e50-ab3a-ba8547201480</td>\n",
              "    </tr>\n",
              "    <tr>\n",
              "      <th>...</th>\n",
              "      <td>...</td>\n",
              "      <td>...</td>\n",
              "      <td>...</td>\n",
              "      <td>...</td>\n",
              "    </tr>\n",
              "    <tr>\n",
              "      <th>108</th>\n",
              "      <td>0.085184</td>\n",
              "      <td>0</td>\n",
              "      <td>8b9c8d16-c7f0-38a2-b80c-d94030c15a6f</td>\n",
              "      <td>82df355a-235e-3046-9e6e-782ddf1600eb</td>\n",
              "    </tr>\n",
              "    <tr>\n",
              "      <th>109</th>\n",
              "      <td>0.171772</td>\n",
              "      <td>0</td>\n",
              "      <td>8b9c8d16-c7f0-38a2-b80c-d94030c15a6f</td>\n",
              "      <td>915597ce-24e5-31fa-8dca-29437f49f839</td>\n",
              "    </tr>\n",
              "    <tr>\n",
              "      <th>110</th>\n",
              "      <td>0.154896</td>\n",
              "      <td>0</td>\n",
              "      <td>8b9c8d16-c7f0-38a2-b80c-d94030c15a6f</td>\n",
              "      <td>f288a532-0b58-30cb-ac3c-f87e53984719</td>\n",
              "    </tr>\n",
              "    <tr>\n",
              "      <th>111</th>\n",
              "      <td>0.140475</td>\n",
              "      <td>0</td>\n",
              "      <td>8b9c8d16-c7f0-38a2-b80c-d94030c15a6f</td>\n",
              "      <td>3e3a379f-226e-305e-b7d8-cf341e00cbd7</td>\n",
              "    </tr>\n",
              "    <tr>\n",
              "      <th>112</th>\n",
              "      <td>0.464495</td>\n",
              "      <td>1</td>\n",
              "      <td>8b9c8d16-c7f0-38a2-b80c-d94030c15a6f</td>\n",
              "      <td>cc88bf96-f0b9-313a-abce-dbe60b6f1c98</td>\n",
              "    </tr>\n",
              "  </tbody>\n",
              "</table>\n",
              "<p>113 rows × 4 columns</p>\n",
              "</div>\n",
              "    <div class=\"colab-df-buttons\">\n",
              "\n",
              "  <div class=\"colab-df-container\">\n",
              "    <button class=\"colab-df-convert\" onclick=\"convertToInteractive('df-b5faba16-0519-43bc-968a-0b8e6911638a')\"\n",
              "            title=\"Convert this dataframe to an interactive table.\"\n",
              "            style=\"display:none;\">\n",
              "\n",
              "  <svg xmlns=\"http://www.w3.org/2000/svg\" height=\"24px\" viewBox=\"0 -960 960 960\">\n",
              "    <path d=\"M120-120v-720h720v720H120Zm60-500h600v-160H180v160Zm220 220h160v-160H400v160Zm0 220h160v-160H400v160ZM180-400h160v-160H180v160Zm440 0h160v-160H620v160ZM180-180h160v-160H180v160Zm440 0h160v-160H620v160Z\"/>\n",
              "  </svg>\n",
              "    </button>\n",
              "\n",
              "  <style>\n",
              "    .colab-df-container {\n",
              "      display:flex;\n",
              "      gap: 12px;\n",
              "    }\n",
              "\n",
              "    .colab-df-convert {\n",
              "      background-color: #E8F0FE;\n",
              "      border: none;\n",
              "      border-radius: 50%;\n",
              "      cursor: pointer;\n",
              "      display: none;\n",
              "      fill: #1967D2;\n",
              "      height: 32px;\n",
              "      padding: 0 0 0 0;\n",
              "      width: 32px;\n",
              "    }\n",
              "\n",
              "    .colab-df-convert:hover {\n",
              "      background-color: #E2EBFA;\n",
              "      box-shadow: 0px 1px 2px rgba(60, 64, 67, 0.3), 0px 1px 3px 1px rgba(60, 64, 67, 0.15);\n",
              "      fill: #174EA6;\n",
              "    }\n",
              "\n",
              "    .colab-df-buttons div {\n",
              "      margin-bottom: 4px;\n",
              "    }\n",
              "\n",
              "    [theme=dark] .colab-df-convert {\n",
              "      background-color: #3B4455;\n",
              "      fill: #D2E3FC;\n",
              "    }\n",
              "\n",
              "    [theme=dark] .colab-df-convert:hover {\n",
              "      background-color: #434B5C;\n",
              "      box-shadow: 0px 1px 3px 1px rgba(0, 0, 0, 0.15);\n",
              "      filter: drop-shadow(0px 1px 2px rgba(0, 0, 0, 0.3));\n",
              "      fill: #FFFFFF;\n",
              "    }\n",
              "  </style>\n",
              "\n",
              "    <script>\n",
              "      const buttonEl =\n",
              "        document.querySelector('#df-b5faba16-0519-43bc-968a-0b8e6911638a button.colab-df-convert');\n",
              "      buttonEl.style.display =\n",
              "        google.colab.kernel.accessAllowed ? 'block' : 'none';\n",
              "\n",
              "      async function convertToInteractive(key) {\n",
              "        const element = document.querySelector('#df-b5faba16-0519-43bc-968a-0b8e6911638a');\n",
              "        const dataTable =\n",
              "          await google.colab.kernel.invokeFunction('convertToInteractive',\n",
              "                                                    [key], {});\n",
              "        if (!dataTable) return;\n",
              "\n",
              "        const docLinkHtml = 'Like what you see? Visit the ' +\n",
              "          '<a target=\"_blank\" href=https://colab.research.google.com/notebooks/data_table.ipynb>data table notebook</a>'\n",
              "          + ' to learn more about interactive tables.';\n",
              "        element.innerHTML = '';\n",
              "        dataTable['output_type'] = 'display_data';\n",
              "        await google.colab.output.renderOutput(dataTable, element);\n",
              "        const docLink = document.createElement('div');\n",
              "        docLink.innerHTML = docLinkHtml;\n",
              "        element.appendChild(docLink);\n",
              "      }\n",
              "    </script>\n",
              "  </div>\n",
              "\n",
              "\n",
              "<div id=\"df-36d89373-d841-40fd-8326-f252ec2bd351\">\n",
              "  <button class=\"colab-df-quickchart\" onclick=\"quickchart('df-36d89373-d841-40fd-8326-f252ec2bd351')\"\n",
              "            title=\"Suggest charts\"\n",
              "            style=\"display:none;\">\n",
              "\n",
              "<svg xmlns=\"http://www.w3.org/2000/svg\" height=\"24px\"viewBox=\"0 0 24 24\"\n",
              "     width=\"24px\">\n",
              "    <g>\n",
              "        <path d=\"M19 3H5c-1.1 0-2 .9-2 2v14c0 1.1.9 2 2 2h14c1.1 0 2-.9 2-2V5c0-1.1-.9-2-2-2zM9 17H7v-7h2v7zm4 0h-2V7h2v10zm4 0h-2v-4h2v4z\"/>\n",
              "    </g>\n",
              "</svg>\n",
              "  </button>\n",
              "\n",
              "<style>\n",
              "  .colab-df-quickchart {\n",
              "      --bg-color: #E8F0FE;\n",
              "      --fill-color: #1967D2;\n",
              "      --hover-bg-color: #E2EBFA;\n",
              "      --hover-fill-color: #174EA6;\n",
              "      --disabled-fill-color: #AAA;\n",
              "      --disabled-bg-color: #DDD;\n",
              "  }\n",
              "\n",
              "  [theme=dark] .colab-df-quickchart {\n",
              "      --bg-color: #3B4455;\n",
              "      --fill-color: #D2E3FC;\n",
              "      --hover-bg-color: #434B5C;\n",
              "      --hover-fill-color: #FFFFFF;\n",
              "      --disabled-bg-color: #3B4455;\n",
              "      --disabled-fill-color: #666;\n",
              "  }\n",
              "\n",
              "  .colab-df-quickchart {\n",
              "    background-color: var(--bg-color);\n",
              "    border: none;\n",
              "    border-radius: 50%;\n",
              "    cursor: pointer;\n",
              "    display: none;\n",
              "    fill: var(--fill-color);\n",
              "    height: 32px;\n",
              "    padding: 0;\n",
              "    width: 32px;\n",
              "  }\n",
              "\n",
              "  .colab-df-quickchart:hover {\n",
              "    background-color: var(--hover-bg-color);\n",
              "    box-shadow: 0 1px 2px rgba(60, 64, 67, 0.3), 0 1px 3px 1px rgba(60, 64, 67, 0.15);\n",
              "    fill: var(--button-hover-fill-color);\n",
              "  }\n",
              "\n",
              "  .colab-df-quickchart-complete:disabled,\n",
              "  .colab-df-quickchart-complete:disabled:hover {\n",
              "    background-color: var(--disabled-bg-color);\n",
              "    fill: var(--disabled-fill-color);\n",
              "    box-shadow: none;\n",
              "  }\n",
              "\n",
              "  .colab-df-spinner {\n",
              "    border: 2px solid var(--fill-color);\n",
              "    border-color: transparent;\n",
              "    border-bottom-color: var(--fill-color);\n",
              "    animation:\n",
              "      spin 1s steps(1) infinite;\n",
              "  }\n",
              "\n",
              "  @keyframes spin {\n",
              "    0% {\n",
              "      border-color: transparent;\n",
              "      border-bottom-color: var(--fill-color);\n",
              "      border-left-color: var(--fill-color);\n",
              "    }\n",
              "    20% {\n",
              "      border-color: transparent;\n",
              "      border-left-color: var(--fill-color);\n",
              "      border-top-color: var(--fill-color);\n",
              "    }\n",
              "    30% {\n",
              "      border-color: transparent;\n",
              "      border-left-color: var(--fill-color);\n",
              "      border-top-color: var(--fill-color);\n",
              "      border-right-color: var(--fill-color);\n",
              "    }\n",
              "    40% {\n",
              "      border-color: transparent;\n",
              "      border-right-color: var(--fill-color);\n",
              "      border-top-color: var(--fill-color);\n",
              "    }\n",
              "    60% {\n",
              "      border-color: transparent;\n",
              "      border-right-color: var(--fill-color);\n",
              "    }\n",
              "    80% {\n",
              "      border-color: transparent;\n",
              "      border-right-color: var(--fill-color);\n",
              "      border-bottom-color: var(--fill-color);\n",
              "    }\n",
              "    90% {\n",
              "      border-color: transparent;\n",
              "      border-bottom-color: var(--fill-color);\n",
              "    }\n",
              "  }\n",
              "</style>\n",
              "\n",
              "  <script>\n",
              "    async function quickchart(key) {\n",
              "      const quickchartButtonEl =\n",
              "        document.querySelector('#' + key + ' button');\n",
              "      quickchartButtonEl.disabled = true;  // To prevent multiple clicks.\n",
              "      quickchartButtonEl.classList.add('colab-df-spinner');\n",
              "      try {\n",
              "        const charts = await google.colab.kernel.invokeFunction(\n",
              "            'suggestCharts', [key], {});\n",
              "      } catch (error) {\n",
              "        console.error('Error during call to suggestCharts:', error);\n",
              "      }\n",
              "      quickchartButtonEl.classList.remove('colab-df-spinner');\n",
              "      quickchartButtonEl.classList.add('colab-df-quickchart-complete');\n",
              "    }\n",
              "    (() => {\n",
              "      let quickchartButtonEl =\n",
              "        document.querySelector('#df-36d89373-d841-40fd-8326-f252ec2bd351 button');\n",
              "      quickchartButtonEl.style.display =\n",
              "        google.colab.kernel.accessAllowed ? 'block' : 'none';\n",
              "    })();\n",
              "  </script>\n",
              "</div>\n",
              "    </div>\n",
              "  </div>\n"
            ],
            "application/vnd.google.colaboratory.intrinsic+json": {
              "type": "dataframe",
              "variable_name": "df_win",
              "summary": "{\n  \"name\": \"df_win\",\n  \"rows\": 113,\n  \"fields\": [\n    {\n      \"column\": \"Probability\",\n      \"properties\": {\n        \"dtype\": \"number\",\n        \"std\": 0.09154706066933986,\n        \"min\": 0.006036157254129648,\n        \"max\": 0.4987444579601288,\n        \"num_unique_values\": 113,\n        \"samples\": [\n          0.04907350242137909,\n          0.1953587830066681,\n          0.1340452879667282\n        ],\n        \"semantic_type\": \"\",\n        \"description\": \"\"\n      }\n    },\n    {\n      \"column\": \"Predictions\",\n      \"properties\": {\n        \"dtype\": \"number\",\n        \"std\": 0,\n        \"min\": 0,\n        \"max\": 1,\n        \"num_unique_values\": 2,\n        \"samples\": [\n          1,\n          0\n        ],\n        \"semantic_type\": \"\",\n        \"description\": \"\"\n      }\n    },\n    {\n      \"column\": \"Index_vac\",\n      \"properties\": {\n        \"dtype\": \"category\",\n        \"num_unique_values\": 1,\n        \"samples\": [\n          \"8b9c8d16-c7f0-38a2-b80c-d94030c15a6f\"\n        ],\n        \"semantic_type\": \"\",\n        \"description\": \"\"\n      }\n    },\n    {\n      \"column\": \"Index_res\",\n      \"properties\": {\n        \"dtype\": \"string\",\n        \"num_unique_values\": 113,\n        \"samples\": [\n          \"0825069f-c8ee-3ca9-b4f2-753b7a85688a\"\n        ],\n        \"semantic_type\": \"\",\n        \"description\": \"\"\n      }\n    }\n  ]\n}"
            }
          },
          "metadata": {},
          "execution_count": 144
        }
      ]
    },
    {
      "cell_type": "code",
      "source": [
        "df_sorted = df_win.sort_values('Probability', ascending=False)\n",
        "df_sorted.to_csv('sorted_data.csv', index=False)"
      ],
      "metadata": {
        "id": "r8IpZ_m23PqF"
      },
      "execution_count": 145,
      "outputs": []
    },
    {
      "cell_type": "code",
      "source": [
        "df_sorted.head()"
      ],
      "metadata": {
        "colab": {
          "base_uri": "https://localhost:8080/",
          "height": 206
        },
        "id": "qr1YoOYR5pWp",
        "outputId": "350a1f7f-ad91-4917-e7aa-c95c67af7b21"
      },
      "execution_count": 146,
      "outputs": [
        {
          "output_type": "execute_result",
          "data": {
            "text/plain": [
              "     Probability  Predictions                             Index_vac  \\\n",
              "79      0.498744            1  8b9c8d16-c7f0-38a2-b80c-d94030c15a6f   \n",
              "112     0.464495            1  8b9c8d16-c7f0-38a2-b80c-d94030c15a6f   \n",
              "74      0.403946            1  8b9c8d16-c7f0-38a2-b80c-d94030c15a6f   \n",
              "56      0.324371            1  8b9c8d16-c7f0-38a2-b80c-d94030c15a6f   \n",
              "41      0.313488            1  8b9c8d16-c7f0-38a2-b80c-d94030c15a6f   \n",
              "\n",
              "                                Index_res  \n",
              "79   c70de373-9f3a-3647-ab66-f25e98c29409  \n",
              "112  cc88bf96-f0b9-313a-abce-dbe60b6f1c98  \n",
              "74   37cba700-eed6-3018-bad6-f720f8217aeb  \n",
              "56   653dadb9-5c19-3f6a-8207-7e55e7db331a  \n",
              "41   8b1dc5d0-dde1-31be-851f-a643ae235d50  "
            ],
            "text/html": [
              "\n",
              "  <div id=\"df-b7c8168e-d1fa-4587-924a-e245b558f226\" class=\"colab-df-container\">\n",
              "    <div>\n",
              "<style scoped>\n",
              "    .dataframe tbody tr th:only-of-type {\n",
              "        vertical-align: middle;\n",
              "    }\n",
              "\n",
              "    .dataframe tbody tr th {\n",
              "        vertical-align: top;\n",
              "    }\n",
              "\n",
              "    .dataframe thead th {\n",
              "        text-align: right;\n",
              "    }\n",
              "</style>\n",
              "<table border=\"1\" class=\"dataframe\">\n",
              "  <thead>\n",
              "    <tr style=\"text-align: right;\">\n",
              "      <th></th>\n",
              "      <th>Probability</th>\n",
              "      <th>Predictions</th>\n",
              "      <th>Index_vac</th>\n",
              "      <th>Index_res</th>\n",
              "    </tr>\n",
              "  </thead>\n",
              "  <tbody>\n",
              "    <tr>\n",
              "      <th>79</th>\n",
              "      <td>0.498744</td>\n",
              "      <td>1</td>\n",
              "      <td>8b9c8d16-c7f0-38a2-b80c-d94030c15a6f</td>\n",
              "      <td>c70de373-9f3a-3647-ab66-f25e98c29409</td>\n",
              "    </tr>\n",
              "    <tr>\n",
              "      <th>112</th>\n",
              "      <td>0.464495</td>\n",
              "      <td>1</td>\n",
              "      <td>8b9c8d16-c7f0-38a2-b80c-d94030c15a6f</td>\n",
              "      <td>cc88bf96-f0b9-313a-abce-dbe60b6f1c98</td>\n",
              "    </tr>\n",
              "    <tr>\n",
              "      <th>74</th>\n",
              "      <td>0.403946</td>\n",
              "      <td>1</td>\n",
              "      <td>8b9c8d16-c7f0-38a2-b80c-d94030c15a6f</td>\n",
              "      <td>37cba700-eed6-3018-bad6-f720f8217aeb</td>\n",
              "    </tr>\n",
              "    <tr>\n",
              "      <th>56</th>\n",
              "      <td>0.324371</td>\n",
              "      <td>1</td>\n",
              "      <td>8b9c8d16-c7f0-38a2-b80c-d94030c15a6f</td>\n",
              "      <td>653dadb9-5c19-3f6a-8207-7e55e7db331a</td>\n",
              "    </tr>\n",
              "    <tr>\n",
              "      <th>41</th>\n",
              "      <td>0.313488</td>\n",
              "      <td>1</td>\n",
              "      <td>8b9c8d16-c7f0-38a2-b80c-d94030c15a6f</td>\n",
              "      <td>8b1dc5d0-dde1-31be-851f-a643ae235d50</td>\n",
              "    </tr>\n",
              "  </tbody>\n",
              "</table>\n",
              "</div>\n",
              "    <div class=\"colab-df-buttons\">\n",
              "\n",
              "  <div class=\"colab-df-container\">\n",
              "    <button class=\"colab-df-convert\" onclick=\"convertToInteractive('df-b7c8168e-d1fa-4587-924a-e245b558f226')\"\n",
              "            title=\"Convert this dataframe to an interactive table.\"\n",
              "            style=\"display:none;\">\n",
              "\n",
              "  <svg xmlns=\"http://www.w3.org/2000/svg\" height=\"24px\" viewBox=\"0 -960 960 960\">\n",
              "    <path d=\"M120-120v-720h720v720H120Zm60-500h600v-160H180v160Zm220 220h160v-160H400v160Zm0 220h160v-160H400v160ZM180-400h160v-160H180v160Zm440 0h160v-160H620v160ZM180-180h160v-160H180v160Zm440 0h160v-160H620v160Z\"/>\n",
              "  </svg>\n",
              "    </button>\n",
              "\n",
              "  <style>\n",
              "    .colab-df-container {\n",
              "      display:flex;\n",
              "      gap: 12px;\n",
              "    }\n",
              "\n",
              "    .colab-df-convert {\n",
              "      background-color: #E8F0FE;\n",
              "      border: none;\n",
              "      border-radius: 50%;\n",
              "      cursor: pointer;\n",
              "      display: none;\n",
              "      fill: #1967D2;\n",
              "      height: 32px;\n",
              "      padding: 0 0 0 0;\n",
              "      width: 32px;\n",
              "    }\n",
              "\n",
              "    .colab-df-convert:hover {\n",
              "      background-color: #E2EBFA;\n",
              "      box-shadow: 0px 1px 2px rgba(60, 64, 67, 0.3), 0px 1px 3px 1px rgba(60, 64, 67, 0.15);\n",
              "      fill: #174EA6;\n",
              "    }\n",
              "\n",
              "    .colab-df-buttons div {\n",
              "      margin-bottom: 4px;\n",
              "    }\n",
              "\n",
              "    [theme=dark] .colab-df-convert {\n",
              "      background-color: #3B4455;\n",
              "      fill: #D2E3FC;\n",
              "    }\n",
              "\n",
              "    [theme=dark] .colab-df-convert:hover {\n",
              "      background-color: #434B5C;\n",
              "      box-shadow: 0px 1px 3px 1px rgba(0, 0, 0, 0.15);\n",
              "      filter: drop-shadow(0px 1px 2px rgba(0, 0, 0, 0.3));\n",
              "      fill: #FFFFFF;\n",
              "    }\n",
              "  </style>\n",
              "\n",
              "    <script>\n",
              "      const buttonEl =\n",
              "        document.querySelector('#df-b7c8168e-d1fa-4587-924a-e245b558f226 button.colab-df-convert');\n",
              "      buttonEl.style.display =\n",
              "        google.colab.kernel.accessAllowed ? 'block' : 'none';\n",
              "\n",
              "      async function convertToInteractive(key) {\n",
              "        const element = document.querySelector('#df-b7c8168e-d1fa-4587-924a-e245b558f226');\n",
              "        const dataTable =\n",
              "          await google.colab.kernel.invokeFunction('convertToInteractive',\n",
              "                                                    [key], {});\n",
              "        if (!dataTable) return;\n",
              "\n",
              "        const docLinkHtml = 'Like what you see? Visit the ' +\n",
              "          '<a target=\"_blank\" href=https://colab.research.google.com/notebooks/data_table.ipynb>data table notebook</a>'\n",
              "          + ' to learn more about interactive tables.';\n",
              "        element.innerHTML = '';\n",
              "        dataTable['output_type'] = 'display_data';\n",
              "        await google.colab.output.renderOutput(dataTable, element);\n",
              "        const docLink = document.createElement('div');\n",
              "        docLink.innerHTML = docLinkHtml;\n",
              "        element.appendChild(docLink);\n",
              "      }\n",
              "    </script>\n",
              "  </div>\n",
              "\n",
              "\n",
              "<div id=\"df-5f0f9497-8527-495c-94ba-f86911ac603f\">\n",
              "  <button class=\"colab-df-quickchart\" onclick=\"quickchart('df-5f0f9497-8527-495c-94ba-f86911ac603f')\"\n",
              "            title=\"Suggest charts\"\n",
              "            style=\"display:none;\">\n",
              "\n",
              "<svg xmlns=\"http://www.w3.org/2000/svg\" height=\"24px\"viewBox=\"0 0 24 24\"\n",
              "     width=\"24px\">\n",
              "    <g>\n",
              "        <path d=\"M19 3H5c-1.1 0-2 .9-2 2v14c0 1.1.9 2 2 2h14c1.1 0 2-.9 2-2V5c0-1.1-.9-2-2-2zM9 17H7v-7h2v7zm4 0h-2V7h2v10zm4 0h-2v-4h2v4z\"/>\n",
              "    </g>\n",
              "</svg>\n",
              "  </button>\n",
              "\n",
              "<style>\n",
              "  .colab-df-quickchart {\n",
              "      --bg-color: #E8F0FE;\n",
              "      --fill-color: #1967D2;\n",
              "      --hover-bg-color: #E2EBFA;\n",
              "      --hover-fill-color: #174EA6;\n",
              "      --disabled-fill-color: #AAA;\n",
              "      --disabled-bg-color: #DDD;\n",
              "  }\n",
              "\n",
              "  [theme=dark] .colab-df-quickchart {\n",
              "      --bg-color: #3B4455;\n",
              "      --fill-color: #D2E3FC;\n",
              "      --hover-bg-color: #434B5C;\n",
              "      --hover-fill-color: #FFFFFF;\n",
              "      --disabled-bg-color: #3B4455;\n",
              "      --disabled-fill-color: #666;\n",
              "  }\n",
              "\n",
              "  .colab-df-quickchart {\n",
              "    background-color: var(--bg-color);\n",
              "    border: none;\n",
              "    border-radius: 50%;\n",
              "    cursor: pointer;\n",
              "    display: none;\n",
              "    fill: var(--fill-color);\n",
              "    height: 32px;\n",
              "    padding: 0;\n",
              "    width: 32px;\n",
              "  }\n",
              "\n",
              "  .colab-df-quickchart:hover {\n",
              "    background-color: var(--hover-bg-color);\n",
              "    box-shadow: 0 1px 2px rgba(60, 64, 67, 0.3), 0 1px 3px 1px rgba(60, 64, 67, 0.15);\n",
              "    fill: var(--button-hover-fill-color);\n",
              "  }\n",
              "\n",
              "  .colab-df-quickchart-complete:disabled,\n",
              "  .colab-df-quickchart-complete:disabled:hover {\n",
              "    background-color: var(--disabled-bg-color);\n",
              "    fill: var(--disabled-fill-color);\n",
              "    box-shadow: none;\n",
              "  }\n",
              "\n",
              "  .colab-df-spinner {\n",
              "    border: 2px solid var(--fill-color);\n",
              "    border-color: transparent;\n",
              "    border-bottom-color: var(--fill-color);\n",
              "    animation:\n",
              "      spin 1s steps(1) infinite;\n",
              "  }\n",
              "\n",
              "  @keyframes spin {\n",
              "    0% {\n",
              "      border-color: transparent;\n",
              "      border-bottom-color: var(--fill-color);\n",
              "      border-left-color: var(--fill-color);\n",
              "    }\n",
              "    20% {\n",
              "      border-color: transparent;\n",
              "      border-left-color: var(--fill-color);\n",
              "      border-top-color: var(--fill-color);\n",
              "    }\n",
              "    30% {\n",
              "      border-color: transparent;\n",
              "      border-left-color: var(--fill-color);\n",
              "      border-top-color: var(--fill-color);\n",
              "      border-right-color: var(--fill-color);\n",
              "    }\n",
              "    40% {\n",
              "      border-color: transparent;\n",
              "      border-right-color: var(--fill-color);\n",
              "      border-top-color: var(--fill-color);\n",
              "    }\n",
              "    60% {\n",
              "      border-color: transparent;\n",
              "      border-right-color: var(--fill-color);\n",
              "    }\n",
              "    80% {\n",
              "      border-color: transparent;\n",
              "      border-right-color: var(--fill-color);\n",
              "      border-bottom-color: var(--fill-color);\n",
              "    }\n",
              "    90% {\n",
              "      border-color: transparent;\n",
              "      border-bottom-color: var(--fill-color);\n",
              "    }\n",
              "  }\n",
              "</style>\n",
              "\n",
              "  <script>\n",
              "    async function quickchart(key) {\n",
              "      const quickchartButtonEl =\n",
              "        document.querySelector('#' + key + ' button');\n",
              "      quickchartButtonEl.disabled = true;  // To prevent multiple clicks.\n",
              "      quickchartButtonEl.classList.add('colab-df-spinner');\n",
              "      try {\n",
              "        const charts = await google.colab.kernel.invokeFunction(\n",
              "            'suggestCharts', [key], {});\n",
              "      } catch (error) {\n",
              "        console.error('Error during call to suggestCharts:', error);\n",
              "      }\n",
              "      quickchartButtonEl.classList.remove('colab-df-spinner');\n",
              "      quickchartButtonEl.classList.add('colab-df-quickchart-complete');\n",
              "    }\n",
              "    (() => {\n",
              "      let quickchartButtonEl =\n",
              "        document.querySelector('#df-5f0f9497-8527-495c-94ba-f86911ac603f button');\n",
              "      quickchartButtonEl.style.display =\n",
              "        google.colab.kernel.accessAllowed ? 'block' : 'none';\n",
              "    })();\n",
              "  </script>\n",
              "</div>\n",
              "    </div>\n",
              "  </div>\n"
            ],
            "application/vnd.google.colaboratory.intrinsic+json": {
              "type": "dataframe",
              "variable_name": "df_sorted",
              "summary": "{\n  \"name\": \"df_sorted\",\n  \"rows\": 113,\n  \"fields\": [\n    {\n      \"column\": \"Probability\",\n      \"properties\": {\n        \"dtype\": \"number\",\n        \"std\": 0.09154706066933986,\n        \"min\": 0.006036157254129648,\n        \"max\": 0.4987444579601288,\n        \"num_unique_values\": 113,\n        \"samples\": [\n          0.0865621566772461,\n          0.31348779797554016,\n          0.16344355046749115\n        ],\n        \"semantic_type\": \"\",\n        \"description\": \"\"\n      }\n    },\n    {\n      \"column\": \"Predictions\",\n      \"properties\": {\n        \"dtype\": \"number\",\n        \"std\": 0,\n        \"min\": 0,\n        \"max\": 1,\n        \"num_unique_values\": 2,\n        \"samples\": [\n          0,\n          1\n        ],\n        \"semantic_type\": \"\",\n        \"description\": \"\"\n      }\n    },\n    {\n      \"column\": \"Index_vac\",\n      \"properties\": {\n        \"dtype\": \"category\",\n        \"num_unique_values\": 1,\n        \"samples\": [\n          \"8b9c8d16-c7f0-38a2-b80c-d94030c15a6f\"\n        ],\n        \"semantic_type\": \"\",\n        \"description\": \"\"\n      }\n    },\n    {\n      \"column\": \"Index_res\",\n      \"properties\": {\n        \"dtype\": \"string\",\n        \"num_unique_values\": 113,\n        \"samples\": [\n          \"ebcd86ef-6e1f-39cf-8af3-85adaec6d3b3\"\n        ],\n        \"semantic_type\": \"\",\n        \"description\": \"\"\n      }\n    }\n  ]\n}"
            }
          },
          "metadata": {},
          "execution_count": 146
        }
      ]
    },
    {
      "cell_type": "code",
      "source": [
        "full_df_1[full_df_1['vacancy_uuid'] == '8b9c8d16-c7f0-38a2-b80c-d94030c15a6f']['vacancy_description'][0]"
      ],
      "metadata": {
        "colab": {
          "base_uri": "https://localhost:8080/",
          "height": 157
        },
        "id": "c5bY-fJH5vh5",
        "outputId": "8e931627-c585-4c1b-89ba-d060be673d56"
      },
      "execution_count": 148,
      "outputs": [
        {
          "output_type": "execute_result",
          "data": {
            "text/plain": [
              "'Требования: 4+ года опыта работы с Java 8+ или Kotlin 4+ года опыта работы с Spring и 2+ год работы с Spring Boot. Опыт работы с системами на микросервисной архитектуре (Spring Cloud, Kubernetes, Openshift или аналоги). Опыт работы с Docker. Опыт работы с 3-мя любыми из следующих технологий NoSQL (MongoDB, Elasticsearch, аналоги) SQL (PostgreSQL, Oracle, аналоги) Брокеры сообщений (Kafka, RabbitMQ, аналоги) Reactive programming (RxJava, Project Reactor) Cache (Redis, Hazelcast). Настройка CI/CD (GitlabCI, Jenkins, аналоги). Настройка средств мониторинга (Zabbix, Prometheus). Настройка средств логирования (Graylog, ELK). Будет хорошо, если кандидат: Знает все технологии из первого пункта; Участвовал в проработке архитектуры и может объяснить все решения на своем проекте; Готов драйвить техническое развитие систем, а не просто следовать текущим стандартам; Имеет дружеские отношения с DevOps, пайплайны, контейнеризация и оркестрация, Linux; Понимает микросервисную архитектуры и устройство распределенных систем; Участвовал в подборе и онбординге новых сотрудников; Умеет и хочет писать технические статьи. Развиваться и развивать коллег/комьюнити. Проводить как разовые тренинги, так и планировать долгие обучения. Что предстоит делать: Использовать самый современный технологический стэк для создания FinTech решений; Разрабатывать приложения, которые масштабируются на все дистанционные каналы банка (интернет-банк, мобильные приложения, платёжные сервисы и многое другое); Взаимодействовать с различными командами разработки, Data Science, поддержки и другими (поэтому необходимы хорошие навыки коммуникации или желание их развивать); Вносить свой вклад в развитие архитектуры, делать новое и оценивать старое. '"
            ],
            "application/vnd.google.colaboratory.intrinsic+json": {
              "type": "string"
            }
          },
          "metadata": {},
          "execution_count": 148
        }
      ]
    },
    {
      "cell_type": "code",
      "source": [
        "full_df_1[full_df_1['resume_uuid'] == 'c70de373-9f3a-3647-ab66-f25e98c29409']"
      ],
      "metadata": {
        "colab": {
          "base_uri": "https://localhost:8080/",
          "height": 170
        },
        "id": "2dSpzBwC56Dk",
        "outputId": "bd95fa54-4572-4ae1-baaa-5d602c4ad562"
      },
      "execution_count": 149,
      "outputs": [
        {
          "output_type": "execute_result",
          "data": {
            "text/plain": [
              "                                              vacancy  \\\n",
              "79  {'uuid': '8b9c8d16-c7f0-38a2-b80c-d94030c15a6f...   \n",
              "\n",
              "                                               resume  \\\n",
              "79  {'uuid': 'c70de373-9f3a-3647-ab66-f25e98c29409...   \n",
              "\n",
              "                            vacancy_uuid      vacancy_name  \\\n",
              "79  8b9c8d16-c7f0-38a2-b80c-d94030c15a6f  Java разработчик   \n",
              "\n",
              "                          vacancy_keywords  \\\n",
              "79  Kafka, Java, RxJava, Hystrix, MongoDB    \n",
              "\n",
              "                                  vacancy_description vacancy_comment  \\\n",
              "79  Требования: 4+ года опыта работы с Java 8+ или...                   \n",
              "\n",
              "                                      resume_work_exp  \\\n",
              "79  Работодатель: ОАО ТелеИнжМор Город: Талдом Про...   \n",
              "\n",
              "                                 resume_educationItem  \\\n",
              "79  Год окончания обучения: 2023 Учебное учережден...   \n",
              "\n",
              "                             resume_uuid resume_name resume_surname  \\\n",
              "79  c70de373-9f3a-3647-ab66-f25e98c29409       Тарас        Хохлова   \n",
              "\n",
              "           resume_birth resume_country resume_city resume_about  \\\n",
              "79  Дата рождения: 1993         Россия      Москва                \n",
              "\n",
              "                                    resume_key_skills  \\\n",
              "79  Java, Spring Framework (Data, MVC, Security), ...   \n",
              "\n",
              "                          vacancy_combined_embeddings  \\\n",
              "79  [0.0046033477, -0.07264344, -0.044480376, -0.0...   \n",
              "\n",
              "                           resume_combined_embeddings  \n",
              "79  [0.0058360705, -0.017241351, -0.009310142, -0....  "
            ],
            "text/html": [
              "\n",
              "  <div id=\"df-dc58e2c2-85c9-4dbe-bfd1-88d929730624\" class=\"colab-df-container\">\n",
              "    <div>\n",
              "<style scoped>\n",
              "    .dataframe tbody tr th:only-of-type {\n",
              "        vertical-align: middle;\n",
              "    }\n",
              "\n",
              "    .dataframe tbody tr th {\n",
              "        vertical-align: top;\n",
              "    }\n",
              "\n",
              "    .dataframe thead th {\n",
              "        text-align: right;\n",
              "    }\n",
              "</style>\n",
              "<table border=\"1\" class=\"dataframe\">\n",
              "  <thead>\n",
              "    <tr style=\"text-align: right;\">\n",
              "      <th></th>\n",
              "      <th>vacancy</th>\n",
              "      <th>resume</th>\n",
              "      <th>vacancy_uuid</th>\n",
              "      <th>vacancy_name</th>\n",
              "      <th>vacancy_keywords</th>\n",
              "      <th>vacancy_description</th>\n",
              "      <th>vacancy_comment</th>\n",
              "      <th>resume_work_exp</th>\n",
              "      <th>resume_educationItem</th>\n",
              "      <th>resume_uuid</th>\n",
              "      <th>resume_name</th>\n",
              "      <th>resume_surname</th>\n",
              "      <th>resume_birth</th>\n",
              "      <th>resume_country</th>\n",
              "      <th>resume_city</th>\n",
              "      <th>resume_about</th>\n",
              "      <th>resume_key_skills</th>\n",
              "      <th>vacancy_combined_embeddings</th>\n",
              "      <th>resume_combined_embeddings</th>\n",
              "    </tr>\n",
              "  </thead>\n",
              "  <tbody>\n",
              "    <tr>\n",
              "      <th>79</th>\n",
              "      <td>{'uuid': '8b9c8d16-c7f0-38a2-b80c-d94030c15a6f...</td>\n",
              "      <td>{'uuid': 'c70de373-9f3a-3647-ab66-f25e98c29409...</td>\n",
              "      <td>8b9c8d16-c7f0-38a2-b80c-d94030c15a6f</td>\n",
              "      <td>Java разработчик</td>\n",
              "      <td>Kafka, Java, RxJava, Hystrix, MongoDB</td>\n",
              "      <td>Требования: 4+ года опыта работы с Java 8+ или...</td>\n",
              "      <td></td>\n",
              "      <td>Работодатель: ОАО ТелеИнжМор Город: Талдом Про...</td>\n",
              "      <td>Год окончания обучения: 2023 Учебное учережден...</td>\n",
              "      <td>c70de373-9f3a-3647-ab66-f25e98c29409</td>\n",
              "      <td>Тарас</td>\n",
              "      <td>Хохлова</td>\n",
              "      <td>Дата рождения: 1993</td>\n",
              "      <td>Россия</td>\n",
              "      <td>Москва</td>\n",
              "      <td></td>\n",
              "      <td>Java, Spring Framework (Data, MVC, Security), ...</td>\n",
              "      <td>[0.0046033477, -0.07264344, -0.044480376, -0.0...</td>\n",
              "      <td>[0.0058360705, -0.017241351, -0.009310142, -0....</td>\n",
              "    </tr>\n",
              "  </tbody>\n",
              "</table>\n",
              "</div>\n",
              "    <div class=\"colab-df-buttons\">\n",
              "\n",
              "  <div class=\"colab-df-container\">\n",
              "    <button class=\"colab-df-convert\" onclick=\"convertToInteractive('df-dc58e2c2-85c9-4dbe-bfd1-88d929730624')\"\n",
              "            title=\"Convert this dataframe to an interactive table.\"\n",
              "            style=\"display:none;\">\n",
              "\n",
              "  <svg xmlns=\"http://www.w3.org/2000/svg\" height=\"24px\" viewBox=\"0 -960 960 960\">\n",
              "    <path d=\"M120-120v-720h720v720H120Zm60-500h600v-160H180v160Zm220 220h160v-160H400v160Zm0 220h160v-160H400v160ZM180-400h160v-160H180v160Zm440 0h160v-160H620v160ZM180-180h160v-160H180v160Zm440 0h160v-160H620v160Z\"/>\n",
              "  </svg>\n",
              "    </button>\n",
              "\n",
              "  <style>\n",
              "    .colab-df-container {\n",
              "      display:flex;\n",
              "      gap: 12px;\n",
              "    }\n",
              "\n",
              "    .colab-df-convert {\n",
              "      background-color: #E8F0FE;\n",
              "      border: none;\n",
              "      border-radius: 50%;\n",
              "      cursor: pointer;\n",
              "      display: none;\n",
              "      fill: #1967D2;\n",
              "      height: 32px;\n",
              "      padding: 0 0 0 0;\n",
              "      width: 32px;\n",
              "    }\n",
              "\n",
              "    .colab-df-convert:hover {\n",
              "      background-color: #E2EBFA;\n",
              "      box-shadow: 0px 1px 2px rgba(60, 64, 67, 0.3), 0px 1px 3px 1px rgba(60, 64, 67, 0.15);\n",
              "      fill: #174EA6;\n",
              "    }\n",
              "\n",
              "    .colab-df-buttons div {\n",
              "      margin-bottom: 4px;\n",
              "    }\n",
              "\n",
              "    [theme=dark] .colab-df-convert {\n",
              "      background-color: #3B4455;\n",
              "      fill: #D2E3FC;\n",
              "    }\n",
              "\n",
              "    [theme=dark] .colab-df-convert:hover {\n",
              "      background-color: #434B5C;\n",
              "      box-shadow: 0px 1px 3px 1px rgba(0, 0, 0, 0.15);\n",
              "      filter: drop-shadow(0px 1px 2px rgba(0, 0, 0, 0.3));\n",
              "      fill: #FFFFFF;\n",
              "    }\n",
              "  </style>\n",
              "\n",
              "    <script>\n",
              "      const buttonEl =\n",
              "        document.querySelector('#df-dc58e2c2-85c9-4dbe-bfd1-88d929730624 button.colab-df-convert');\n",
              "      buttonEl.style.display =\n",
              "        google.colab.kernel.accessAllowed ? 'block' : 'none';\n",
              "\n",
              "      async function convertToInteractive(key) {\n",
              "        const element = document.querySelector('#df-dc58e2c2-85c9-4dbe-bfd1-88d929730624');\n",
              "        const dataTable =\n",
              "          await google.colab.kernel.invokeFunction('convertToInteractive',\n",
              "                                                    [key], {});\n",
              "        if (!dataTable) return;\n",
              "\n",
              "        const docLinkHtml = 'Like what you see? Visit the ' +\n",
              "          '<a target=\"_blank\" href=https://colab.research.google.com/notebooks/data_table.ipynb>data table notebook</a>'\n",
              "          + ' to learn more about interactive tables.';\n",
              "        element.innerHTML = '';\n",
              "        dataTable['output_type'] = 'display_data';\n",
              "        await google.colab.output.renderOutput(dataTable, element);\n",
              "        const docLink = document.createElement('div');\n",
              "        docLink.innerHTML = docLinkHtml;\n",
              "        element.appendChild(docLink);\n",
              "      }\n",
              "    </script>\n",
              "  </div>\n",
              "\n",
              "    </div>\n",
              "  </div>\n"
            ],
            "application/vnd.google.colaboratory.intrinsic+json": {
              "type": "dataframe",
              "summary": "{\n  \"name\": \"full_df_1[full_df_1['resume_uuid'] == 'c70de373-9f3a-3647-ab66-f25e98c29409']\",\n  \"rows\": 1,\n  \"fields\": [\n    {\n      \"column\": \"vacancy\",\n      \"properties\": {\n        \"dtype\": \"object\",\n        \"semantic_type\": \"\",\n        \"description\": \"\"\n      }\n    },\n    {\n      \"column\": \"resume\",\n      \"properties\": {\n        \"dtype\": \"object\",\n        \"semantic_type\": \"\",\n        \"description\": \"\"\n      }\n    },\n    {\n      \"column\": \"vacancy_uuid\",\n      \"properties\": {\n        \"dtype\": \"string\",\n        \"num_unique_values\": 1,\n        \"samples\": [\n          \"8b9c8d16-c7f0-38a2-b80c-d94030c15a6f\"\n        ],\n        \"semantic_type\": \"\",\n        \"description\": \"\"\n      }\n    },\n    {\n      \"column\": \"vacancy_name\",\n      \"properties\": {\n        \"dtype\": \"string\",\n        \"num_unique_values\": 1,\n        \"samples\": [\n          \"Java \\u0440\\u0430\\u0437\\u0440\\u0430\\u0431\\u043e\\u0442\\u0447\\u0438\\u043a\"\n        ],\n        \"semantic_type\": \"\",\n        \"description\": \"\"\n      }\n    },\n    {\n      \"column\": \"vacancy_keywords\",\n      \"properties\": {\n        \"dtype\": \"string\",\n        \"num_unique_values\": 1,\n        \"samples\": [\n          \"Kafka, Java, RxJava, Hystrix, MongoDB \"\n        ],\n        \"semantic_type\": \"\",\n        \"description\": \"\"\n      }\n    },\n    {\n      \"column\": \"vacancy_description\",\n      \"properties\": {\n        \"dtype\": \"string\",\n        \"num_unique_values\": 1,\n        \"samples\": [\n          \"\\u0422\\u0440\\u0435\\u0431\\u043e\\u0432\\u0430\\u043d\\u0438\\u044f: 4+ \\u0433\\u043e\\u0434\\u0430 \\u043e\\u043f\\u044b\\u0442\\u0430 \\u0440\\u0430\\u0431\\u043e\\u0442\\u044b \\u0441 Java 8+ \\u0438\\u043b\\u0438 Kotlin 4+ \\u0433\\u043e\\u0434\\u0430 \\u043e\\u043f\\u044b\\u0442\\u0430 \\u0440\\u0430\\u0431\\u043e\\u0442\\u044b \\u0441 Spring \\u0438 2+ \\u0433\\u043e\\u0434 \\u0440\\u0430\\u0431\\u043e\\u0442\\u044b \\u0441 Spring Boot. \\u041e\\u043f\\u044b\\u0442 \\u0440\\u0430\\u0431\\u043e\\u0442\\u044b \\u0441 \\u0441\\u0438\\u0441\\u0442\\u0435\\u043c\\u0430\\u043c\\u0438 \\u043d\\u0430 \\u043c\\u0438\\u043a\\u0440\\u043e\\u0441\\u0435\\u0440\\u0432\\u0438\\u0441\\u043d\\u043e\\u0439 \\u0430\\u0440\\u0445\\u0438\\u0442\\u0435\\u043a\\u0442\\u0443\\u0440\\u0435 (Spring Cloud, Kubernetes, Openshift \\u0438\\u043b\\u0438 \\u0430\\u043d\\u0430\\u043b\\u043e\\u0433\\u0438). \\u041e\\u043f\\u044b\\u0442 \\u0440\\u0430\\u0431\\u043e\\u0442\\u044b \\u0441 Docker. \\u041e\\u043f\\u044b\\u0442 \\u0440\\u0430\\u0431\\u043e\\u0442\\u044b \\u0441 3-\\u043c\\u044f \\u043b\\u044e\\u0431\\u044b\\u043c\\u0438 \\u0438\\u0437 \\u0441\\u043b\\u0435\\u0434\\u0443\\u044e\\u0449\\u0438\\u0445 \\u0442\\u0435\\u0445\\u043d\\u043e\\u043b\\u043e\\u0433\\u0438\\u0439 NoSQL (MongoDB, Elasticsearch, \\u0430\\u043d\\u0430\\u043b\\u043e\\u0433\\u0438) SQL (PostgreSQL, Oracle, \\u0430\\u043d\\u0430\\u043b\\u043e\\u0433\\u0438) \\u0411\\u0440\\u043e\\u043a\\u0435\\u0440\\u044b \\u0441\\u043e\\u043e\\u0431\\u0449\\u0435\\u043d\\u0438\\u0439 (Kafka, RabbitMQ, \\u0430\\u043d\\u0430\\u043b\\u043e\\u0433\\u0438) Reactive programming (RxJava, Project Reactor) Cache (Redis, Hazelcast). \\u041d\\u0430\\u0441\\u0442\\u0440\\u043e\\u0439\\u043a\\u0430 CI/CD (GitlabCI, Jenkins, \\u0430\\u043d\\u0430\\u043b\\u043e\\u0433\\u0438). \\u041d\\u0430\\u0441\\u0442\\u0440\\u043e\\u0439\\u043a\\u0430 \\u0441\\u0440\\u0435\\u0434\\u0441\\u0442\\u0432 \\u043c\\u043e\\u043d\\u0438\\u0442\\u043e\\u0440\\u0438\\u043d\\u0433\\u0430 (Zabbix, Prometheus). \\u041d\\u0430\\u0441\\u0442\\u0440\\u043e\\u0439\\u043a\\u0430 \\u0441\\u0440\\u0435\\u0434\\u0441\\u0442\\u0432 \\u043b\\u043e\\u0433\\u0438\\u0440\\u043e\\u0432\\u0430\\u043d\\u0438\\u044f (Graylog, ELK). \\u0411\\u0443\\u0434\\u0435\\u0442 \\u0445\\u043e\\u0440\\u043e\\u0448\\u043e, \\u0435\\u0441\\u043b\\u0438 \\u043a\\u0430\\u043d\\u0434\\u0438\\u0434\\u0430\\u0442: \\u0417\\u043d\\u0430\\u0435\\u0442 \\u0432\\u0441\\u0435 \\u0442\\u0435\\u0445\\u043d\\u043e\\u043b\\u043e\\u0433\\u0438\\u0438 \\u0438\\u0437 \\u043f\\u0435\\u0440\\u0432\\u043e\\u0433\\u043e \\u043f\\u0443\\u043d\\u043a\\u0442\\u0430; \\u0423\\u0447\\u0430\\u0441\\u0442\\u0432\\u043e\\u0432\\u0430\\u043b \\u0432 \\u043f\\u0440\\u043e\\u0440\\u0430\\u0431\\u043e\\u0442\\u043a\\u0435 \\u0430\\u0440\\u0445\\u0438\\u0442\\u0435\\u043a\\u0442\\u0443\\u0440\\u044b \\u0438 \\u043c\\u043e\\u0436\\u0435\\u0442 \\u043e\\u0431\\u044a\\u044f\\u0441\\u043d\\u0438\\u0442\\u044c \\u0432\\u0441\\u0435 \\u0440\\u0435\\u0448\\u0435\\u043d\\u0438\\u044f \\u043d\\u0430 \\u0441\\u0432\\u043e\\u0435\\u043c \\u043f\\u0440\\u043e\\u0435\\u043a\\u0442\\u0435; \\u0413\\u043e\\u0442\\u043e\\u0432 \\u0434\\u0440\\u0430\\u0439\\u0432\\u0438\\u0442\\u044c \\u0442\\u0435\\u0445\\u043d\\u0438\\u0447\\u0435\\u0441\\u043a\\u043e\\u0435 \\u0440\\u0430\\u0437\\u0432\\u0438\\u0442\\u0438\\u0435 \\u0441\\u0438\\u0441\\u0442\\u0435\\u043c, \\u0430 \\u043d\\u0435 \\u043f\\u0440\\u043e\\u0441\\u0442\\u043e \\u0441\\u043b\\u0435\\u0434\\u043e\\u0432\\u0430\\u0442\\u044c \\u0442\\u0435\\u043a\\u0443\\u0449\\u0438\\u043c \\u0441\\u0442\\u0430\\u043d\\u0434\\u0430\\u0440\\u0442\\u0430\\u043c; \\u0418\\u043c\\u0435\\u0435\\u0442 \\u0434\\u0440\\u0443\\u0436\\u0435\\u0441\\u043a\\u0438\\u0435 \\u043e\\u0442\\u043d\\u043e\\u0448\\u0435\\u043d\\u0438\\u044f \\u0441 DevOps, \\u043f\\u0430\\u0439\\u043f\\u043b\\u0430\\u0439\\u043d\\u044b, \\u043a\\u043e\\u043d\\u0442\\u0435\\u0439\\u043d\\u0435\\u0440\\u0438\\u0437\\u0430\\u0446\\u0438\\u044f \\u0438 \\u043e\\u0440\\u043a\\u0435\\u0441\\u0442\\u0440\\u0430\\u0446\\u0438\\u044f, Linux; \\u041f\\u043e\\u043d\\u0438\\u043c\\u0430\\u0435\\u0442 \\u043c\\u0438\\u043a\\u0440\\u043e\\u0441\\u0435\\u0440\\u0432\\u0438\\u0441\\u043d\\u0443\\u044e \\u0430\\u0440\\u0445\\u0438\\u0442\\u0435\\u043a\\u0442\\u0443\\u0440\\u044b \\u0438 \\u0443\\u0441\\u0442\\u0440\\u043e\\u0439\\u0441\\u0442\\u0432\\u043e \\u0440\\u0430\\u0441\\u043f\\u0440\\u0435\\u0434\\u0435\\u043b\\u0435\\u043d\\u043d\\u044b\\u0445 \\u0441\\u0438\\u0441\\u0442\\u0435\\u043c; \\u0423\\u0447\\u0430\\u0441\\u0442\\u0432\\u043e\\u0432\\u0430\\u043b \\u0432 \\u043f\\u043e\\u0434\\u0431\\u043e\\u0440\\u0435 \\u0438 \\u043e\\u043d\\u0431\\u043e\\u0440\\u0434\\u0438\\u043d\\u0433\\u0435 \\u043d\\u043e\\u0432\\u044b\\u0445 \\u0441\\u043e\\u0442\\u0440\\u0443\\u0434\\u043d\\u0438\\u043a\\u043e\\u0432; \\u0423\\u043c\\u0435\\u0435\\u0442 \\u0438 \\u0445\\u043e\\u0447\\u0435\\u0442 \\u043f\\u0438\\u0441\\u0430\\u0442\\u044c \\u0442\\u0435\\u0445\\u043d\\u0438\\u0447\\u0435\\u0441\\u043a\\u0438\\u0435 \\u0441\\u0442\\u0430\\u0442\\u044c\\u0438. \\u0420\\u0430\\u0437\\u0432\\u0438\\u0432\\u0430\\u0442\\u044c\\u0441\\u044f \\u0438 \\u0440\\u0430\\u0437\\u0432\\u0438\\u0432\\u0430\\u0442\\u044c \\u043a\\u043e\\u043b\\u043b\\u0435\\u0433/\\u043a\\u043e\\u043c\\u044c\\u044e\\u043d\\u0438\\u0442\\u0438. \\u041f\\u0440\\u043e\\u0432\\u043e\\u0434\\u0438\\u0442\\u044c \\u043a\\u0430\\u043a \\u0440\\u0430\\u0437\\u043e\\u0432\\u044b\\u0435 \\u0442\\u0440\\u0435\\u043d\\u0438\\u043d\\u0433\\u0438, \\u0442\\u0430\\u043a \\u0438 \\u043f\\u043b\\u0430\\u043d\\u0438\\u0440\\u043e\\u0432\\u0430\\u0442\\u044c \\u0434\\u043e\\u043b\\u0433\\u0438\\u0435 \\u043e\\u0431\\u0443\\u0447\\u0435\\u043d\\u0438\\u044f. \\u0427\\u0442\\u043e \\u043f\\u0440\\u0435\\u0434\\u0441\\u0442\\u043e\\u0438\\u0442 \\u0434\\u0435\\u043b\\u0430\\u0442\\u044c: \\u0418\\u0441\\u043f\\u043e\\u043b\\u044c\\u0437\\u043e\\u0432\\u0430\\u0442\\u044c \\u0441\\u0430\\u043c\\u044b\\u0439 \\u0441\\u043e\\u0432\\u0440\\u0435\\u043c\\u0435\\u043d\\u043d\\u044b\\u0439 \\u0442\\u0435\\u0445\\u043d\\u043e\\u043b\\u043e\\u0433\\u0438\\u0447\\u0435\\u0441\\u043a\\u0438\\u0439 \\u0441\\u0442\\u044d\\u043a \\u0434\\u043b\\u044f \\u0441\\u043e\\u0437\\u0434\\u0430\\u043d\\u0438\\u044f FinTech \\u0440\\u0435\\u0448\\u0435\\u043d\\u0438\\u0439; \\u0420\\u0430\\u0437\\u0440\\u0430\\u0431\\u0430\\u0442\\u044b\\u0432\\u0430\\u0442\\u044c \\u043f\\u0440\\u0438\\u043b\\u043e\\u0436\\u0435\\u043d\\u0438\\u044f, \\u043a\\u043e\\u0442\\u043e\\u0440\\u044b\\u0435 \\u043c\\u0430\\u0441\\u0448\\u0442\\u0430\\u0431\\u0438\\u0440\\u0443\\u044e\\u0442\\u0441\\u044f \\u043d\\u0430 \\u0432\\u0441\\u0435 \\u0434\\u0438\\u0441\\u0442\\u0430\\u043d\\u0446\\u0438\\u043e\\u043d\\u043d\\u044b\\u0435 \\u043a\\u0430\\u043d\\u0430\\u043b\\u044b \\u0431\\u0430\\u043d\\u043a\\u0430 (\\u0438\\u043d\\u0442\\u0435\\u0440\\u043d\\u0435\\u0442-\\u0431\\u0430\\u043d\\u043a, \\u043c\\u043e\\u0431\\u0438\\u043b\\u044c\\u043d\\u044b\\u0435 \\u043f\\u0440\\u0438\\u043b\\u043e\\u0436\\u0435\\u043d\\u0438\\u044f, \\u043f\\u043b\\u0430\\u0442\\u0451\\u0436\\u043d\\u044b\\u0435 \\u0441\\u0435\\u0440\\u0432\\u0438\\u0441\\u044b \\u0438 \\u043c\\u043d\\u043e\\u0433\\u043e\\u0435 \\u0434\\u0440\\u0443\\u0433\\u043e\\u0435); \\u0412\\u0437\\u0430\\u0438\\u043c\\u043e\\u0434\\u0435\\u0439\\u0441\\u0442\\u0432\\u043e\\u0432\\u0430\\u0442\\u044c \\u0441 \\u0440\\u0430\\u0437\\u043b\\u0438\\u0447\\u043d\\u044b\\u043c\\u0438 \\u043a\\u043e\\u043c\\u0430\\u043d\\u0434\\u0430\\u043c\\u0438 \\u0440\\u0430\\u0437\\u0440\\u0430\\u0431\\u043e\\u0442\\u043a\\u0438, Data Science, \\u043f\\u043e\\u0434\\u0434\\u0435\\u0440\\u0436\\u043a\\u0438 \\u0438 \\u0434\\u0440\\u0443\\u0433\\u0438\\u043c\\u0438 (\\u043f\\u043e\\u044d\\u0442\\u043e\\u043c\\u0443 \\u043d\\u0435\\u043e\\u0431\\u0445\\u043e\\u0434\\u0438\\u043c\\u044b \\u0445\\u043e\\u0440\\u043e\\u0448\\u0438\\u0435 \\u043d\\u0430\\u0432\\u044b\\u043a\\u0438 \\u043a\\u043e\\u043c\\u043c\\u0443\\u043d\\u0438\\u043a\\u0430\\u0446\\u0438\\u0438 \\u0438\\u043b\\u0438 \\u0436\\u0435\\u043b\\u0430\\u043d\\u0438\\u0435 \\u0438\\u0445 \\u0440\\u0430\\u0437\\u0432\\u0438\\u0432\\u0430\\u0442\\u044c); \\u0412\\u043d\\u043e\\u0441\\u0438\\u0442\\u044c \\u0441\\u0432\\u043e\\u0439 \\u0432\\u043a\\u043b\\u0430\\u0434 \\u0432 \\u0440\\u0430\\u0437\\u0432\\u0438\\u0442\\u0438\\u0435 \\u0430\\u0440\\u0445\\u0438\\u0442\\u0435\\u043a\\u0442\\u0443\\u0440\\u044b, \\u0434\\u0435\\u043b\\u0430\\u0442\\u044c \\u043d\\u043e\\u0432\\u043e\\u0435 \\u0438 \\u043e\\u0446\\u0435\\u043d\\u0438\\u0432\\u0430\\u0442\\u044c \\u0441\\u0442\\u0430\\u0440\\u043e\\u0435. \"\n        ],\n        \"semantic_type\": \"\",\n        \"description\": \"\"\n      }\n    },\n    {\n      \"column\": \"vacancy_comment\",\n      \"properties\": {\n        \"dtype\": \"string\",\n        \"num_unique_values\": 1,\n        \"samples\": [\n          \" \"\n        ],\n        \"semantic_type\": \"\",\n        \"description\": \"\"\n      }\n    },\n    {\n      \"column\": \"resume_work_exp\",\n      \"properties\": {\n        \"dtype\": \"string\",\n        \"num_unique_values\": 1,\n        \"samples\": [\n          \"\\u0420\\u0430\\u0431\\u043e\\u0442\\u043e\\u0434\\u0430\\u0442\\u0435\\u043b\\u044c: \\u041e\\u0410\\u041e \\u0422\\u0435\\u043b\\u0435\\u0418\\u043d\\u0436\\u041c\\u043e\\u0440 \\u0413\\u043e\\u0440\\u043e\\u0434: \\u0422\\u0430\\u043b\\u0434\\u043e\\u043c \\u041f\\u0440\\u043e\\u0444\\u0435\\u0441\\u0441\\u0438\\u044f: Java Developer \\u041e\\u043f\\u0438\\u0441\\u0430\\u043d\\u0438\\u0435:  \\u0420\\u0430\\u0437\\u0440\\u0430\\u0431\\u043e\\u0442\\u043a\\u0443 \\u043f\\u043b\\u0430\\u0442\\u0444\\u043e\\u0440\\u043c\\u044b \\u0421\\u0431\\u043e\\u043b\\u041f\\u0440\\u043e \\u041a\\u043e\\u043c\\u0430\\u043d\\u0434\\u0430: 12 \\u0441\\u043f\\u0435\\u0446\\u0438\\u0430\\u043b\\u0438\\u0441\\u0442\\u043e\\u0432 (5 backend) \\u0421\\u0442\\u0435\\u043a \\u0442\\u0435\\u0445\\u043d\\u043e\\u043b\\u043e\\u0433\\u0438\\u0439: Java 11, Spring Boot, Kafka, PostgreSQL, Hibernate ; \\u0421\\u043b\\u0435\\u0434\\u0443\\u044e\\u0449\\u0430\\u044f \\u0440\\u0430\\u0431\\u043e\\u0442\\u0430: \\u0420\\u0430\\u0431\\u043e\\u0442\\u043e\\u0434\\u0430\\u0442\\u0435\\u043b\\u044c: \\u041e\\u0410\\u041e \\u0413\\u0430\\u0440\\u0430\\u0436\\u0420\\u0435\\u0447\\u041a\\u0440\\u0435\\u043f \\u0413\\u043e\\u0440\\u043e\\u0434: \\u041a\\u0440\\u0430\\u0441\\u043d\\u043e\\u0433\\u043e\\u0440\\u0441\\u043a \\u041f\\u0440\\u043e\\u0444\\u0435\\u0441\\u0441\\u0438\\u044f: Java Developer \\u041e\\u043f\\u0438\\u0441\\u0430\\u043d\\u0438\\u0435:  \\u0420\\u0430\\u0437\\u0440\\u0430\\u0431\\u043e\\u0442\\u043a\\u0430 \\u0432\\u0435\\u0431-\\u043f\\u0440\\u0438\\u043b\\u043e\\u0436\\u0435\\u043d\\u0438\\u0439 \\u0434\\u043b\\u044f \\u0442\\u0435\\u0441\\u0442\\u0438\\u0440\\u043e\\u0432\\u0430\\u043d\\u0438\\u044f \\u0440\\u0430\\u0437\\u043b\\u0438\\u0447\\u043d\\u044b\\u0445 \\u0432\\u0435\\u0431-\\u0441\\u0435\\u0440\\u0432\\u0438\\u0441\\u043e\\u0432 \\u0438 \\u043f\\u0440\\u0438\\u043b\\u043e\\u0436\\u0435\\u043d\\u0438\\u0439. \\u041a\\u043e\\u043c\\u0430\\u043d\\u0434\\u0430: \\u043c\\u0435\\u043d\\u0435\\u0434\\u0436\\u0435\\u0440, 5 \\u0440\\u0430\\u0437\\u0440\\u0430\\u0431\\u043e\\u0442\\u0447\\u0438\\u043a\\u043e\\u0432 (1 backend, 1 ios, 1 android, 2 frontend), 3 \\u0444\\u0443\\u043d\\u043a\\u0446\\u0438\\u043e\\u043d\\u0430\\u043b\\u044c\\u043d\\u044b\\u0445 \\u0442\\u0435\\u0441\\u0442\\u0438\\u0440\\u043e\\u0432\\u0449\\u0438\\u043a\\u0430, QA \\u0438 \\u0434\\u0438\\u0437\\u0430\\u0439\\u043d\\u0435\\u0440. \\u0417\\u0430\\u0434\\u0430\\u0447\\u0438: - Gitlab boards Code source - \\u041a\\u043e\\u043d\\u0442\\u0440\\u043e\\u043b\\u044c \\u0432\\u0435\\u0440\\u0441\\u0438\\u0439 GitLab - GIT \\u0421\\u0442\\u0435\\u043a \\u0442\\u0435\\u0445\\u043d\\u043e\\u043b\\u043e\\u0433\\u0438\\u0439: Java 8, 11 - Spring Boot - Spring Data, MVC, Security - Hibernate - Maven - Postgres - Docker \\u0417\\u0430\\u0432\\u0435\\u0440\\u0448\\u0438\\u043b \\u0440\\u0430\\u0431\\u043e\\u0442\\u0443 \\u043d\\u0430\\u0434 \\u043f\\u0440\\u043e\\u0435\\u043a\\u0442\\u043e\\u043c \\u0432 \\u0441\\u0432\\u044f\\u0437\\u0438 \\u0441 \\u0442\\u0435\\u043c, \\u0447\\u0442\\u043e \\u0443 \\u043a\\u043e\\u043c\\u043f\\u0430\\u043d\\u0438\\u0438 \\u0432\\u043e\\u0437\\u043d\\u0438\\u043a\\u043b\\u0438 \\u0444\\u0438\\u043d\\u0430\\u043d\\u0441\\u043e\\u0432\\u044b\\u0435 \\u0441\\u043b\\u043e\\u0436\\u043d\\u043e\\u0441\\u0442\\u0438 \\u0441 \\u0434\\u0430\\u043b\\u044c\\u043d\\u0435\\u0439\\u0448\\u0438\\u043c \\u0440\\u0430\\u0437\\u0432\\u0438\\u0442\\u0438\\u0435\\u043c \\u043f\\u0440\\u043e\\u0434\\u0443\\u043a\\u0442\\u0430. ; \\u0421\\u043b\\u0435\\u0434\\u0443\\u044e\\u0449\\u0430\\u044f \\u0440\\u0430\\u0431\\u043e\\u0442\\u0430: \\u0420\\u0430\\u0431\\u043e\\u0442\\u043e\\u0434\\u0430\\u0442\\u0435\\u043b\\u044c: \\u041f\\u0410\\u041e \\u0413\\u0430\\u0440\\u0430\\u0436 \\u0413\\u043e\\u0440\\u043e\\u0434: \\u0420\\u0430\\u043c\\u0435\\u043d\\u0441\\u043a\\u043e\\u0435 \\u041f\\u0440\\u043e\\u0444\\u0435\\u0441\\u0441\\u0438\\u044f: Java Developer \\u041e\\u043f\\u0438\\u0441\\u0430\\u043d\\u0438\\u0435:  \\u0420\\u0430\\u0437\\u0440\\u0430\\u0431\\u043e\\u0442\\u043a\\u0430 Helpdesk \\u0434\\u043b\\u044f \\u0438\\u043d\\u0442\\u0435\\u0433\\u0440\\u0430\\u0446\\u0438\\u0438 \\u0441 \\u043e\\u0441\\u043d\\u043e\\u0432\\u043d\\u043e\\u0439 \\u0441\\u0438\\u0441\\u0442\\u0435\\u043c\\u043e\\u0439. \\u041a\\u043e\\u043c\\u0430\\u043d\\u0434\\u0430 \\u0438\\u0437 3-\\u0445 \\u0440\\u0430\\u0437\\u0440\\u0430\\u0431\\u043e\\u0442\\u0447\\u0438\\u043a\\u043e\\u0432 (2 backend, 1 frontend) \\u0438 \\u0430\\u043d\\u0430\\u043b\\u0438\\u0442\\u0438\\u043a\\u0430. \\u0417\\u0430\\u0434\\u0430\\u0447\\u0438: Trello Code source - GitLab Version control system: GIT \\u0421\\u0442\\u0435\\u043a \\u0442\\u0435\\u0445\\u043d\\u043e\\u043b\\u043e\\u0433\\u0438\\u0439: Java 8 - Spring Boot - Spring Data, MVC, Security - Hibernate - Html, css, js (jQuery) - Maven - H2 - Oracle db ; \\u0421\\u043b\\u0435\\u0434\\u0443\\u044e\\u0449\\u0430\\u044f \\u0440\\u0430\\u0431\\u043e\\u0442\\u0430: \\u0420\\u0430\\u0431\\u043e\\u0442\\u043e\\u0434\\u0430\\u0442\\u0435\\u043b\\u044c: \\u041e\\u0410\\u041e \\u0410\\u0441\\u0431\\u043e\\u0446\\u0435\\u043c\\u0435\\u043d\\u0442 \\u0413\\u043e\\u0440\\u043e\\u0434: \\u041d\\u043e\\u0433\\u0438\\u043d\\u0441\\u043a \\u041f\\u0440\\u043e\\u0444\\u0435\\u0441\\u0441\\u0438\\u044f: Design Engineer \\u041e\\u043f\\u0438\\u0441\\u0430\\u043d\\u0438\\u0435:  \\u041f\\u0440\\u043e\\u0435\\u043a\\u0442\\u0438\\u0440\\u043e\\u0432\\u0430\\u043d\\u0438\\u0435 \\u044d\\u043b\\u0435\\u043c\\u0435\\u043d\\u0442\\u043e\\u0432 \\u0432\\u044b\\u0441\\u0442\\u0430\\u0432\\u043e\\u0447\\u043d\\u044b\\u0445 \\u0441\\u0442\\u0435\\u043d\\u0434\\u043e\\u0432, \\u043e\\u0444\\u0438\\u0441\\u043e\\u0432 \\u0438 \\u0436\\u0438\\u043b\\u044b\\u0445 \\u043f\\u043e\\u043c\\u0435\\u0449\\u0435\\u043d\\u0438\\u0439, \\u0441\\u043e\\u0441\\u0442\\u0430\\u0432\\u043b\\u0435\\u043d\\u0438\\u0435 \\u0447\\u0435\\u0440\\u0442\\u0435\\u0436\\u0435\\u0439 \\u0438 \\u0441\\u043f\\u0435\\u0446\\u0438\\u0444\\u0438\\u043a\\u0430\\u0446\\u0438\\u0439 \\u043d\\u0430 \\u043f\\u0440\\u043e\\u0435\\u043a\\u0442\\u0438\\u0440\\u0443\\u0435\\u043c\\u0443\\u044e \\u043f\\u0440\\u043e\\u0434\\u0443\\u043a\\u0446\\u0438\\u044e. \\u0420\\u0430\\u0441\\u0447\\u0435\\u0442 \\u043d\\u0435\\u043e\\u0431\\u0445\\u043e\\u0434\\u0438\\u043c\\u043e\\u0433\\u043e \\u043a\\u043e\\u043b\\u0438\\u0447\\u0435\\u0441\\u0442\\u0432\\u0430 \\u043c\\u0430\\u0442\\u0435\\u0440\\u0438\\u0430\\u043b\\u043e\\u0432 \\u0434\\u043b\\u044f \\u043f\\u0440\\u043e\\u0438\\u0437\\u0432\\u043e\\u0434\\u0441\\u0442\\u0432\\u0430. ; \\u0421\\u043b\\u0435\\u0434\\u0443\\u044e\\u0449\\u0430\\u044f \\u0440\\u0430\\u0431\\u043e\\u0442\\u0430: \\u0420\\u0430\\u0431\\u043e\\u0442\\u043e\\u0434\\u0430\\u0442\\u0435\\u043b\\u044c: \\u0417\\u0410\\u041e \\u0426\\u0435\\u043c\\u0435\\u043d\\u0442 \\u0413\\u043e\\u0440\\u043e\\u0434: \\u0428\\u0430\\u0442\\u0443\\u0440\\u0430 \\u041f\\u0440\\u043e\\u0444\\u0435\\u0441\\u0441\\u0438\\u044f: Industrial Engineer \\u041e\\u043f\\u0438\\u0441\\u0430\\u043d\\u0438\\u0435:  \\u0420\\u0430\\u0437\\u0440\\u0430\\u0431\\u043e\\u0442\\u043a\\u0430 \\u0442\\u0435\\u0445\\u043d\\u043e\\u043b\\u043e\\u0433\\u0438\\u0447\\u0435\\u0441\\u043a\\u0438\\u0445 \\u043f\\u0440\\u043e\\u0446\\u0435\\u0441\\u0441\\u043e\\u0432 \\u043c\\u0435\\u0445\\u0430\\u043d\\u0438\\u0447\\u0435\\u0441\\u043a\\u043e\\u0439 \\u043e\\u0431\\u0440\\u0430\\u0431\\u043e\\u0442\\u043a\\u0438 \\u0438 \\u0441\\u0431\\u043e\\u0440\\u043a\\u0438 \\u044d\\u043b\\u0435\\u043c\\u0435\\u043d\\u0442\\u043e\\u0432 \\u0430\\u0432\\u0438\\u0430\\u0446\\u0438\\u043e\\u043d\\u043d\\u044b\\u0445 \\u0434\\u0432\\u0438\\u0433\\u0430\\u0442\\u0435\\u043b\\u0435\\u0439 \\u0438 \\u043d\\u0430\\u0437\\u0435\\u043c\\u043d\\u044b\\u0445 \\u0443\\u0441\\u0442\\u0430\\u043d\\u043e\\u0432\\u043e\\u043a. \\u041f\\u043e\\u0434\\u0431\\u043e\\u0440 \\u043e\\u0431\\u043e\\u0440\\u0443\\u0434\\u043e\\u0432\\u0430\\u043d\\u0438\\u044f, \\u043e\\u0441\\u043d\\u0430\\u0441\\u0442\\u043a\\u0438, \\u0438\\u0437\\u043c\\u0435\\u0440\\u0438\\u0442\\u0435\\u043b\\u044c\\u043d\\u044b\\u0445 \\u0438\\u043d\\u0441\\u0442\\u0440\\u0443\\u043c\\u0435\\u043d\\u0442\\u043e\\u0432, \\u0440\\u0435\\u0436\\u0438\\u043c\\u043e\\u0432 \\u0440\\u0435\\u0437\\u0430\\u043d\\u0438\\u044f. \\u041f\\u043e\\u0434\\u0433\\u043e\\u0442\\u043e\\u0432\\u043a\\u0430 \\u0442\\u0435\\u0445\\u043d\\u0438\\u0447\\u0435\\u0441\\u043a\\u0438\\u0445 \\u0437\\u0430\\u0434\\u0430\\u043d\\u0438\\u0439. \\u041f\\u0440\\u043e\\u0432\\u0435\\u0434\\u0435\\u043d\\u0438\\u0435 \\u0438\\u0437\\u043c\\u0435\\u0440\\u0435\\u043d\\u0438\\u0439 \\u043d\\u0430 \\u0432\\u0445\\u043e\\u0434\\u043d\\u043e\\u043c \\u043a\\u043e\\u043d\\u0442\\u0440\\u043e\\u043b\\u0435, \\u043f\\u0440\\u0438 \\u043f\\u0440\\u043e\\u0438\\u0437\\u0432\\u043e\\u0434\\u0441\\u0442\\u0432\\u0435 \\u0438 \\u043f\\u0440\\u0438\\u0435\\u043c\\u043e\\u0447\\u043d\\u043e\\u043c \\u043a\\u043e\\u043d\\u0442\\u0440\\u043e\\u043b\\u0435 \\u0441 \\u0438\\u0441\\u043f\\u043e\\u043b\\u044c\\u0437\\u043e\\u0432\\u0430\\u043d\\u0438\\u0435\\u043c \\u0443\\u043d\\u0438\\u0432\\u0435\\u0440\\u0441\\u0430\\u043b\\u044c\\u043d\\u044b\\u0445 \\u0438 \\u0441\\u043f\\u0435\\u0446\\u0438\\u0430\\u043b\\u044c\\u043d\\u044b\\u0445 \\u0441\\u0440\\u0435\\u0434\\u0441\\u0442\\u0432 \\u0438\\u0437\\u043c\\u0435\\u0440\\u0435\\u043d\\u0438\\u0439. \\u0420\\u0430\\u0431\\u043e\\u0442\\u0430 \\u0441 \\u043c\\u0430\\u0442\\u0435\\u043c\\u0430\\u0442\\u0438\\u0447\\u0435\\u0441\\u043a\\u0438\\u043c\\u0438 \\u043c\\u043e\\u0434\\u0435\\u043b\\u044f\\u043c\\u0438 \\u0432 cad (autocad, inventor). \"\n        ],\n        \"semantic_type\": \"\",\n        \"description\": \"\"\n      }\n    },\n    {\n      \"column\": \"resume_educationItem\",\n      \"properties\": {\n        \"dtype\": \"string\",\n        \"num_unique_values\": 1,\n        \"samples\": [\n          \"\\u0413\\u043e\\u0434 \\u043e\\u043a\\u043e\\u043d\\u0447\\u0430\\u043d\\u0438\\u044f \\u043e\\u0431\\u0443\\u0447\\u0435\\u043d\\u0438\\u044f: 2023 \\u0423\\u0447\\u0435\\u0431\\u043d\\u043e\\u0435 \\u0443\\u0447\\u0435\\u0440\\u0435\\u0436\\u0434\\u0435\\u043d\\u0438\\u0435: \\u0420\\u043e\\u0441\\u0441\\u0438\\u0439\\u0441\\u043a\\u0438\\u0439 \\u0433\\u043e\\u0441\\u0443\\u0434\\u0430\\u0440\\u0441\\u0442\\u0432\\u0435\\u043d\\u043d\\u044b\\u0439 \\u0442\\u0435\\u0445\\u043d\\u043e\\u043b\\u043e\\u0433\\u0438\\u0447\\u0435\\u0441\\u043a\\u0438\\u0439 \\u0443\\u043d\\u0438\\u0432\\u0435\\u0440\\u0441\\u0438\\u0442\\u0435\\u0442 \\u0438\\u043c. \\u041a. \\u042d. \\u0426\\u0438\\u043e\\u043b\\u043a\\u043e\\u0432\\u0441\\u043a\\u043e\\u0433\\u043e \\u0424\\u0430\\u043a\\u0443\\u043b\\u044c\\u0442\\u0435\\u0442: Industrial Engineering Bachelor \\u0420\\u0435\\u0437\\u0443\\u043b\\u044c\\u0442\\u0430\\u0442 \\u043e\\u0431\\u0443\\u0447\\u0435\\u043d\\u0438\\u044f: Bachelor's degree \\u0422\\u0438\\u043f \\u043e\\u0431\\u0440\\u0430\\u0437\\u043e\\u0432\\u0430\\u043d\\u0438\\u044f: \\u041e\\u0441\\u043d\\u043e\\u0432\\u043d\\u043e\\u0435 \\u0423\\u0440\\u043e\\u0432\\u0435\\u043d\\u044c \\u043e\\u0431\\u0440\\u0430\\u0437\\u043e\\u0432\\u0430\\u043d\\u0438\\u044f: \\u0412\\u044b\\u0441\\u0448\\u0435\\u0435\"\n        ],\n        \"semantic_type\": \"\",\n        \"description\": \"\"\n      }\n    },\n    {\n      \"column\": \"resume_uuid\",\n      \"properties\": {\n        \"dtype\": \"string\",\n        \"num_unique_values\": 1,\n        \"samples\": [\n          \"c70de373-9f3a-3647-ab66-f25e98c29409\"\n        ],\n        \"semantic_type\": \"\",\n        \"description\": \"\"\n      }\n    },\n    {\n      \"column\": \"resume_name\",\n      \"properties\": {\n        \"dtype\": \"string\",\n        \"num_unique_values\": 1,\n        \"samples\": [\n          \"\\u0422\\u0430\\u0440\\u0430\\u0441\"\n        ],\n        \"semantic_type\": \"\",\n        \"description\": \"\"\n      }\n    },\n    {\n      \"column\": \"resume_surname\",\n      \"properties\": {\n        \"dtype\": \"string\",\n        \"num_unique_values\": 1,\n        \"samples\": [\n          \"\\u0425\\u043e\\u0445\\u043b\\u043e\\u0432\\u0430\"\n        ],\n        \"semantic_type\": \"\",\n        \"description\": \"\"\n      }\n    },\n    {\n      \"column\": \"resume_birth\",\n      \"properties\": {\n        \"dtype\": \"string\",\n        \"num_unique_values\": 1,\n        \"samples\": [\n          \"\\u0414\\u0430\\u0442\\u0430 \\u0440\\u043e\\u0436\\u0434\\u0435\\u043d\\u0438\\u044f: 1993\"\n        ],\n        \"semantic_type\": \"\",\n        \"description\": \"\"\n      }\n    },\n    {\n      \"column\": \"resume_country\",\n      \"properties\": {\n        \"dtype\": \"string\",\n        \"num_unique_values\": 1,\n        \"samples\": [\n          \"\\u0420\\u043e\\u0441\\u0441\\u0438\\u044f\"\n        ],\n        \"semantic_type\": \"\",\n        \"description\": \"\"\n      }\n    },\n    {\n      \"column\": \"resume_city\",\n      \"properties\": {\n        \"dtype\": \"string\",\n        \"num_unique_values\": 1,\n        \"samples\": [\n          \"\\u041c\\u043e\\u0441\\u043a\\u0432\\u0430\"\n        ],\n        \"semantic_type\": \"\",\n        \"description\": \"\"\n      }\n    },\n    {\n      \"column\": \"resume_about\",\n      \"properties\": {\n        \"dtype\": \"string\",\n        \"num_unique_values\": 1,\n        \"samples\": [\n          \" \"\n        ],\n        \"semantic_type\": \"\",\n        \"description\": \"\"\n      }\n    },\n    {\n      \"column\": \"resume_key_skills\",\n      \"properties\": {\n        \"dtype\": \"string\",\n        \"num_unique_values\": 1,\n        \"samples\": [\n          \"Java, Spring Framework (Data, MVC, Security), Spring Boot, Kafka, Oracle, Docker, PostgreSQL, Hibernate, Maven\"\n        ],\n        \"semantic_type\": \"\",\n        \"description\": \"\"\n      }\n    },\n    {\n      \"column\": \"vacancy_combined_embeddings\",\n      \"properties\": {\n        \"dtype\": \"object\",\n        \"semantic_type\": \"\",\n        \"description\": \"\"\n      }\n    },\n    {\n      \"column\": \"resume_combined_embeddings\",\n      \"properties\": {\n        \"dtype\": \"object\",\n        \"semantic_type\": \"\",\n        \"description\": \"\"\n      }\n    }\n  ]\n}"
            }
          },
          "metadata": {},
          "execution_count": 149
        }
      ]
    },
    {
      "cell_type": "code",
      "source": [
        "full_df_1[full_df_1['resume_uuid'] == 'cc88bf96-f0b9-313a-abce-dbe60b6f1c98']"
      ],
      "metadata": {
        "colab": {
          "base_uri": "https://localhost:8080/",
          "height": 153
        },
        "id": "e8wOd5aM6e6J",
        "outputId": "f1517538-1cff-428d-c05f-b252102bf8d0"
      },
      "execution_count": 62,
      "outputs": [
        {
          "output_type": "execute_result",
          "data": {
            "text/plain": [
              "                                               vacancy  \\\n",
              "112  {'uuid': '8b9c8d16-c7f0-38a2-b80c-d94030c15a6f...   \n",
              "\n",
              "                                                resume  \\\n",
              "112  {'uuid': 'cc88bf96-f0b9-313a-abce-dbe60b6f1c98...   \n",
              "\n",
              "                             vacancy_uuid      vacancy_name  \\\n",
              "112  8b9c8d16-c7f0-38a2-b80c-d94030c15a6f  Java разработчик   \n",
              "\n",
              "                           vacancy_keywords  \\\n",
              "112  Kafka, Java, RxJava, Hystrix, MongoDB    \n",
              "\n",
              "                                   vacancy_description vacancy_comment  \\\n",
              "112  Требования: 4+ года опыта работы с Java 8+ или...                   \n",
              "\n",
              "                                       resume_work_exp  \\\n",
              "112  Работодатель: ООО Компания РечТверь Город: Вид...   \n",
              "\n",
              "                                  resume_educationItem  \\\n",
              "112  Год окончания обучения: 2023 Учебное учережден...   \n",
              "\n",
              "                              resume_uuid resume_name resume_surname  \\\n",
              "112  cc88bf96-f0b9-313a-abce-dbe60b6f1c98       Марат       Мясников   \n",
              "\n",
              "            resume_birth resume_country resume_city resume_about  \\\n",
              "112  Дата рождения: 1988         Россия      Москва                \n",
              "\n",
              "                 resume_key_skills  \\\n",
              "112  Kotlin, Java, Project Reactor   \n",
              "\n",
              "                           vacancy_combined_embeddings  \\\n",
              "112  [0.0046033477, -0.07264344, -0.044480376, -0.0...   \n",
              "\n",
              "                            resume_combined_embeddings  \n",
              "112  [0.021093352, -0.02603522, -0.018342977, -0.00...  "
            ],
            "text/html": [
              "\n",
              "  <div id=\"df-11c55498-bc95-4ca4-a58a-783b82ea5aef\" class=\"colab-df-container\">\n",
              "    <div>\n",
              "<style scoped>\n",
              "    .dataframe tbody tr th:only-of-type {\n",
              "        vertical-align: middle;\n",
              "    }\n",
              "\n",
              "    .dataframe tbody tr th {\n",
              "        vertical-align: top;\n",
              "    }\n",
              "\n",
              "    .dataframe thead th {\n",
              "        text-align: right;\n",
              "    }\n",
              "</style>\n",
              "<table border=\"1\" class=\"dataframe\">\n",
              "  <thead>\n",
              "    <tr style=\"text-align: right;\">\n",
              "      <th></th>\n",
              "      <th>vacancy</th>\n",
              "      <th>resume</th>\n",
              "      <th>vacancy_uuid</th>\n",
              "      <th>vacancy_name</th>\n",
              "      <th>vacancy_keywords</th>\n",
              "      <th>vacancy_description</th>\n",
              "      <th>vacancy_comment</th>\n",
              "      <th>resume_work_exp</th>\n",
              "      <th>resume_educationItem</th>\n",
              "      <th>resume_uuid</th>\n",
              "      <th>resume_name</th>\n",
              "      <th>resume_surname</th>\n",
              "      <th>resume_birth</th>\n",
              "      <th>resume_country</th>\n",
              "      <th>resume_city</th>\n",
              "      <th>resume_about</th>\n",
              "      <th>resume_key_skills</th>\n",
              "      <th>vacancy_combined_embeddings</th>\n",
              "      <th>resume_combined_embeddings</th>\n",
              "    </tr>\n",
              "  </thead>\n",
              "  <tbody>\n",
              "    <tr>\n",
              "      <th>112</th>\n",
              "      <td>{'uuid': '8b9c8d16-c7f0-38a2-b80c-d94030c15a6f...</td>\n",
              "      <td>{'uuid': 'cc88bf96-f0b9-313a-abce-dbe60b6f1c98...</td>\n",
              "      <td>8b9c8d16-c7f0-38a2-b80c-d94030c15a6f</td>\n",
              "      <td>Java разработчик</td>\n",
              "      <td>Kafka, Java, RxJava, Hystrix, MongoDB</td>\n",
              "      <td>Требования: 4+ года опыта работы с Java 8+ или...</td>\n",
              "      <td></td>\n",
              "      <td>Работодатель: ООО Компания РечТверь Город: Вид...</td>\n",
              "      <td>Год окончания обучения: 2023 Учебное учережден...</td>\n",
              "      <td>cc88bf96-f0b9-313a-abce-dbe60b6f1c98</td>\n",
              "      <td>Марат</td>\n",
              "      <td>Мясников</td>\n",
              "      <td>Дата рождения: 1988</td>\n",
              "      <td>Россия</td>\n",
              "      <td>Москва</td>\n",
              "      <td></td>\n",
              "      <td>Kotlin, Java, Project Reactor</td>\n",
              "      <td>[0.0046033477, -0.07264344, -0.044480376, -0.0...</td>\n",
              "      <td>[0.021093352, -0.02603522, -0.018342977, -0.00...</td>\n",
              "    </tr>\n",
              "  </tbody>\n",
              "</table>\n",
              "</div>\n",
              "    <div class=\"colab-df-buttons\">\n",
              "\n",
              "  <div class=\"colab-df-container\">\n",
              "    <button class=\"colab-df-convert\" onclick=\"convertToInteractive('df-11c55498-bc95-4ca4-a58a-783b82ea5aef')\"\n",
              "            title=\"Convert this dataframe to an interactive table.\"\n",
              "            style=\"display:none;\">\n",
              "\n",
              "  <svg xmlns=\"http://www.w3.org/2000/svg\" height=\"24px\" viewBox=\"0 -960 960 960\">\n",
              "    <path d=\"M120-120v-720h720v720H120Zm60-500h600v-160H180v160Zm220 220h160v-160H400v160Zm0 220h160v-160H400v160ZM180-400h160v-160H180v160Zm440 0h160v-160H620v160ZM180-180h160v-160H180v160Zm440 0h160v-160H620v160Z\"/>\n",
              "  </svg>\n",
              "    </button>\n",
              "\n",
              "  <style>\n",
              "    .colab-df-container {\n",
              "      display:flex;\n",
              "      gap: 12px;\n",
              "    }\n",
              "\n",
              "    .colab-df-convert {\n",
              "      background-color: #E8F0FE;\n",
              "      border: none;\n",
              "      border-radius: 50%;\n",
              "      cursor: pointer;\n",
              "      display: none;\n",
              "      fill: #1967D2;\n",
              "      height: 32px;\n",
              "      padding: 0 0 0 0;\n",
              "      width: 32px;\n",
              "    }\n",
              "\n",
              "    .colab-df-convert:hover {\n",
              "      background-color: #E2EBFA;\n",
              "      box-shadow: 0px 1px 2px rgba(60, 64, 67, 0.3), 0px 1px 3px 1px rgba(60, 64, 67, 0.15);\n",
              "      fill: #174EA6;\n",
              "    }\n",
              "\n",
              "    .colab-df-buttons div {\n",
              "      margin-bottom: 4px;\n",
              "    }\n",
              "\n",
              "    [theme=dark] .colab-df-convert {\n",
              "      background-color: #3B4455;\n",
              "      fill: #D2E3FC;\n",
              "    }\n",
              "\n",
              "    [theme=dark] .colab-df-convert:hover {\n",
              "      background-color: #434B5C;\n",
              "      box-shadow: 0px 1px 3px 1px rgba(0, 0, 0, 0.15);\n",
              "      filter: drop-shadow(0px 1px 2px rgba(0, 0, 0, 0.3));\n",
              "      fill: #FFFFFF;\n",
              "    }\n",
              "  </style>\n",
              "\n",
              "    <script>\n",
              "      const buttonEl =\n",
              "        document.querySelector('#df-11c55498-bc95-4ca4-a58a-783b82ea5aef button.colab-df-convert');\n",
              "      buttonEl.style.display =\n",
              "        google.colab.kernel.accessAllowed ? 'block' : 'none';\n",
              "\n",
              "      async function convertToInteractive(key) {\n",
              "        const element = document.querySelector('#df-11c55498-bc95-4ca4-a58a-783b82ea5aef');\n",
              "        const dataTable =\n",
              "          await google.colab.kernel.invokeFunction('convertToInteractive',\n",
              "                                                    [key], {});\n",
              "        if (!dataTable) return;\n",
              "\n",
              "        const docLinkHtml = 'Like what you see? Visit the ' +\n",
              "          '<a target=\"_blank\" href=https://colab.research.google.com/notebooks/data_table.ipynb>data table notebook</a>'\n",
              "          + ' to learn more about interactive tables.';\n",
              "        element.innerHTML = '';\n",
              "        dataTable['output_type'] = 'display_data';\n",
              "        await google.colab.output.renderOutput(dataTable, element);\n",
              "        const docLink = document.createElement('div');\n",
              "        docLink.innerHTML = docLinkHtml;\n",
              "        element.appendChild(docLink);\n",
              "      }\n",
              "    </script>\n",
              "  </div>\n",
              "\n",
              "    </div>\n",
              "  </div>\n"
            ],
            "application/vnd.google.colaboratory.intrinsic+json": {
              "type": "dataframe",
              "summary": "{\n  \"name\": \"full_df_1[full_df_1['resume_uuid'] == 'cc88bf96-f0b9-313a-abce-dbe60b6f1c98']\",\n  \"rows\": 1,\n  \"fields\": [\n    {\n      \"column\": \"vacancy\",\n      \"properties\": {\n        \"dtype\": \"object\",\n        \"semantic_type\": \"\",\n        \"description\": \"\"\n      }\n    },\n    {\n      \"column\": \"resume\",\n      \"properties\": {\n        \"dtype\": \"object\",\n        \"semantic_type\": \"\",\n        \"description\": \"\"\n      }\n    },\n    {\n      \"column\": \"vacancy_uuid\",\n      \"properties\": {\n        \"dtype\": \"string\",\n        \"num_unique_values\": 1,\n        \"samples\": [\n          \"8b9c8d16-c7f0-38a2-b80c-d94030c15a6f\"\n        ],\n        \"semantic_type\": \"\",\n        \"description\": \"\"\n      }\n    },\n    {\n      \"column\": \"vacancy_name\",\n      \"properties\": {\n        \"dtype\": \"string\",\n        \"num_unique_values\": 1,\n        \"samples\": [\n          \"Java \\u0440\\u0430\\u0437\\u0440\\u0430\\u0431\\u043e\\u0442\\u0447\\u0438\\u043a\"\n        ],\n        \"semantic_type\": \"\",\n        \"description\": \"\"\n      }\n    },\n    {\n      \"column\": \"vacancy_keywords\",\n      \"properties\": {\n        \"dtype\": \"string\",\n        \"num_unique_values\": 1,\n        \"samples\": [\n          \"Kafka, Java, RxJava, Hystrix, MongoDB \"\n        ],\n        \"semantic_type\": \"\",\n        \"description\": \"\"\n      }\n    },\n    {\n      \"column\": \"vacancy_description\",\n      \"properties\": {\n        \"dtype\": \"string\",\n        \"num_unique_values\": 1,\n        \"samples\": [\n          \"\\u0422\\u0440\\u0435\\u0431\\u043e\\u0432\\u0430\\u043d\\u0438\\u044f: 4+ \\u0433\\u043e\\u0434\\u0430 \\u043e\\u043f\\u044b\\u0442\\u0430 \\u0440\\u0430\\u0431\\u043e\\u0442\\u044b \\u0441 Java 8+ \\u0438\\u043b\\u0438 Kotlin 4+ \\u0433\\u043e\\u0434\\u0430 \\u043e\\u043f\\u044b\\u0442\\u0430 \\u0440\\u0430\\u0431\\u043e\\u0442\\u044b \\u0441 Spring \\u0438 2+ \\u0433\\u043e\\u0434 \\u0440\\u0430\\u0431\\u043e\\u0442\\u044b \\u0441 Spring Boot. \\u041e\\u043f\\u044b\\u0442 \\u0440\\u0430\\u0431\\u043e\\u0442\\u044b \\u0441 \\u0441\\u0438\\u0441\\u0442\\u0435\\u043c\\u0430\\u043c\\u0438 \\u043d\\u0430 \\u043c\\u0438\\u043a\\u0440\\u043e\\u0441\\u0435\\u0440\\u0432\\u0438\\u0441\\u043d\\u043e\\u0439 \\u0430\\u0440\\u0445\\u0438\\u0442\\u0435\\u043a\\u0442\\u0443\\u0440\\u0435 (Spring Cloud, Kubernetes, Openshift \\u0438\\u043b\\u0438 \\u0430\\u043d\\u0430\\u043b\\u043e\\u0433\\u0438). \\u041e\\u043f\\u044b\\u0442 \\u0440\\u0430\\u0431\\u043e\\u0442\\u044b \\u0441 Docker. \\u041e\\u043f\\u044b\\u0442 \\u0440\\u0430\\u0431\\u043e\\u0442\\u044b \\u0441 3-\\u043c\\u044f \\u043b\\u044e\\u0431\\u044b\\u043c\\u0438 \\u0438\\u0437 \\u0441\\u043b\\u0435\\u0434\\u0443\\u044e\\u0449\\u0438\\u0445 \\u0442\\u0435\\u0445\\u043d\\u043e\\u043b\\u043e\\u0433\\u0438\\u0439 NoSQL (MongoDB, Elasticsearch, \\u0430\\u043d\\u0430\\u043b\\u043e\\u0433\\u0438) SQL (PostgreSQL, Oracle, \\u0430\\u043d\\u0430\\u043b\\u043e\\u0433\\u0438) \\u0411\\u0440\\u043e\\u043a\\u0435\\u0440\\u044b \\u0441\\u043e\\u043e\\u0431\\u0449\\u0435\\u043d\\u0438\\u0439 (Kafka, RabbitMQ, \\u0430\\u043d\\u0430\\u043b\\u043e\\u0433\\u0438) Reactive programming (RxJava, Project Reactor) Cache (Redis, Hazelcast). \\u041d\\u0430\\u0441\\u0442\\u0440\\u043e\\u0439\\u043a\\u0430 CI/CD (GitlabCI, Jenkins, \\u0430\\u043d\\u0430\\u043b\\u043e\\u0433\\u0438). \\u041d\\u0430\\u0441\\u0442\\u0440\\u043e\\u0439\\u043a\\u0430 \\u0441\\u0440\\u0435\\u0434\\u0441\\u0442\\u0432 \\u043c\\u043e\\u043d\\u0438\\u0442\\u043e\\u0440\\u0438\\u043d\\u0433\\u0430 (Zabbix, Prometheus). \\u041d\\u0430\\u0441\\u0442\\u0440\\u043e\\u0439\\u043a\\u0430 \\u0441\\u0440\\u0435\\u0434\\u0441\\u0442\\u0432 \\u043b\\u043e\\u0433\\u0438\\u0440\\u043e\\u0432\\u0430\\u043d\\u0438\\u044f (Graylog, ELK). \\u0411\\u0443\\u0434\\u0435\\u0442 \\u0445\\u043e\\u0440\\u043e\\u0448\\u043e, \\u0435\\u0441\\u043b\\u0438 \\u043a\\u0430\\u043d\\u0434\\u0438\\u0434\\u0430\\u0442: \\u0417\\u043d\\u0430\\u0435\\u0442 \\u0432\\u0441\\u0435 \\u0442\\u0435\\u0445\\u043d\\u043e\\u043b\\u043e\\u0433\\u0438\\u0438 \\u0438\\u0437 \\u043f\\u0435\\u0440\\u0432\\u043e\\u0433\\u043e \\u043f\\u0443\\u043d\\u043a\\u0442\\u0430; \\u0423\\u0447\\u0430\\u0441\\u0442\\u0432\\u043e\\u0432\\u0430\\u043b \\u0432 \\u043f\\u0440\\u043e\\u0440\\u0430\\u0431\\u043e\\u0442\\u043a\\u0435 \\u0430\\u0440\\u0445\\u0438\\u0442\\u0435\\u043a\\u0442\\u0443\\u0440\\u044b \\u0438 \\u043c\\u043e\\u0436\\u0435\\u0442 \\u043e\\u0431\\u044a\\u044f\\u0441\\u043d\\u0438\\u0442\\u044c \\u0432\\u0441\\u0435 \\u0440\\u0435\\u0448\\u0435\\u043d\\u0438\\u044f \\u043d\\u0430 \\u0441\\u0432\\u043e\\u0435\\u043c \\u043f\\u0440\\u043e\\u0435\\u043a\\u0442\\u0435; \\u0413\\u043e\\u0442\\u043e\\u0432 \\u0434\\u0440\\u0430\\u0439\\u0432\\u0438\\u0442\\u044c \\u0442\\u0435\\u0445\\u043d\\u0438\\u0447\\u0435\\u0441\\u043a\\u043e\\u0435 \\u0440\\u0430\\u0437\\u0432\\u0438\\u0442\\u0438\\u0435 \\u0441\\u0438\\u0441\\u0442\\u0435\\u043c, \\u0430 \\u043d\\u0435 \\u043f\\u0440\\u043e\\u0441\\u0442\\u043e \\u0441\\u043b\\u0435\\u0434\\u043e\\u0432\\u0430\\u0442\\u044c \\u0442\\u0435\\u043a\\u0443\\u0449\\u0438\\u043c \\u0441\\u0442\\u0430\\u043d\\u0434\\u0430\\u0440\\u0442\\u0430\\u043c; \\u0418\\u043c\\u0435\\u0435\\u0442 \\u0434\\u0440\\u0443\\u0436\\u0435\\u0441\\u043a\\u0438\\u0435 \\u043e\\u0442\\u043d\\u043e\\u0448\\u0435\\u043d\\u0438\\u044f \\u0441 DevOps, \\u043f\\u0430\\u0439\\u043f\\u043b\\u0430\\u0439\\u043d\\u044b, \\u043a\\u043e\\u043d\\u0442\\u0435\\u0439\\u043d\\u0435\\u0440\\u0438\\u0437\\u0430\\u0446\\u0438\\u044f \\u0438 \\u043e\\u0440\\u043a\\u0435\\u0441\\u0442\\u0440\\u0430\\u0446\\u0438\\u044f, Linux; \\u041f\\u043e\\u043d\\u0438\\u043c\\u0430\\u0435\\u0442 \\u043c\\u0438\\u043a\\u0440\\u043e\\u0441\\u0435\\u0440\\u0432\\u0438\\u0441\\u043d\\u0443\\u044e \\u0430\\u0440\\u0445\\u0438\\u0442\\u0435\\u043a\\u0442\\u0443\\u0440\\u044b \\u0438 \\u0443\\u0441\\u0442\\u0440\\u043e\\u0439\\u0441\\u0442\\u0432\\u043e \\u0440\\u0430\\u0441\\u043f\\u0440\\u0435\\u0434\\u0435\\u043b\\u0435\\u043d\\u043d\\u044b\\u0445 \\u0441\\u0438\\u0441\\u0442\\u0435\\u043c; \\u0423\\u0447\\u0430\\u0441\\u0442\\u0432\\u043e\\u0432\\u0430\\u043b \\u0432 \\u043f\\u043e\\u0434\\u0431\\u043e\\u0440\\u0435 \\u0438 \\u043e\\u043d\\u0431\\u043e\\u0440\\u0434\\u0438\\u043d\\u0433\\u0435 \\u043d\\u043e\\u0432\\u044b\\u0445 \\u0441\\u043e\\u0442\\u0440\\u0443\\u0434\\u043d\\u0438\\u043a\\u043e\\u0432; \\u0423\\u043c\\u0435\\u0435\\u0442 \\u0438 \\u0445\\u043e\\u0447\\u0435\\u0442 \\u043f\\u0438\\u0441\\u0430\\u0442\\u044c \\u0442\\u0435\\u0445\\u043d\\u0438\\u0447\\u0435\\u0441\\u043a\\u0438\\u0435 \\u0441\\u0442\\u0430\\u0442\\u044c\\u0438. \\u0420\\u0430\\u0437\\u0432\\u0438\\u0432\\u0430\\u0442\\u044c\\u0441\\u044f \\u0438 \\u0440\\u0430\\u0437\\u0432\\u0438\\u0432\\u0430\\u0442\\u044c \\u043a\\u043e\\u043b\\u043b\\u0435\\u0433/\\u043a\\u043e\\u043c\\u044c\\u044e\\u043d\\u0438\\u0442\\u0438. \\u041f\\u0440\\u043e\\u0432\\u043e\\u0434\\u0438\\u0442\\u044c \\u043a\\u0430\\u043a \\u0440\\u0430\\u0437\\u043e\\u0432\\u044b\\u0435 \\u0442\\u0440\\u0435\\u043d\\u0438\\u043d\\u0433\\u0438, \\u0442\\u0430\\u043a \\u0438 \\u043f\\u043b\\u0430\\u043d\\u0438\\u0440\\u043e\\u0432\\u0430\\u0442\\u044c \\u0434\\u043e\\u043b\\u0433\\u0438\\u0435 \\u043e\\u0431\\u0443\\u0447\\u0435\\u043d\\u0438\\u044f. \\u0427\\u0442\\u043e \\u043f\\u0440\\u0435\\u0434\\u0441\\u0442\\u043e\\u0438\\u0442 \\u0434\\u0435\\u043b\\u0430\\u0442\\u044c: \\u0418\\u0441\\u043f\\u043e\\u043b\\u044c\\u0437\\u043e\\u0432\\u0430\\u0442\\u044c \\u0441\\u0430\\u043c\\u044b\\u0439 \\u0441\\u043e\\u0432\\u0440\\u0435\\u043c\\u0435\\u043d\\u043d\\u044b\\u0439 \\u0442\\u0435\\u0445\\u043d\\u043e\\u043b\\u043e\\u0433\\u0438\\u0447\\u0435\\u0441\\u043a\\u0438\\u0439 \\u0441\\u0442\\u044d\\u043a \\u0434\\u043b\\u044f \\u0441\\u043e\\u0437\\u0434\\u0430\\u043d\\u0438\\u044f FinTech \\u0440\\u0435\\u0448\\u0435\\u043d\\u0438\\u0439; \\u0420\\u0430\\u0437\\u0440\\u0430\\u0431\\u0430\\u0442\\u044b\\u0432\\u0430\\u0442\\u044c \\u043f\\u0440\\u0438\\u043b\\u043e\\u0436\\u0435\\u043d\\u0438\\u044f, \\u043a\\u043e\\u0442\\u043e\\u0440\\u044b\\u0435 \\u043c\\u0430\\u0441\\u0448\\u0442\\u0430\\u0431\\u0438\\u0440\\u0443\\u044e\\u0442\\u0441\\u044f \\u043d\\u0430 \\u0432\\u0441\\u0435 \\u0434\\u0438\\u0441\\u0442\\u0430\\u043d\\u0446\\u0438\\u043e\\u043d\\u043d\\u044b\\u0435 \\u043a\\u0430\\u043d\\u0430\\u043b\\u044b \\u0431\\u0430\\u043d\\u043a\\u0430 (\\u0438\\u043d\\u0442\\u0435\\u0440\\u043d\\u0435\\u0442-\\u0431\\u0430\\u043d\\u043a, \\u043c\\u043e\\u0431\\u0438\\u043b\\u044c\\u043d\\u044b\\u0435 \\u043f\\u0440\\u0438\\u043b\\u043e\\u0436\\u0435\\u043d\\u0438\\u044f, \\u043f\\u043b\\u0430\\u0442\\u0451\\u0436\\u043d\\u044b\\u0435 \\u0441\\u0435\\u0440\\u0432\\u0438\\u0441\\u044b \\u0438 \\u043c\\u043d\\u043e\\u0433\\u043e\\u0435 \\u0434\\u0440\\u0443\\u0433\\u043e\\u0435); \\u0412\\u0437\\u0430\\u0438\\u043c\\u043e\\u0434\\u0435\\u0439\\u0441\\u0442\\u0432\\u043e\\u0432\\u0430\\u0442\\u044c \\u0441 \\u0440\\u0430\\u0437\\u043b\\u0438\\u0447\\u043d\\u044b\\u043c\\u0438 \\u043a\\u043e\\u043c\\u0430\\u043d\\u0434\\u0430\\u043c\\u0438 \\u0440\\u0430\\u0437\\u0440\\u0430\\u0431\\u043e\\u0442\\u043a\\u0438, Data Science, \\u043f\\u043e\\u0434\\u0434\\u0435\\u0440\\u0436\\u043a\\u0438 \\u0438 \\u0434\\u0440\\u0443\\u0433\\u0438\\u043c\\u0438 (\\u043f\\u043e\\u044d\\u0442\\u043e\\u043c\\u0443 \\u043d\\u0435\\u043e\\u0431\\u0445\\u043e\\u0434\\u0438\\u043c\\u044b \\u0445\\u043e\\u0440\\u043e\\u0448\\u0438\\u0435 \\u043d\\u0430\\u0432\\u044b\\u043a\\u0438 \\u043a\\u043e\\u043c\\u043c\\u0443\\u043d\\u0438\\u043a\\u0430\\u0446\\u0438\\u0438 \\u0438\\u043b\\u0438 \\u0436\\u0435\\u043b\\u0430\\u043d\\u0438\\u0435 \\u0438\\u0445 \\u0440\\u0430\\u0437\\u0432\\u0438\\u0432\\u0430\\u0442\\u044c); \\u0412\\u043d\\u043e\\u0441\\u0438\\u0442\\u044c \\u0441\\u0432\\u043e\\u0439 \\u0432\\u043a\\u043b\\u0430\\u0434 \\u0432 \\u0440\\u0430\\u0437\\u0432\\u0438\\u0442\\u0438\\u0435 \\u0430\\u0440\\u0445\\u0438\\u0442\\u0435\\u043a\\u0442\\u0443\\u0440\\u044b, \\u0434\\u0435\\u043b\\u0430\\u0442\\u044c \\u043d\\u043e\\u0432\\u043e\\u0435 \\u0438 \\u043e\\u0446\\u0435\\u043d\\u0438\\u0432\\u0430\\u0442\\u044c \\u0441\\u0442\\u0430\\u0440\\u043e\\u0435. \"\n        ],\n        \"semantic_type\": \"\",\n        \"description\": \"\"\n      }\n    },\n    {\n      \"column\": \"vacancy_comment\",\n      \"properties\": {\n        \"dtype\": \"string\",\n        \"num_unique_values\": 1,\n        \"samples\": [\n          \" \"\n        ],\n        \"semantic_type\": \"\",\n        \"description\": \"\"\n      }\n    },\n    {\n      \"column\": \"resume_work_exp\",\n      \"properties\": {\n        \"dtype\": \"string\",\n        \"num_unique_values\": 1,\n        \"samples\": [\n          \"\\u0420\\u0430\\u0431\\u043e\\u0442\\u043e\\u0434\\u0430\\u0442\\u0435\\u043b\\u044c: \\u041e\\u041e\\u041e \\u041a\\u043e\\u043c\\u043f\\u0430\\u043d\\u0438\\u044f \\u0420\\u0435\\u0447\\u0422\\u0432\\u0435\\u0440\\u044c \\u0413\\u043e\\u0440\\u043e\\u0434: \\u0412\\u0438\\u0434\\u043d\\u043e\\u0435 \\u041f\\u0440\\u043e\\u0444\\u0435\\u0441\\u0441\\u0438\\u044f: Software Engineer \\u041e\\u043f\\u0438\\u0441\\u0430\\u043d\\u0438\\u0435: As a software engineer my job is to develop microservices in Java/Kotlin and integrate them with third-party applications through JMS and Kafka. I am also actively participating in DevOps act ties, requirements discussions and writing documentation.; \\u0421\\u043b\\u0435\\u0434\\u0443\\u044e\\u0449\\u0430\\u044f \\u0440\\u0430\\u0431\\u043e\\u0442\\u0430: \\u0420\\u0430\\u0431\\u043e\\u0442\\u043e\\u0434\\u0430\\u0442\\u0435\\u043b\\u044c: \\u041c\\u041a\\u041a \\u0410\\u043b\\u043c\\u0430\\u0437 \\u0413\\u043e\\u0440\\u043e\\u0434: \\u0421\\u0435\\u0440\\u043f\\u0443\\u0445\\u043e\\u0432 \\u041f\\u0440\\u043e\\u0444\\u0435\\u0441\\u0441\\u0438\\u044f: Software Engineer \\u041e\\u043f\\u0438\\u0441\\u0430\\u043d\\u0438\\u0435: Licard (LUKOIL-Inter-Card) As a member of the implementation team, I participated in the full-scale implementation of a marketing module for a CRM system for one of the largest gas station owners' loyalty program. This was a new initiative for the organization, as they had not previously utilized a CRM system. Uralsib Bank I was a member of a team responsible for the implementation of a front-office system for a major bank. My role involved the development of the core functionality of the system. I was involved in all processes of implementation, including the preparation of technical specifications and ensuring that the project met the requirements of the bank. Unicredit Bank (RU) As a core member of the team, I was involved in several projects for an international bank. My responsibilities included developing new functionality for the bank's existing CRM system using integration mechanisms such as JMS and IBM MQ. Additionally, I was involved in all processes of implementation and took an active role in mentoring junior developers. Show less; \\u0421\\u043b\\u0435\\u0434\\u0443\\u044e\\u0449\\u0430\\u044f \\u0440\\u0430\\u0431\\u043e\\u0442\\u0430: \\u0420\\u0430\\u0431\\u043e\\u0442\\u043e\\u0434\\u0430\\u0442\\u0435\\u043b\\u044c: \\u041c\\u0424\\u041e \\u041f\\u0438\\u0432\\u0412\\u043e\\u0441\\u0442\\u043e\\u043a\\u042d\\u043b\\u0435\\u043a\\u0442\\u0440\\u043e\\u042d\\u043a\\u0441\\u043f\\u0435\\u0434\\u0438\\u0446\\u0438\\u044f \\u0413\\u043e\\u0440\\u043e\\u0434: \\u0427\\u0435\\u0445\\u043e\\u0432 \\u041f\\u0440\\u043e\\u0444\\u0435\\u0441\\u0441\\u0438\\u044f: System Administrator \\u041e\\u043f\\u0438\\u0441\\u0430\\u043d\\u0438\\u0435: I was responsible for managing, maintaining, and troubleshooting various hardware and software systems, including VMWare ESX, Linux, Windows, and AIX operating systems. I also managed the Oracle Database and Oracle BI EE 10g & 11g, providing technical support to internal and external stakeholders. Additionally, I was involved in the setup and configuration of nginx and IIS web servers.\"\n        ],\n        \"semantic_type\": \"\",\n        \"description\": \"\"\n      }\n    },\n    {\n      \"column\": \"resume_educationItem\",\n      \"properties\": {\n        \"dtype\": \"string\",\n        \"num_unique_values\": 1,\n        \"samples\": [\n          \"\\u0413\\u043e\\u0434 \\u043e\\u043a\\u043e\\u043d\\u0447\\u0430\\u043d\\u0438\\u044f \\u043e\\u0431\\u0443\\u0447\\u0435\\u043d\\u0438\\u044f: 2023 \\u0423\\u0447\\u0435\\u0431\\u043d\\u043e\\u0435 \\u0443\\u0447\\u0435\\u0440\\u0435\\u0436\\u0434\\u0435\\u043d\\u0438\\u0435: \\u041d\\u0430\\u0446\\u0438\\u043e\\u043d\\u0430\\u043b\\u044c\\u043d\\u044b\\u0439 \\u0418\\u0441\\u0441\\u043b\\u0435\\u0434\\u043e\\u0432\\u0430\\u0442\\u0435\\u043b\\u044c\\u0441\\u043a\\u0438\\u0439 \\u0423\\u043d\\u0438\\u0432\\u0435\\u0440\\u0441\\u0438\\u0442\\u0435\\u0442 - \\u0412\\u044b\\u0441\\u0448\\u0430\\u044f \\u0428\\u043a\\u043e\\u043b\\u0430 \\u042d\\u043a\\u043e\\u043d\\u043e\\u043c\\u0438\\u043a\\u0438 \\u0420\\u0435\\u0437\\u0443\\u043b\\u044c\\u0442\\u0430\\u0442 \\u043e\\u0431\\u0443\\u0447\\u0435\\u043d\\u0438\\u044f: MBA IT \\u0422\\u0438\\u043f \\u043e\\u0431\\u0440\\u0430\\u0437\\u043e\\u0432\\u0430\\u043d\\u0438\\u044f: \\u041e\\u0441\\u043d\\u043e\\u0432\\u043d\\u043e\\u0435 \\u0423\\u0440\\u043e\\u0432\\u0435\\u043d\\u044c \\u043e\\u0431\\u0440\\u0430\\u0437\\u043e\\u0432\\u0430\\u043d\\u0438\\u044f: \\u0412\\u044b\\u0441\\u0448\\u0435\\u0435; \\u0421\\u043b\\u0435\\u0434\\u0443\\u044e\\u0449\\u0435\\u0435 \\u043e\\u0431\\u0440\\u0430\\u0437\\u043e\\u0432\\u0430\\u043d\\u0438\\u0435: \\u0413\\u043e\\u0434 \\u043e\\u043a\\u043e\\u043d\\u0447\\u0430\\u043d\\u0438\\u044f \\u043e\\u0431\\u0443\\u0447\\u0435\\u043d\\u0438\\u044f: 2023 \\u0423\\u0447\\u0435\\u0431\\u043d\\u043e\\u0435 \\u0443\\u0447\\u0435\\u0440\\u0435\\u0436\\u0434\\u0435\\u043d\\u0438\\u0435: \\u041c\\u0435\\u0436\\u0434\\u0443\\u043d\\u0430\\u0440\\u043e\\u0434\\u043d\\u0430\\u044f \\u0430\\u043a\\u0430\\u0434\\u0435\\u043c\\u0438\\u044f \\u0431\\u0438\\u0437\\u043d\\u0435\\u0441\\u0430 \\u0438 \\u0443\\u043f\\u0440\\u0430\\u0432\\u043b\\u0435\\u043d\\u0438\\u044f \\u0424\\u0430\\u043a\\u0443\\u043b\\u044c\\u0442\\u0435\\u0442: Informatics in management \\u0420\\u0435\\u0437\\u0443\\u043b\\u044c\\u0442\\u0430\\u0442 \\u043e\\u0431\\u0443\\u0447\\u0435\\u043d\\u0438\\u044f: Bachelor's degree \\u0422\\u0438\\u043f \\u043e\\u0431\\u0440\\u0430\\u0437\\u043e\\u0432\\u0430\\u043d\\u0438\\u044f: \\u041e\\u0441\\u043d\\u043e\\u0432\\u043d\\u043e\\u0435 \\u0423\\u0440\\u043e\\u0432\\u0435\\u043d\\u044c \\u043e\\u0431\\u0440\\u0430\\u0437\\u043e\\u0432\\u0430\\u043d\\u0438\\u044f: \\u0412\\u044b\\u0441\\u0448\\u0435\\u0435; \\u0421\\u043b\\u0435\\u0434\\u0443\\u044e\\u0449\\u0435\\u0435 \\u043e\\u0431\\u0440\\u0430\\u0437\\u043e\\u0432\\u0430\\u043d\\u0438\\u0435: \\u0424\\u0430\\u043a\\u0443\\u043b\\u044c\\u0442\\u0435\\u0442: TopJava 23 \\u0422\\u0438\\u043f \\u043e\\u0431\\u0440\\u0430\\u0437\\u043e\\u0432\\u0430\\u043d\\u0438\\u044f: \\u0421\\u0435\\u0440\\u0442\\u0438\\u0444\\u0438\\u043a\\u0430\\u0442\\u044b\"\n        ],\n        \"semantic_type\": \"\",\n        \"description\": \"\"\n      }\n    },\n    {\n      \"column\": \"resume_uuid\",\n      \"properties\": {\n        \"dtype\": \"string\",\n        \"num_unique_values\": 1,\n        \"samples\": [\n          \"cc88bf96-f0b9-313a-abce-dbe60b6f1c98\"\n        ],\n        \"semantic_type\": \"\",\n        \"description\": \"\"\n      }\n    },\n    {\n      \"column\": \"resume_name\",\n      \"properties\": {\n        \"dtype\": \"string\",\n        \"num_unique_values\": 1,\n        \"samples\": [\n          \"\\u041c\\u0430\\u0440\\u0430\\u0442\"\n        ],\n        \"semantic_type\": \"\",\n        \"description\": \"\"\n      }\n    },\n    {\n      \"column\": \"resume_surname\",\n      \"properties\": {\n        \"dtype\": \"string\",\n        \"num_unique_values\": 1,\n        \"samples\": [\n          \"\\u041c\\u044f\\u0441\\u043d\\u0438\\u043a\\u043e\\u0432\"\n        ],\n        \"semantic_type\": \"\",\n        \"description\": \"\"\n      }\n    },\n    {\n      \"column\": \"resume_birth\",\n      \"properties\": {\n        \"dtype\": \"string\",\n        \"num_unique_values\": 1,\n        \"samples\": [\n          \"\\u0414\\u0430\\u0442\\u0430 \\u0440\\u043e\\u0436\\u0434\\u0435\\u043d\\u0438\\u044f: 1988\"\n        ],\n        \"semantic_type\": \"\",\n        \"description\": \"\"\n      }\n    },\n    {\n      \"column\": \"resume_country\",\n      \"properties\": {\n        \"dtype\": \"string\",\n        \"num_unique_values\": 1,\n        \"samples\": [\n          \"\\u0420\\u043e\\u0441\\u0441\\u0438\\u044f\"\n        ],\n        \"semantic_type\": \"\",\n        \"description\": \"\"\n      }\n    },\n    {\n      \"column\": \"resume_city\",\n      \"properties\": {\n        \"dtype\": \"string\",\n        \"num_unique_values\": 1,\n        \"samples\": [\n          \"\\u041c\\u043e\\u0441\\u043a\\u0432\\u0430\"\n        ],\n        \"semantic_type\": \"\",\n        \"description\": \"\"\n      }\n    },\n    {\n      \"column\": \"resume_about\",\n      \"properties\": {\n        \"dtype\": \"string\",\n        \"num_unique_values\": 1,\n        \"samples\": [\n          \" \"\n        ],\n        \"semantic_type\": \"\",\n        \"description\": \"\"\n      }\n    },\n    {\n      \"column\": \"resume_key_skills\",\n      \"properties\": {\n        \"dtype\": \"string\",\n        \"num_unique_values\": 1,\n        \"samples\": [\n          \"Kotlin, Java, Project Reactor\"\n        ],\n        \"semantic_type\": \"\",\n        \"description\": \"\"\n      }\n    },\n    {\n      \"column\": \"vacancy_combined_embeddings\",\n      \"properties\": {\n        \"dtype\": \"object\",\n        \"semantic_type\": \"\",\n        \"description\": \"\"\n      }\n    },\n    {\n      \"column\": \"resume_combined_embeddings\",\n      \"properties\": {\n        \"dtype\": \"object\",\n        \"semantic_type\": \"\",\n        \"description\": \"\"\n      }\n    }\n  ]\n}"
            }
          },
          "metadata": {},
          "execution_count": 62
        }
      ]
    }
  ]
}